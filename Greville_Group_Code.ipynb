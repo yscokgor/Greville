{
 "cells": [
  {
   "cell_type": "markdown",
   "id": "5262cc49-a711-4e86-ab44-abb6a26a3980",
   "metadata": {},
   "source": [
    "Introduction: We are Team Thomas Greville, with members:\r\n",
    "Yazda Cokgor (yscokgor@berkeley.edu, GIT username: yscokgor)\n",
    "etc.\r\n",
    "\r\n",
    "Topic & GOur topic is the analysis of AIDS/ HIVs in Botswana.\n",
    "als: \r\n",
    "\r\n",
    "Our project focused on anthe effect of AIDS/  HIV on populations, the difference in AIDS/ HIV prevelance on the sexes, on agriculture and exploring why this may be the case and how it differs in opposed to Zimbabwe.\n",
    "\n",
    "Enjoy our code!1]\r\n",
    "\r\n",
    "[Goal 2]"
   ]
  },
  {
   "cell_type": "code",
   "execution_count": 24,
   "id": "5658974e-14a5-4dfa-b80a-16053ee87c04",
   "metadata": {
    "scrolled": true
   },
   "outputs": [
    {
     "name": "stdout",
     "output_type": "stream",
     "text": [
      "Requirement already satisfied: wbdata in /srv/conda/lib/python3.9/site-packages (1.0.0)\n",
      "Requirement already satisfied: backoff<3.0.0,>=2.2.1 in /srv/conda/lib/python3.9/site-packages (from wbdata) (2.2.1)\n",
      "Requirement already satisfied: shelved-cache<0.4.0,>=0.3.1 in /srv/conda/lib/python3.9/site-packages (from wbdata) (0.3.1)\n",
      "Requirement already satisfied: tabulate<0.9.0,>=0.8.5 in /srv/conda/lib/python3.9/site-packages (from wbdata) (0.8.10)\n",
      "Requirement already satisfied: appdirs<2.0,>=1.4 in /srv/conda/lib/python3.9/site-packages (from wbdata) (1.4.4)\n",
      "Requirement already satisfied: decorator<6.0.0,>=5.1.1 in /srv/conda/lib/python3.9/site-packages (from wbdata) (5.1.1)\n",
      "Requirement already satisfied: dateparser<2.0.0,>=1.2.0 in /srv/conda/lib/python3.9/site-packages (from wbdata) (1.2.0)\n",
      "Requirement already satisfied: cachetools<6.0.0,>=5.3.2 in /srv/conda/lib/python3.9/site-packages (from wbdata) (5.3.2)\n",
      "Requirement already satisfied: requests<3.0,>=2.0 in /srv/conda/lib/python3.9/site-packages (from wbdata) (2.31.0)\n",
      "Requirement already satisfied: python-dateutil in /srv/conda/lib/python3.9/site-packages (from dateparser<2.0.0,>=1.2.0->wbdata) (2.8.2)\n",
      "Requirement already satisfied: pytz in /srv/conda/lib/python3.9/site-packages (from dateparser<2.0.0,>=1.2.0->wbdata) (2023.4)\n",
      "Requirement already satisfied: regex!=2019.02.19,!=2021.8.27 in /srv/conda/lib/python3.9/site-packages (from dateparser<2.0.0,>=1.2.0->wbdata) (2023.12.25)\n",
      "Requirement already satisfied: tzlocal in /srv/conda/lib/python3.9/site-packages (from dateparser<2.0.0,>=1.2.0->wbdata) (5.2)\n",
      "Requirement already satisfied: certifi>=2017.4.17 in /srv/conda/lib/python3.9/site-packages (from requests<3.0,>=2.0->wbdata) (2022.12.7)\n",
      "Requirement already satisfied: idna<4,>=2.5 in /srv/conda/lib/python3.9/site-packages (from requests<3.0,>=2.0->wbdata) (3.4)\n",
      "Requirement already satisfied: charset-normalizer<4,>=2 in /srv/conda/lib/python3.9/site-packages (from requests<3.0,>=2.0->wbdata) (3.1.0)\n",
      "Requirement already satisfied: urllib3<3,>=1.21.1 in /srv/conda/lib/python3.9/site-packages (from requests<3.0,>=2.0->wbdata) (1.26.15)\n",
      "Requirement already satisfied: six>=1.5 in /srv/conda/lib/python3.9/site-packages (from python-dateutil->dateparser<2.0.0,>=1.2.0->wbdata) (1.16.0)\n",
      "Note: you may need to restart the kernel to use updated packages.\n",
      "Requirement already satisfied: cufflinks in /srv/conda/lib/python3.9/site-packages (0.17.3)\n",
      "Requirement already satisfied: setuptools>=34.4.1 in /srv/conda/lib/python3.9/site-packages (from cufflinks) (59.8.0)\n",
      "Requirement already satisfied: ipywidgets>=7.0.0 in /srv/conda/lib/python3.9/site-packages (from cufflinks) (8.0.7)\n",
      "Requirement already satisfied: plotly>=4.1.1 in /srv/conda/lib/python3.9/site-packages (from cufflinks) (5.18.0)\n",
      "Requirement already satisfied: ipython>=5.3.0 in /srv/conda/lib/python3.9/site-packages (from cufflinks) (8.18.1)\n",
      "Requirement already satisfied: colorlover>=0.2.1 in /srv/conda/lib/python3.9/site-packages (from cufflinks) (0.3.0)\n",
      "Requirement already satisfied: pandas>=0.19.2 in /srv/conda/lib/python3.9/site-packages (from cufflinks) (1.3.5)\n",
      "Requirement already satisfied: numpy>=1.9.2 in /srv/conda/lib/python3.9/site-packages (from cufflinks) (1.22.4)\n",
      "Requirement already satisfied: six>=1.9.0 in /srv/conda/lib/python3.9/site-packages (from cufflinks) (1.16.0)\n",
      "Requirement already satisfied: jedi>=0.16 in /srv/conda/lib/python3.9/site-packages (from ipython>=5.3.0->cufflinks) (0.19.1)\n",
      "Requirement already satisfied: pexpect>4.3 in /srv/conda/lib/python3.9/site-packages (from ipython>=5.3.0->cufflinks) (4.9.0)\n",
      "Requirement already satisfied: traitlets>=5 in /srv/conda/lib/python3.9/site-packages (from ipython>=5.3.0->cufflinks) (5.9.0)\n",
      "Requirement already satisfied: prompt-toolkit<3.1.0,>=3.0.41 in /srv/conda/lib/python3.9/site-packages (from ipython>=5.3.0->cufflinks) (3.0.42)\n",
      "Requirement already satisfied: pygments>=2.4.0 in /srv/conda/lib/python3.9/site-packages (from ipython>=5.3.0->cufflinks) (2.17.2)\n",
      "Requirement already satisfied: decorator in /srv/conda/lib/python3.9/site-packages (from ipython>=5.3.0->cufflinks) (5.1.1)\n",
      "Requirement already satisfied: matplotlib-inline in /srv/conda/lib/python3.9/site-packages (from ipython>=5.3.0->cufflinks) (0.1.6)\n",
      "Requirement already satisfied: stack-data in /srv/conda/lib/python3.9/site-packages (from ipython>=5.3.0->cufflinks) (0.6.2)\n",
      "Requirement already satisfied: typing-extensions in /srv/conda/lib/python3.9/site-packages (from ipython>=5.3.0->cufflinks) (4.9.0)\n",
      "Requirement already satisfied: exceptiongroup in /srv/conda/lib/python3.9/site-packages (from ipython>=5.3.0->cufflinks) (1.2.0)\n",
      "Requirement already satisfied: ipykernel>=4.5.1 in /srv/conda/lib/python3.9/site-packages (from ipywidgets>=7.0.0->cufflinks) (6.19.4)\n",
      "Requirement already satisfied: widgetsnbextension~=4.0.7 in /srv/conda/lib/python3.9/site-packages (from ipywidgets>=7.0.0->cufflinks) (4.0.9)\n",
      "Requirement already satisfied: jupyterlab-widgets~=3.0.7 in /srv/conda/lib/python3.9/site-packages (from ipywidgets>=7.0.0->cufflinks) (3.0.9)\n",
      "Requirement already satisfied: python-dateutil>=2.7.3 in /srv/conda/lib/python3.9/site-packages (from pandas>=0.19.2->cufflinks) (2.8.2)\n",
      "Requirement already satisfied: pytz>=2017.3 in /srv/conda/lib/python3.9/site-packages (from pandas>=0.19.2->cufflinks) (2023.4)\n",
      "Requirement already satisfied: packaging in /srv/conda/lib/python3.9/site-packages (from plotly>=4.1.1->cufflinks) (23.2)\n",
      "Requirement already satisfied: tenacity>=6.2.0 in /srv/conda/lib/python3.9/site-packages (from plotly>=4.1.1->cufflinks) (8.2.3)\n",
      "Requirement already satisfied: pyzmq>=17 in /srv/conda/lib/python3.9/site-packages (from ipykernel>=4.5.1->ipywidgets>=7.0.0->cufflinks) (25.1.2)\n",
      "Requirement already satisfied: debugpy>=1.0 in /srv/conda/lib/python3.9/site-packages (from ipykernel>=4.5.1->ipywidgets>=7.0.0->cufflinks) (1.8.0)\n",
      "Requirement already satisfied: tornado>=6.1 in /srv/conda/lib/python3.9/site-packages (from ipykernel>=4.5.1->ipywidgets>=7.0.0->cufflinks) (6.3.3)\n",
      "Requirement already satisfied: jupyter-client>=6.1.12 in /srv/conda/lib/python3.9/site-packages (from ipykernel>=4.5.1->ipywidgets>=7.0.0->cufflinks) (8.6.0)\n",
      "Requirement already satisfied: nest-asyncio in /srv/conda/lib/python3.9/site-packages (from ipykernel>=4.5.1->ipywidgets>=7.0.0->cufflinks) (1.6.0)\n",
      "Requirement already satisfied: psutil in /srv/conda/lib/python3.9/site-packages (from ipykernel>=4.5.1->ipywidgets>=7.0.0->cufflinks) (5.9.8)\n",
      "Requirement already satisfied: comm>=0.1.1 in /srv/conda/lib/python3.9/site-packages (from ipykernel>=4.5.1->ipywidgets>=7.0.0->cufflinks) (0.2.1)\n",
      "Requirement already satisfied: parso<0.9.0,>=0.8.3 in /srv/conda/lib/python3.9/site-packages (from jedi>=0.16->ipython>=5.3.0->cufflinks) (0.8.3)\n",
      "Requirement already satisfied: ptyprocess>=0.5 in /srv/conda/lib/python3.9/site-packages (from pexpect>4.3->ipython>=5.3.0->cufflinks) (0.7.0)\n",
      "Requirement already satisfied: wcwidth in /srv/conda/lib/python3.9/site-packages (from prompt-toolkit<3.1.0,>=3.0.41->ipython>=5.3.0->cufflinks) (0.2.13)\n",
      "Requirement already satisfied: pure-eval in /srv/conda/lib/python3.9/site-packages (from stack-data->ipython>=5.3.0->cufflinks) (0.2.2)\n",
      "Requirement already satisfied: executing>=1.2.0 in /srv/conda/lib/python3.9/site-packages (from stack-data->ipython>=5.3.0->cufflinks) (2.0.1)\n",
      "Requirement already satisfied: asttokens>=2.1.0 in /srv/conda/lib/python3.9/site-packages (from stack-data->ipython>=5.3.0->cufflinks) (2.4.1)\n",
      "Requirement already satisfied: importlib-metadata>=4.8.3 in /srv/conda/lib/python3.9/site-packages (from jupyter-client>=6.1.12->ipykernel>=4.5.1->ipywidgets>=7.0.0->cufflinks) (7.0.1)\n",
      "Requirement already satisfied: jupyter-core!=5.0.*,>=4.12 in /srv/conda/lib/python3.9/site-packages (from jupyter-client>=6.1.12->ipykernel>=4.5.1->ipywidgets>=7.0.0->cufflinks) (5.7.1)\n",
      "Requirement already satisfied: zipp>=0.5 in /srv/conda/lib/python3.9/site-packages (from importlib-metadata>=4.8.3->jupyter-client>=6.1.12->ipykernel>=4.5.1->ipywidgets>=7.0.0->cufflinks) (3.17.0)\n",
      "Requirement already satisfied: platformdirs>=2.5 in /srv/conda/lib/python3.9/site-packages (from jupyter-core!=5.0.*,>=4.12->jupyter-client>=6.1.12->ipykernel>=4.5.1->ipywidgets>=7.0.0->cufflinks) (4.1.0)\n",
      "Note: you may need to restart the kernel to use updated packages.\n"
     ]
    },
    {
     "data": {
      "text/html": [
       "        <script type=\"text/javascript\">\n",
       "        window.PlotlyConfig = {MathJaxConfig: 'local'};\n",
       "        if (window.MathJax && window.MathJax.Hub && window.MathJax.Hub.Config) {window.MathJax.Hub.Config({SVG: {font: \"STIX-Web\"}});}\n",
       "        if (typeof require !== 'undefined') {\n",
       "        require.undef(\"plotly\");\n",
       "        requirejs.config({\n",
       "            paths: {\n",
       "                'plotly': ['https://cdn.plot.ly/plotly-2.27.0.min']\n",
       "            }\n",
       "        });\n",
       "        require(['plotly'], function(Plotly) {\n",
       "            window._Plotly = Plotly;\n",
       "        });\n",
       "        }\n",
       "        </script>\n",
       "        "
      ]
     },
     "metadata": {},
     "output_type": "display_data"
    }
   ],
   "source": [
    "#Installation of datahubs necessary\n",
    "%pip install wbdata\n",
    "import wbdata\n",
    "\n",
    "%pip install cufflinks # IF NECESSARY\n",
    "import cufflinks as cf\n",
    "cf.go_offline()\n",
    "\n",
    "import numpy as np\n",
    "\n",
    "#Botswana Code is \"BWA\"\n",
    "#Zimbabwe Code is \"ZWE\""
   ]
  },
  {
   "cell_type": "code",
   "execution_count": null,
   "id": "2d93bc9a-d71d-49c5-80cc-d304ef7c7d28",
   "metadata": {},
   "outputs": [],
   "source": []
  },
  {
   "cell_type": "code",
   "execution_count": 11,
   "id": "3b299383-e6d2-42b5-bc00-d1b5655574ec",
   "metadata": {},
   "outputs": [
    {
     "data": {
      "text/plain": [
       "id                         name\n",
       "-------------------------  -------------------------------------------------------------------------------------------------------------------------------------------------------------------------------------------------\n",
       "account.t.d                Account (% age 15+)\n",
       "account.t.d.1              Account, female (% age 15+)\n",
       "account.t.d.2              Account, male (% age 15+)\n",
       "borrow.any                 Borrowed any money (% age 15+)\n",
       "borrow.any.1               Borrowed any money, female (% age 15+)\n",
       "borrow.any.2               Borrowed any money, male (% age 15+)\n",
       "fin1.1a                    First financial institution account ever was opened to receive a wage payment (% age 15+)\n",
       "fin1.1ab                   First financial institution account ever was opened to receive a wage payment or money from the government (% age 15+)\n",
       "fin1.1b                    First financial institution ever account was opened to receive money from the government (% age 15+)\n",
       "fin1.t.d                   Financial institution account (% age 15+)\n",
       "fin1.t.d.1                 Financial institution account, female (% age 15+)\n",
       "fin1.t.d.2                 Financial institution account, male (% age 15+)\n",
       "fin10.1a                   Reason for not using their inactive account: bank or financial institution is too far away (% age 15+)\n",
       "fin10.1a.s                 Reason for not using their inactive account: bank or financial institution is too far away (% with an inactive account, age 15+)\n",
       "fin10.1b                   Reason for not using their inactive account: no need for an account (% age 15+)\n",
       "fin10.1b.s                 Reason for not using their inactive account: no need for an account (% with an inactive account, age 15+)\n",
       "fin10.1c                   Reason for not using their inactive account: don't have enough money to use an account (% age 15+)\n",
       "fin10.1c.s                 Reason for not using their inactive account: don't have enough money to use an account (% with an inactive account, age 15+)\n",
       "fin10.1d                   Reason for not using their inactive account: don't feel comfortable using the account by themselves (% age 15+)\n",
       "fin10.1d.s                 Reason for not using their inactive account: don't feel comfortable using an account by themselves (% with an inactive account, age 15+)\n",
       "fin10.1e                   Reason for not using their inactive account: don't trust banks or financial institutions (% age 15+)\n",
       "fin10.1e.s                 Reason for not using their inactive account: don't trust banks or financial institutions (% with an inactive account, age 15+)\n",
       "fin10a                     Withdrew money from a financial institution account 2 or more times a month (% age 15+)\n",
       "fin10a.s                   Withdrew money from a financial institution account 2 or more times a month (% who had withdrawn money, age 15+)\n",
       "fin11.1                    SMEs with at least one female owner with a proportion of loans requiring collateral (%)\n",
       "fin11a                     No account because financial institutions are too far away (% age 15+)\n",
       "fin11a.s                   No account because financial institutions are too far away (% without an account, age 15+)\n",
       "fin11b                     No account because financial services are too expensive (% age 15+)\n",
       "fin11b.s                   No account because financial services are too expensive (% without an account, age 15+)\n",
       "fin11c                     No account because of a lack of necessary documentation (% age 15+)\n",
       "fin11c.s                   No account because of a lack of necessary documentation (% without an account, age 15+)\n",
       "fin11d                     No account because of a lack of trust in financial institutions (% age 15+)\n",
       "fin11d.s                   No account because of a lack of trust in financial institutions (% without an account, age 15+)\n",
       "fin11e                     No account because of religious reasons (% age 15+)\n",
       "fin11e.s                   No account because of religious reasons (% without an account, age 15+)\n",
       "fin11f                     No account because of insufficient funds (% age 15+)\n",
       "fin11f.s                   No account because of insufficient funds (% without an account, age 15+)\n",
       "fin11g                     No account because someone in the family has one (% age 15+)\n",
       "fin11g.s                   No account because someone in the family has one (% without an account, age 15+)\n",
       "fin13.1a                   Reason for not having a mobile money account: mobile money agents are too far away (% age 15+)\n",
       "fin13.1a.s                 Reason for not having a mobile money account: mobile money agents are too far away (% without an account, age 15+)\n",
       "fin13.1b                   Reason for not having a mobile money account: available mobile money products are too expensive (% age 15+)\n",
       "fin13.1b.s                 Reason for not having a mobile money account: available mobile money products are too expensive (% without an account, age 15+)\n",
       "fin13.1c                   Reason for not having a mobile money account: don't have the necessary documentation (% age 15+)\n",
       "fin13.1c.s                 Reason for not having a mobile money account: don't have the necessary documentation (% without an account, age 15+)\n",
       "fin13.1d                   Reason for not having a mobile money account: don't have enough money to use a mobile money account (% age 15+)\n",
       "fin13.1d.s                 Reason for not having a mobile money account: don't have enough money to use a mobile money account (% without an account, age 15+)\n",
       "fin13.1e                   Reason for not having a mobile money account: use an agent or someone else to make payments (% age 15+)\n",
       "fin13.1e.s                 Reason for not having a mobile money account: use an agent or someone else to make payments (% without an account, age 15+)\n",
       "fin13.1f                   Reason for not having a mobile money account: do not have their own mobile phone (% age 15+)\n",
       "fin13.1f.s                 Reason for not having a mobile money account: do not have their own mobile phone (% without an account, age 15+)\n",
       "fin13a                     Use a mobile money account two or more times a month (% age 15+)\n",
       "fin13a.s                   Use a mobile money account two or more times a month (% with a mobile money account, age 15+)\n",
       "fin13d                     Can use a mobile money account without help from anyone, including a mobile money agent (% age 15+)\n",
       "fin13d.s                   Can use a mobile money account without help from anyone, including a mobile money agent (% with a mobile money account, age 15+)\n",
       "fin14.1.d                  Made a digital in-store merchant payment: using a mobile phone (% age 15+)\n",
       "fin14.1.d.1                Made a digital in-store merchant payment: using a mobile phone, female (% age 15+)\n",
       "fin14.1.d.2                Made a digital in-store merchant payment: using a mobile phone, male (% age 15+)\n",
       "fin14.2                    SMEs with an outstanding loan or line of credit (%)\n",
       "fin14.2.s                  Made a digital in-store merchant payment for the first time after COVID-19 started (% who made a digital in-store payment, age 15+)\n",
       "fin14a.t.d                 Used a mobile phone or the internet to pay bills (% age 15+)\n",
       "fin14a.t.d.1               Used a mobile phone or the internet to pay bills, female (% age 15+)\n",
       "fin14a.t.d.2               Used a mobile phone or the internet to pay bills, male (% age 15+)\n",
       "fin14a1.d                  Used a mobile phone or the internet to send money (% age 15+)\n",
       "fin14a1.d.1                Used a mobile phone or the internet to send money, female (% age 15+)\n",
       "fin14a1.d.2                Used a mobile phone or the internet to send money, male (% age 15+)\n",
       "fin14b.t.d                 Used a mobile phone or the internet to buy something online (% age 15+)\n",
       "fin14b.t.d.1               Used a mobile phone or the internet to buy something online, female (% age 15+)\n",
       "fin14b.t.d.2               Used a mobile phone or the internet to buy something online, male (% age 15+)\n",
       "fin14c2                    Made a digital online payment for an online purchase for the first time after COVID-19 started (% age 15+)\n",
       "fin15.t.d.2017             Saved to start, operate, or expand a farm or business (% age 15+)\n",
       "fin15.t.d.2017.1           Saved to start, operate, or expand a farm or business, female (% age 15+)\n",
       "fin15.t.d.2017.2           Saved to start, operate, or expand a farm or business, male (% age 15+)\n",
       "fin16.t.d                  Saved for old age (% age 15+)\n",
       "fin16.t.d.1                Saved for old age, female (% age 15+)\n",
       "fin16.t.d.2                Saved for old age, male (% age 15+)\n",
       "fin17a.17a1.d              Saved at a financial institution or using a mobile money account (% age 15+)\n",
       "fin17a.17a1.d.1            Saved at a financial institution or using a mobile money account, female (% age 15+)\n",
       "fin17a.17a1.d.2            Saved at a financial institution or using a mobile money account, male (% age 15+)\n",
       "fin17a.t.d                 Saved at a financial institution (% age 15+)\n",
       "fin17a.t.d.1               Saved at a financial institution, female (% age 15+)\n",
       "fin17a.t.d.2               Saved at a financial institution, male (% age 15+)\n",
       "fin17a1.d                  Saved money using a mobile money account (% age 15+)\n",
       "fin17a1.d.1                Saved money using a mobile money account, female (% age 15+)\n",
       "fin17a1.d.2                Saved money using a mobile money account, male (% age 15+)\n",
       "fin17b.t.d                 Saved using a savings club or a person outside the family (% age 15+)\n",
       "fin17b.t.d.1               Saved using a savings club or a person outside the family, female (% age 15+)\n",
       "fin17b.t.d.2               Saved using a savings club or a person outside the family, male (% age 15+)\n",
       "fin17c.d.2014              Saved for education or school fees (% age 15+)\n",
       "fin17c.d.2014.1            Saved for education or school fees, female (% age 15+)\n",
       "fin17c.d.2014.2            Saved for education or school fees, male (% age 15+)\n",
       "fin2.7.t.d                 Owns a debit or credit card (% age 15+)\n",
       "fin2.7.t.d.1               Owns a debit or credit card, female (% age 15+)\n",
       "fin2.7.t.d.2               Owns a debit or credit card, male (% age 15+)\n",
       "fin2.t.d                   Owns a debit card (% age 15+)\n",
       "fin2.t.d.1                 Owns a debit card, female (% age 15+)\n",
       "fin2.t.d.2                 Owns a debit card, male (% age 15+)\n",
       "fin20.t.d                  Borrowed for health or medical purposes (% age 15+)\n",
       "fin20.t.d.1                Borrowed for health or medical purposes, female (% age 15+)\n",
       "fin20.t.d.2                Borrowed for health or medical purposes, male (% age 15+)\n",
       "fin21.t.d.2017             Borrowed to start, operate, or expand a farm or business (% age 15+)\n",
       "fin21.t.d.2017.1           Borrowed to start, operate, or expand a farm or business, female (% age 15+)\n",
       "fin21.t.d.2017.2           Borrowed to start, operate, or expand a farm or business, male (% age 15+)\n",
       "fin21b.2014                Borrowed from a store by buying on credit (% age 15+)\n",
       "fin21b.2014.1              Borrowed from a store by buying on credit, female (% age 15+)\n",
       "fin21b.2014.2              Borrowed from a store by buying on credit, male (% age 15+)\n",
       "fin22a.2014                Borrowed for education or school fees (% age 15+)\n",
       "fin22a.2014.1              Borrowed for education or school fees, female (% age 15+)\n",
       "fin22a.2014.2              Borrowed for education or school fees, male (% age 15+)\n",
       "fin22a.c.MM.d              Borrowed any money from a formal financial institution or using a mobile money account (% age 15+)\n",
       "fin22a.c.MM.d.1            Borrowed any money from a formal financial institution or using a mobile money account, female (% age 15+)\n",
       "fin22a.c.MM.d.2            Borrowed any money from a formal financial institution or using a mobile money account, male (% age 15+)\n",
       "fin22a.c.t.d               Borrowed from a formal financial institution (% age 15+)\n",
       "fin22a.c.t.d.1             Borrowed from a formal financial institution, female (% age 15+)\n",
       "fin22a.c.t.d.2             Borrowed from a formal financial institution, male (% age 15+)\n",
       "fin22b.t.d                 Borrowed from family or friends (% age 15+)\n",
       "fin22b.t.d.1               Borrowed from family or friends, female (% age 15+)\n",
       "fin22b.t.d.2               Borrowed from family or friends, male (% age 15+)\n",
       "fin22c.t.d                 Borrowed from a savings club (% age 15+)\n",
       "fin22c.t.d.1               Borrowed from a savings club, female (% age 15+)\n",
       "fin22c.t.d.2               Borrowed from a savings club, male (% age 15+)\n",
       "fin24a.1.d                 Coming up with emergency funds in 30 days: possible and very difficult (% age 15+)\n",
       "fin24a.1.d.1               Coming up with emergency funds in 30 days: possible and very difficult, female (% age 15+)\n",
       "fin24a.1.d.2               Coming up with emergency funds in 30 days: possible and very difficult, male (% age 15+)\n",
       "fin24a.2.d                 Coming up with emergency funds in 30 days: possible and somewhat difficult (% age 15+)\n",
       "fin24a.2.d.1               Coming up with emergency funds in 30 days: possible and somewhat difficult, female (% age 15+)\n",
       "fin24a.2.d.2               Coming up with emergency funds in 30 days: possible and somewhat difficult, male (% age 15+)\n",
       "fin24a.3.d                 Coming up with emergency funds in 30 days: possible and not difficult at all (% age 15+)\n",
       "fin24a.3.d.1               Coming up with emergency funds in 30 days: possible and not difficult at all, female (% age 15+)\n",
       "fin24a.3.d.2               Coming up with emergency funds in 30 days: possible and not difficult at all, male (% age 15+)\n",
       "fin24a.32.d                Coming up with emergency funds in 30 days: possible and not difficult or somewhat difficult (% age 15+)\n",
       "fin24a.32.d.1              Coming up with emergency funds in 30 days: possible and not difficult or somewhat difficult, female (% age 15+)\n",
       "fin24a.32.d.2              Coming up with emergency funds in 30 days: possible and not difficult or somewhat difficult, male (% age 15+)\n",
       "fin24a.321.d               Coming up with emergency funds in 30 days: possible (% age 15+)\n",
       "fin24a.321.d.1             Coming up with emergency funds in 30 days: possible, female (% age 15+)\n",
       "fin24a.321.d.2             Coming up with emergency funds in 30 days: possible, male (% age 15+)\n",
       "fin24a.N.d                 Coming up with emergency funds in 30 days: not possible (% age 15+)\n",
       "fin24a.N.d.1               Coming up with emergency funds in 30 days: not possible, female (% age 15+)\n",
       "fin24a.N.d.2               Coming up with emergency funds in 30 days: not possible, male (% age 15+)\n",
       "fin24b.1.d                 Coming up with emergency funds in 7 days: possible and very difficult (% age 15+)\n",
       "fin24b.1.d.1               Coming up with emergency funds in 7 days: possible and very difficult, female (% age 15+)\n",
       "fin24b.1.d.2               Coming up with emergency funds in 7 days: possible and very difficult, male (% age 15+)\n",
       "fin24b.2.d                 Coming up with emergency funds in 7 days: possible and somewhat difficult (% age 15+)\n",
       "fin24b.2.d.1               Coming up with emergency funds in 7 days: possible and somewhat difficult, female (% age 15+)\n",
       "fin24b.2.d.2               Coming up with emergency funds in 7 days: possible and somewhat difficult, male (% age 15+)\n",
       "fin24b.3.d                 Coming up with emergency funds in 7 days: possible and not difficult (% age 15+)\n",
       "fin24b.3.d.1               Coming up with emergency funds in 7 days: possible and not difficult, female (% age 15+)\n",
       "fin24b.3.d.2               Coming up with emergency funds in 7 days: possible and not difficult, male (% age 15+)\n",
       "fin24b.32.d                Coming up with emergency funds in 7 days: possible and not difficult or somewhat difficult (% age 15+)\n",
       "fin24b.32.d.1              Coming up with emergency funds in 7 days: possible and not difficult or somewhat difficult, female (% age 15+)\n",
       "fin24b.32.d.2              Coming up with emergency funds in 7 days: possible and not difficult or somewhat difficult, male (% age 15+)\n",
       "fin24b.321.d               Coming up with emergency funds in 7 days: possible (% age 15+)\n",
       "fin24b.321.d.1             Coming up with emergency funds in 7 days: possible, female (% age 15+)\n",
       "fin24b.321.d.2             Coming up with emergency funds in 7 days: possible, male (% age 15+)\n",
       "fin26.28.t.d               Sent or received domestic remittances (% age 15+)\n",
       "fin26.28.t.d.1             Sent or received domestic remittances, female (% age 15+)\n",
       "fin26.28.t.d.2             Sent or received domestic remittances, male (% age 15+)\n",
       "fin26.t.d                  Sent domestic remittances (% age 15+)\n",
       "fin26.t.d.1                Sent domestic remittances, female (% age 15+)\n",
       "fin26.t.d.2                Sent domestic remittances, male (% age 15+)\n",
       "fin28.t.d                  Received domestic remittances (% age 15+)\n",
       "fin28.t.d.1                Received domestic remittances, female (% age 15+)\n",
       "fin28.t.d.2                Received domestic remittances, male (% age 15+)\n",
       "fin30.t.d                  Made a utility payment (% age 15+)\n",
       "fin30.t.d.1                Made a utility payment, female (% age 15+)\n",
       "fin30.t.d.2                Made a utility payment, male (% age 15+)\n",
       "fin31b1                    Made a utility payment: using an account for the first time after COVID-19 started (% age 15+)\n",
       "fin33.2014.d               Paid school fees (% age 15+)\n",
       "fin33.2014.d.1             Paid school fees, female (% age 15+)\n",
       "fin33.2014.d.2             Paid school fees, male (% age 15+)\n",
       "fin37.38.t.d               Received government transfer or pension (% age 15+)\n",
       "fin37.38.t.d.1             Received government transfer or pension, female (% age 15+)\n",
       "fin37.38.t.d.2             Received government transfer or pension, male (% age 15+)\n",
       "fin37.t.d                  Received government transfer (% age 15+)\n",
       "fin37.t.d.1                Received government transfer, female (% age 15+)\n",
       "fin37.t.d.2                Received government transfer, male (% age 15+)\n",
       "fin38.t.d                  Received a public sector pension (% age 15+)\n",
       "fin38.t.d.1                Received a public sector pension, female (% age 15+)\n",
       "fin38.t.d.2                Received a public sector pension, male (% age 15+)\n",
       "fin42.t.d                  Received payments for the sale of agricultural products, livestock, or crops (% age 15+)\n",
       "fin42.t.d.1                Received payments for the sale of agricultural products, livestock, or crops, female (% age 15+)\n",
       "fin42.t.d.2                Received payments for the sale of agricultural products, livestock, or crops, male (% age 15+)\n",
       "fin44a1.d                  Worried about not having enough money for old age: very worried (% age 15+)\n",
       "fin44a1.d.1                Worried about not having enough money for old age: very worried, female (% age 15+)\n",
       "fin44a1.d.2                Worried about not having enough money for old age: very worried, male (% age 15+)\n",
       "fin44a2.d                  Worried about not having enough money for old age: somewhat worried (% age 15+)\n",
       "fin44a2.d.1                Worried about not having enough money for old age: somewhat worried, female (% age 15+)\n",
       "fin44a2.d.2                Worried about not having enough money for old age: somewhat worried, male (% age 15+)\n",
       "fin44a3.d                  Worried about not having enough money for old age: not worried at all (% age 15+)\n",
       "fin44a3.d.1                Worried about not having enough money for old age: not worried at all, female (% age 15+)\n",
       "fin44a3.d.2                Worried about not having enough money for old age: not worried at all, male (% age 15+)\n",
       "fin44b1.d                  Worried about not being able to pay for medical costs in case of a serious illness or accident: very worried (% age 15+)\n",
       "fin44b1.d.1                Worried about not being able to pay for medical costs in case of a serious illness or accident: very worried, female (% age 15+)\n",
       "fin44b1.d.2                Worried about not being able to pay for medical costs in case of a serious illness or accident: very worried, male (% age 15+)\n",
       "fin44b2.d                  Worried about not being able to pay for medical costs in case of a serious illness or accident: somewhat worried (% age 15+)\n",
       "fin44b2.d.1                Worried about not being able to pay for medical costs in case of a serious illness or accident: somewhat worried, female (% age 15+)\n",
       "fin44b2.d.2                Worried about not being able to pay for medical costs in case of a serious illness or accident: somewhat worried, male (% age 15+)\n",
       "fin44b3.d.1                Worried about not being able to pay for medical costs in case of a serious illness or accident: not worried at all, female (% age 15+)\n",
       "fin44b3.d.2                Worried about not being able to pay for medical costs in case of a serious illness or accident: not worried at all, male (% age 15+)\n",
       "fin44c1.d                  Worried about not having enough money for monthly expenses or bills: very worried (% age 15+)\n",
       "fin44c1.d.1                Worried about not having enough money for monthly expenses or bills: very worried, female (% age 15+)\n",
       "fin44c1.d.2                Worried about not having enough money for monthly expenses or bills: very worried, male (% age 15+)\n",
       "fin44c2.d                  Worried about not having enough money for monthly expenses or bills: somewhat worried (% age 15+)\n",
       "fin44c2.d.1                Worried about not having enough money for monthly expenses or bills: somewhat worried, female (% age 15+)\n",
       "fin44c2.d.2                Worried about not having enough money for monthly expenses or bills: somewhat worried, male (% age 15+)\n",
       "fin44c3.d                  Worried about not having enough money for monthly expenses or bills: not worried at all (% age 15+)\n",
       "fin44c3.d.1                Worried about not having enough money for monthly expenses or bills: not worried at all, female (% age 15+)\n",
       "fin44c3.d.2                Worried about not having enough money for monthly expenses or bills: not worried at all, male (% age 15+)\n",
       "fin44d1.d                  Worried about not being able to pay school fees or fees for education: very worried (% age 15+)\n",
       "fin44d1.d.1                Worried about not being able to pay school fees or fees for education: very worried, female (% age 15+)\n",
       "fin44d1.d.2                Worried about not being able to pay school fees or fees for education: very worried, male (% age 15+)\n",
       "fin44d2.d                  Worried about not being able to pay school fees or fees for education: somewhat worried (% age 15+)\n",
       "fin44d2.d.1                Worried about not being able to pay school fees or fees for education: somewhat worried, female (% age 15+)\n",
       "fin44d2.d.2                Worried about not being able to pay school fees or fees for education: somewhat worried, male (% age 15+)\n",
       "fin44d3.d                  Worried about not being able to pay school fees or fees for education: not worried at all (% age 15+)\n",
       "fin44d3.d.1                Worried about not being able to pay school fees or fees for education: not worried at all, female (% age 15+)\n",
       "fin44d3.d.2                Worried about not being able to pay school fees or fees for education: not worried at all, male (% age 15+)\n",
       "fin45.1.1.d                Experience or continue to experience severe financial hardship as a result of the disruption caused by COVID-19: very worried (% age 15+)\n",
       "fin45.1.1.d.1              Experience or continue to experience severe financial hardship as a result of the disruption caused by COVID-19: very worried, female (% age 15+)\n",
       "fin45.1.1.d.2              Experience or continue to experience severe financial hardship as a result of the disruption caused by COVID-19: very worried, male (% age 15+)\n",
       "fin45.1.2.d                Experience or continue to experience severe financial hardship as a result of the disruption caused by COVID-19: somewhat worried (% age 15+)\n",
       "fin45.1.2.d.1              Experience or continue to experience severe financial hardship as a result of the disruption caused by COVID-19: somewhat worried, female (% age 15+)\n",
       "fin45.1.2.d.2              Experience or continue to experience severe financial hardship as a result of the disruption caused by COVID-19: somewhat worried, male (% age 15+)\n",
       "fin45.1.3.d                Experience or continue to experience severe financial hardship as a result of the disruption caused by COVID-19: not worried (% age 15+)\n",
       "fin45.1.3.d.1              Experience or continue to experience severe financial hardship as a result of the disruption caused by COVID-19: not worried, female (% age 15+)\n",
       "fin45.1.3.d.2              Experience or continue to experience severe financial hardship as a result of the disruption caused by COVID-19: not worried, male (% age 15+)\n",
       "fin45.1M.d                 Most worrying financial issue: money for old age (% age 15+)\n",
       "fin45.1M.d.1               Most worrying financial issue: money for old age, female (% age 15+)\n",
       "fin45.1M.d.2               Most worrying financial issue: money for old age, male (% age 15+)\n",
       "fin45.2M.d                 Most worrying financial issue: paying for medical costs in case of a serious illness or accident (% age 15+)\n",
       "fin45.2M.d.1               Most worrying financial issue: paying for medical costs in case of a serious illness or accident, female (% age 15+)\n",
       "fin45.2M.d.2               Most worrying financial issue: paying for medical costs in case of a serious illness or accident, male (% age 15+)\n",
       "fin45.3M.d                 Most worrying financial issue: money to pay for monthly expenses or bills (% age 15+)\n",
       "fin45.3M.d.1               Most worrying financial issue: money to pay for monthly expenses or bills, female (% age 15+)\n",
       "fin45.3M.d.2               Most worrying financial issue: money to pay for monthly expenses or bills, male (% age 15+)\n",
       "fin45.4M.d                 Most worrying financial issue: paying school or education fees (% age 15+)\n",
       "fin45.4M.d.1               Most worrying financial issue: paying school or education fees, female (% age 15+)\n",
       "fin45.4M.d.2               Most worrying financial issue: paying school or education fees, male (% age 15+)\n",
       "fin5.2017.d                Used a mobile phone or the internet to access an account(% age 15+)\n",
       "fin5.2017.d.1              Used a mobile phone or the internet to access an account, female (% age 15+)\n",
       "fin5.2017.d.2              Used a mobile phone or the internet to access an account, male (% age 15+)\n",
       "fin7.t.d                   Owns a credit card (% age 15+)\n",
       "fin7.t.d.1                 Owns a credit card, female (% age 15+)\n",
       "fin7.t.d.2                 Owns a credit card, male (% age 15+)\n",
       "fin9N.10N.t.d              Has an inactive account (% age 15+)\n",
       "fin9N.10N.t.d.1            Has an inactive account, female (% age 15+)\n",
       "fin9N.10N.t.d.2            Has an inactive account, male (% age 15+)\n",
       "fing2p.t.d                 Received government payments (% age 15+)\n",
       "fing2p.t.d.1               Received government payments, female (% age 15+)\n",
       "fing2p.t.d.2               Received government payments, male (% age 15+)\n",
       "FP.CPI.TOTL.ZG             Inflation, consumer prices (annual %)\n",
       "g20.made.t.d               Made a digital payment (% age 15+)\n",
       "g20.made.t.d.1             Made a digital payment, female (% age 15+)\n",
       "g20.made.t.d.2             Made a digital payment, male (% age 15+)\n",
       "g20.receive.t.d            Received digital payments (% age 15+)\n",
       "g20.receive.t.d.1          Received digital payments, female (% age 15+)\n",
       "g20.receive.t.d.2          Received digital payments, male (% age 15+)\n",
       "g20.t.d                    Made or received a digital payment (% age 15+)\n",
       "g20.t.d.1                  Made or received a digital payment, female (% age 15+)\n",
       "g20.t.d.2                  Made or received a digital payment, male (% age 15+)\n",
       "HD.HCI.AMRT                Survival Rate from Age 15-60\n",
       "HD.HCI.AMRT.FE             Survival Rate from Age 15-60, Female\n",
       "HD.HCI.AMRT.MA             Survival Rate from Age 15-60, Male\n",
       "HD.HCI.EYRS                Expected Years of School\n",
       "HD.HCI.EYRS.FE             Expected Years of School, Female\n",
       "HD.HCI.EYRS.MA             Expected Years of School, Male\n",
       "HD.HCI.HLOS                Harmonized Test Scores\n",
       "HD.HCI.HLOS.FE             Harmonized Test Scores, Female\n",
       "HD.HCI.HLOS.MA             Harmonized Test Scores, Male\n",
       "HD.HCI.LAYS                Learning-Adjusted Years of School\n",
       "HD.HCI.LAYS.FE             Learning-Adjusted Years of School, Female\n",
       "HD.HCI.LAYS.MA             Learning-Adjusted Years of School, Male\n",
       "HD.HCI.MORT                Probability of Survival to Age 5\n",
       "HD.HCI.MORT.FE             Probability of Survival to Age 5, Female\n",
       "HD.HCI.MORT.MA             Probability of Survival to Age 5, Male\n",
       "HD.HCI.OVRL                Human Capital Index (HCI) (scale 0-1)\n",
       "HD.HCI.OVRL.FE             Human Capital Index (HCI), Female (scale 0-1)\n",
       "HD.HCI.OVRL.LB             Human Capital Index (HCI), Lower Bound (scale 0-1)\n",
       "HD.HCI.OVRL.LB.FE          Human Capital Index (HCI), Female, Lower Bound (scale 0-1)\n",
       "HD.HCI.OVRL.LB.MA          Human Capital Index (HCI), Male, Lower Bound (scale 0-1)\n",
       "HD.HCI.OVRL.MA             Human Capital Index (HCI), Male (scale 0-1)\n",
       "HD.HCI.OVRL.UB             Human Capital Index (HCI), Upper Bound (scale 0-1)\n",
       "HD.HCI.OVRL.UB.FE          Human Capital Index (HCI), Female, Upper Bound (scale 0-1)\n",
       "HD.HCI.OVRL.UB.MA          Human Capital Index (HCI), Male, Upper Bound (scale 0-1)\n",
       "HD.HCI.STNT                Fraction of Children Under 5 Not Stunted\n",
       "HD.HCI.STNT.FE             Fraction of Children Under 5 Not Stunted, Female\n",
       "HD.HCI.STNT.MA             Fraction of Children Under 5 Not Stunted, Male\n",
       "IC.FRM.FEMM.ZS             Firms with female top manager (% of firms)\n",
       "IC.FRM.FEMO.ZS             Firms with female participation in ownership (% of firms)\n",
       "IC.REG.COST.PC.FE.ZS       Cost of business start-up procedures, female (% of GNI per capita)\n",
       "IC.REG.COST.PC.MA.ZS       Cost of business start-up procedures, male (% of GNI per capita)\n",
       "IC.REG.COST.PC.ZS          Cost of business start-up procedures (% of GNI per capita)\n",
       "IC.REG.DURS                Time required to start a business (days)\n",
       "IC.REG.DURS.FE             Time required to start a business, female (days)\n",
       "IC.REG.DURS.MA             Time required to start a business, male (days)\n",
       "IC.REG.PROC                Start-up procedures to register a business (number)\n",
       "IC.REG.PROC.FE             Start-up procedures to register a business, female (number)\n",
       "IC.REG.PROC.MA             Start-up procedures to register a business, male (number)\n",
       "IC.WEF.LLCD.FE             Number of female directors\n",
       "IC.WEF.LLCD.FE.ZS          Share of female directors (% of total directors)\n",
       "IC.WEF.LLCD.MA             Number of male directors\n",
       "IC.WEF.LLCD.MA.ZS          Share of male directors (% of total directors)\n",
       "IC.WEF.LLCO.FE             Number of female business owners\n",
       "IC.WEF.LLCO.FE.ZS          Share of female business owners (% of total business owners)\n",
       "IC.WEF.LLCO.MA             Number of male business owners\n",
       "IC.WEF.LLCO.MA.ZS          Share of male business owners  (% of total business owners)\n",
       "IC.WEF.SOLO.FE             Number of female sole proprietors\n",
       "IC.WEF.SOLO.FE.ZS          Share of female sole proprietors  (% of sole proprietors)\n",
       "IC.WEF.SOLO.MA             Number of male sole proprietors\n",
       "IC.WEF.SOLO.MA.ZS          Share of male sole proprietors  (% of sole proprietors)\n",
       "ID.OWN.TOTL.FE.ZS          ID ownership, female (% age 15+)\n",
       "ID.OWN.TOTL.MA.ZS          ID ownership, male (% age 15+)\n",
       "Internet                   Has access to the Internet (% age 15+)\n",
       "merchant.1st               Made a digital merchant payment for the first time after COVID-19 started (% age 15+)\n",
       "merchant.1st.s             Made a digital merchant payment for the first time after COVID-19 started (% who made a digital merchant payment, age 15+)\n",
       "merchant.pay               Made a digital merchant payment (% age 15+)\n",
       "merchant.pay.1             Made a digital merchant payment, female (% age 15+)\n",
       "merchant.pay.2             Made a digital merchant payment, male (% age 15+)\n",
       "mobileaccount.t.d          Mobile money account (% age 15+)\n",
       "mobileaccount.t.d.1        Mobile money account, female (% age 15+)\n",
       "mobileaccount.t.d.2        Mobile money account, male (% age 15+)\n",
       "NY.GDP.MKTP.CD             GDP (current US$)\n",
       "NY.GDP.MKTP.KD.ZG          GDP growth (annual %)\n",
       "NY.GDP.PCAP.CD             GDP per capita (current US$)\n",
       "NY.GDP.PCAP.KD             GDP per capita (constant 2015 US$)\n",
       "NY.GNP.ATLS.CD             GNI, Atlas method (current US$)\n",
       "NY.GNP.PCAP.CD             GNI per capita, Atlas method (current US$)\n",
       "NY.GNP.PCAP.PP.CD          GNI per capita, PPP (current international $)\n",
       "Own.phone                  Own a mobile phone (% age 15+)\n",
       "save.any                   Saved any money (% age 15+)\n",
       "save.any.1                 Saved any money, female (% age 15+)\n",
       "save.any.2                 Saved any money, male (% age 15+)\n",
       "SE.ADT.1524.LT.FE.ZS       Literacy rate, youth female (% of females ages 15-24)\n",
       "SE.ADT.1524.LT.FM.ZS       Literacy rate, youth (ages 15-24), gender parity index (GPI)\n",
       "SE.ADT.1524.LT.MA.ZS       Literacy rate, youth male (% of males ages 15-24)\n",
       "SE.ADT.1524.LT.ZS          Literacy rate, youth total (% of people ages 15-24)\n",
       "SE.ADT.LITR.FE.ZS          Literacy rate, adult female (% of females ages 15 and above)\n",
       "SE.ADT.LITR.MA.ZS          Literacy rate, adult male (% of males ages 15 and above)\n",
       "SE.ADT.LITR.ZS             Literacy rate, adult total (% of people ages 15 and above)\n",
       "SE.ENR.PRIM.FM.ZS          School enrollment, primary (gross), gender parity index (GPI)\n",
       "SE.ENR.PRSC.FM.ZS          School enrollment, primary and secondary (gross), gender parity index (GPI)\n",
       "SE.ENR.SECO.FM.ZS          School enrollment, secondary (gross), gender parity index (GPI)\n",
       "SE.ENR.TERT.FM.ZS          School enrollment, tertiary (gross), gender parity index (GPI)\n",
       "SE.LPV.PRIM                Learning poverty: Share of Children at the End-of-Primary age below minimum reading proficiency adjusted by Out-of-School Children (%)\n",
       "SE.LPV.PRIM.BMP            Pupils below minimum reading proficiency at end of primary (%). Low GAML threshold\n",
       "SE.LPV.PRIM.BMP.FE         Female pupils below minimum reading proficiency at end of primary (%). Low GAML threshold\n",
       "SE.LPV.PRIM.BMP.MA         Male pupils below minimum reading proficiency at end of primary (%). Low GAML threshold\n",
       "SE.LPV.PRIM.FE             Learning poverty: Share of Female Children at the End-of-Primary age below minimum reading proficiency adjusted by Out-of-School Children (%)\n",
       "SE.LPV.PRIM.MA             Learning poverty: Share of Male Children at the End-of-Primary age below minimum reading proficiency adjusted by Out-of-School Children (%)\n",
       "SE.LPV.PRIM.OOS.FE         Female primary school age children out-of-school (%)\n",
       "SE.LPV.PRIM.OOS.MA         Male primary school age children out-of-school (%)\n",
       "SE.PRE.ENRR                School enrollment, preprimary (% gross)\n",
       "SE.PRE.ENRR.FE             School enrollment, preprimary, female (% gross)\n",
       "SE.PRE.ENRR.MA             School enrollment, preprimary, male (% gross)\n",
       "SE.PRM.CMPL.FE.ZS          Gross graduation ratio, primary, female (%)\n",
       "SE.PRM.CMPL.MA.ZS          Gross graduation ratio, primary, male (%)\n",
       "SE.PRM.CMPL.ZS             Gross graduation ratio, primary, total (%)\n",
       "SE.PRM.CMPT.FE.ZS          Primary completion rate, female (% of relevant age group)\n",
       "SE.PRM.CMPT.MA.ZS          Primary completion rate, male (% of relevant age group)\n",
       "SE.PRM.CMPT.ZS             Primary completion rate, total (% of relevant age group)\n",
       "SE.PRM.CUAT.FE.ZS          Educational attainment, at least completed primary, population 25+ years, female (%) (cumulative)\n",
       "SE.PRM.CUAT.MA.ZS          Educational attainment, at least completed primary, population 25+ years, male (%) (cumulative)\n",
       "SE.PRM.CUAT.ZS             Educational attainment, at least completed primary, population 25+ years, total (%) (cumulative)\n",
       "SE.PRM.ENRL.FE.ZS          Primary education, pupils (% female)\n",
       "SE.PRM.ENRR                School enrollment, primary (% gross)\n",
       "SE.PRM.ENRR.FE             School enrollment, primary, female (% gross)\n",
       "SE.PRM.ENRR.MA             School enrollment, primary, male (% gross)\n",
       "SE.PRM.GINT.ZS             Gross intake ratio in first grade of primary education, total (% of relevant age group)\n",
       "SE.PRM.NENR                School enrollment, primary (% net)\n",
       "SE.PRM.NENR.FE             School enrollment, primary, female (% net)\n",
       "SE.PRM.NENR.MA             School enrollment, primary, male (% net)\n",
       "SE.PRM.NINT.FE.ZS          Net intake rate in grade 1, female (% of official school-age population)\n",
       "SE.PRM.NINT.MA.ZS          Net intake rate in grade 1, male (% of official school-age population)\n",
       "SE.PRM.NINT.ZS             Net intake rate in grade 1 (% of official school-age population)\n",
       "SE.PRM.PRS5.FE.ZS          Persistence to grade 5, female (% of cohort)\n",
       "SE.PRM.PRS5.MA.ZS          Persistence to grade 5, male (% of cohort)\n",
       "SE.PRM.TCHR.FE.ZS          Primary education, teachers (% female)\n",
       "SE.PRM.TENR                Adjusted net enrollment rate, primary (% of primary school age children)\n",
       "SE.PRM.TENR.FE             Adjusted net enrollment rate, primary, female (% of primary school age children)\n",
       "SE.PRM.TENR.MA             Adjusted net enrollment rate, primary, male (% of primary school age children)\n",
       "SE.PRM.UNER                Children out of school, primary\n",
       "SE.PRM.UNER.FE             Children out of school, primary, female\n",
       "SE.PRM.UNER.MA             Children out of school, primary, male\n",
       "SE.PRM.UNER.ZS             Children out of school (% of primary school age)\n",
       "SE.SCH.LIFE                School life expectancy, primary to tertiary, both sexes (years)\n",
       "SE.SCH.LIFE.FE             School life expectancy, primary to tertiary, female (years)\n",
       "SE.SCH.LIFE.MA             School life expectancy, primary to tertiary, male (years)\n",
       "SE.SEC.CMPT.LO.FE.ZS       Lower secondary completion rate, female (% of relevant age group)\n",
       "SE.SEC.CMPT.LO.MA.ZS       Lower secondary completion rate, male (% of relevant age group)\n",
       "SE.SEC.CMPT.LO.ZS          Lower secondary completion rate, total (% of relevant age group)\n",
       "SE.SEC.CUAT.LO.FE.ZS       Educational attainment, at least completed lower secondary, population 25+, female (%) (cumulative)\n",
       "SE.SEC.CUAT.LO.MA.ZS       Educational attainment, at least completed lower secondary, population 25+, male (%) (cumulative)\n",
       "SE.SEC.CUAT.LO.ZS          Educational attainment, at least completed lower secondary, population 25+, total (%) (cumulative)\n",
       "SE.SEC.CUAT.PO.FE.ZS       Educational attainment, at least completed post-secondary, population 25+, female (%) (cumulative)\n",
       "SE.SEC.CUAT.PO.MA.ZS       Educational attainment, at least completed post-secondary, population 25+, male (%) (cumulative)\n",
       "SE.SEC.CUAT.PO.ZS          Educational attainment, at least completed post-secondary, population 25+, total (%) (cumulative)\n",
       "SE.SEC.CUAT.UP.FE.ZS       Educational attainment, at least completed upper secondary, population 25+, female (%) (cumulative)\n",
       "SE.SEC.CUAT.UP.MA.ZS       Educational attainment, at least completed upper secondary, population 25+, male (%) (cumulative)\n",
       "SE.SEC.CUAT.UP.ZS          Educational attainment, at least completed upper secondary, population 25+, total (%) (cumulative)\n",
       "SE.SEC.ENRL.FE.VO.ZS       Vocational and Technical enrolment (% of total secondary enrolment), female\n",
       "SE.SEC.ENRL.FE.ZS          Secondary education, pupils (% female)\n",
       "SE.SEC.ENRL.MA.VO.ZS       Share of male students in secondary education enrolled in vocational programmes (%)\n",
       "SE.SEC.ENRL.VO             Secondary education, vocational pupils\n",
       "SE.SEC.ENRL.VO.FE.ZS       Secondary education, vocational pupils (% female)\n",
       "SE.SEC.ENRL.VO.ZS          Share of all students in secondary education enrolled in vocational programmes (%)\n",
       "SE.SEC.ENRR                School enrollment, secondary (% gross)\n",
       "SE.SEC.ENRR.FE             School enrollment, secondary, female (% gross)\n",
       "SE.SEC.ENRR.MA             School enrollment, secondary, male (% gross)\n",
       "SE.SEC.NENR                School enrollment, secondary (% net)\n",
       "SE.SEC.NENR.FE             School enrollment, secondary, female (% net)\n",
       "SE.SEC.NENR.MA             School enrollment, secondary, male (% net)\n",
       "SE.SEC.PROG.FE.ZS          Progression to secondary school, female (%)\n",
       "SE.SEC.PROG.MA.ZS          Progression to secondary school, male (%)\n",
       "SE.SEC.PROG.ZS             Progression to secondary school (%)\n",
       "SE.SEC.TCHR.FE.ZS          Secondary education, teachers (% female)\n",
       "SE.TER.CMPL.FE.ZS          Gross graduation ratio from first degree programmes (ISCED 6 and 7) in tertiary education, female (%)\n",
       "SE.TER.CMPL.MA.ZS          Gross graduation ratio from first degree programmes (ISCED 6 and 7) in tertiary education, male (%)\n",
       "SE.TER.CMPL.ZS             Gross graduation ratio from first degree programmes (ISCED 6 and 7) in tertiary education, both sexes (%)\n",
       "SE.TER.CUAT.BA.FE.ZS       Educational attainment, at least Bachelor's or equivalent, population 25+, female (%) (cumulative)\n",
       "SE.TER.CUAT.BA.MA.ZS       Educational attainment, at least Bachelor's or equivalent, population 25+, male (%) (cumulative)\n",
       "SE.TER.CUAT.BA.ZS          Educational attainment, at least Bachelor's or equivalent, population 25+, total (%) (cumulative)\n",
       "SE.TER.CUAT.DO.FE.ZS       Educational attainment, Doctoral or equivalent, population 25+, female (%) (cumulative)\n",
       "SE.TER.CUAT.DO.MA.ZS       Educational attainment, Doctoral or equivalent, population 25+, male (%) (cumulative)\n",
       "SE.TER.CUAT.DO.ZS          Educational attainment, Doctoral or equivalent, population 25+, total (%) (cumulative)\n",
       "SE.TER.CUAT.MS.FE.ZS       Educational attainment, at least Master's or equivalent, population 25+, female (%) (cumulative)\n",
       "SE.TER.CUAT.MS.MA.ZS       Educational attainment, at least Master's or equivalent, population 25+, male (%) (cumulative)\n",
       "SE.TER.CUAT.MS.ZS          Educational attainment, at least Master's or equivalent, population 25+, total (%) (cumulative)\n",
       "SE.TER.CUAT.ST.FE.ZS       Educational attainment, at least completed short-cycle tertiary, population 25+, female (%) (cumulative)\n",
       "SE.TER.CUAT.ST.MA.ZS       Educational attainment, at least completed short-cycle tertiary, population 25+, male (%) (cumulative)\n",
       "SE.TER.CUAT.ST.ZS          Educational attainment, at least completed short-cycle tertiary, population 25+, total (%) (cumulative)\n",
       "SE.TER.ENRR                School enrollment, tertiary (% gross)\n",
       "SE.TER.ENRR.FE             School enrollment, tertiary, female (% gross)\n",
       "SE.TER.ENRR.MA             School enrollment, tertiary, male (% gross)\n",
       "SE.TER.GRAD.FE.AG.ZS       Female share of graduates in Agriculture, Forestry, Fisheries and Veterinary programmes, tertiary (%)\n",
       "SE.TER.GRAD.FE.ED.ZS       Female share of graduates in Education programmes, tertiary (%)\n",
       "SE.TER.GRAD.FE.EN.ZS       Female share of graduates in Engineering, Manufacturing and Construction programmes, tertiary (%)\n",
       "SE.TER.GRAD.FE.HL.ZS       Female share of graduates in Health and Welfare programmes, tertiary (%)\n",
       "SE.TER.GRAD.FE.HU.ZS       Female share of graduates in Arts and Humanities programmes, tertiary (%)\n",
       "SE.TER.GRAD.FE.OT.ZS       Female share of graduates in unknown or unspecified fields, tertiary (%)\n",
       "SE.TER.GRAD.FE.SC.ZS       Female share of graduates in Natural Sciences, Mathematics and Statistics programmes, tertiary (%)\n",
       "SE.TER.GRAD.FE.SI.ZS       Female share of graduates from Science, Technology, Engineering and Mathematics (STEM) programmes, tertiary (%)\n",
       "SE.TER.GRAD.FE.SS.ZS       Female share of graduates in Social Sciences, Journalism and Information programmes, tertiary (%)\n",
       "SE.TER.GRAD.FE.SV.ZS       Female share of graduates in Services programmes, tertiary (%)\n",
       "SE.TER.TCHR.FE.ZS          Tertiary education, academic staff (% female)\n",
       "SE.XPD.PRIM.PC.ZS          Government expenditure per student, primary (% of GDP per capita)\n",
       "SE.XPD.SECO.PC.ZS          Government expenditure per student, secondary (% of GDP per capita)\n",
       "SE.XPD.TOTL.GD.ZS          Government expenditure on education, total (% of GDP)\n",
       "SG.ABS.PENB                There are periods of absence due to childcare accounted for in pension benefits (1=yes; 0=no)\n",
       "SG.AGE.FUPN.EQ             The age at which men and women can retire with full pension benefits is the same (1=yes; 0=no)\n",
       "SG.AGE.MRET.EQ             The mandatory retirement age for men and women is the same (1=yes; 0=no)\n",
       "SG.AGE.PAPN.EQ             The age at which men and women can retire with partial pension benefits is the same (1=yes; 0=no)\n",
       "SG.AGE.RTRE.FE             Mandatory retirement age, female\n",
       "SG.AGE.RTRE.FL.FE          Retirement age with full benefits, female\n",
       "SG.AGE.RTRE.FL.MA          Retirement age with full benefits, male\n",
       "SG.AGE.RTRE.MA             Mandatory retirement age, male\n",
       "SG.AGE.RTRE.PL.FE          Retirement age with partial benefits, female\n",
       "SG.AGE.RTRE.PL.MA          Retirement age with partial benefits, male\n",
       "SG.APL.PSPT.EQ             A woman can apply for a passport in the same way as a man (1=yes; 0=no)\n",
       "SG.BUS.REGT.EQ             A woman can register a business in the same way as a man (1=yes; 0=no)\n",
       "SG.CNT.SIGN.EQ             A woman can sign a contract in the same way as a man (1=yes; 0=no)\n",
       "SG.COK.CHCO.ZS             Main cooking fuel: charcoal (% of households)\n",
       "SG.COK.CROP.ZS             Main cooking fuel: agricultural crop (% of households)\n",
       "SG.COK.DUNG.ZS             Main cooking fuel: dung (% of households)\n",
       "SG.COK.ELEC.ZS             Main cooking fuel: electricity  (% of households)\n",
       "SG.COK.HOUS.ZS             Location of cooking: inside the house (% of households)\n",
       "SG.COK.LPGN.ZS             Main cooking fuel: LPG/natural gas/biogas (% of households)\n",
       "SG.COK.OTHR.ZS             Location of cooking: other places (% of households)\n",
       "SG.COK.OUTD.ZS             Location of cooking: outdoors (% of households)\n",
       "SG.COK.SBLD.ZS             Location of cooking: separate building (% of households)\n",
       "SG.COK.STRW.ZS             Main cooking fuel: straw/shrubs/grass (% of households)\n",
       "SG.COK.WOOD.ZS             Main cooking fuel: wood (% of households)\n",
       "SG.CTR.TRVL.EQ             A woman can travel outside the country in the same way as a man (1=yes; 0=no)\n",
       "SG.DMK.ALLD.FN.ZS          Women participating in the three decisions (own health care, major household purchases, and visiting family) (% of women age 15-49)\n",
       "SG.DMK.DPCH.FN.ZS          Women participating in making daily purchase decisions (% of women age 15-49)\n",
       "SG.DMK.FOOD.FN.ZS          Women participating in decision of what food to cook daily (% of women age 15-49)\n",
       "SG.DMK.HLTH.FN.ZS          Women participating in own health care decisions (% of women age 15-49)\n",
       "SG.DMK.HLTH.HB.ZS          Decision maker about a woman's own health care: mainly husband (% of women age 15-49)\n",
       "SG.DMK.HLTH.OT.ZS          Decision maker about a woman's own health care: other (% of women age 15-49)\n",
       "SG.DMK.HLTH.SE.ZS          Decision maker about a woman's own health care: someone else (% of women age 15-49)\n",
       "SG.DMK.HLTH.WF.ZS          Decision maker about a woman's own health care: mainly wife (% of women age 15-49)\n",
       "SG.DMK.HLTH.WH.ZS          Decision maker about a woman's own health care: wife and husband jointly (% of women age 15-49)\n",
       "SG.DMK.NONE.FN.ZS          Women participating in none of the three decisions (own health care, major household purchases, and visiting family) (% of women age 15-49)\n",
       "SG.DMK.PRCH.FN.ZS          Women participating in making major household purchase decisions (% of women age 15-49)\n",
       "SG.DMK.PRCH.HB.ZS          Decision maker about major household purchases: mainly husband (% of women age 15-49)\n",
       "SG.DMK.PRCH.OT.ZS          Decision maker about major household purchases: other (% of women age 15-49)\n",
       "SG.DMK.PRCH.SE.ZS          Decision maker about major household purchases: someone else (% of women age 15-49)\n",
       "SG.DMK.PRCH.WF.ZS          Decision maker about major household purchases: mainly wife (% of women age 15-49)\n",
       "SG.DMK.PRCH.WH.ZS          Decision maker about major household purchases: wife and husband jointly (% of women age 15-49)\n",
       "SG.DMK.SRCR.FN.ZS          Women making their own informed decisions regarding sexual relations, contraceptive use and reproductive health care (% of women age 15-49)\n",
       "SG.DMK.VISI.FN.ZS          Women participating in decision of visits to family, relatives, friends (% of women age 15-49)\n",
       "SG.DMK.VISI.HB.ZS          Decision maker about a woman's visits to her family or relatives: mainly husband (% of women age 15-49)\n",
       "SG.DMK.VISI.OT.ZS          Decision maker about a woman's visits to her family or relatives: other (% of women age 15-49)\n",
       "SG.DMK.VISI.SE.ZS          Decision maker about a woman's visits to her family or relatives: someone else (% of women age 15-49)\n",
       "SG.DMK.VISI.WF.ZS          Decision maker about a woman's visits to her family or relatives: mainly wife (% of women age 15-49)\n",
       "SG.DMK.VISI.WH.ZS          Decision maker about Visits to her family or relatives: wife and husband jointly (% of women age 15-49)\n",
       "SG.DML.PRGW                Dismissal of pregnant workers is prohibited (1=yes; 0=no)\n",
       "SG.DNG.WORK.DN.EQ          A woman can work in a job deemed dangerous in the same way as a man (1=yes; 0=no)\n",
       "SG.GEN.MNST.ZS             Proportion of women in ministerial level positions (%)\n",
       "SG.GEN.PARL.ZS             Proportion of seats held by women in national parliaments (%)\n",
       "SG.GEN.TECH.ZS             Female professional and technical workers (% of total)\n",
       "SG.GET.JOBS.EQ             A woman can get a job in the same way as a man (1=yes; 0=no)\n",
       "SG.H2O.PRMS.HH.ZS          Households with water on the premises (%)\n",
       "SG.H2O.TL30.HH.ZS          Households with water less than 30 minutes away round trip (%)\n",
       "SG.H2O.TM30.HH.ZS          Households with water 30 minutes or longer away round trip (%)\n",
       "SG.HLD.HEAD.EQ             A woman can be head of household in the same way as a man (1=yes; 0=no)\n",
       "SG.HME.TRVL.EQ             A woman can travel outside her home in the same way as a man (1=yes; 0=no)\n",
       "SG.IHT.ASST.EQ             Male and female surviving spouses have equal rights to inherit assets (1=yes; 0=no)\n",
       "SG.IHT.ASST.PT.EQ          Sons and daughters have equal rights to inherit assets from their parents (1=yes; 0=no)\n",
       "SG.IND.WORK.EQ             A woman can work in an industrial job in the same way as a man (1=yes; 0=no)\n",
       "SG.LAW.ASST.AR             The law grants spouses equal administrative authority over assets during marriage (1=yes; 0=no)\n",
       "SG.LAW.CRDD.GR             The law prohibits discrimination in access to credit based on gender (1=yes; 0=no)\n",
       "SG.LAW.EQRM.WK             Law mandates equal remuneration for females and males for work of equal value (1=yes; 0=no)\n",
       "SG.LAW.INDX                Women Business and the Law Index Score (scale 1-100)\n",
       "SG.LAW.INDX.AS             Women, Business and the Law: Assets Indicator Score (scale 1-100)\n",
       "SG.LAW.INDX.EN             Women, Business and the Law: Entrepreneurship Indicator Score (scale 1-100)\n",
       "SG.LAW.INDX.MO             Women, Business and the Law: Mobility Indicator Score (scale 1-100)\n",
       "SG.LAW.INDX.MR             Women, Business and the Law: Marriage Indicator Score (scale 1-100)\n",
       "SG.LAW.INDX.PE             Women, Business and the Law: Pension Indicator Score (scale 1-100)\n",
       "SG.LAW.INDX.PR             Women, Business and the Law: Parenthood Indicator Score (scale 1-100)\n",
       "SG.LAW.INDX.PY             Women, Business and the Law: Pay Indicator Score (scale 1-100)\n",
       "SG.LAW.INDX.WP             Women, Business and the Law: Workplace Indicator Score (scale 1-100)\n",
       "SG.LAW.NMCN                The law provides for the valuation of nonmonetary contributions (1=yes; 0=no)\n",
       "SG.LAW.NODC.HR             The law prohibits discrimination in employment based on gender (1=yes; 0=no)\n",
       "SG.LAW.OBHB.MR.NO          The law is free of legal provisions that require a married woman to obey her husband (1=yes; 0=no)\n",
       "SG.LEG.DVAW                There is legislation specifically addressing domestic violence (1=yes; 0=no)\n",
       "SG.LEG.SXHR.EM             There is legislation on sexual harassment in employment (1=yes; 0=no)\n",
       "SG.LOC.LIVE.EQ             A woman can choose where to live in the same way as a man (1=yes; 0=no)\n",
       "SG.MHG.PADP.RU.ZS          Women and girls who participate in activities during menstrual period, rural (% of women and girls ages 15-49 living in rural areas who had a menstrual period within the last year)\n",
       "SG.MHG.PADP.UR.ZS          Women and girls who participate in activities during menstrual period, urban (% of women and girls ages 15-49 living in urban areas who had a menstrual period within the last year)\n",
       "SG.MHG.PADP.ZS             Women and girls who participate in activities during menstrual period (% of women and girls ages 15-49 who had a menstrual period within the last year)\n",
       "SG.MHG.PPDP.RU.ZS          Women and girls who have private places to wash and change during menstrual period, rural (% of women and girls ages 15-49 living in rural areas who had a menstrual period within the last year)\n",
       "SG.MHG.PPDP.UR.ZS          Women and girls who have private places to wash and change during menstrual period, urban (% of women and girls ages 15-49 living in urban areas who had a menstrual period within the last year)\n",
       "SG.MHG.PPDP.ZS             Women and girls who have private places to wash and change during menstrual period (% of women and girls ages 15-49 who had a menstrual period within the last year)\n",
       "SG.MHG.UMDP.RU.ZS          Women and girls who use menstrual materials, rural (% of women and girls ages 15-49 living in rural areas who had a menstrual period within the last year)\n",
       "SG.MHG.UMDP.UR.ZS          Women and girls who use menstrual materials, urban (% of women and girls ages 15-49 living in urban areas who had a menstrual period within the last year)\n",
       "SG.MHG.UMDP.ZS             Women and girls who use menstrual materials (% of women and girls ages 15-49 who had a menstrual period within the last year)\n",
       "SG.NGT.WORK.EQ             A woman can work at night in the same way as a man (1=yes; 0=no)\n",
       "SG.OBT.DVRC.EQ             A woman can obtain a judgment of divorce in the same way as a man (1=yes; 0=no)\n",
       "SG.OPN.BANK.EQ             A woman can open a bank account in the same way as a man (1=yes; 0=no)\n",
       "SG.OWN.HSAJ.FE.Q1.ZS       Women who own a house both alone and jointly (% of women age 15-49): Q1 (lowest)\n",
       "SG.OWN.HSAJ.FE.Q2.ZS       Women who own a house both alone and jointly (% of women age 15-49): Q2\n",
       "SG.OWN.HSAJ.FE.Q3.ZS       Women who own a house both alone and jointly (% of women age 15-49): Q3\n",
       "SG.OWN.HSAJ.FE.Q4.ZS       Women who own a house both alone and jointly (% of women age 15-49): Q4\n",
       "SG.OWN.HSAJ.FE.Q5.ZS       Women who own a house both alone and jointly (% of women age 15-49): Q5 (highest)\n",
       "SG.OWN.HSAJ.FE.ZS          Women who own a house both alone and jointly (% of women age 15-49)\n",
       "SG.OWN.HSAJ.MA.Q1.ZS       Men who own a house both alone and jointly (% of men): Q1 (lowest)\n",
       "SG.OWN.HSAJ.MA.Q2.ZS       Men who own a house both alone and jointly (% of men): Q2\n",
       "SG.OWN.HSAJ.MA.Q3.ZS       Men who own a house both alone and jointly (% of men): Q3\n",
       "SG.OWN.HSAJ.MA.Q4.ZS       Men who own a house both alone and jointly (% of men): Q4\n",
       "SG.OWN.HSAJ.MA.Q5.ZS       Men who own a house both alone and jointly (% of men): Q5 (highest)\n",
       "SG.OWN.HSAJ.MA.ZS          Men who own a house both alone and jointly (% of men)\n",
       "SG.OWN.HSAL.FE.Q1.ZS       Women who own a house alone (% of women age 15-49): Q1 (lowest)\n",
       "SG.OWN.HSAL.FE.Q2.ZS       Women who own a house alone (% of women age 15-49): Q2\n",
       "SG.OWN.HSAL.FE.Q3.ZS       Women who own a house alone (% of women age 15-49): Q3\n",
       "SG.OWN.HSAL.FE.Q4.ZS       Women who own a house alone (% of women age 15-49): Q4\n",
       "SG.OWN.HSAL.FE.Q5.ZS       Women who own a house alone (% of women age 15-49): Q5 (highest)\n",
       "SG.OWN.HSAL.FE.ZS          Women who own a house alone (% of women age 15-49)\n",
       "SG.OWN.HSAL.MA.Q1.ZS       Men who own a house alone (% of men): Q1 (lowest)\n",
       "SG.OWN.HSAL.MA.Q2.ZS       Men who own a house alone (% of men): Q2\n",
       "SG.OWN.HSAL.MA.Q3.ZS       Men who own a house alone (% of men): Q3\n",
       "SG.OWN.HSAL.MA.Q4.ZS       Men who own a house alone (% of men): Q4\n",
       "SG.OWN.HSAL.MA.Q5.ZS       Men who own a house alone (% of men): Q5 (highest)\n",
       "SG.OWN.HSAL.MA.ZS          Men who own a house alone (% of men)\n",
       "SG.OWN.HSJT.FE.Q1.ZS       Women who own a house jointly (% of women age 15-49): Q1 (lowest)\n",
       "SG.OWN.HSJT.FE.Q2.ZS       Women who own a house jointly (% of women age 15-49): Q2\n",
       "SG.OWN.HSJT.FE.Q3.ZS       Women who own a house jointly (% of women age 15-49): Q3\n",
       "SG.OWN.HSJT.FE.Q4.ZS       Women who own a house jointly (% of women age 15-49): Q4\n",
       "SG.OWN.HSJT.FE.Q5.ZS       Women who own a house jointly (% of women age 15-49): Q5 (highest)\n",
       "SG.OWN.HSJT.FE.ZS          Women who own a house jointly (% of women age 15-49)\n",
       "SG.OWN.HSJT.MA.Q1.ZS       Men who own a house jointly (% of men): Q1 (lowest)\n",
       "SG.OWN.HSJT.MA.Q2.ZS       Men who own a house jointly (% of men): Q2\n",
       "SG.OWN.HSJT.MA.Q3.ZS       Men who own a house jointly (% of men): Q3\n",
       "SG.OWN.HSJT.MA.Q4.ZS       Men who own a house jointly (% of men): Q4\n",
       "SG.OWN.HSJT.MA.Q5.ZS       Men who own a house jointly (% of men): Q5 (highest)\n",
       "SG.OWN.HSJT.MA.ZS          Men who own a house jointly (% of men)\n",
       "SG.OWN.HSNO.FE.Q1.ZS       Women who do not own a house (% of women age 15-49): Q1 (lowest)\n",
       "SG.OWN.HSNO.FE.Q2.ZS       Women who do not own a house (% of women age 15-49): Q2\n",
       "SG.OWN.HSNO.FE.Q3.ZS       Women who do not own a house (% of women age 15-49): Q3\n",
       "SG.OWN.HSNO.FE.Q4.ZS       Women who do not own a house (% of women age 15-49): Q4\n",
       "SG.OWN.HSNO.FE.Q5.ZS       Women who do not own a house (% of women age 15-49): Q5 (highest)\n",
       "SG.OWN.HSNO.FE.ZS          Women who do not own a house (% of women age 15-49)\n",
       "SG.OWN.HSNO.MA.Q1.ZS       Men who do not own a house (% of men): Q1 (lowest)\n",
       "SG.OWN.HSNO.MA.Q2.ZS       Men who do not own a house (% of men): Q2\n",
       "SG.OWN.HSNO.MA.Q3.ZS       Men who do not own a house (% of men): Q3\n",
       "SG.OWN.HSNO.MA.Q4.ZS       Men who do not own a house (% of men): Q4\n",
       "SG.OWN.HSNO.MA.Q5.ZS       Men who do not own a house (% of men): Q5 (highest)\n",
       "SG.OWN.HSNO.MA.ZS          Men who do not own a house (% of men)\n",
       "SG.OWN.LDAJ.FE.Q1.ZS       Women who own land both alone and jointly (% of women age 15-49): Q1 (lowest)\n",
       "SG.OWN.LDAJ.FE.Q2.ZS       Women who own land both alone and jointly (% of women age 15-49): Q2\n",
       "SG.OWN.LDAJ.FE.Q3.ZS       Women who own land both alone and jointly (% of women age 15-49): Q3\n",
       "SG.OWN.LDAJ.FE.Q4.ZS       Women who own land both alone and jointly (% of women age 15-49): Q4\n",
       "SG.OWN.LDAJ.FE.Q5.ZS       Women who own land both alone and jointly (% of women age 15-49): Q5 (highest)\n",
       "SG.OWN.LDAJ.FE.ZS          Women who own land both alone and jointly (% of women age 15-49)\n",
       "SG.OWN.LDAJ.MA.Q1.ZS       Men who own land both alone and jointly (% of men): Q1 (lowest)\n",
       "SG.OWN.LDAJ.MA.Q2.ZS       Men who own land both alone and jointly (% of men): Q2\n",
       "SG.OWN.LDAJ.MA.Q3.ZS       Men who own land both alone and jointly (% of men): Q3\n",
       "SG.OWN.LDAJ.MA.Q4.ZS       Men who own land both alone and jointly (% of men): Q4\n",
       "SG.OWN.LDAJ.MA.Q5.ZS       Men who own land both alone and jointly (% of men): Q5 (highest)\n",
       "SG.OWN.LDAJ.MA.ZS          Men who own land both alone and jointly (% of men)\n",
       "SG.OWN.LDAL.FE.Q1.ZS       Women who own land alone (% of women age 15-49): Q1 (lowest)\n",
       "SG.OWN.LDAL.FE.Q2.ZS       Women who own land alone (% of women age 15-49): Q2\n",
       "SG.OWN.LDAL.FE.Q3.ZS       Women who own land alone (% of women age 15-49): Q3\n",
       "SG.OWN.LDAL.FE.Q4.ZS       Women who own land alone (% of women age 15-49): Q4\n",
       "SG.OWN.LDAL.FE.Q5.ZS       Women who own land alone (% of women age 15-49): Q5 (highest)\n",
       "SG.OWN.LDAL.FE.ZS          Women who own land alone (% of women age 15-49)\n",
       "SG.OWN.LDAL.MA.Q1.ZS       Men who own land alone (% of men): Q1 (lowest)\n",
       "SG.OWN.LDAL.MA.Q2.ZS       Men who own land alone (% of men): Q2\n",
       "SG.OWN.LDAL.MA.Q3.ZS       Men who own land alone (% of men): Q3\n",
       "SG.OWN.LDAL.MA.Q4.ZS       Men who own land alone (% of men): Q4\n",
       "SG.OWN.LDAL.MA.Q5.ZS       Men who own land alone (% of men): Q5 (highest)\n",
       "SG.OWN.LDAL.MA.ZS          Men who own land alone (% of men)\n",
       "SG.OWN.LDJT.FE.Q1.ZS       Women who own land jointly (% of women age 15-49): Q1 (lowest)\n",
       "SG.OWN.LDJT.FE.Q2.ZS       Women who own land jointly (% of women age 15-49): Q2\n",
       "SG.OWN.LDJT.FE.Q3.ZS       Women who own land jointly (% of women age 15-49): Q3\n",
       "SG.OWN.LDJT.FE.Q4.ZS       Women who own land jointly (% of women age 15-49): Q4\n",
       "SG.OWN.LDJT.FE.Q5.ZS       Women who own land jointly (% of women age 15-49): Q5 (highest)\n",
       "SG.OWN.LDJT.FE.ZS          Women who own land jointly (% of women age 15-49)\n",
       "SG.OWN.LDJT.MA.Q1.ZS       Men who own land jointly (% of men): Q1 (lowest)\n",
       "SG.OWN.LDJT.MA.Q2.ZS       Men who own land jointly (% of men): Q2\n",
       "SG.OWN.LDJT.MA.Q3.ZS       Men who own land jointly (% of men): Q3\n",
       "SG.OWN.LDJT.MA.Q4.ZS       Men who own land jointly (% of men): Q4\n",
       "SG.OWN.LDJT.MA.Q5.ZS       Men who own land jointly (% of men): Q5 (highest)\n",
       "SG.OWN.LDJT.MA.ZS          Men who own land jointly (% of men)\n",
       "SG.OWN.LDNO.FE.Q1.ZS       Women who do not own land (% of women age 15-49): Q1 (lowest)\n",
       "SG.OWN.LDNO.FE.Q2.ZS       Women who do not own land (% of women age 15-49): Q2\n",
       "SG.OWN.LDNO.FE.Q3.ZS       Women who do not own land (% of women age 15-49): Q3\n",
       "SG.OWN.LDNO.FE.Q4.ZS       Women who do not own land (% of women age 15-49): Q4\n",
       "SG.OWN.LDNO.FE.Q5.ZS       Women who do not own land (% of women age 15-49): Q5 (highest)\n",
       "SG.OWN.LDNO.FE.ZS          Women who do not own land (% of women age 15-49)\n",
       "SG.OWN.LDNO.MA.Q1.ZS       Men who do not own land (% of men): Q1 (lowest)\n",
       "SG.OWN.LDNO.MA.Q2.ZS       Men who do not own land (% of men): Q2\n",
       "SG.OWN.LDNO.MA.Q3.ZS       Men who do not own land (% of men): Q3\n",
       "SG.OWN.LDNO.MA.Q4.ZS       Men who do not own land (% of men): Q4\n",
       "SG.OWN.LDNO.MA.Q5.ZS       Men who do not own land (% of men): Q5 (highest)\n",
       "SG.OWN.LDNO.MA.ZS          Men who do not own land (% of men)\n",
       "SG.OWN.PRRT.IM             Men and women have equal ownership rights to immovable property (1=yes; 0=no)\n",
       "SG.PEN.SXHR.EM             Criminal penalties or civil remedies exist for sexual harassment in employment (1=yes; 0=no)\n",
       "SG.POP.MIGR.FE.ZS          Female migrants (% of international migrant stock)\n",
       "SG.REM.RIGT.EQ             A woman has the same rights to remarry as a man (1=yes; 0=no)\n",
       "SG.RSX.BRTH.Q1.ZS          Women who believe a wife is justified refusing sex with her husband if she has recently given birth (%): Q1 (lowest)\n",
       "SG.RSX.BRTH.Q2.ZS          Women who believe a wife is justified refusing sex with her husband if she has recently given birth (%): Q2\n",
       "SG.RSX.BRTH.Q3.ZS          Women who believe a wife is justified refusing sex with her husband if she has recently given birth (%): Q3\n",
       "SG.RSX.BRTH.Q4.ZS          Women who believe a wife is justified refusing sex with her husband if she has recently given birth (%): Q4\n",
       "SG.RSX.BRTH.Q5.ZS          Women who believe a wife is justified refusing sex with her husband if she has recently given birth (%): Q5 (highest)\n",
       "SG.RSX.BRTH.ZS             Women who believe a wife is justified refusing sex with her husband if she has recently given birth (%)\n",
       "SG.RSX.NORS.Q1.ZS          Women who believe a wife is justified refusing sex with her husband for none of the reasons (%): Q1 (lowest)\n",
       "SG.RSX.NORS.Q2.ZS          Women who believe a wife is justified refusing sex with her husband for none of the reasons (%): Q2\n",
       "SG.RSX.NORS.Q3.ZS          Women who believe a wife is justified refusing sex with her husband for none of the reasons (%): Q3\n",
       "SG.RSX.NORS.Q4.ZS          Women who believe a wife is justified refusing sex with her husband for none of the reasons (%): Q4\n",
       "SG.RSX.NORS.Q5.ZS          Women who believe a wife is justified refusing sex with her husband for none of the reasons (%): Q5 (highest)\n",
       "SG.RSX.NORS.ZS             Women who believe a wife is justified refusing sex with her husband for none of the reasons (%)\n",
       "SG.RSX.REAS.Q1.ZS          Women who believe a wife is justified refusing sex with her husband for all of the reasons (%): Q1 (lowest)\n",
       "SG.RSX.REAS.Q2.ZS          Women who believe a wife is justified refusing sex with her husband for all of the reasons (%): Q2\n",
       "SG.RSX.REAS.Q3.ZS          Women who believe a wife is justified refusing sex with her husband for all of the reasons (%): Q3\n",
       "SG.RSX.REAS.Q4.ZS          Women who believe a wife is justified refusing sex with her husband for all of the reasons (%): Q4\n",
       "SG.RSX.REAS.Q5.ZS          Women who believe a wife is justified refusing sex with her husband for all of the reasons (%): Q5 (highest)\n",
       "SG.RSX.REAS.ZS             Women who believe a wife is justified refusing sex with her husband for all of the reasons (%)\n",
       "SG.RSX.SXOT.Q1.ZS          Women who believe a wife is justified refusing sex with her husband if she knows he has sex with other women (%): Q1 (lowest)\n",
       "SG.RSX.SXOT.Q2.ZS          Women who believe a wife is justified refusing sex with her husband if she knows he has sex with other women (%): Q2\n",
       "SG.RSX.SXOT.Q3.ZS          Women who believe a wife is justified refusing sex with her husband if she knows he has sex with other women (%): Q3\n",
       "SG.RSX.SXOT.Q4.ZS          Women who believe a wife is justified refusing sex with her husband if she knows he has sex with other women (%): Q4\n",
       "SG.RSX.SXOT.Q5.ZS          Women who believe a wife is justified refusing sex with her husband if she knows he has sex with other women (%): Q5 (highest)\n",
       "SG.RSX.SXOT.ZS             Women who believe a wife is justified refusing sex with her husband if she knows he has sex with other women (%)\n",
       "SG.RSX.TIRD.Q1.ZS          Women who believe a wife is justified refusing sex with her husband if she is tired or not in the mood (%): Q1 (lowest)\n",
       "SG.RSX.TIRD.Q2.ZS          Women who believe a wife is justified refusing sex with her husband if she is tired or not in the mood (%): Q2\n",
       "SG.RSX.TIRD.Q3.ZS          Women who believe a wife is justified refusing sex with her husband if she is tired or not in the mood (%): Q3\n",
       "SG.RSX.TIRD.Q4.ZS          Women who believe a wife is justified refusing sex with her husband if she is tired or not in the mood (%): Q4\n",
       "SG.RSX.TIRD.Q5.ZS          Women who believe a wife is justified refusing sex with her husband if she is tired or not in the mood (%): Q5 (highest)\n",
       "SG.RSX.TIRD.ZS             Women who believe a wife is justified refusing sex with her husband if she is tired or not in the mood (%)\n",
       "SG.RSX.TMDS.Q1.ZS          Women who believe a wife is justified refusing sex with her husband if she knows he has sexually transmitted disease (%): Q1 (lowest)\n",
       "SG.RSX.TMDS.Q2.ZS          Women who believe a wife is justified refusing sex with her husband if she knows he has sexually transmitted disease (%): Q2\n",
       "SG.RSX.TMDS.Q3.ZS          Women who believe a wife is justified refusing sex with her husband if she knows he has sexually transmitted disease (%): Q3\n",
       "SG.RSX.TMDS.Q4.ZS          Women who believe a wife is justified refusing sex with her husband if she knows he has sexually transmitted disease (%): Q4\n",
       "SG.RSX.TMDS.Q5.ZS          Women who believe a wife is justified refusing sex with her husband if she knows he has sexually transmitted disease (%): Q5 (highest)\n",
       "SG.RSX.TMDS.ZS             Women who believe a wife is justified refusing sex with her husband if she knows he has sexually transmitted disease (%)\n",
       "SG.SXL.SX15.OL.FE.ZS       Women who initiated sexual intercourse by age 15 (% of women ages 20-24)\n",
       "SG.SXL.SX15.OL.MA.ZS       Men who initiated sexual intercourse by age 15 (% of men ages 20-24)\n",
       "SG.SXL.SX15.YG.FE.ZS       Women who initiated sexual intercourse before age 15 (% of women ages 15-19)\n",
       "SG.SXL.SX15.YG.MA.ZS       Men who initiated sexual intercourse before age 15 (% of men ages 15-19)\n",
       "SG.TIM.UWRK.FE             Proportion of time spent on unpaid domestic and care work, female (% of 24 hour day)\n",
       "SG.TIM.UWRK.MA             Proportion of time spent on unpaid domestic and care work, male (% of 24 hour day)\n",
       "SG.VAW.1519.LT.ME.ZS       Proportion of women who have ever experienced intimate partner violence (modeled estimate, % of ever partnered women ages 15-19)\n",
       "SG.VAW.1519.ME.ZS          Proportion of women subjected to physical and/or sexual violence in the last 12 months (modeled estimate, % of ever partnered women ages 15-19)\n",
       "SG.VAW.1549.LT.ME.ZS       Proportion of women who have ever experienced intimate partner violence (modeled estimate, % of ever partnered women ages 15-49)\n",
       "SG.VAW.1549.ME.ZS          Proportion of women subjected to physical and/or sexual violence in the last 12 months (modeled estimate, % of ever partnered women ages 15-49)\n",
       "SG.VAW.1549.ZS             Proportion of women subjected to physical and/or sexual violence in the last 12 months (% of ever-partnered women ages 15-49)\n",
       "SG.VAW.15PL.LT.ME.ZS       Proportion of women who have ever experienced intimate partner violence (modeled estimate, % of ever partnered women ages 15+)\n",
       "SG.VAW.15PL.ME.ZS          Proportion of women subjected to physical and/or sexual violence in the last 12 months (modeled estimate, % of ever partnered women ages 15+)\n",
       "SG.VAW.2024.LT.ME.ZS       Proportion of women who have ever experienced intimate partner violence (modeled estimate, % of ever partnered women ages 20-24)\n",
       "SG.VAW.2024.ME.ZS          Proportion of women subjected to physical and/or sexual violence in the last 12 months (modeled estimate, % of ever partnered women ages 20-24)\n",
       "SG.VAW.2529.LT.ME.ZS       Proportion of women who have ever experienced intimate partner violence (modeled estimate, % of ever partnered women ages 25-29)\n",
       "SG.VAW.2529.ME.ZS          Proportion of women subjected to physical and/or sexual violence in the last 12 months (modeled estimate, % of ever partnered women ages 25-29)\n",
       "SG.VAW.3034.LT.ME.ZS       Proportion of women who have ever experienced intimate partner violence (modeled estimate, % of ever partnered women ages 30-34)\n",
       "SG.VAW.3034.ME.ZS          Proportion of women subjected to physical and/or sexual violence in the last 12 months (modeled estimate, % of ever partnered women ages 30-34)\n",
       "SG.VAW.3544.LT.ME.ZS       Proportion of women who have ever experienced intimate partner violence (modeled estimate, % of ever partnered women ages 35-44)\n",
       "SG.VAW.3544.ME.ZS          Proportion of women subjected to physical and/or sexual violence in the last 12 months (modeled estimate, % of ever partnered women ages 35-44)\n",
       "SG.VAW.4554.LT.ME.ZS       Proportion of women who have ever experienced intimate partner violence (modeled estimate, % of ever partnered women ages 45-54)\n",
       "SG.VAW.4554.ME.ZS          Proportion of women subjected to physical and/or sexual violence in the last 12 months (modeled estimate, % of ever partnered women ages 45-54)\n",
       "SG.VAW.5564.LT.ME.ZS       Proportion of women who have ever experienced intimate partner violence (modeled estimate, % of ever partnered women ages 55-64)\n",
       "SG.VAW.5564.ME.ZS          Proportion of women subjected to physical and/or sexual violence in the last 12 months (modeled estimate, % of ever partnered women ages 55-64)\n",
       "SG.VAW.65PL.LT.ME.ZS       Proportion of women who have ever experienced intimate partner violence (modeled estimate, % of ever partnered women ages 65+)\n",
       "SG.VAW.65PL.ME.ZS          Proportion of women subjected to physical and/or sexual violence in the last 12 months (modeled estimate, % of ever partnered women ages 65+)\n",
       "SG.VAW.AFSX.ZS             Proportion of women who have ever experienced any form of sexual violence (% of women ages 15-49)\n",
       "SG.VAW.ARGU.Q1.ZS          Women who believe a husband is justified in beating his wife when she argues with him (%): Q1 (lowest)\n",
       "SG.VAW.ARGU.Q2.ZS          Women who believe a husband is justified in beating his wife when she argues with him (%): Q2\n",
       "SG.VAW.ARGU.Q3.ZS          Women who believe a husband is justified in beating his wife when she argues with him (%): Q3\n",
       "SG.VAW.ARGU.Q4.ZS          Women who believe a husband is justified in beating his wife when she argues with him (%): Q4\n",
       "SG.VAW.ARGU.Q5.ZS          Women who believe a husband is justified in beating his wife when she argues with him (%): Q5 (highest)\n",
       "SG.VAW.ARGU.ZS             Women who believe a husband is justified in beating his wife when she argues with him (%)\n",
       "SG.VAW.BURN.Q1.ZS          Women who believe a husband is justified in beating his wife when she burns the food (%): Q1 (lowest)\n",
       "SG.VAW.BURN.Q2.ZS          Women who believe a husband is justified in beating his wife when she burns the food (%): Q2\n",
       "SG.VAW.BURN.Q3.ZS          Women who believe a husband is justified in beating his wife when she burns the food (%): Q3\n",
       "SG.VAW.BURN.Q4.ZS          Women who believe a husband is justified in beating his wife when she burns the food (%): Q4\n",
       "SG.VAW.BURN.Q5.ZS          Women who believe a husband is justified in beating his wife when she burns the food (%): Q5 (highest)\n",
       "SG.VAW.BURN.ZS             Women who believe a husband is justified in beating his wife when she burns the food (%)\n",
       "SG.VAW.GOES.Q1.ZS          Women who believe a husband is justified in beating his wife when she goes out without telling him (%): Q1 (lowest)\n",
       "SG.VAW.GOES.Q2.ZS          Women who believe a husband is justified in beating his wife when she goes out without telling him (%): Q2\n",
       "SG.VAW.GOES.Q3.ZS          Women who believe a husband is justified in beating his wife when she goes out without telling him (%): Q3\n",
       "SG.VAW.GOES.Q4.ZS          Women who believe a husband is justified in beating his wife when she goes out without telling him (%): Q4\n",
       "SG.VAW.GOES.Q5.ZS          Women who believe a husband is justified in beating his wife when she goes out without telling him (%): Q5 (highest)\n",
       "SG.VAW.GOES.ZS             Women who believe a husband is justified in beating his wife when she goes out without telling him (%)\n",
       "SG.VAW.HLPV.NV.ZS          Women who never sought help to stop violence, and never told anyone  (% of ever-married women ages 15-49 who have ever experienced any physical or sexual violence)\n",
       "SG.VAW.HLPV.TD.ZS          Women who never sought help to stop violence, but told someone (% of ever-married women ages 15-49 who have ever experienced any physical or sexual violence)\n",
       "SG.VAW.HLPV.ZS             Proportion of women who have sought help to stop physical or sexual violence (% of ever-married women ages 15-49)\n",
       "SG.VAW.INJR.ZS             Women who who have experienced injuries resulting from spousal violence (% of ever-married women ages 15-49 who have ever experienced any physical or sexual violence)\n",
       "SG.VAW.IPCB.NV.ZS          Women whose husband or partner has never demonstrated controlling behaviors (% of ever-married women ages 15-49)\n",
       "SG.VAW.IPCB.ZS             Women whose husband or partner has ever demonstrated controlling behaviors (% of ever-married women ages 15-49)\n",
       "SG.VAW.IPEV.LT.ZS          Women who have ever experienced emotional violence committed by their husband/partner  (% of ever-married women ages 15-49)\n",
       "SG.VAW.IPEV.LY.ZS          Women who have experienced emotional violence committed by their husband/partner in the 12 months (% of ever-married women ages 15-49)\n",
       "SG.VAW.IPPV.LT.ZS          Women who have ever experienced physical violence committed by their husband/partner (% of ever-married women ages 15-49)\n",
       "SG.VAW.IPPV.LY.ZS          Women who have experienced physical violence committed by their husband/partner in the 12 months (% of ever-married women ages 15-49)\n",
       "SG.VAW.IPSV.LT.ZS          Women who have ever experienced  sexual violence committed by their husband/partner  (% of ever-married women ages 15-49)\n",
       "SG.VAW.IPSV.LY.ZS          Women who have experienced sexual violence committed by their husband/partner in the 12 months (% of ever-married women ages 15-49)\n",
       "SG.VAW.IPVE.BM.ZS          Women whose first experience of spousal physical or sexual violence was before marriage  (% of currently married women age 15-49 who have been married only once)\n",
       "SG.VAW.IPVE.M10.ZS         Women whose first experience of spousal physical or sexual violence was within ten years of marriage  (% of currently married women age 15-49 who have been married only once)\n",
       "SG.VAW.IPVE.M2.ZS          Women whose first experience of spousal physical or sexual violence was within two years of marriage  (% of currently married women age 15-49 who have been married only once)\n",
       "SG.VAW.IPVE.M5.ZS          Women whose first experience of spousal physical or sexual violence was within five years of marriage  (% of currently married women age 15-49 who have been married only once)\n",
       "SG.VAW.IPVE.NV.ZS          Women who have not experienced spousal physical or sexual violence (% of currently married women age 15-49 who have been married only once)\n",
       "SG.VAW.IPVE.ZS             Proportion of women who have ever experienced intimate partner violence (% of ever-married women ages 15-49)\n",
       "SG.VAW.NEGL.Q1.ZS          Women who believe a husband is justified in beating his wife when she neglects the children (%): Q1 (lowest)\n",
       "SG.VAW.NEGL.Q2.ZS          Women who believe a husband is justified in beating his wife when she neglects the children (%): Q2\n",
       "SG.VAW.NEGL.Q3.ZS          Women who believe a husband is justified in beating his wife when she neglects the children (%): Q3\n",
       "SG.VAW.NEGL.Q4.ZS          Women who believe a husband is justified in beating his wife when she neglects the children (%): Q4\n",
       "SG.VAW.NEGL.Q5.ZS          Women who believe a husband is justified in beating his wife when she neglects the children (%): Q5 (highest)\n",
       "SG.VAW.NEGL.ZS             Women who believe a husband is justified in beating his wife when she neglects the children (%)\n",
       "SG.VAW.REAS.Q1.ZS          Women who believe a husband is justified in beating his wife (any of five reasons) (%): Q1 (lowest)\n",
       "SG.VAW.REAS.Q2.ZS          Women who believe a husband is justified in beating his wife (any of five reasons) (%): Q2\n",
       "SG.VAW.REAS.Q3.ZS          Women who believe a husband is justified in beating his wife (any of five reasons) (%): Q3\n",
       "SG.VAW.REAS.Q4.ZS          Women who believe a husband is justified in beating his wife (any of five reasons) (%): Q4\n",
       "SG.VAW.REAS.Q5.ZS          Women who believe a husband is justified in beating his wife (any of five reasons) (%): Q5 (highest)\n",
       "SG.VAW.REAS.ZS             Women who believe a husband is justified in beating his wife (any of five reasons) (%)\n",
       "SG.VAW.REFU.Q1.ZS          Women who believe a husband is justified in beating his wife when she refuses sex with him (%): Q1 (lowest)\n",
       "SG.VAW.REFU.Q2.ZS          Women who believe a husband is justified in beating his wife when she refuses sex with him (%): Q2\n",
       "SG.VAW.REFU.Q3.ZS          Women who believe a husband is justified in beating his wife when she refuses sex with him (%): Q3\n",
       "SG.VAW.REFU.Q4.ZS          Women who believe a husband is justified in beating his wife when she refuses sex with him (%): Q4\n",
       "SG.VAW.REFU.Q5.ZS          Women who believe a husband is justified in beating his wife when she refuses sex with him (%): Q5 (highest)\n",
       "SG.VAW.REFU.ZS             Women who believe a husband is justified in beating his wife when she refuses sex with him (%)\n",
       "SG.VAW.SX15.ZS             Women who experienced first sexual violence before age 15 (% of women ages 15-49)\n",
       "SG.VAW.SX18.ZS             Women who experienced first sexual violence before age 18 (% of women ages 15-49)\n",
       "SG.VAW.SX22.ZS             Women who experienced first sexual violence before age 22 (% of women ages 15-49)\n",
       "SH.ALC.PCAP.FE.LI          Total alcohol consumption per capita, female (liters of pure alcohol, projected estimates, female 15+ years of age)\n",
       "SH.ALC.PCAP.LI             Total alcohol consumption per capita (liters of pure alcohol, projected estimates, 15+ years of age)\n",
       "SH.ALC.PCAP.MA.LI          Total alcohol consumption per capita, male (liters of pure alcohol, projected estimates, male 15+ years of age)\n",
       "SH.ANM.ALLW.ZS             Prevalence of anemia among women of reproductive age (% of women ages 15-49)\n",
       "SH.ANM.NPRG.ZS             Prevalence of anemia among non-pregnant women (% of women ages 15-49)\n",
       "SH.CON.AIDS.FE.ZS          Condom use at last high-risk sex, adult female (% ages 15-49)\n",
       "SH.CON.AIDS.MA.ZS          Condom use at last high-risk sex, adult male (% ages 15-49)\n",
       "SH.DTH.COMM.0004.FE.ZS     Cause of death, by communicable diseases and maternal, prenatal and nutrition conditions, ages 0-4, female (% of female population ages 0-4)\n",
       "SH.DTH.COMM.0004.MA.ZS     Cause of death, by communicable diseases and maternal, prenatal and nutrition conditions, ages 0-4, male (% of male population ages 0-4)\n",
       "SH.DTH.COMM.0004.ZS        Cause of death, by communicable diseases and maternal, prenatal and nutrition conditions, ages 0-4 (% of population ages 0-4)\n",
       "SH.DTH.COMM.0514.FE.ZS     Cause of death, by communicable diseases and maternal, prenatal and nutrition conditions, ages 5-14, female (% of female population ages 5-14)\n",
       "SH.DTH.COMM.0514.MA.ZS     Cause of death, by communicable diseases and maternal, prenatal and nutrition conditions, ages 5-14, male (% of male population ages 5-14)\n",
       "SH.DTH.COMM.0514.ZS        Cause of death, by communicable diseases and maternal, prenatal and nutrition conditions, ages 5-14 (% of population ages 5-14)\n",
       "SH.DTH.COMM.1559.FE.ZS     Cause of death, by communicable diseases and maternal, prenatal and nutrition conditions, ages 15-59, female (% of female population ages 15-59)\n",
       "SH.DTH.COMM.1559.MA.ZS     Cause of death, by communicable diseases and maternal, prenatal and nutrition conditions, ages 15-59, male (% of male population ages 15-59)\n",
       "SH.DTH.COMM.1559.ZS        Cause of death, by communicable diseases and maternal, prenatal and nutrition conditions, ages 15-59 (% of population ages 15-59)\n",
       "SH.DTH.COMM.60UP.FE.ZS     Cause of death, by communicable diseases and maternal, prenatal and nutrition conditions, ages 60+, female (% of female population ages 60+)\n",
       "SH.DTH.COMM.60UP.MA.ZS     Cause of death, by communicable diseases and maternal, prenatal and nutrition conditions, ages 60+, male (% of male population ages 60+)\n",
       "SH.DTH.COMM.60UP.ZS        Cause of death, by communicable diseases and maternal, prenatal and nutrition conditions, ages 60+ (% of population ages 60+)\n",
       "SH.DTH.COMM.FE.ZS          Cause of death, by communicable diseases and maternal, prenatal and nutrition conditions, female (% of female population)\n",
       "SH.DTH.COMM.MA.ZS          Cause of death, by communicable diseases and maternal, prenatal and nutrition conditions, male (% of male population)\n",
       "SH.DTH.COMM.ZS             Cause of death, by communicable diseases and maternal, prenatal and nutrition conditions (% of total)\n",
       "SH.DTH.IMRT                Number of infant deaths\n",
       "SH.DTH.IMRT.FE             Number of infant deaths, female\n",
       "SH.DTH.IMRT.MA             Number of infant deaths, male\n",
       "SH.DTH.INJR.0004.FE.ZS     Cause of death, by injury, ages 0-4, female (% of female population ages 0-4)\n",
       "SH.DTH.INJR.0004.MA.ZS     Cause of death, by injury, ages 0-4, male (% of male population ages 0-4)\n",
       "SH.DTH.INJR.0004.ZS        Cause of death, by injury, ages 0-4 (% of population ages 0-4)\n",
       "SH.DTH.INJR.0514.FE.ZS     Cause of death, by injury, ages 5-14, female (% of female population ages 5-14)\n",
       "SH.DTH.INJR.0514.MA.ZS     Cause of death, by injury, ages 5-14, male (% of male population ages 5-14)\n",
       "SH.DTH.INJR.0514.ZS        Cause of death, by injury, ages 5-14 (% of population ages 5-14)\n",
       "SH.DTH.INJR.1559.FE.ZS     Cause of death, by injury, ages 15-59, female (% of female population ages 15-59)\n",
       "SH.DTH.INJR.1559.MA.ZS     Cause of death, by injury, ages 15-59, male (% of male population ages 15-59)\n",
       "SH.DTH.INJR.1559.ZS        Cause of death, by injury, ages 15-59 (% of population ages 15-59)\n",
       "SH.DTH.INJR.60UP.FE.ZS     Cause of death, by injury, ages 60+, female (% of female population ages 60+)\n",
       "SH.DTH.INJR.60UP.MA.ZS     Cause of death, by injury, ages 60+, male (% of male population ages 60+)\n",
       "SH.DTH.INJR.60UP.ZS        Cause of death, by injury, ages 60+ (% of population ages 60+)\n",
       "SH.DTH.INJR.FE.ZS          Cause of death, by injury, female (% of female population)\n",
       "SH.DTH.INJR.MA.ZS          Cause of death, by injury, male (% of male population)\n",
       "SH.DTH.INJR.ZS             Cause of death, by injury (% of total)\n",
       "SH.DTH.MORT.FE             Number of under-five deaths, female\n",
       "SH.DTH.MORT.MA             Number of under-five deaths, male\n",
       "SH.DTH.NCOM.0004.FE.ZS     Cause of death, by non-communicable diseases, ages 0-4, female (% of female population ages 0-4)\n",
       "SH.DTH.NCOM.0004.MA.ZS     Cause of death, by non-communicable diseases, ages 0-4, male (% of male population ages 0-4)\n",
       "SH.DTH.NCOM.0004.ZS        Cause of death, by non-communicable diseases, ages 0-4 (% of population ages 0-4)\n",
       "SH.DTH.NCOM.0514.FE.ZS     Cause of death, by non-communicable diseases, ages 5-14, female (% of female population ages 5-14)\n",
       "SH.DTH.NCOM.0514.MA.ZS     Cause of death, by non-communicable diseases, ages 5-14, male (% of male population ages 5-14)\n",
       "SH.DTH.NCOM.0514.ZS        Cause of death, by non-communicable diseases, ages 5-14 (% of population ages 5-14)\n",
       "SH.DTH.NCOM.1559.FE.ZS     Cause of death, by non-communicable diseases, ages 15-59, female (% of female population ages 15-59)\n",
       "SH.DTH.NCOM.1559.MA.ZS     Cause of death, by non-communicable diseases, ages 15-59, male (% of male population ages 15-59)\n",
       "SH.DTH.NCOM.1559.ZS        Cause of death, by non-communicable diseases, ages 15-59 (% of population ages 15-59)\n",
       "SH.DTH.NCOM.60UP.FE.ZS     Cause of death, by non-communicable diseases, ages 60+, female (% of female population ages 60+)\n",
       "SH.DTH.NCOM.60UP.MA.ZS     Cause of death, by non-communicable diseases, ages 60+, male (% of male population ages 60+)\n",
       "SH.DTH.NCOM.60UP.ZS        Cause of death, by non-communicable diseases, ages 60+ (% of population ages 60+)\n",
       "SH.DTH.NCOM.FE.ZS          Cause of death, by non-communicable diseases, female (% of female population)\n",
       "SH.DTH.NCOM.MA.ZS          Cause of death, by non-communicable diseases, male (% of male population)\n",
       "SH.DTH.NCOM.ZS             Cause of death, by non-communicable diseases (% of total)\n",
       "SH.DTH.STLB                Number of stillbirths\n",
       "SH.DYN.AIDS.FE.ZS          Women's share of population ages 15+ living with HIV (%)\n",
       "SH.DYN.MORT                Mortality rate, under-5 (per 1,000 live births)\n",
       "SH.DYN.MORT.FE             Mortality rate, under-5, female (per 1,000 live births)\n",
       "SH.DYN.MORT.MA             Mortality rate, under-5, male (per 1,000 live births)\n",
       "SH.DYN.NCOM.FE.ZS          Mortality from CVD, cancer, diabetes or CRD between exact ages 30 and 70, female (%)\n",
       "SH.DYN.NCOM.MA.ZS          Mortality from CVD, cancer, diabetes or CRD between exact ages 30 and 70, male (%)\n",
       "SH.DYN.NCOM.ZS             Mortality from CVD, cancer, diabetes or CRD between exact ages 30 and 70 (%)\n",
       "SH.DYN.STLB                Stillbirth rate (per 1,000 total births)\n",
       "SH.FPL.KNMD.AL.FE.ZS       Knowledge of any modern method of contraception (% of all women ages 15-49)\n",
       "SH.FPL.KNMD.AL.MA.ZS       Knowledge of any modern method of contraception  (% of all men)\n",
       "SH.FPL.KNMD.FE.ZS          Knowledge of any modern method of contraception (% of married women ages 15-49)\n",
       "SH.FPL.KNMD.MA.ZS          Knowledge of any modern method of contraception  (% of married men)\n",
       "SH.FPL.KNOW.AL.FE.ZS       Knowledge of any method of contraception (% of all women ages 15-49)\n",
       "SH.FPL.KNOW.AL.MA.ZS       Knowledge of any method of contraception (% of all men)\n",
       "SH.FPL.KNOW.FE.ZS          Knowledge of any method of contraception (% of married women ages 15-49)\n",
       "SH.FPL.KNOW.MA.ZS          Knowledge of any method of contraception (% of married men)\n",
       "SH.FPL.MSTM.ZS             Fertility planning status: mistimed pregnancy (% of births)\n",
       "SH.FPL.SATI.ZS             Demand for family planning satisfied by any methods (% of married women with demand for family planning)\n",
       "SH.FPL.SATM.ZS             Demand for family planning satisfied by modern methods (% of married women with demand for family planning)\n",
       "SH.FPL.UWTD.ZS             Fertility planning status: unwanted pregnancy (% of births)\n",
       "SH.FPL.WNTD.ZS             Fertility planning status: planned pregnancy (% of births)\n",
       "SH.HIV.1524.FE.ZS          Prevalence of HIV, female (% ages 15-24)\n",
       "SH.HIV.1524.KW.FE.ZS       Comprehensive correct knowledge of HIV/AIDS, ages 15-24, female (2 prevent ways and reject 3 misconceptions)\n",
       "SH.HIV.1524.KW.MA.ZS       Comprehensive correct knowledge of HIV/AIDS, ages 15-24, male (2 prevent ways and reject 3 misconceptions)\n",
       "SH.HIV.1524.MA.ZS          Prevalence of HIV, male (% ages 15-24)\n",
       "SH.HIV.ARTC.FE.ZS          Access to anti-retroviral drugs, female (%)\n",
       "SH.HIV.ARTC.MA.ZS          Access to anti-retroviral drugs, male (%)\n",
       "SH.HIV.INCD.FE.P3          Incidence of HIV, ages 15-49, female (per 1,000 uninfected female population ages 15-49)\n",
       "SH.HIV.INCD.MA.P3          Incidence of HIV, ages 15-49, male (per 1,000 uninfected male population ages 15-49)\n",
       "SH.HIV.INCD.YG.FE.P3       Incidence of HIV, ages 15-24, female (per 1,000 uninfected female population ages 15-24)\n",
       "SH.HIV.INCD.YG.MA.P3       Incidence of HIV, ages 15-24, male (per 1,000 uninfected male population ages 15-24)\n",
       "SH.HIV.INCD.YG.P3          Incidence of HIV, ages 15-24 (per 1,000 uninfected population ages 15-24)\n",
       "SH.HIV.INCD.ZS             Incidence of HIV, ages 15-49 (per 1,000 uninfected population ages 15-49)\n",
       "SH.HIV.KNOW.FE.ZS          Comprehensive correct knowledge of HIV/AIDS, ages 15-49, female (2 prevent ways and reject 3 misconceptions)\n",
       "SH.HIV.KNOW.MA.ZS          Comprehensive correct knowledge of HIV/AIDS, ages 15-49, male (2 prevent ways and reject 3 misconceptions)\n",
       "SH.HIV.PMTC.ZS             Antiretroviral therapy coverage for PMTCT (% of pregnant women living with HIV)\n",
       "SH.IMM.IDPT                Immunization, DPT (% of children ages 12-23 months)\n",
       "SH.IMM.MEAS                Immunization, measles (% of children ages 12-23 months)\n",
       "SH.MLR.IPTP.ZS             Intermittent preventive treatment (IPT) of malaria in pregnancy (% of pregnant women)\n",
       "SH.MMR.DTHS                Number of maternal deaths\n",
       "SH.MMR.LEVE                Length of paid maternity leave (calendar days)\n",
       "SH.MMR.LEVE.AL             Paid leave of at least 14 weeks available to mothers (1=yes; 0=no)\n",
       "SH.MMR.LEVE.GT             The government administers 100% of maternity leave benefits (1=yes; 0=no)\n",
       "SH.MMR.RISK                Lifetime risk of maternal death (1 in: rate varies by country)\n",
       "SH.MMR.RISK.ZS             Lifetime risk of maternal death (%)\n",
       "SH.PAR.LEVE                Length of paid shared parental leave (calendar days)\n",
       "SH.PAR.LEVE.AL             There is paid parental leave (1=yes; 0=no)\n",
       "SH.PAR.LEVE.FE             Length of paid parental leave for mother (calendar days)\n",
       "SH.PAR.LEVE.MA             Length of paid parental leave for father (calendar days)\n",
       "SH.PRG.ANEM                Prevalence of anemia among pregnant women (%)\n",
       "SH.PRG.SYPH.ZS             Prevalence of syphilis (% of women attending antenatal care)\n",
       "SH.PRV.SMOK                Prevalence of current tobacco use (% of adults)\n",
       "SH.PRV.SMOK.FE             Prevalence of current tobacco use, females (% of female adults)\n",
       "SH.PRV.SMOK.MA             Prevalence of current tobacco use, males (% of male adults)\n",
       "SH.PTR.LEVE                Length of paid paternity leave (calendar days)\n",
       "SH.PTR.LEVE.AL             Paid leave is available to fathers (1=yes; 0=no)\n",
       "SH.STA.AIRP.FE.P5          Mortality rate attributed to household and ambient air pollution, age-standardized, female (per 100,000 female population)\n",
       "SH.STA.AIRP.MA.P5          Mortality rate attributed to household and ambient air pollution, age-standardized, male (per 100,000 male population)\n",
       "SH.STA.AIRP.P5             Mortality rate attributed to household and ambient air pollution, age-standardized (per 100,000 population)\n",
       "SH.STA.ANV4.ZS             Pregnant women receiving prenatal care of at least four visits (% of pregnant women)\n",
       "SH.STA.ANVC.ZS             Pregnant women receiving prenatal care (%)\n",
       "SH.STA.BRTC.ZS             Births attended by skilled health staff (% of total)\n",
       "SH.STA.FGMO.NO.FE.ZS       Women who believe that female genital mutilation should not be continued (% of women ages 15-49 who have heard about FGM)\n",
       "SH.STA.FGMO.NO.MA.ZS       Men who believe that female genital mutilation should not be continued (% of men who have heard about FGM)\n",
       "SH.STA.FGMO.RE.FE.ZS       Women who believe religion requires female genital mutilation (% of women ages 15-49 who have heard about FGM)\n",
       "SH.STA.FGMO.RE.MA.ZS       Men who believe religion requires female genital mutilation  (% of men who have heard about FGM)\n",
       "SH.STA.FGMS.Q1.ZS          Female genital mutilation prevalence (%): Q1 (lowest)\n",
       "SH.STA.FGMS.Q2.ZS          Female genital mutilation prevalence (%): Q2\n",
       "SH.STA.FGMS.Q3.ZS          Female genital mutilation prevalence (%): Q3\n",
       "SH.STA.FGMS.Q4.ZS          Female genital mutilation prevalence (%): Q4\n",
       "SH.STA.FGMS.Q5.ZS          Female genital mutilation prevalence (%): Q5 (highest)\n",
       "SH.STA.FGMS.ZS             Female genital mutilation prevalence (%)\n",
       "SH.STA.MALN.FE.ZS          Prevalence of underweight, weight for age, female (% of children under 5)\n",
       "SH.STA.MALN.MA.ZS          Prevalence of underweight, weight for age, male (% of children under 5)\n",
       "SH.STA.MALN.ZS             Prevalence of underweight, weight for age (% of children under 5)\n",
       "SH.STA.MMRT                Maternal mortality ratio (modeled estimate, per 100,000 live births)\n",
       "SH.STA.MMRT.NE             Maternal mortality ratio (national estimate, per 100,000 live births)\n",
       "SH.STA.OB18.FE.ZS          Prevalence of obesity, female (% of female population ages 18+)\n",
       "SH.STA.OB18.MA.ZS          Prevalence of obesity, male (% of male population ages 18+)\n",
       "SH.STA.ODFC.RU.ZS          People practicing open defecation, rural (% of rural population)\n",
       "SH.STA.ODFC.UR.ZS          People practicing open defecation, urban (% of urban population)\n",
       "SH.STA.ODFC.ZS             People practicing open defecation (% of population)\n",
       "SH.STA.OWAD.FE.ZS          Prevalence of overweight, female (% of female adults)\n",
       "SH.STA.OWAD.MA.ZS          Prevalence of overweight, male (% of male adults)\n",
       "SH.STA.OWAD.ZS             Prevalence of overweight (% of adults)\n",
       "SH.STA.OWGH.FE.ZS          Prevalence of overweight, weight for height, female (% of children under 5)\n",
       "SH.STA.OWGH.MA.ZS          Prevalence of overweight, weight for height, male (% of children under 5)\n",
       "SH.STA.OWGH.ZS             Prevalence of overweight, weight for height (% of children under 5)\n",
       "SH.STA.POIS.P5             Mortality rate attributed to unintentional poisoning (per 100,000 population)\n",
       "SH.STA.POIS.P5.FE          Mortality rate attributed to unintentional poisoning, female (per 100,000 female population)\n",
       "SH.STA.POIS.P5.MA          Mortality rate attributed to unintentional poisoning, male (per 100,000 male population)\n",
       "SH.STA.STNT.FE.ZS          Prevalence of stunting, height for age, female (% of children under 5)\n",
       "SH.STA.STNT.MA.ZS          Prevalence of stunting, height for age, male (% of children under 5)\n",
       "SH.STA.STNT.ZS             Prevalence of stunting, height for age (% of children under 5)\n",
       "SH.STA.SUIC.FE.P5          Suicide mortality rate, female (per 100,000 female population)\n",
       "SH.STA.SUIC.MA.P5          Suicide mortality rate, male (per 100,000 male population)\n",
       "SH.STA.SUIC.P5             Suicide mortality rate (per 100,000 population)\n",
       "SH.STA.TRAF.FE.P5          Mortality caused by road traffic injury, female (per 100,000 female population)\n",
       "SH.STA.TRAF.MA.P5          Mortality caused by road traffic injury, male (per 100,000 male population)\n",
       "SH.STA.TRAF.P5             Mortality caused by road traffic injury (per 100,000 population)\n",
       "SH.STA.WASH.FE.P5          Mortality rate attributed to unsafe water, unsafe sanitation and lack of hygiene, female (per 100,000 female population)\n",
       "SH.STA.WASH.MA.P5          Mortality rate attributed to unsafe water, unsafe sanitation and lack of hygiene, male (per 100,000 male population)\n",
       "SH.STA.WASH.P5             Mortality rate attributed to unsafe water, unsafe sanitation and lack of hygiene (per 100,000 population)\n",
       "SH.STA.WAST.FE.ZS          Prevalence of wasting, weight for height, female (% of children under 5)\n",
       "SH.STA.WAST.MA.ZS          Prevalence of wasting, weight for height, male (% of children under 5)\n",
       "SH.STA.WAST.ZS             Prevalence of wasting, weight for height (% of children under 5)\n",
       "SH.SVR.WAST.FE.ZS          Prevalence of severe wasting, weight for height, female (% of children under 5)\n",
       "SH.SVR.WAST.MA.ZS          Prevalence of severe wasting, weight for height, male (% of children under 5)\n",
       "SH.SVR.WAST.ZS             Prevalence of severe wasting, weight for height (% of children under 5)\n",
       "SI.POV.DDAY                Poverty headcount ratio at $2.15 a day (2017 PPP) (% of population)\n",
       "SI.POV.GINI                Gini index\n",
       "SI.POV.NAHC                Poverty headcount ratio at national poverty lines (% of population)\n",
       "SL.AGR.EMPL.FE.ZS          Employment in agriculture, female (% of female employment) (modeled ILO estimate)\n",
       "SL.AGR.EMPL.MA.ZS          Employment in agriculture, male (% of male employment) (modeled ILO estimate)\n",
       "SL.AGR.EMPL.ZS             Employment in agriculture (% of total employment) (modeled ILO estimate)\n",
       "SL.EMP.1524.SP.FE.NE.ZS    Employment to population ratio, ages 15-24, female (%) (national estimate)\n",
       "SL.EMP.1524.SP.FE.ZS       Employment to population ratio, ages 15-24, female (%) (modeled ILO estimate)\n",
       "SL.EMP.1524.SP.MA.NE.ZS    Employment to population ratio, ages 15-24, male (%) (national estimate)\n",
       "SL.EMP.1524.SP.MA.ZS       Employment to population ratio, ages 15-24, male (%) (modeled ILO estimate)\n",
       "SL.EMP.1524.SP.NE.ZS       Employment to population ratio, ages 15-24, total (%) (national estimate)\n",
       "SL.EMP.1524.SP.ZS          Employment to population ratio, ages 15-24, total (%) (modeled ILO estimate)\n",
       "SL.EMP.MPYR.FE.ZS          Employers, female (% of female employment) (modeled ILO estimate)\n",
       "SL.EMP.MPYR.MA.ZS          Employers, male (% of male employment) (modeled ILO estimate)\n",
       "SL.EMP.MPYR.ZS             Employers, total (% of total employment) (modeled ILO estimate)\n",
       "SL.EMP.SELF.FE.ZS          Self-employed, female (% of female employment) (modeled ILO estimate)\n",
       "SL.EMP.SELF.MA.ZS          Self-employed, male (% of male employment) (modeled ILO estimate)\n",
       "SL.EMP.SELF.ZS             Self-employed, total (% of total employment) (modeled ILO estimate)\n",
       "SL.EMP.SMGT.FE.ZS          Female share of employment in senior and middle management (%)\n",
       "SL.EMP.TOTL.SP.FE.NE.ZS    Employment to population ratio, 15+, female (%) (national estimate)\n",
       "SL.EMP.TOTL.SP.FE.ZS       Employment to population ratio, 15+, female (%) (modeled ILO estimate)\n",
       "SL.EMP.TOTL.SP.MA.NE.ZS    Employment to population ratio, 15+, male (%) (national estimate)\n",
       "SL.EMP.TOTL.SP.MA.ZS       Employment to population ratio, 15+, male (%) (modeled ILO estimate)\n",
       "SL.EMP.TOTL.SP.NE.ZS       Employment to population ratio, 15+, total (%) (national estimate)\n",
       "SL.EMP.TOTL.SP.ZS          Employment to population ratio, 15+, total (%) (modeled ILO estimate)\n",
       "SL.EMP.UNDR.FE.ZS          Time-related underemployment, female (% of employment)\n",
       "SL.EMP.UNDR.MA.ZS          Time-related underemployment, male (% of employment)\n",
       "SL.EMP.VULN.FE.ZS          Vulnerable employment, female (% of female employment) (modeled ILO estimate)\n",
       "SL.EMP.VULN.MA.ZS          Vulnerable employment, male (% of male employment) (modeled ILO estimate)\n",
       "SL.EMP.VULN.ZS             Vulnerable employment, total (% of total employment) (modeled ILO estimate)\n",
       "SL.EMP.WORK.FE.ZS          Wage and salaried workers, female (% of female employment) (modeled ILO estimate)\n",
       "SL.EMP.WORK.MA.ZS          Wage and salaried workers, male (% of male employment) (modeled ILO estimate)\n",
       "SL.EMP.WORK.ZS             Wage and salaried workers, total (% of total employment) (modeled ILO estimate)\n",
       "SL.IND.EMPL.FE.ZS          Employment in industry, female (% of female employment) (modeled ILO estimate)\n",
       "SL.IND.EMPL.MA.ZS          Employment in industry, male (% of male employment) (modeled ILO estimate)\n",
       "SL.IND.EMPL.ZS             Employment in industry (% of total employment) (modeled ILO estimate)\n",
       "SL.ISV.IFRM.FE.ZS          Informal employment, female (% of total non-agricultural employment)\n",
       "SL.ISV.IFRM.MA.ZS          Informal employment, male (% of total non-agricultural employment)\n",
       "SL.SRV.EMPL.FE.ZS          Employment in services, female (% of female employment) (modeled ILO estimate)\n",
       "SL.SRV.EMPL.MA.ZS          Employment in services, male (% of male employment) (modeled ILO estimate)\n",
       "SL.SRV.EMPL.ZS             Employment in services (% of total employment) (modeled ILO estimate)\n",
       "SL.TLF.0714.FE.ZS          Children in employment, female (% of female children ages 7-14)\n",
       "SL.TLF.0714.MA.ZS          Children in employment, male (% of male children ages 7-14)\n",
       "SL.TLF.0714.ZS             Children in employment, total (% of children ages 7-14)\n",
       "SL.TLF.ACTI.1524.FE.NE.ZS  Labor force participation rate for ages 15-24, female (%) (national estimate)\n",
       "SL.TLF.ACTI.1524.FE.ZS     Labor force participation rate for ages 15-24, female (%) (modeled ILO estimate)\n",
       "SL.TLF.ACTI.1524.MA.NE.ZS  Labor force participation rate for ages 15-24, male (%) (national estimate)\n",
       "SL.TLF.ACTI.1524.MA.ZS     Labor force participation rate for ages 15-24, male (%) (modeled ILO estimate)\n",
       "SL.TLF.ACTI.1524.NE.ZS     Labor force participation rate for ages 15-24, total (%) (national estimate)\n",
       "SL.TLF.ACTI.1524.ZS        Labor force participation rate for ages 15-24, total (%) (modeled ILO estimate)\n",
       "SL.TLF.ACTI.FE.ZS          Labor force participation rate, female (% of female population ages 15-64) (modeled ILO estimate)\n",
       "SL.TLF.ACTI.MA.ZS          Labor force participation rate, male (% of male population ages 15-64) (modeled ILO estimate)\n",
       "SL.TLF.ACTI.ZS             Labor force participation rate, total (% of total population ages 15-64) (modeled ILO estimate)\n",
       "SL.TLF.ADVN.FE.ZS          Labor force with advanced education, female (% of female working-age population with advanced education)\n",
       "SL.TLF.ADVN.MA.ZS          Labor force with advanced education, male (% of male working-age population with advanced education)\n",
       "SL.TLF.ADVN.ZS             Labor force with advanced education (% of total working-age population with advanced education)\n",
       "SL.TLF.BASC.FE.ZS          Labor force with basic education, female (% of female working-age population with basic education)\n",
       "SL.TLF.BASC.MA.ZS          Labor force with basic education, male (% of male working-age population with basic education)\n",
       "SL.TLF.BASC.ZS             Labor force with basic education (% of total working-age population with basic education)\n",
       "SL.TLF.CACT.FE.NE.ZS       Labor force participation rate, female (% of female population ages 15+) (national estimate)\n",
       "SL.TLF.CACT.FE.ZS          Labor force participation rate, female (% of female population ages 15+) (modeled ILO estimate)\n",
       "SL.TLF.CACT.FM.NE.ZS       Ratio of female to male labor force participation rate (%) (national estimate)\n",
       "SL.TLF.CACT.FM.ZS          Ratio of female to male labor force participation rate (%) (modeled ILO estimate)\n",
       "SL.TLF.CACT.MA.NE.ZS       Labor force participation rate, male (% of male population ages 15+) (national estimate)\n",
       "SL.TLF.CACT.MA.ZS          Labor force participation rate, male (% of male population ages 15+) (modeled ILO estimate)\n",
       "SL.TLF.CACT.NE.ZS          Labor force participation rate, total (% of total population ages 15+) (national estimate)\n",
       "SL.TLF.CACT.ZS             Labor force participation rate, total (% of total population ages 15+) (modeled ILO estimate)\n",
       "SL.TLF.INTM.FE.ZS          Labor force with intermediate education, female (% of female working-age population with intermediate education)\n",
       "SL.TLF.INTM.MA.ZS          Labor force with intermediate education, male (% of male working-age population with intermediate education)\n",
       "SL.TLF.INTM.ZS             Labor force with intermediate education (% of total working-age population with intermediate education)\n",
       "SL.TLF.PART.FE.ZS          Part time employment, female (% of total female employment)\n",
       "SL.TLF.PART.MA.ZS          Part time employment, male (% of total male employment)\n",
       "SL.TLF.PART.ZS             Part time employment, total (% of total employment)\n",
       "SL.TLF.TOTL.FE.IN          Labor force, female\n",
       "SL.TLF.TOTL.FE.ZS          Labor force, female (% of total labor force)\n",
       "SL.TLF.TOTL.IN             Labor force, total\n",
       "SL.TLF.TOTL.MA.IN          Labor force, male\n",
       "SL.UEM.1524.FE.NE.ZS       Unemployment, youth female (% of female labor force ages 15-24) (national estimate)\n",
       "SL.UEM.1524.FE.ZS          Unemployment, youth female (% of female labor force ages 15-24) (modeled ILO estimate)\n",
       "SL.UEM.1524.FM.NE.ZS       Ratio of female to male youth unemployment rate (%) (national estimate)\n",
       "SL.UEM.1524.FM.ZS          Ratio of female to male youth unemployment rate (% ages 15-24) (modeled ILO estimate)\n",
       "SL.UEM.1524.MA.NE.ZS       Unemployment, youth male (% of male labor force ages 15-24) (national estimate)\n",
       "SL.UEM.1524.MA.ZS          Unemployment, youth male (% of male labor force ages 15-24) (modeled ILO estimate)\n",
       "SL.UEM.1524.NE.ZS          Unemployment, youth total (% of total labor force ages 15-24) (national estimate)\n",
       "SL.UEM.1524.ZS             Unemployment, youth total (% of total labor force ages 15-24) (modeled ILO estimate)\n",
       "SL.UEM.ADVN.FE.ZS          Unemployment with advanced education, female (% of female labor force with advanced education)\n",
       "SL.UEM.ADVN.MA.ZS          Unemployment with advanced education, male (% of male labor force with advanced education)\n",
       "SL.UEM.ADVN.ZS             Unemployment with advanced education (% of total labor force with advanced education)\n",
       "SL.UEM.BASC.FE.ZS          Unemployment with basic education, female (% of female labor force with basic education)\n",
       "SL.UEM.BASC.MA.ZS          Unemployment with basic education, male (% of male labor force with basic education)\n",
       "SL.UEM.BASC.ZS             Unemployment with basic education (% of total labor force with basic education)\n",
       "SL.UEM.INTM.FE.ZS          Unemployment with intermediate education, female (% of female labor force with intermediate education)\n",
       "SL.UEM.INTM.MA.ZS          Unemployment with intermediate education, male (% of male labor force with intermediate education)\n",
       "SL.UEM.INTM.ZS             Unemployment with intermediate education (% of total labor force with intermediate education)\n",
       "SL.UEM.NEET.FE.ZS          Share of youth not in education, employment or training, female (% of female youth population)\n",
       "SL.UEM.NEET.MA.ZS          Share of youth not in education, employment or training, male (% of male youth population)\n",
       "SL.UEM.NEET.ZS             Share of youth not in education, employment or training, total (% of youth population)\n",
       "SL.UEM.TOTL.FE.NE.ZS       Unemployment, female (% of female labor force) (national estimate)\n",
       "SL.UEM.TOTL.FE.ZS          Unemployment, female (% of female labor force) (modeled ILO estimate)\n",
       "SL.UEM.TOTL.MA.NE.ZS       Unemployment, male (% of male labor force) (national estimate)\n",
       "SL.UEM.TOTL.MA.ZS          Unemployment, male (% of male labor force) (modeled ILO estimate)\n",
       "SL.UEM.TOTL.NE.ZS          Unemployment, total (% of total labor force) (national estimate)\n",
       "SL.UEM.TOTL.ZS             Unemployment, total (% of total labor force) (modeled ILO estimate)\n",
       "SP.ADO.TFRT                Adolescent fertility rate (births per 1,000 women ages 15-19)\n",
       "SP.DYN.AMRT.FE             Mortality rate, adult, female (per 1,000 female adults)\n",
       "SP.DYN.AMRT.MA             Mortality rate, adult, male (per 1,000 male adults)\n",
       "SP.DYN.CBRT.IN             Birth rate, crude (per 1,000 people)\n",
       "SP.DYN.CDRT.IN             Death rate, crude (per 1,000 people)\n",
       "SP.DYN.CONM.ZS             Contraceptive prevalence, any modern method (% of married women ages 15-49)\n",
       "SP.DYN.CONU.ZS             Contraceptive prevalence, any method (% of married women ages 15-49)\n",
       "SP.DYN.IMRT.FE.IN          Mortality rate, infant, female (per 1,000 live births)\n",
       "SP.DYN.IMRT.IN             Mortality rate, infant (per 1,000 live births)\n",
       "SP.DYN.IMRT.MA.IN          Mortality rate, infant, male (per 1,000 live births)\n",
       "SP.DYN.LE00.FE.IN          Life expectancy at birth, female (years)\n",
       "SP.DYN.LE00.IN             Life expectancy at birth, total (years)\n",
       "SP.DYN.LE00.MA.IN          Life expectancy at birth, male (years)\n",
       "SP.DYN.LE60.FE.IN          Life expectancy at age 60, female (years)\n",
       "SP.DYN.LE60.MA.IN          Life expectancy at age 60, male (years)\n",
       "SP.DYN.SMAM.FE             Age at first marriage, female\n",
       "SP.DYN.SMAM.MA             Age at first marriage, male\n",
       "SP.DYN.TFRT.IN             Fertility rate, total (births per woman)\n",
       "SP.DYN.TO65.FE.ZS          Survival to age 65, female (% of cohort)\n",
       "SP.DYN.TO65.MA.ZS          Survival to age 65, male (% of cohort)\n",
       "SP.DYN.WFRT                Wanted fertility rate (births per woman)\n",
       "SP.HOU.FEMA.ZS             Female headed households (% of households with a female head)\n",
       "SP.M15.2024.FE.ZS          Women who were first married by age 15 (% of women ages 20-24)\n",
       "SP.M18.2024.FE.ZS          Women who were first married by age 18 (% of women ages 20-24)\n",
       "SP.MTR.1519.ZS             Teenage mothers (% of women ages 15-19 who have had children or are currently pregnant)\n",
       "SP.POP.0004.FE             Population ages 00-04, female\n",
       "SP.POP.0004.MA             Population ages 00-04, male\n",
       "SP.POP.0014.FE.IN          Population ages 0-14, female\n",
       "SP.POP.0014.MA.IN          Population ages 0-14, male\n",
       "SP.POP.0014.TO             Population ages 0-14, total\n",
       "SP.POP.0014.TO.ZS          Population ages 0-14 (% of total population)\n",
       "SP.POP.0509.FE             Population ages 05-09, female\n",
       "SP.POP.0509.MA             Population ages 05-09, male\n",
       "SP.POP.1014.FE             Population ages 10-14, female\n",
       "SP.POP.1014.MA             Population ages 10-14, male\n",
       "SP.POP.1519.FE             Population ages 15-19, female\n",
       "SP.POP.1519.MA             Population ages 15-19, male\n",
       "SP.POP.1564.FE.IN          Population ages 15-64, female\n",
       "SP.POP.1564.MA.IN          Population ages 15-64, male\n",
       "SP.POP.1564.TO             Population ages 15-64, total\n",
       "SP.POP.1564.TO.ZS          Population ages 15-64 (% of total population)\n",
       "SP.POP.2024.FE             Population ages 20-24, female\n",
       "SP.POP.2024.MA             Population ages 20-24, male\n",
       "SP.POP.2529.FE             Population ages 25-29, female\n",
       "SP.POP.2529.MA             Population ages 25-29, male\n",
       "SP.POP.3034.FE             Population ages 30-34, female\n",
       "SP.POP.3034.MA             Population ages 30-34, male\n",
       "SP.POP.3539.FE             Population ages 35-39, female\n",
       "SP.POP.3539.MA             Population ages 35-39, male\n",
       "SP.POP.4044.FE             Population ages 40-44, female\n",
       "SP.POP.4044.MA             Population ages 40-44, male\n",
       "SP.POP.4549.FE             Population ages 45-49, female\n",
       "SP.POP.4549.MA             Population ages 45-49, male\n",
       "SP.POP.5054.FE             Population ages 50-54, female\n",
       "SP.POP.5054.MA             Population ages 50-54, male\n",
       "SP.POP.5559.FE             Population ages 55-59, female\n",
       "SP.POP.5559.MA             Population ages 55-59, male\n",
       "SP.POP.6064.FE             Population ages 60-64, female\n",
       "SP.POP.6064.MA             Population ages 60-64, male\n",
       "SP.POP.6569.FE             Population ages 65-69, female\n",
       "SP.POP.6569.MA             Population ages 65-69, male\n",
       "SP.POP.65UP.FE.IN          Population ages 65 and above, female\n",
       "SP.POP.65UP.MA.IN          Population ages 65 and above, male\n",
       "SP.POP.65UP.TO             Population ages 65 and above, total\n",
       "SP.POP.65UP.TO.ZS          Population ages 65 and above (% of total population)\n",
       "SP.POP.7074.FE             Population ages 70-74, female\n",
       "SP.POP.7074.MA             Population ages 70-74, male\n",
       "SP.POP.7579.FE             Population ages 75-79, female\n",
       "SP.POP.7579.MA             Population ages 75-79, male\n",
       "SP.POP.80UP.FE             Population ages 80 and above, female\n",
       "SP.POP.80UP.MA             Population ages 80 and above, male\n",
       "SP.POP.AG00.FE.IN          Age population, age 00, female, interpolated\n",
       "SP.POP.AG00.MA.IN          Age population, age 00, male, interpolated\n",
       "SP.POP.AG01.FE.IN          Age population, age 01, female, interpolated\n",
       "SP.POP.AG01.MA.IN          Age population, age 01, male, interpolated\n",
       "SP.POP.AG02.FE.IN          Age population, age 02, female, interpolated\n",
       "SP.POP.AG02.MA.IN          Age population, age 02, male, interpolated\n",
       "SP.POP.AG03.FE.IN          Age population, age 03, female, interpolated\n",
       "SP.POP.AG03.MA.IN          Age population, age 03, male, interpolated\n",
       "SP.POP.AG04.FE.IN          Age population, age 04, female, interpolated\n",
       "SP.POP.AG04.MA.IN          Age population, age 04, male, interpolated\n",
       "SP.POP.AG05.FE.IN          Age population, age 05, female, interpolated\n",
       "SP.POP.AG05.MA.IN          Age population, age 05, male, interpolated\n",
       "SP.POP.BRTH.MF             Sex ratio at birth (male births per female births)\n",
       "SP.POP.DPND                Age dependency ratio (% of working-age population)\n",
       "SP.POP.TOTL                Population, total\n",
       "SP.POP.TOTL.FE.IN          Population, female\n",
       "SP.POP.TOTL.FE.ZS          Population, female (% of total population)\n",
       "SP.POP.TOTL.MA.IN          Population, male\n",
       "SP.REG.BRTH.FE.ZS          Completeness of birth registration, female (%)\n",
       "SP.REG.BRTH.MA.ZS          Completeness of birth registration, male (%)\n",
       "SP.REG.BRTH.ZS             Completeness of birth registration (%)\n",
       "SP.RUR.TOTL.FE.ZS          Rural population, female (% of total)\n",
       "SP.RUR.TOTL.MA.ZS          Rural population, male (% of total)\n",
       "SP.RUR.TOTL.ZS             Rural population (% of total population)\n",
       "SP.URB.TOTL.FE.ZS          Urban population, female (% of total)\n",
       "SP.URB.TOTL.IN.ZS          Urban population (% of total population)\n",
       "SP.URB.TOTL.MA.ZS          Urban population, male (% of total)\n",
       "SP.UWT.TFRT                Unmet need for contraception (% of married women ages 15-49)\n",
       "UIS.FEP.2.V                Percentage of students in lower secondary vocational education who are female (%)\n",
       "UIS.FEP.3.V                Percentage of students in upper secondary vocational education who are female (%)\n",
       "UIS.FEP.4.V                Percentage of students in post-secondary non-tertiary vocational education who are female (%)\n",
       "UIS.FGP.5T8.F400           Female share of graduates in Business, Administration and Law programmes, tertiary (%)\n",
       "UIS.FGP.5T8.F600           Female share of graduates in Information and Communication Technologies programmes, tertiary (%)\n",
       "UIS.FGP.5T8.FNON500600700  Female share of graduates in other fields than Science, Technology, Engineering and Mathematics programmes, tertiary (%)\n",
       "UIS.GTVP.2.V               Share of all students in lower secondary education enrolled in vocational programmes (%)\n",
       "UIS.GTVP.2.V.F             Share of female students in lower secondary education enrolled in vocational programmes (%)\n",
       "UIS.GTVP.2.V.M             Share of male students in lower secondary education enrolled in vocational programmes (%)\n",
       "UIS.GTVP.3.V               Share of all students in upper secondary education enrolled in vocational programmes (%)\n",
       "UIS.GTVP.3.V.F             Share of female students in upper secondary education enrolled in vocational programmes (%)\n",
       "UIS.GTVP.3.V.M             Share of male students in upper secondary education enrolled in vocational programmes (%)\n",
       "UIS.GTVP.4.V               Share of all students in post-secondary non-tertiary education enrolled in vocational programmes (%)\n",
       "UIS.GTVP.4.V.F             Share of female students in post-secondary non-tertiary education enrolled in vocational programmes (%)\n",
       "UIS.GTVP.4.V.M             Share of male students in post-secondary non-tertiary education enrolled in vocational programmes (%)\n",
       "UIS.LP.AG15T24             Youth illiterate population, 15-24 years, both sexes (number)\n",
       "UIS.LP.AG15T24.F           Youth illiterate population, 15-24 years, female (number)\n",
       "UIS.LP.AG15T24.M           Youth illiterate population, 15-24 years, male (number)\n",
       "UIS.LPP.AG15T24            Youth illiterate population, 15-24 years, % female\n",
       "UIS.ROFST.3.F.CP           Out-of-school rate for youth of upper secondary school age, female (%)\n",
       "UIS.ROFST.3.M.CP           Out-of-school rate for youth of upper secondary school age, male (%)\n",
       "VC.IHR.PSRC.FE.P5          Intentional homicides, female (per 100,000 female)\n",
       "VC.IHR.PSRC.MA.P5          Intentional homicides, male (per 100,000 male)\n",
       "VC.IHR.PSRC.P5             Intentional homicides (per 100,000 people)"
      ]
     },
     "execution_count": 11,
     "metadata": {},
     "output_type": "execute_result"
    }
   ],
   "source": [
    "#Getting Indicator for Gender Statistics \n",
    "wbdata.get_sources()\n",
    "\n",
    "gen_stats = 14\n",
    "indicators_genstat = wbdata.get_indicators (source = gen_stats)\n",
    "indicators_genstat"
   ]
  },
  {
   "cell_type": "code",
   "execution_count": 12,
   "id": "2dad0787-ae12-497d-804d-ffdd4f304ce7",
   "metadata": {
    "scrolled": true
   },
   "outputs": [
    {
     "data": {
      "text/plain": [
       "id                    name\n",
       "--------------------  ----------------------------------------------------------------------------------------------------------------------------------------\n",
       "HD.HCI.OVRL           Human Capital Index (HCI) (scale 0-1)\n",
       "HD.HCI.OVRL.FE        Human Capital Index (HCI), Female (scale 0-1)\n",
       "HD.HCI.OVRL.LB        Human Capital Index (HCI), Lower Bound (scale 0-1)\n",
       "HD.HCI.OVRL.LB.FE     Human Capital Index (HCI), Female, Lower Bound (scale 0-1)\n",
       "HD.HCI.OVRL.LB.MA     Human Capital Index (HCI), Male, Lower Bound (scale 0-1)\n",
       "HD.HCI.OVRL.MA        Human Capital Index (HCI), Male (scale 0-1)\n",
       "HD.HCI.OVRL.UB        Human Capital Index (HCI), Upper Bound (scale 0-1)\n",
       "HD.HCI.OVRL.UB.FE     Human Capital Index (HCI), Female, Upper Bound (scale 0-1)\n",
       "HD.HCI.OVRL.UB.MA     Human Capital Index (HCI), Male, Upper Bound (scale 0-1)\n",
       "NY.GNP.PCAP.CD        GNI per capita, Atlas method (current US$)\n",
       "SE.ADT.1524.LT.FM.ZS  Literacy rate, youth (ages 15-24), gender parity index (GPI)\n",
       "SE.ADT.1524.LT.MA.ZS  Literacy rate, youth male (% of males ages 15-24)\n",
       "SE.ADT.1524.LT.ZS     Literacy rate, youth total (% of people ages 15-24)\n",
       "SE.ADT.LITR.FE.ZS     Literacy rate, adult female (% of females ages 15 and above)\n",
       "SE.ADT.LITR.MA.ZS     Literacy rate, adult male (% of males ages 15 and above)\n",
       "SE.ADT.LITR.ZS        Literacy rate, adult total (% of people ages 15 and above)\n",
       "SE.ENR.ORPH           Ratio of school attendance of orphans to school attendance of non-orphans ages 10-14\n",
       "SE.PRM.CMPT.FE.ZS     Primary completion rate, female (% of relevant age group)\n",
       "SE.PRM.CMPT.MA.ZS     Primary completion rate, male (% of relevant age group)\n",
       "SE.PRM.CMPT.ZS        Primary completion rate, total (% of relevant age group)\n",
       "SE.PRM.ENRR           School enrollment, primary (% gross)\n",
       "SE.PRM.ENRR.FE        School enrollment, primary, female (% gross)\n",
       "SE.PRM.ENRR.MA        School enrollment, primary, male (% gross)\n",
       "SE.PRM.NENR           School enrollment, primary (% net)\n",
       "SE.PRM.NENR.FE        School enrollment, primary, female (% net)\n",
       "SE.PRM.NENR.MA        School enrollment, primary, male (% net)\n",
       "SE.SEC.ENRR           School enrollment, secondary (% gross)\n",
       "SE.SEC.ENRR.FE        School enrollment, secondary, female (% gross)\n",
       "SE.SEC.ENRR.MA        School enrollment, secondary, male (% gross)\n",
       "SE.SEC.NENR           School enrollment, secondary (% net)\n",
       "SE.SEC.NENR.FE        School enrollment, secondary, female (% net)\n",
       "SE.SEC.NENR.MA        School enrollment, secondary, male (% net)\n",
       "SE.TER.ENRR           School enrollment, tertiary (% gross)\n",
       "SE.TER.ENRR.FE        School enrollment, tertiary, female (% gross)\n",
       "SE.XPD.TOTL.GD.ZS     Government expenditure on education, total (% of GDP)\n",
       "SH.ALC.PCAP.FE.LI     Total alcohol consumption per capita, female (liters of pure alcohol, projected estimates, female 15+ years of age)\n",
       "SH.ALC.PCAP.LI        Total alcohol consumption per capita (liters of pure alcohol, projected estimates, 15+ years of age)\n",
       "SH.ALC.PCAP.MA.LI     Total alcohol consumption per capita, male (liters of pure alcohol, projected estimates, male 15+ years of age)\n",
       "SH.ANM.ALLW.ZS        Prevalence of anemia among women of reproductive age (% of women ages 15-49)\n",
       "SH.ANM.CHLD.ZS        Prevalence of anemia among children (% of children ages 6-59 months)\n",
       "SH.ANM.NPRG.ZS        Prevalence of anemia among non-pregnant women (% of women ages 15-49)\n",
       "SH.CON.1524.FE.ZS     Condom use, population ages 15-24, female (% of females ages 15-24)\n",
       "SH.CON.1524.MA.ZS     Condom use, population ages 15-24, male (% of males ages 15-24)\n",
       "SH.CON.AIDS.FE.ZS     Condom use at last high-risk sex, adult female (% ages 15-49)\n",
       "SH.CON.AIDS.MA.ZS     Condom use at last high-risk sex, adult male (% ages 15-49)\n",
       "SH.DTH.0509           Number of deaths ages 5-9 years\n",
       "SH.DTH.0509.FE        Number of deaths ages 5-9 years, female\n",
       "SH.DTH.0509.MA        Number of deaths ages 5-9 years, male\n",
       "SH.DTH.1014           Number of deaths ages 10-14 years\n",
       "SH.DTH.1014.FE        Number of deaths ages 10-14 years, female\n",
       "SH.DTH.1014.MA        Number of deaths ages 10-14 years, male\n",
       "SH.DTH.1019           Number of deaths ages 10-19 years\n",
       "SH.DTH.1019.FE        Number of deaths ages 10-19 years, female\n",
       "SH.DTH.1019.MA        Number of deaths ages 10-19 years, male\n",
       "SH.DTH.1519           Number of deaths ages 15-19 years\n",
       "SH.DTH.1519.FE        Number of deaths ages 15-19 years, female\n",
       "SH.DTH.1519.MA        Number of deaths ages 15-19 years, male\n",
       "SH.DTH.2024           Number of deaths ages 20-24 years\n",
       "SH.DTH.2024.FE        Number of deaths ages 20-24 years, female\n",
       "SH.DTH.2024.MA        Number of deaths ages 20-24 years, male\n",
       "SH.DTH.COMM.ZS        Cause of death, by communicable diseases and maternal, prenatal and nutrition conditions (% of total)\n",
       "SH.DTH.IMRT           Number of infant deaths\n",
       "SH.DTH.IMRT.FE        Number of infant deaths, female\n",
       "SH.DTH.IMRT.MA        Number of infant deaths, male\n",
       "SH.DTH.INJR.ZS        Cause of death, by injury (% of total)\n",
       "SH.DTH.MORT           Number of under-five deaths\n",
       "SH.DTH.MORT.FE        Number of under-five deaths, female\n",
       "SH.DTH.MORT.MA        Number of under-five deaths, male\n",
       "SH.DTH.NCOM.ZS        Cause of death, by non-communicable diseases (% of total)\n",
       "SH.DTH.NMRT           Number of neonatal deaths\n",
       "SH.DTH.STLB           Number of stillbirths\n",
       "SH.DYN.0509           Probability of dying among children ages 5-9 years (per 1,000)\n",
       "SH.DYN.0509.FE        Probability of dying among children ages 5-9 years, female (per 1,000)\n",
       "SH.DYN.0509.MA        Probability of dying among children ages 5-9 years, male (per 1,000)\n",
       "SH.DYN.1014           Probability of dying among adolescents ages 10-14 years (per 1,000)\n",
       "SH.DYN.1014.FE        Probability of dying among adolescents ages 10-14 years, female (per 1,000)\n",
       "SH.DYN.1014.MA        Probability of dying among adolescents ages 10-14 years, male (per 1,000)\n",
       "SH.DYN.1019           Probability of dying among adolescents ages 10-19 years (per 1,000)\n",
       "SH.DYN.1019.FE        Probability of dying among adolescents ages 10-19 years, female (per 1,000)\n",
       "SH.DYN.1019.MA        Probability of dying among adolescents ages 10-19 years, male (per 1,000)\n",
       "SH.DYN.1519           Probability of dying among adolescents ages 15-19 years (per 1,000)\n",
       "SH.DYN.1519.FE        Probability of dying among adolescents ages 15-19 years, female (per 1,000)\n",
       "SH.DYN.1519.MA        Probability of dying among adolescents ages 15-19 years, male (per 1,000)\n",
       "SH.DYN.2024           Probability of dying among youth ages 20-24 years (per 1,000)\n",
       "SH.DYN.2024.FE        Probability of dying among youth ages 20-24 years, female (per 1,000)\n",
       "SH.DYN.2024.MA        Probability of dying among youth ages 20-24 years, male (per 1,000)\n",
       "SH.DYN.AIDS           Adults (ages 15+) living with HIV\n",
       "SH.DYN.AIDS.DH        AIDS estimated deaths (UNAIDS estimates)\n",
       "SH.DYN.AIDS.FE.ZS     Women's share of population ages 15+ living with HIV (%)\n",
       "SH.DYN.AIDS.ZS        Prevalence of HIV, total (% of population ages 15-49)\n",
       "SH.DYN.MORT           Mortality rate, under-5 (per 1,000 live births)\n",
       "SH.DYN.MORT.FE        Mortality rate, under-5, female (per 1,000 live births)\n",
       "SH.DYN.MORT.MA        Mortality rate, under-5, male (per 1,000 live births)\n",
       "SH.DYN.NCOM.FE.ZS     Mortality from CVD, cancer, diabetes or CRD between exact ages 30 and 70, female (%)\n",
       "SH.DYN.NCOM.MA.ZS     Mortality from CVD, cancer, diabetes or CRD between exact ages 30 and 70, male (%)\n",
       "SH.DYN.NCOM.ZS        Mortality from CVD, cancer, diabetes or CRD between exact ages 30 and 70 (%)\n",
       "SH.DYN.NMRT           Mortality rate, neonatal (per 1,000 live births)\n",
       "SH.DYN.STLB           Stillbirth rate (per 1,000 total births)\n",
       "SH.FPL.SATI.ZS        Demand for family planning satisfied by any methods (% of married women with demand for family planning)\n",
       "SH.FPL.SATM.ZS        Demand for family planning satisfied by modern methods (% of married women with demand for family planning)\n",
       "SH.H2O.BASW.RU.ZS     People using at least basic drinking water services, rural (% of rural population)\n",
       "SH.H2O.BASW.UR.ZS     People using at least basic drinking water services, urban (% of urban population)\n",
       "SH.H2O.BASW.ZS        People using at least basic drinking water services (% of population)\n",
       "SH.H2O.SMDW.RU.ZS     People using safely managed drinking water services, rural (% of rural population)\n",
       "SH.H2O.SMDW.UR.ZS     People using safely managed drinking water services, urban (% of urban population)\n",
       "SH.H2O.SMDW.ZS        People using safely managed drinking water services (% of population)\n",
       "SH.HIV.0014           Children (0-14) living with HIV\n",
       "SH.HIV.1524.FE.ZS     Prevalence of HIV, female (% ages 15-24)\n",
       "SH.HIV.1524.KW.FE.ZS  Comprehensive correct knowledge of HIV/AIDS, ages 15-24, female (2 prevent ways and reject 3 misconceptions)\n",
       "SH.HIV.1524.KW.MA.ZS  Comprehensive correct knowledge of HIV/AIDS, ages 15-24, male (2 prevent ways and reject 3 misconceptions)\n",
       "SH.HIV.1524.MA.ZS     Prevalence of HIV, male (% ages 15-24)\n",
       "SH.HIV.ARTC.ZS        Antiretroviral therapy coverage (% of people living with HIV)\n",
       "SH.HIV.INCD           Adults (ages 15-49) newly infected with HIV\n",
       "SH.HIV.INCD.14        Children (ages 0-14) newly infected with HIV\n",
       "SH.HIV.INCD.50.P3     Incidence of HIV, ages 50+ (per 1,000 uninfected population ages 50+)\n",
       "SH.HIV.INCD.TL        Adults (ages 15+) and children (ages 0-14) newly infected with HIV\n",
       "SH.HIV.INCD.TL.P3     Incidence of HIV, all (per 1,000 uninfected population)\n",
       "SH.HIV.INCD.YG        Young people (ages 15-24) newly infected with HIV\n",
       "SH.HIV.INCD.YG.P3     Incidence of HIV, ages 15-24 (per 1,000 uninfected population ages 15-24)\n",
       "SH.HIV.INCD.ZS        Incidence of HIV, ages 15-49 (per 1,000 uninfected population ages 15-49)\n",
       "SH.HIV.KNOW.FE.ZS     Comprehensive correct knowledge of HIV/AIDS, ages 15-49, female (2 prevent ways and reject 3 misconceptions)\n",
       "SH.HIV.KNOW.MA.ZS     Comprehensive correct knowledge of HIV/AIDS, ages 15-49, male (2 prevent ways and reject 3 misconceptions)\n",
       "SH.HIV.ORPH           Children orphaned by HIV/AIDS\n",
       "SH.HIV.PMTC.ZS        Antiretroviral therapy coverage for PMTCT (% of pregnant women living with HIV)\n",
       "SH.HIV.TOTL           Adults (ages 15+) and children (0-14 years) living with HIV\n",
       "SH.HTN.PREV.FE.ZS     Prevalence of hypertension, female (% of female adults ages 30-79)\n",
       "SH.HTN.PREV.MA.ZS     Prevalence of hypertension, male (% of male adults ages 30-79)\n",
       "SH.HTN.PREV.ZS        Prevalence of hypertension (% of adults ages 30-79)\n",
       "SH.HTN.TRET.FE.ZS     Treatment for hypertension, female (% of female adults ages 30-79 with hypertension)\n",
       "SH.HTN.TRET.MA.ZS     Treatment for hypertension, male (% of male adults ages 30-79 with hypertension)\n",
       "SH.HTN.TRET.ZS        Treatment for hypertension (% of adults ages 30-79 with hypertension)\n",
       "SH.IMM.HEPB           Immunization, HepB3 (% of one-year-old children)\n",
       "SH.IMM.HIB3           Immunization, Hib3 (% of children ages 12-23 months)\n",
       "SH.IMM.IBCG           Immunization, BCG (% of one-year-old children)\n",
       "SH.IMM.IDPT           Immunization, DPT (% of children ages 12-23 months)\n",
       "SH.IMM.MEA2           Immunization, measles second dose (% of children by the nationally recommended age)\n",
       "SH.IMM.MEAS           Immunization, measles (% of children ages 12-23 months)\n",
       "SH.IMM.POL3           Immunization, Pol3 (% of one-year-old children)\n",
       "SH.MED.BEDS.ZS        Hospital beds (per 1,000 people)\n",
       "SH.MED.CMHW.P3        Community health workers (per 1,000 people)\n",
       "SH.MED.NUMW.P3        Nurses and midwives (per 1,000 people)\n",
       "SH.MED.PHYS.ZS        Physicians (per 1,000 people)\n",
       "SH.MED.SAOP.P5        Specialist surgical workforce (per 100,000 population)\n",
       "SH.MLR.INCD.P3        Incidence of malaria (per 1,000 population at risk)\n",
       "SH.MLR.IPTP.ZS        Intermittent preventive treatment (IPT) of malaria in pregnancy (% of pregnant women)\n",
       "SH.MLR.NETS.ZS        Use of insecticide-treated bed nets (% of under-5 population)\n",
       "SH.MLR.TRET.ZS        Children with fever receiving antimalarial drugs (% of children under age 5 with fever)\n",
       "SH.MMR.DTHS           Number of maternal deaths\n",
       "SH.MMR.LEVE           Length of paid maternity leave (calendar days)\n",
       "SH.MMR.RISK           Lifetime risk of maternal death (1 in: rate varies by country)\n",
       "SH.MMR.RISK.ZS        Lifetime risk of maternal death (%)\n",
       "SH.MMR.WAGE.ZS        Maternal leave benefits (% of wages paid in covered period)\n",
       "SH.PRG.ANEM           Prevalence of anemia among pregnant women (%)\n",
       "SH.PRG.SYPH.ZS        Prevalence of syphilis (% of women attending antenatal care)\n",
       "SH.PRV.SMOK           Prevalence of current tobacco use (% of adults)\n",
       "SH.PRV.SMOK.FE        Prevalence of current tobacco use, females (% of female adults)\n",
       "SH.PRV.SMOK.MA        Prevalence of current tobacco use, males (% of male adults)\n",
       "SH.SGR.CRSK.ZS        Risk of catastrophic expenditure for surgical care (% of people at risk)\n",
       "SH.SGR.IRSK.ZS        Risk of impoverishing expenditure for surgical care (% of people at risk)\n",
       "SH.SGR.PROC.P5        Number of surgical procedures (per 100,000 population)\n",
       "SH.STA.AIRP.FE.P5     Mortality rate attributed to household and ambient air pollution, age-standardized, female (per 100,000 female population)\n",
       "SH.STA.AIRP.MA.P5     Mortality rate attributed to household and ambient air pollution, age-standardized, male (per 100,000 male population)\n",
       "SH.STA.AIRP.P5        Mortality rate attributed to household and ambient air pollution, age-standardized (per 100,000 population)\n",
       "SH.STA.ANV4.ZS        Pregnant women receiving prenatal care of at least four visits (% of pregnant women)\n",
       "SH.STA.ANVC.ZS        Pregnant women receiving prenatal care (%)\n",
       "SH.STA.ARIC.ZS        ARI treatment (% of children under 5 taken to a health provider)\n",
       "SH.STA.BASS.RU.ZS     People using at least basic sanitation services, rural (% of rural population)\n",
       "SH.STA.BASS.UR.ZS     People using at least basic sanitation services, urban (% of urban population)\n",
       "SH.STA.BASS.ZS        People using at least basic sanitation services (% of population)\n",
       "SH.STA.BFED.ZS        Exclusive breastfeeding (% of children under 6 months)\n",
       "SH.STA.BRTC.ZS        Births attended by skilled health staff (% of total)\n",
       "SH.STA.BRTW.ZS        Low-birthweight babies (% of births)\n",
       "SH.STA.DIAB.ZS        Diabetes prevalence (% of population ages 20 to 79)\n",
       "SH.STA.HYGN.RU.ZS     People with basic handwashing facilities including soap and water, rural (% of rural population)\n",
       "SH.STA.HYGN.UR.ZS     People with basic handwashing facilities including soap and water, urban (% of urban population)\n",
       "SH.STA.HYGN.ZS        People with basic handwashing facilities including soap and water (% of population)\n",
       "SH.STA.IYCF.ZS        Infant and young child feeding practices, all 3 IYCF (% children ages 6-23 months)\n",
       "SH.STA.MALN.FE.ZS     Prevalence of underweight, weight for age, female (% of children under 5)\n",
       "SH.STA.MALN.MA.ZS     Prevalence of underweight, weight for age, male (% of children under 5)\n",
       "SH.STA.MALN.ZS        Prevalence of underweight, weight for age (% of children under 5)\n",
       "SH.STA.MALR           Malaria cases reported\n",
       "SH.STA.MMRT           Maternal mortality ratio (modeled estimate, per 100,000 live births)\n",
       "SH.STA.MMRT.NE        Maternal mortality ratio (national estimate, per 100,000 live births)\n",
       "SH.STA.ODFC.RU.ZS     People practicing open defecation, rural (% of rural population)\n",
       "SH.STA.ODFC.UR.ZS     People practicing open defecation, urban (% of urban population)\n",
       "SH.STA.ODFC.ZS        People practicing open defecation (% of population)\n",
       "SH.STA.ORCF.ZS        Diarrhea treatment (% of children under 5 receiving oral rehydration and continued feeding)\n",
       "SH.STA.ORTH           Diarrhea treatment (% of children under 5 who received ORS packet)\n",
       "SH.STA.OWAD.FE.ZS     Prevalence of overweight, female (% of female adults)\n",
       "SH.STA.OWAD.MA.ZS     Prevalence of overweight, male (% of male adults)\n",
       "SH.STA.OWAD.ZS        Prevalence of overweight (% of adults)\n",
       "SH.STA.OWGH.FE.ZS     Prevalence of overweight, weight for height, female (% of children under 5)\n",
       "SH.STA.OWGH.MA.ZS     Prevalence of overweight, weight for height, male (% of children under 5)\n",
       "SH.STA.OWGH.ME.ZS     Prevalence of overweight (modeled estimate, % of children under 5)\n",
       "SH.STA.OWGH.ZS        Prevalence of overweight, weight for height (% of children under 5)\n",
       "SH.STA.PNVC.ZS        Postnatal care coverage (% mothers)\n",
       "SH.STA.POIS.P5        Mortality rate attributed to unintentional poisoning (per 100,000 population)\n",
       "SH.STA.POIS.P5.FE     Mortality rate attributed to unintentional poisoning, female (per 100,000 female population)\n",
       "SH.STA.POIS.P5.MA     Mortality rate attributed to unintentional poisoning, male (per 100,000 male population)\n",
       "SH.STA.SMSS.RU.ZS     People using safely managed sanitation services, rural (% of rural population)\n",
       "SH.STA.SMSS.UR.ZS     People using safely managed sanitation services, urban (% of urban population)\n",
       "SH.STA.SMSS.ZS        People using safely managed sanitation services (% of population)\n",
       "SH.STA.STNT.FE.ZS     Prevalence of stunting, height for age, female (% of children under 5)\n",
       "SH.STA.STNT.MA.ZS     Prevalence of stunting, height for age, male (% of children under 5)\n",
       "SH.STA.STNT.ME.ZS     Prevalence of stunting, height for age (modeled estimate, % of children under 5)\n",
       "SH.STA.STNT.ZS        Prevalence of stunting, height for age (% of children under 5)\n",
       "SH.STA.SUIC.FE.P5     Suicide mortality rate, female (per 100,000 female population)\n",
       "SH.STA.SUIC.MA.P5     Suicide mortality rate, male (per 100,000 male population)\n",
       "SH.STA.SUIC.P5        Suicide mortality rate (per 100,000 population)\n",
       "SH.STA.TRAF.FE.P5     Mortality caused by road traffic injury, female (per 100,000 female population)\n",
       "SH.STA.TRAF.MA.P5     Mortality caused by road traffic injury, male (per 100,000 male population)\n",
       "SH.STA.TRAF.P5        Mortality caused by road traffic injury (per 100,000 population)\n",
       "SH.STA.WASH.FE.P5     Mortality rate attributed to unsafe water, unsafe sanitation and lack of hygiene, female (per 100,000 female population)\n",
       "SH.STA.WASH.MA.P5     Mortality rate attributed to unsafe water, unsafe sanitation and lack of hygiene, male (per 100,000 male population)\n",
       "SH.STA.WASH.P5        Mortality rate attributed to unsafe water, unsafe sanitation and lack of hygiene (per 100,000 population)\n",
       "SH.STA.WAST.FE.ZS     Prevalence of wasting, weight for height, female (% of children under 5)\n",
       "SH.STA.WAST.MA.ZS     Prevalence of wasting, weight for height, male (% of children under 5)\n",
       "SH.STA.WAST.ZS        Prevalence of wasting, weight for height (% of children under 5)\n",
       "SH.SVR.WAST.FE.ZS     Prevalence of severe wasting, weight for height, female (% of children under 5)\n",
       "SH.SVR.WAST.MA.ZS     Prevalence of severe wasting, weight for height, male (% of children under 5)\n",
       "SH.SVR.WAST.ZS        Prevalence of severe wasting, weight for height (% of children under 5)\n",
       "SH.TBS.CURE.ZS        Tuberculosis treatment success rate (% of new cases)\n",
       "SH.TBS.DTEC.ZS        Tuberculosis case detection rate (%, all forms)\n",
       "SH.TBS.INCD           Incidence of tuberculosis (per 100,000 people)\n",
       "SH.TBS.MORT           Tuberculosis death rate (per 100,000 people)\n",
       "SH.UHC.FBP1.TO        Number of people pushed further below the $2.15 ($ 2017 PPP) poverty line by out-of-pocket health care expenditure\n",
       "SH.UHC.FBP1.ZS        Proportion of population pushed further below the $2.15 ($ 2017 PPP) poverty line by out-of-pocket health care expenditure (%)\n",
       "SH.UHC.FBP2.TO        Number of people pushed further below the $3.65 ($ 2017 PPP) poverty line by out-of-pocket health care expenditure\n",
       "SH.UHC.FBP2.ZS        Proportion of population pushed further below the $3.65 ($ 2017 PPP) poverty line by out-of-pocket health care expenditure (%)\n",
       "SH.UHC.FBPR.TO        Number of people pushed further below the 60% median consumption poverty line by out-of-pocket health care expenditure\n",
       "SH.UHC.FBPR.ZS        Proportion of population pushed further below the 60% median consumption poverty line by out-of-pocket health care expenditure (%)\n",
       "SH.UHC.NOP1.TO        Number of people pushed below the $2.15 ($ 2017 PPP) poverty line by out-of-pocket health care expenditure\n",
       "SH.UHC.NOP1.ZS        Proportion of population pushed below the $2.15 ($ 2017 PPP) poverty line by out-of-pocket health care expenditure (%)\n",
       "SH.UHC.NOP2.TO        Number of people pushed below the $3.65 ($ 2017 PPP) poverty line by out-of-pocket health care expenditure\n",
       "SH.UHC.NOP2.ZS        Proportion of population pushed below the $3.65 ($ 2017 PPP) poverty line by out-of-pocket health care expenditure (%)\n",
       "SH.UHC.NOPR.TO        Number of people pushed below the 60% median consumption poverty line by out-of-pocket health care expenditure\n",
       "SH.UHC.NOPR.ZS        Proportion of population pushed below the 60% median consumption poverty line by out-of-pocket health expenditure (%)\n",
       "SH.UHC.OOPC.10.TO     Number of people spending more than 10% of household consumption or income on out-of-pocket health care expenditure\n",
       "SH.UHC.OOPC.10.ZS     Proportion of population spending more than 10% of household consumption or income on out-of-pocket health care expenditure (%)\n",
       "SH.UHC.OOPC.25.TO     Number of people spending more than 25% of household consumption or income on out-of-pocket health care expenditure\n",
       "SH.UHC.OOPC.25.ZS     Proportion of population spending more than 25% of household consumption or income on out-of-pocket health care expenditure (%)\n",
       "SH.UHC.SRVS.CV.XD     UHC service coverage index\n",
       "SH.UHC.TOT1.TO        Number of people pushed or further pushed below the $2.15 ($ 2017 PPP) poverty line by out-of-pocket health care expenditure\n",
       "SH.UHC.TOT1.ZS        Proportion of population pushed or further pushed below the $2.15 ($ 2017 PPP) poverty line by out-of-pocket health care expenditure (%)\n",
       "SH.UHC.TOT2.TO        Number of people pushed or further pushed below the $3.65 ($ 2017 PPP) poverty line by out-of-pocket health care expenditure\n",
       "SH.UHC.TOT2.ZS        Proportion of population pushed or further pushed below the $3.65 ($ 2017 PPP) poverty line by out-of-pocket health care expenditure (%)\n",
       "SH.UHC.TOTR.TO        Number of people pushed or further pushed below the 60% median consumption poverty line by out-of-pocket health care expenditure\n",
       "SH.UHC.TOTR.ZS        Proportion of population pushed or further pushed below the 60% median consumption poverty line by out-of-pocket health expenditure (%)\n",
       "SH.VAC.TTNS.ZS        Newborns protected against tetanus (%)\n",
       "SH.XPD.CHEX.GD.ZS     Current health expenditure (% of GDP)\n",
       "SH.XPD.CHEX.PC.CD     Current health expenditure per capita (current US$)\n",
       "SH.XPD.CHEX.PP.CD     Current health expenditure per capita, PPP (current international $)\n",
       "SH.XPD.EHEX.CH.ZS     External health expenditure (% of current health expenditure)\n",
       "SH.XPD.EHEX.EH.ZS     External health expenditure channeled through government (% of external health expenditure)\n",
       "SH.XPD.EHEX.PC.CD     External health expenditure per capita (current US$)\n",
       "SH.XPD.EHEX.PP.CD     External health expenditure per capita, PPP (current international $)\n",
       "SH.XPD.GHED.CH.ZS     Domestic general government health expenditure (% of current health expenditure)\n",
       "SH.XPD.GHED.GD.ZS     Domestic general government health expenditure (% of GDP)\n",
       "SH.XPD.GHED.GE.ZS     Domestic general government health expenditure (% of general government expenditure)\n",
       "SH.XPD.GHED.PC.CD     Domestic general government health expenditure per capita (current US$)\n",
       "SH.XPD.GHED.PP.CD     Domestic general government health expenditure per capita, PPP (current international $)\n",
       "SH.XPD.KHEX.GD.ZS     Capital health expenditure (% of GDP)\n",
       "SH.XPD.OOPC.CH.ZS     Out-of-pocket expenditure (% of current health expenditure)\n",
       "SH.XPD.OOPC.PC.CD     Out-of-pocket expenditure per capita (current US$)\n",
       "SH.XPD.OOPC.PP.CD     Out-of-pocket expenditure per capita, PPP (current international $)\n",
       "SH.XPD.PVTD.CH.ZS     Domestic private health expenditure (% of current health expenditure)\n",
       "SH.XPD.PVTD.PC.CD     Domestic private health expenditure per capita (current US$)\n",
       "SH.XPD.PVTD.PP.CD     Domestic private health expenditure per capita, PPP (current international $)\n",
       "SI.POV.NAHC           Poverty headcount ratio at national poverty lines (% of population)\n",
       "SI.POV.RUHC           Rural poverty headcount ratio at national poverty lines (% of rural population)\n",
       "SI.POV.URHC           Urban poverty headcount ratio at national poverty lines (% of urban population)\n",
       "SL.EMP.INSV.FE.ZS     Share of women in wage employment in the nonagricultural sector (% of total nonagricultural employment)\n",
       "SL.TLF.TOTL.FE.ZS     Labor force, female (% of total labor force)\n",
       "SL.TLF.TOTL.IN        Labor force, total\n",
       "SL.UEM.TOTL.FE.ZS     Unemployment, female (% of female labor force) (modeled ILO estimate)\n",
       "SL.UEM.TOTL.MA.ZS     Unemployment, male (% of male labor force) (modeled ILO estimate)\n",
       "SL.UEM.TOTL.ZS        Unemployment, total (% of total labor force) (modeled ILO estimate)\n",
       "SM.POP.NETM           Net migration\n",
       "SN.ITK.DEFC           Number of people who are undernourished\n",
       "SN.ITK.DEFC.ZS        Prevalence of undernourishment (% of population)\n",
       "SN.ITK.SALT.ZS        Consumption of iodized salt (% of households)\n",
       "SN.ITK.VITA.ZS        Vitamin A supplementation coverage rate (% of children ages 6-59 months)\n",
       "SP.ADO.TFRT           Adolescent fertility rate (births per 1,000 women ages 15-19)\n",
       "SP.DYN.AMRT.FE        Mortality rate, adult, female (per 1,000 female adults)\n",
       "SP.DYN.AMRT.MA        Mortality rate, adult, male (per 1,000 male adults)\n",
       "SP.DYN.CBRT.IN        Birth rate, crude (per 1,000 people)\n",
       "SP.DYN.CDRT.IN        Death rate, crude (per 1,000 people)\n",
       "SP.DYN.CONM.AL.ZS     Contraceptive prevalence, any modern method (% of all women ages 15-49)\n",
       "SP.DYN.CONM.SA.ZS     Contraceptive prevalence, any modern method (% of sexually active unmarried women ages 15-49)\n",
       "SP.DYN.CONM.ZS        Contraceptive prevalence, any modern method (% of married women ages 15-49)\n",
       "SP.DYN.CONU.AL.ZS     Contraceptive prevalence, any method (% of all women ages 15-49)\n",
       "SP.DYN.CONU.SA.ZS     Contraceptive prevalence, any method (% of sexually active unmarried women ages 15-49)\n",
       "SP.DYN.CONU.ZS        Contraceptive prevalence, any method (% of married women ages 15-49)\n",
       "SP.DYN.IMRT.FE.IN     Mortality rate, infant, female (per 1,000 live births)\n",
       "SP.DYN.IMRT.IN        Mortality rate, infant (per 1,000 live births)\n",
       "SP.DYN.IMRT.MA.IN     Mortality rate, infant, male (per 1,000 live births)\n",
       "SP.DYN.LE00.FE.IN     Life expectancy at birth, female (years)\n",
       "SP.DYN.LE00.IN        Life expectancy at birth, total (years)\n",
       "SP.DYN.LE00.MA.IN     Life expectancy at birth, male (years)\n",
       "SP.DYN.SMAM.FE        Age at first marriage, female\n",
       "SP.DYN.SMAM.MA        Age at first marriage, male\n",
       "SP.DYN.TFRT.IN        Fertility rate, total (births per woman)\n",
       "SP.DYN.TO65.FE.ZS     Survival to age 65, female (% of cohort)\n",
       "SP.DYN.TO65.MA.ZS     Survival to age 65, male (% of cohort)\n",
       "SP.DYN.WFRT           Wanted fertility rate (births per woman)\n",
       "SP.HOU.FEMA.ZS        Female headed households (% of households with a female head)\n",
       "SP.M15.2024.FE.ZS     Women who were first married by age 15 (% of women ages 20-24)\n",
       "SP.M18.2024.FE.ZS     Women who were first married by age 18 (% of women ages 20-24)\n",
       "SP.MTR.1519.ZS        Teenage mothers (% of women ages 15-19 who have had children or are currently pregnant)\n",
       "SP.POP.0004.FE        Population ages 00-04, female\n",
       "SP.POP.0004.FE.5Y     Population ages 00-04, female (% of female population)\n",
       "SP.POP.0004.MA        Population ages 00-04, male\n",
       "SP.POP.0004.MA.5Y     Population ages 00-04, male (% of male population)\n",
       "SP.POP.0014.FE.IN     Population ages 0-14, female\n",
       "SP.POP.0014.FE.ZS     Population ages 0-14, female (% of female population)\n",
       "SP.POP.0014.MA.IN     Population ages 0-14, male\n",
       "SP.POP.0014.MA.ZS     Population ages 0-14, male (% of male population)\n",
       "SP.POP.0014.TO        Population ages 0-14, total\n",
       "SP.POP.0014.TO.ZS     Population ages 0-14 (% of total population)\n",
       "SP.POP.0509.FE        Population ages 05-09, female\n",
       "SP.POP.0509.FE.5Y     Population ages 05-09, female (% of female population)\n",
       "SP.POP.0509.MA        Population ages 05-09, male\n",
       "SP.POP.0509.MA.5Y     Population ages 05-09, male (% of male population)\n",
       "SP.POP.1014.FE        Population ages 10-14, female\n",
       "SP.POP.1014.FE.5Y     Population ages 10-14, female (% of female population)\n",
       "SP.POP.1014.MA        Population ages 10-14, male\n",
       "SP.POP.1014.MA.5Y     Population ages 10-14, male (% of male population)\n",
       "SP.POP.1519.FE        Population ages 15-19, female\n",
       "SP.POP.1519.FE.5Y     Population ages 15-19, female (% of female population)\n",
       "SP.POP.1519.MA        Population ages 15-19, male\n",
       "SP.POP.1519.MA.5Y     Population ages 15-19, male (% of male population)\n",
       "SP.POP.1564.FE.IN     Population ages 15-64, female\n",
       "SP.POP.1564.FE.ZS     Population ages 15-64, female (% of female population)\n",
       "SP.POP.1564.MA.IN     Population ages 15-64, male\n",
       "SP.POP.1564.MA.ZS     Population ages 15-64, male (% of male population)\n",
       "SP.POP.1564.TO        Population ages 15-64, total\n",
       "SP.POP.1564.TO.ZS     Population ages 15-64 (% of total population)\n",
       "SP.POP.2024.FE        Population ages 20-24, female\n",
       "SP.POP.2024.FE.5Y     Population ages 20-24, female (% of female population)\n",
       "SP.POP.2024.MA        Population ages 20-24, male\n",
       "SP.POP.2024.MA.5Y     Population ages 20-24, male (% of male population)\n",
       "SP.POP.2529.FE        Population ages 25-29, female\n",
       "SP.POP.2529.FE.5Y     Population ages 25-29, female (% of female population)\n",
       "SP.POP.2529.MA        Population ages 25-29, male\n",
       "SP.POP.2529.MA.5Y     Population ages 25-29, male (% of male population)\n",
       "SP.POP.3034.FE        Population ages 30-34, female\n",
       "SP.POP.3034.FE.5Y     Population ages 30-34, female (% of female population)\n",
       "SP.POP.3034.MA        Population ages 30-34, male\n",
       "SP.POP.3034.MA.5Y     Population ages 30-34, male (% of male population)\n",
       "SP.POP.3539.FE        Population ages 35-39, female\n",
       "SP.POP.3539.FE.5Y     Population ages 35-39, female (% of female population)\n",
       "SP.POP.3539.MA        Population ages 35-39, male\n",
       "SP.POP.3539.MA.5Y     Population ages 35-39, male (% of male population)\n",
       "SP.POP.4044.FE        Population ages 40-44, female\n",
       "SP.POP.4044.FE.5Y     Population ages 40-44, female (% of female population)\n",
       "SP.POP.4044.MA        Population ages 40-44, male\n",
       "SP.POP.4044.MA.5Y     Population ages 40-44, male (% of male population)\n",
       "SP.POP.4549.FE        Population ages 45-49, female\n",
       "SP.POP.4549.FE.5Y     Population ages 45-49, female (% of female population)\n",
       "SP.POP.4549.MA        Population ages 45-49, male\n",
       "SP.POP.4549.MA.5Y     Population ages 45-49, male (% of male population)\n",
       "SP.POP.5054.FE        Population ages 50-54, female\n",
       "SP.POP.5054.FE.5Y     Population ages 50-54, female (% of female population)\n",
       "SP.POP.5054.MA        Population ages 50-54, male\n",
       "SP.POP.5054.MA.5Y     Population ages 50-54, male (% of male population)\n",
       "SP.POP.5559.FE        Population ages 55-59, female\n",
       "SP.POP.5559.FE.5Y     Population ages 55-59, female (% of female population)\n",
       "SP.POP.5559.MA        Population ages 55-59, male\n",
       "SP.POP.5559.MA.5Y     Population ages 55-59, male (% of male population)\n",
       "SP.POP.6064.FE        Population ages 60-64, female\n",
       "SP.POP.6064.FE.5Y     Population ages 60-64, female (% of female population)\n",
       "SP.POP.6064.MA        Population ages 60-64, male\n",
       "SP.POP.6064.MA.5Y     Population ages 60-64, male (% of male population)\n",
       "SP.POP.6569.FE        Population ages 65-69, female\n",
       "SP.POP.6569.FE.5Y     Population ages 65-69, female (% of female population)\n",
       "SP.POP.6569.MA        Population ages 65-69, male\n",
       "SP.POP.6569.MA.5Y     Population ages 65-69, male (% of male population)\n",
       "SP.POP.65UP.FE.IN     Population ages 65 and above, female\n",
       "SP.POP.65UP.FE.ZS     Population ages 65 and above, female (% of female population)\n",
       "SP.POP.65UP.MA.IN     Population ages 65 and above, male\n",
       "SP.POP.65UP.MA.ZS     Population ages 65 and above, male (% of male population)\n",
       "SP.POP.65UP.TO        Population ages 65 and above, total\n",
       "SP.POP.65UP.TO.ZS     Population ages 65 and above (% of total population)\n",
       "SP.POP.7074.FE        Population ages 70-74, female\n",
       "SP.POP.7074.FE.5Y     Population ages 70-74, female (% of female population)\n",
       "SP.POP.7074.MA        Population ages 70-74, male\n",
       "SP.POP.7074.MA.5Y     Population ages 70-74, male (% of male population)\n",
       "SP.POP.7579.FE        Population ages 75-79, female\n",
       "SP.POP.7579.FE.5Y     Population ages 75-79, female (% of female population)\n",
       "SP.POP.7579.MA        Population ages 75-79, male\n",
       "SP.POP.7579.MA.5Y     Population ages 75-79, male (% of male population)\n",
       "SP.POP.80UP.FE        Population ages 80 and above, female\n",
       "SP.POP.80UP.FE.5Y     Population ages 80 and above, female (% of female population)\n",
       "SP.POP.80UP.MA        Population ages 80 and above, male\n",
       "SP.POP.80UP.MA.5Y     Population ages 80 and above, male (% of male population)\n",
       "SP.POP.AG00.FE.IN     Age population, age 00, female, interpolated\n",
       "SP.POP.AG00.MA.IN     Age population, age 00, male, interpolated\n",
       "SP.POP.AG01.FE.IN     Age population, age 01, female, interpolated\n",
       "SP.POP.AG01.MA.IN     Age population, age 01, male, interpolated\n",
       "SP.POP.AG02.FE.IN     Age population, age 02, female, interpolated\n",
       "SP.POP.AG02.MA.IN     Age population, age 02, male, interpolated\n",
       "SP.POP.AG03.FE.IN     Age population, age 03, female, interpolated\n",
       "SP.POP.AG03.MA.IN     Age population, age 03, male, interpolated\n",
       "SP.POP.AG04.FE.IN     Age population, age 04, female, interpolated\n",
       "SP.POP.AG04.MA.IN     Age population, age 04, male, interpolated\n",
       "SP.POP.AG05.FE.IN     Age population, age 05, female, interpolated\n",
       "SP.POP.AG05.MA.IN     Age population, age 05, male, interpolated\n",
       "SP.POP.AG06.FE.IN     Age population, age 06, female, interpolated\n",
       "SP.POP.AG06.MA.IN     Age population, age 06, male, interpolated\n",
       "SP.POP.AG07.FE.IN     Age population, age 07, female, interpolated\n",
       "SP.POP.AG07.MA.IN     Age population, age 07, male, interpolated\n",
       "SP.POP.AG08.FE.IN     Age population, age 08, female, interpolated\n",
       "SP.POP.AG08.MA.IN     Age population, age 08, male, interpolated\n",
       "SP.POP.AG09.FE.IN     Age population, age 09, female, interpolated\n",
       "SP.POP.AG09.MA.IN     Age population, age 09, male, interpolated\n",
       "SP.POP.AG10.FE.IN     Age population, age 10, female, interpolated\n",
       "SP.POP.AG10.MA.IN     Age population, age 10, male, interpolated\n",
       "SP.POP.AG11.FE.IN     Age population, age 11, female, interpolated\n",
       "SP.POP.AG11.MA.IN     Age population, age 11, male, interpolated\n",
       "SP.POP.AG12.FE.IN     Age population, age 12, female, interpolated\n",
       "SP.POP.AG12.MA.IN     Age population, age 12, male, interpolated\n",
       "SP.POP.AG13.FE.IN     Age population, age 13, female, interpolated\n",
       "SP.POP.AG13.MA.IN     Age population, age 13, male, interpolated\n",
       "SP.POP.AG14.FE.IN     Age population, age 14, female, interpolated\n",
       "SP.POP.AG14.MA.IN     Age population, age 14, male, interpolated\n",
       "SP.POP.AG15.FE.IN     Age population, age 15, female, interpolated\n",
       "SP.POP.AG15.MA.IN     Age population, age 15, male, interpolated\n",
       "SP.POP.AG16.FE.IN     Age population, age 16, female, interpolated\n",
       "SP.POP.AG16.MA.IN     Age population, age 16, male, interpolated\n",
       "SP.POP.AG17.FE.IN     Age population, age 17, female, interpolated\n",
       "SP.POP.AG17.MA.IN     Age population, age 17, male, interpolated\n",
       "SP.POP.AG18.FE.IN     Age population, age 18, female, interpolated\n",
       "SP.POP.AG18.MA.IN     Age population, age 18, male, interpolated\n",
       "SP.POP.AG19.FE.IN     Age population, age 19, female, interpolated\n",
       "SP.POP.AG19.MA.IN     Age population, age 19, male, interpolated\n",
       "SP.POP.AG20.FE.IN     Age population, age 20, female, interpolated\n",
       "SP.POP.AG20.MA.IN     Age population, age 20, male, interpolated\n",
       "SP.POP.AG21.FE.IN     Age population, age 21, female, interpolated\n",
       "SP.POP.AG21.MA.IN     Age population, age 21, male, interpolated\n",
       "SP.POP.AG22.FE.IN     Age population, age 22, female, interpolated\n",
       "SP.POP.AG22.MA.IN     Age population, age 22, male, interpolated\n",
       "SP.POP.AG23.FE.IN     Age population, age 23, female, interpolated\n",
       "SP.POP.AG23.MA.IN     Age population, age 23, male, interpolated\n",
       "SP.POP.AG24.FE.IN     Age population, age 24, female, interpolated\n",
       "SP.POP.AG24.MA.IN     Age population, age 24, male, interpolated\n",
       "SP.POP.AG25.FE.IN     Age population, age 25, female, interpolated\n",
       "SP.POP.AG25.MA.IN     Age population, age 25, male, interpolated\n",
       "SP.POP.BRTH.MF        Sex ratio at birth (male births per female births)\n",
       "SP.POP.DPND           Age dependency ratio (% of working-age population)\n",
       "SP.POP.DPND.OL        Age dependency ratio, old (% of working-age population)\n",
       "SP.POP.DPND.YG        Age dependency ratio, young (% of working-age population)\n",
       "SP.POP.GROW           Population growth (annual %)\n",
       "SP.POP.TOTL           Population, total\n",
       "SP.POP.TOTL.FE.IN     Population, female\n",
       "SP.POP.TOTL.FE.ZS     Population, female (% of total population)\n",
       "SP.POP.TOTL.MA.IN     Population, male\n",
       "SP.POP.TOTL.MA.ZS     Population, male (% of total population)\n",
       "SP.REG.BRTH.FE.ZS     Completeness of birth registration, female (%)\n",
       "SP.REG.BRTH.MA.ZS     Completeness of birth registration, male (%)\n",
       "SP.REG.BRTH.RU.ZS     Completeness of birth registration, rural (%)\n",
       "SP.REG.BRTH.UR.ZS     Completeness of birth registration, urban (%)\n",
       "SP.REG.BRTH.ZS        Completeness of birth registration (%)\n",
       "SP.REG.DTHS.ZS        Completeness of death registration with cause-of-death information (%)\n",
       "SP.RUR.TOTL           Rural population\n",
       "SP.RUR.TOTL.ZG        Rural population growth (annual %)\n",
       "SP.RUR.TOTL.ZS        Rural population (% of total population)\n",
       "SP.URB.GROW           Urban population growth (annual %)\n",
       "SP.URB.TOTL           Urban population\n",
       "SP.URB.TOTL.IN.ZS     Urban population (% of total population)\n",
       "SP.UWT.TFRT           Unmet need for contraception (% of married women ages 15-49)"
      ]
     },
     "execution_count": 12,
     "metadata": {},
     "output_type": "execute_result"
    }
   ],
   "source": [
    "#Getting Indicator for Health Nutririon and Population Statistics \n",
    "health_nut = 16\n",
    "indicators_healthnut = wbdata.get_indicators (source = health_nut)\n",
    "indicators_healthnut"
   ]
  },
  {
   "cell_type": "code",
   "execution_count": 54,
   "id": "304a626c-9d1e-42a5-a094-c3416474ba70",
   "metadata": {},
   "outputs": [
    {
     "data": {
      "application/vnd.plotly.v1+json": {
       "config": {
        "linkText": "Export to plot.ly",
        "plotlyServerURL": "https://plot.ly",
        "showLink": true
       },
       "data": [
        {
         "line": {
          "color": "rgba(255, 153, 51, 1.0)",
          "dash": "solid",
          "shape": "linear",
          "width": 1.3
         },
         "mode": "lines",
         "name": "BWA",
         "text": "",
         "type": "scatter",
         "x": [
          1990,
          1991,
          1992,
          1993,
          1994,
          1995,
          1996,
          1997,
          1998,
          1999,
          2000,
          2001,
          2002,
          2003,
          2004,
          2005,
          2006,
          2007,
          2008,
          2009,
          2010,
          2011,
          2012,
          2013,
          2014,
          2015,
          2016,
          2017,
          2018,
          2019,
          2020,
          2021
         ],
         "y": [
          1400,
          2200,
          3100,
          4300,
          5700,
          7300,
          8800,
          11000,
          12000,
          14000,
          16000,
          17000,
          18000,
          18000,
          17000,
          13000,
          11000,
          9400,
          8500,
          7500,
          6500,
          6000,
          5400,
          5400,
          5300,
          5000,
          5200,
          5000,
          5000,
          5100,
          4800,
          4600
         ]
        }
       ],
       "layout": {
        "autosize": true,
        "legend": {
         "bgcolor": "#F5F6F9",
         "font": {
          "color": "#4D5663"
         }
        },
        "paper_bgcolor": "#F5F6F9",
        "plot_bgcolor": "#F5F6F9",
        "template": {
         "data": {
          "bar": [
           {
            "error_x": {
             "color": "#2a3f5f"
            },
            "error_y": {
             "color": "#2a3f5f"
            },
            "marker": {
             "line": {
              "color": "#E5ECF6",
              "width": 0.5
             },
             "pattern": {
              "fillmode": "overlay",
              "size": 10,
              "solidity": 0.2
             }
            },
            "type": "bar"
           }
          ],
          "barpolar": [
           {
            "marker": {
             "line": {
              "color": "#E5ECF6",
              "width": 0.5
             },
             "pattern": {
              "fillmode": "overlay",
              "size": 10,
              "solidity": 0.2
             }
            },
            "type": "barpolar"
           }
          ],
          "carpet": [
           {
            "aaxis": {
             "endlinecolor": "#2a3f5f",
             "gridcolor": "white",
             "linecolor": "white",
             "minorgridcolor": "white",
             "startlinecolor": "#2a3f5f"
            },
            "baxis": {
             "endlinecolor": "#2a3f5f",
             "gridcolor": "white",
             "linecolor": "white",
             "minorgridcolor": "white",
             "startlinecolor": "#2a3f5f"
            },
            "type": "carpet"
           }
          ],
          "choropleth": [
           {
            "colorbar": {
             "outlinewidth": 0,
             "ticks": ""
            },
            "type": "choropleth"
           }
          ],
          "contour": [
           {
            "colorbar": {
             "outlinewidth": 0,
             "ticks": ""
            },
            "colorscale": [
             [
              0,
              "#0d0887"
             ],
             [
              0.1111111111111111,
              "#46039f"
             ],
             [
              0.2222222222222222,
              "#7201a8"
             ],
             [
              0.3333333333333333,
              "#9c179e"
             ],
             [
              0.4444444444444444,
              "#bd3786"
             ],
             [
              0.5555555555555556,
              "#d8576b"
             ],
             [
              0.6666666666666666,
              "#ed7953"
             ],
             [
              0.7777777777777778,
              "#fb9f3a"
             ],
             [
              0.8888888888888888,
              "#fdca26"
             ],
             [
              1,
              "#f0f921"
             ]
            ],
            "type": "contour"
           }
          ],
          "contourcarpet": [
           {
            "colorbar": {
             "outlinewidth": 0,
             "ticks": ""
            },
            "type": "contourcarpet"
           }
          ],
          "heatmap": [
           {
            "colorbar": {
             "outlinewidth": 0,
             "ticks": ""
            },
            "colorscale": [
             [
              0,
              "#0d0887"
             ],
             [
              0.1111111111111111,
              "#46039f"
             ],
             [
              0.2222222222222222,
              "#7201a8"
             ],
             [
              0.3333333333333333,
              "#9c179e"
             ],
             [
              0.4444444444444444,
              "#bd3786"
             ],
             [
              0.5555555555555556,
              "#d8576b"
             ],
             [
              0.6666666666666666,
              "#ed7953"
             ],
             [
              0.7777777777777778,
              "#fb9f3a"
             ],
             [
              0.8888888888888888,
              "#fdca26"
             ],
             [
              1,
              "#f0f921"
             ]
            ],
            "type": "heatmap"
           }
          ],
          "heatmapgl": [
           {
            "colorbar": {
             "outlinewidth": 0,
             "ticks": ""
            },
            "colorscale": [
             [
              0,
              "#0d0887"
             ],
             [
              0.1111111111111111,
              "#46039f"
             ],
             [
              0.2222222222222222,
              "#7201a8"
             ],
             [
              0.3333333333333333,
              "#9c179e"
             ],
             [
              0.4444444444444444,
              "#bd3786"
             ],
             [
              0.5555555555555556,
              "#d8576b"
             ],
             [
              0.6666666666666666,
              "#ed7953"
             ],
             [
              0.7777777777777778,
              "#fb9f3a"
             ],
             [
              0.8888888888888888,
              "#fdca26"
             ],
             [
              1,
              "#f0f921"
             ]
            ],
            "type": "heatmapgl"
           }
          ],
          "histogram": [
           {
            "marker": {
             "pattern": {
              "fillmode": "overlay",
              "size": 10,
              "solidity": 0.2
             }
            },
            "type": "histogram"
           }
          ],
          "histogram2d": [
           {
            "colorbar": {
             "outlinewidth": 0,
             "ticks": ""
            },
            "colorscale": [
             [
              0,
              "#0d0887"
             ],
             [
              0.1111111111111111,
              "#46039f"
             ],
             [
              0.2222222222222222,
              "#7201a8"
             ],
             [
              0.3333333333333333,
              "#9c179e"
             ],
             [
              0.4444444444444444,
              "#bd3786"
             ],
             [
              0.5555555555555556,
              "#d8576b"
             ],
             [
              0.6666666666666666,
              "#ed7953"
             ],
             [
              0.7777777777777778,
              "#fb9f3a"
             ],
             [
              0.8888888888888888,
              "#fdca26"
             ],
             [
              1,
              "#f0f921"
             ]
            ],
            "type": "histogram2d"
           }
          ],
          "histogram2dcontour": [
           {
            "colorbar": {
             "outlinewidth": 0,
             "ticks": ""
            },
            "colorscale": [
             [
              0,
              "#0d0887"
             ],
             [
              0.1111111111111111,
              "#46039f"
             ],
             [
              0.2222222222222222,
              "#7201a8"
             ],
             [
              0.3333333333333333,
              "#9c179e"
             ],
             [
              0.4444444444444444,
              "#bd3786"
             ],
             [
              0.5555555555555556,
              "#d8576b"
             ],
             [
              0.6666666666666666,
              "#ed7953"
             ],
             [
              0.7777777777777778,
              "#fb9f3a"
             ],
             [
              0.8888888888888888,
              "#fdca26"
             ],
             [
              1,
              "#f0f921"
             ]
            ],
            "type": "histogram2dcontour"
           }
          ],
          "mesh3d": [
           {
            "colorbar": {
             "outlinewidth": 0,
             "ticks": ""
            },
            "type": "mesh3d"
           }
          ],
          "parcoords": [
           {
            "line": {
             "colorbar": {
              "outlinewidth": 0,
              "ticks": ""
             }
            },
            "type": "parcoords"
           }
          ],
          "pie": [
           {
            "automargin": true,
            "type": "pie"
           }
          ],
          "scatter": [
           {
            "fillpattern": {
             "fillmode": "overlay",
             "size": 10,
             "solidity": 0.2
            },
            "type": "scatter"
           }
          ],
          "scatter3d": [
           {
            "line": {
             "colorbar": {
              "outlinewidth": 0,
              "ticks": ""
             }
            },
            "marker": {
             "colorbar": {
              "outlinewidth": 0,
              "ticks": ""
             }
            },
            "type": "scatter3d"
           }
          ],
          "scattercarpet": [
           {
            "marker": {
             "colorbar": {
              "outlinewidth": 0,
              "ticks": ""
             }
            },
            "type": "scattercarpet"
           }
          ],
          "scattergeo": [
           {
            "marker": {
             "colorbar": {
              "outlinewidth": 0,
              "ticks": ""
             }
            },
            "type": "scattergeo"
           }
          ],
          "scattergl": [
           {
            "marker": {
             "colorbar": {
              "outlinewidth": 0,
              "ticks": ""
             }
            },
            "type": "scattergl"
           }
          ],
          "scattermapbox": [
           {
            "marker": {
             "colorbar": {
              "outlinewidth": 0,
              "ticks": ""
             }
            },
            "type": "scattermapbox"
           }
          ],
          "scatterpolar": [
           {
            "marker": {
             "colorbar": {
              "outlinewidth": 0,
              "ticks": ""
             }
            },
            "type": "scatterpolar"
           }
          ],
          "scatterpolargl": [
           {
            "marker": {
             "colorbar": {
              "outlinewidth": 0,
              "ticks": ""
             }
            },
            "type": "scatterpolargl"
           }
          ],
          "scatterternary": [
           {
            "marker": {
             "colorbar": {
              "outlinewidth": 0,
              "ticks": ""
             }
            },
            "type": "scatterternary"
           }
          ],
          "surface": [
           {
            "colorbar": {
             "outlinewidth": 0,
             "ticks": ""
            },
            "colorscale": [
             [
              0,
              "#0d0887"
             ],
             [
              0.1111111111111111,
              "#46039f"
             ],
             [
              0.2222222222222222,
              "#7201a8"
             ],
             [
              0.3333333333333333,
              "#9c179e"
             ],
             [
              0.4444444444444444,
              "#bd3786"
             ],
             [
              0.5555555555555556,
              "#d8576b"
             ],
             [
              0.6666666666666666,
              "#ed7953"
             ],
             [
              0.7777777777777778,
              "#fb9f3a"
             ],
             [
              0.8888888888888888,
              "#fdca26"
             ],
             [
              1,
              "#f0f921"
             ]
            ],
            "type": "surface"
           }
          ],
          "table": [
           {
            "cells": {
             "fill": {
              "color": "#EBF0F8"
             },
             "line": {
              "color": "white"
             }
            },
            "header": {
             "fill": {
              "color": "#C8D4E3"
             },
             "line": {
              "color": "white"
             }
            },
            "type": "table"
           }
          ]
         },
         "layout": {
          "annotationdefaults": {
           "arrowcolor": "#2a3f5f",
           "arrowhead": 0,
           "arrowwidth": 1
          },
          "autotypenumbers": "strict",
          "coloraxis": {
           "colorbar": {
            "outlinewidth": 0,
            "ticks": ""
           }
          },
          "colorscale": {
           "diverging": [
            [
             0,
             "#8e0152"
            ],
            [
             0.1,
             "#c51b7d"
            ],
            [
             0.2,
             "#de77ae"
            ],
            [
             0.3,
             "#f1b6da"
            ],
            [
             0.4,
             "#fde0ef"
            ],
            [
             0.5,
             "#f7f7f7"
            ],
            [
             0.6,
             "#e6f5d0"
            ],
            [
             0.7,
             "#b8e186"
            ],
            [
             0.8,
             "#7fbc41"
            ],
            [
             0.9,
             "#4d9221"
            ],
            [
             1,
             "#276419"
            ]
           ],
           "sequential": [
            [
             0,
             "#0d0887"
            ],
            [
             0.1111111111111111,
             "#46039f"
            ],
            [
             0.2222222222222222,
             "#7201a8"
            ],
            [
             0.3333333333333333,
             "#9c179e"
            ],
            [
             0.4444444444444444,
             "#bd3786"
            ],
            [
             0.5555555555555556,
             "#d8576b"
            ],
            [
             0.6666666666666666,
             "#ed7953"
            ],
            [
             0.7777777777777778,
             "#fb9f3a"
            ],
            [
             0.8888888888888888,
             "#fdca26"
            ],
            [
             1,
             "#f0f921"
            ]
           ],
           "sequentialminus": [
            [
             0,
             "#0d0887"
            ],
            [
             0.1111111111111111,
             "#46039f"
            ],
            [
             0.2222222222222222,
             "#7201a8"
            ],
            [
             0.3333333333333333,
             "#9c179e"
            ],
            [
             0.4444444444444444,
             "#bd3786"
            ],
            [
             0.5555555555555556,
             "#d8576b"
            ],
            [
             0.6666666666666666,
             "#ed7953"
            ],
            [
             0.7777777777777778,
             "#fb9f3a"
            ],
            [
             0.8888888888888888,
             "#fdca26"
            ],
            [
             1,
             "#f0f921"
            ]
           ]
          },
          "colorway": [
           "#636efa",
           "#EF553B",
           "#00cc96",
           "#ab63fa",
           "#FFA15A",
           "#19d3f3",
           "#FF6692",
           "#B6E880",
           "#FF97FF",
           "#FECB52"
          ],
          "font": {
           "color": "#2a3f5f"
          },
          "geo": {
           "bgcolor": "white",
           "lakecolor": "white",
           "landcolor": "#E5ECF6",
           "showlakes": true,
           "showland": true,
           "subunitcolor": "white"
          },
          "hoverlabel": {
           "align": "left"
          },
          "hovermode": "closest",
          "mapbox": {
           "style": "light"
          },
          "paper_bgcolor": "white",
          "plot_bgcolor": "#E5ECF6",
          "polar": {
           "angularaxis": {
            "gridcolor": "white",
            "linecolor": "white",
            "ticks": ""
           },
           "bgcolor": "#E5ECF6",
           "radialaxis": {
            "gridcolor": "white",
            "linecolor": "white",
            "ticks": ""
           }
          },
          "scene": {
           "xaxis": {
            "backgroundcolor": "#E5ECF6",
            "gridcolor": "white",
            "gridwidth": 2,
            "linecolor": "white",
            "showbackground": true,
            "ticks": "",
            "zerolinecolor": "white"
           },
           "yaxis": {
            "backgroundcolor": "#E5ECF6",
            "gridcolor": "white",
            "gridwidth": 2,
            "linecolor": "white",
            "showbackground": true,
            "ticks": "",
            "zerolinecolor": "white"
           },
           "zaxis": {
            "backgroundcolor": "#E5ECF6",
            "gridcolor": "white",
            "gridwidth": 2,
            "linecolor": "white",
            "showbackground": true,
            "ticks": "",
            "zerolinecolor": "white"
           }
          },
          "shapedefaults": {
           "line": {
            "color": "#2a3f5f"
           }
          },
          "ternary": {
           "aaxis": {
            "gridcolor": "white",
            "linecolor": "white",
            "ticks": ""
           },
           "baxis": {
            "gridcolor": "white",
            "linecolor": "white",
            "ticks": ""
           },
           "bgcolor": "#E5ECF6",
           "caxis": {
            "gridcolor": "white",
            "linecolor": "white",
            "ticks": ""
           }
          },
          "title": {
           "x": 0.05
          },
          "xaxis": {
           "automargin": true,
           "gridcolor": "white",
           "linecolor": "white",
           "ticks": "",
           "title": {
            "standoff": 15
           },
           "zerolinecolor": "white",
           "zerolinewidth": 2
          },
          "yaxis": {
           "automargin": true,
           "gridcolor": "white",
           "linecolor": "white",
           "ticks": "",
           "title": {
            "standoff": 15
           },
           "zerolinecolor": "white",
           "zerolinewidth": 2
          }
         }
        },
        "title": {
         "font": {
          "color": "#4D5663"
         },
         "text": "AIDS Estimated Deaths (Botswana)"
        },
        "xaxis": {
         "autorange": true,
         "gridcolor": "#E1E5ED",
         "range": [
          1990,
          2021
         ],
         "showgrid": true,
         "tickfont": {
          "color": "#4D5663"
         },
         "title": {
          "font": {
           "color": "#4D5663"
          },
          "text": "Year"
         },
         "type": "linear",
         "zerolinecolor": "#E1E5ED"
        },
        "yaxis": {
         "autorange": true,
         "gridcolor": "#E1E5ED",
         "range": [
          477.7777777777777,
          18922.222222222223
         ],
         "showgrid": true,
         "tickfont": {
          "color": "#4D5663"
         },
         "title": {
          "font": {
           "color": "#4D5663"
          },
          "text": "Population"
         },
         "type": "linear",
         "zerolinecolor": "#E1E5ED"
        }
       }
      },
      "image/png": "[encoded data removed]",
      "text/html": [
       "<div>                            <div id=\"edf91cc6-4fb3-4af7-8f80-e473181ba854\" class=\"plotly-graph-div\" style=\"height:525px; width:100%;\"></div>            <script type=\"text/javascript\">                require([\"plotly\"], function(Plotly) {                    window.PLOTLYENV=window.PLOTLYENV || {};\n",
       "                    window.PLOTLYENV.BASE_URL='https://plot.ly';                                    if (document.getElementById(\"edf91cc6-4fb3-4af7-8f80-e473181ba854\")) {                    Plotly.newPlot(                        \"edf91cc6-4fb3-4af7-8f80-e473181ba854\",                        [{\"line\":{\"color\":\"rgba(255, 153, 51, 1.0)\",\"dash\":\"solid\",\"shape\":\"linear\",\"width\":1.3},\"mode\":\"lines\",\"name\":\"BWA\",\"text\":\"\",\"x\":[1990,1991,1992,1993,1994,1995,1996,1997,1998,1999,2000,2001,2002,2003,2004,2005,2006,2007,2008,2009,2010,2011,2012,2013,2014,2015,2016,2017,2018,2019,2020,2021],\"y\":[1400.0,2200.0,3100.0,4300.0,5700.0,7300.0,8800.0,11000.0,12000.0,14000.0,16000.0,17000.0,18000.0,18000.0,17000.0,13000.0,11000.0,9400.0,8500.0,7500.0,6500.0,6000.0,5400.0,5400.0,5300.0,5000.0,5200.0,5000.0,5000.0,5100.0,4800.0,4600.0],\"type\":\"scatter\"}],                        {\"legend\":{\"bgcolor\":\"#F5F6F9\",\"font\":{\"color\":\"#4D5663\"}},\"paper_bgcolor\":\"#F5F6F9\",\"plot_bgcolor\":\"#F5F6F9\",\"template\":{\"data\":{\"barpolar\":[{\"marker\":{\"line\":{\"color\":\"#E5ECF6\",\"width\":0.5},\"pattern\":{\"fillmode\":\"overlay\",\"size\":10,\"solidity\":0.2}},\"type\":\"barpolar\"}],\"bar\":[{\"error_x\":{\"color\":\"#2a3f5f\"},\"error_y\":{\"color\":\"#2a3f5f\"},\"marker\":{\"line\":{\"color\":\"#E5ECF6\",\"width\":0.5},\"pattern\":{\"fillmode\":\"overlay\",\"size\":10,\"solidity\":0.2}},\"type\":\"bar\"}],\"carpet\":[{\"aaxis\":{\"endlinecolor\":\"#2a3f5f\",\"gridcolor\":\"white\",\"linecolor\":\"white\",\"minorgridcolor\":\"white\",\"startlinecolor\":\"#2a3f5f\"},\"baxis\":{\"endlinecolor\":\"#2a3f5f\",\"gridcolor\":\"white\",\"linecolor\":\"white\",\"minorgridcolor\":\"white\",\"startlinecolor\":\"#2a3f5f\"},\"type\":\"carpet\"}],\"choropleth\":[{\"colorbar\":{\"outlinewidth\":0,\"ticks\":\"\"},\"type\":\"choropleth\"}],\"contourcarpet\":[{\"colorbar\":{\"outlinewidth\":0,\"ticks\":\"\"},\"type\":\"contourcarpet\"}],\"contour\":[{\"colorbar\":{\"outlinewidth\":0,\"ticks\":\"\"},\"colorscale\":[[0.0,\"#0d0887\"],[0.1111111111111111,\"#46039f\"],[0.2222222222222222,\"#7201a8\"],[0.3333333333333333,\"#9c179e\"],[0.4444444444444444,\"#bd3786\"],[0.5555555555555556,\"#d8576b\"],[0.6666666666666666,\"#ed7953\"],[0.7777777777777778,\"#fb9f3a\"],[0.8888888888888888,\"#fdca26\"],[1.0,\"#f0f921\"]],\"type\":\"contour\"}],\"heatmapgl\":[{\"colorbar\":{\"outlinewidth\":0,\"ticks\":\"\"},\"colorscale\":[[0.0,\"#0d0887\"],[0.1111111111111111,\"#46039f\"],[0.2222222222222222,\"#7201a8\"],[0.3333333333333333,\"#9c179e\"],[0.4444444444444444,\"#bd3786\"],[0.5555555555555556,\"#d8576b\"],[0.6666666666666666,\"#ed7953\"],[0.7777777777777778,\"#fb9f3a\"],[0.8888888888888888,\"#fdca26\"],[1.0,\"#f0f921\"]],\"type\":\"heatmapgl\"}],\"heatmap\":[{\"colorbar\":{\"outlinewidth\":0,\"ticks\":\"\"},\"colorscale\":[[0.0,\"#0d0887\"],[0.1111111111111111,\"#46039f\"],[0.2222222222222222,\"#7201a8\"],[0.3333333333333333,\"#9c179e\"],[0.4444444444444444,\"#bd3786\"],[0.5555555555555556,\"#d8576b\"],[0.6666666666666666,\"#ed7953\"],[0.7777777777777778,\"#fb9f3a\"],[0.8888888888888888,\"#fdca26\"],[1.0,\"#f0f921\"]],\"type\":\"heatmap\"}],\"histogram2dcontour\":[{\"colorbar\":{\"outlinewidth\":0,\"ticks\":\"\"},\"colorscale\":[[0.0,\"#0d0887\"],[0.1111111111111111,\"#46039f\"],[0.2222222222222222,\"#7201a8\"],[0.3333333333333333,\"#9c179e\"],[0.4444444444444444,\"#bd3786\"],[0.5555555555555556,\"#d8576b\"],[0.6666666666666666,\"#ed7953\"],[0.7777777777777778,\"#fb9f3a\"],[0.8888888888888888,\"#fdca26\"],[1.0,\"#f0f921\"]],\"type\":\"histogram2dcontour\"}],\"histogram2d\":[{\"colorbar\":{\"outlinewidth\":0,\"ticks\":\"\"},\"colorscale\":[[0.0,\"#0d0887\"],[0.1111111111111111,\"#46039f\"],[0.2222222222222222,\"#7201a8\"],[0.3333333333333333,\"#9c179e\"],[0.4444444444444444,\"#bd3786\"],[0.5555555555555556,\"#d8576b\"],[0.6666666666666666,\"#ed7953\"],[0.7777777777777778,\"#fb9f3a\"],[0.8888888888888888,\"#fdca26\"],[1.0,\"#f0f921\"]],\"type\":\"histogram2d\"}],\"histogram\":[{\"marker\":{\"pattern\":{\"fillmode\":\"overlay\",\"size\":10,\"solidity\":0.2}},\"type\":\"histogram\"}],\"mesh3d\":[{\"colorbar\":{\"outlinewidth\":0,\"ticks\":\"\"},\"type\":\"mesh3d\"}],\"parcoords\":[{\"line\":{\"colorbar\":{\"outlinewidth\":0,\"ticks\":\"\"}},\"type\":\"parcoords\"}],\"pie\":[{\"automargin\":true,\"type\":\"pie\"}],\"scatter3d\":[{\"line\":{\"colorbar\":{\"outlinewidth\":0,\"ticks\":\"\"}},\"marker\":{\"colorbar\":{\"outlinewidth\":0,\"ticks\":\"\"}},\"type\":\"scatter3d\"}],\"scattercarpet\":[{\"marker\":{\"colorbar\":{\"outlinewidth\":0,\"ticks\":\"\"}},\"type\":\"scattercarpet\"}],\"scattergeo\":[{\"marker\":{\"colorbar\":{\"outlinewidth\":0,\"ticks\":\"\"}},\"type\":\"scattergeo\"}],\"scattergl\":[{\"marker\":{\"colorbar\":{\"outlinewidth\":0,\"ticks\":\"\"}},\"type\":\"scattergl\"}],\"scattermapbox\":[{\"marker\":{\"colorbar\":{\"outlinewidth\":0,\"ticks\":\"\"}},\"type\":\"scattermapbox\"}],\"scatterpolargl\":[{\"marker\":{\"colorbar\":{\"outlinewidth\":0,\"ticks\":\"\"}},\"type\":\"scatterpolargl\"}],\"scatterpolar\":[{\"marker\":{\"colorbar\":{\"outlinewidth\":0,\"ticks\":\"\"}},\"type\":\"scatterpolar\"}],\"scatter\":[{\"fillpattern\":{\"fillmode\":\"overlay\",\"size\":10,\"solidity\":0.2},\"type\":\"scatter\"}],\"scatterternary\":[{\"marker\":{\"colorbar\":{\"outlinewidth\":0,\"ticks\":\"\"}},\"type\":\"scatterternary\"}],\"surface\":[{\"colorbar\":{\"outlinewidth\":0,\"ticks\":\"\"},\"colorscale\":[[0.0,\"#0d0887\"],[0.1111111111111111,\"#46039f\"],[0.2222222222222222,\"#7201a8\"],[0.3333333333333333,\"#9c179e\"],[0.4444444444444444,\"#bd3786\"],[0.5555555555555556,\"#d8576b\"],[0.6666666666666666,\"#ed7953\"],[0.7777777777777778,\"#fb9f3a\"],[0.8888888888888888,\"#fdca26\"],[1.0,\"#f0f921\"]],\"type\":\"surface\"}],\"table\":[{\"cells\":{\"fill\":{\"color\":\"#EBF0F8\"},\"line\":{\"color\":\"white\"}},\"header\":{\"fill\":{\"color\":\"#C8D4E3\"},\"line\":{\"color\":\"white\"}},\"type\":\"table\"}]},\"layout\":{\"annotationdefaults\":{\"arrowcolor\":\"#2a3f5f\",\"arrowhead\":0,\"arrowwidth\":1},\"autotypenumbers\":\"strict\",\"coloraxis\":{\"colorbar\":{\"outlinewidth\":0,\"ticks\":\"\"}},\"colorscale\":{\"diverging\":[[0,\"#8e0152\"],[0.1,\"#c51b7d\"],[0.2,\"#de77ae\"],[0.3,\"#f1b6da\"],[0.4,\"#fde0ef\"],[0.5,\"#f7f7f7\"],[0.6,\"#e6f5d0\"],[0.7,\"#b8e186\"],[0.8,\"#7fbc41\"],[0.9,\"#4d9221\"],[1,\"#276419\"]],\"sequential\":[[0.0,\"#0d0887\"],[0.1111111111111111,\"#46039f\"],[0.2222222222222222,\"#7201a8\"],[0.3333333333333333,\"#9c179e\"],[0.4444444444444444,\"#bd3786\"],[0.5555555555555556,\"#d8576b\"],[0.6666666666666666,\"#ed7953\"],[0.7777777777777778,\"#fb9f3a\"],[0.8888888888888888,\"#fdca26\"],[1.0,\"#f0f921\"]],\"sequentialminus\":[[0.0,\"#0d0887\"],[0.1111111111111111,\"#46039f\"],[0.2222222222222222,\"#7201a8\"],[0.3333333333333333,\"#9c179e\"],[0.4444444444444444,\"#bd3786\"],[0.5555555555555556,\"#d8576b\"],[0.6666666666666666,\"#ed7953\"],[0.7777777777777778,\"#fb9f3a\"],[0.8888888888888888,\"#fdca26\"],[1.0,\"#f0f921\"]]},\"colorway\":[\"#636efa\",\"#EF553B\",\"#00cc96\",\"#ab63fa\",\"#FFA15A\",\"#19d3f3\",\"#FF6692\",\"#B6E880\",\"#FF97FF\",\"#FECB52\"],\"font\":{\"color\":\"#2a3f5f\"},\"geo\":{\"bgcolor\":\"white\",\"lakecolor\":\"white\",\"landcolor\":\"#E5ECF6\",\"showlakes\":true,\"showland\":true,\"subunitcolor\":\"white\"},\"hoverlabel\":{\"align\":\"left\"},\"hovermode\":\"closest\",\"mapbox\":{\"style\":\"light\"},\"paper_bgcolor\":\"white\",\"plot_bgcolor\":\"#E5ECF6\",\"polar\":{\"angularaxis\":{\"gridcolor\":\"white\",\"linecolor\":\"white\",\"ticks\":\"\"},\"bgcolor\":\"#E5ECF6\",\"radialaxis\":{\"gridcolor\":\"white\",\"linecolor\":\"white\",\"ticks\":\"\"}},\"scene\":{\"xaxis\":{\"backgroundcolor\":\"#E5ECF6\",\"gridcolor\":\"white\",\"gridwidth\":2,\"linecolor\":\"white\",\"showbackground\":true,\"ticks\":\"\",\"zerolinecolor\":\"white\"},\"yaxis\":{\"backgroundcolor\":\"#E5ECF6\",\"gridcolor\":\"white\",\"gridwidth\":2,\"linecolor\":\"white\",\"showbackground\":true,\"ticks\":\"\",\"zerolinecolor\":\"white\"},\"zaxis\":{\"backgroundcolor\":\"#E5ECF6\",\"gridcolor\":\"white\",\"gridwidth\":2,\"linecolor\":\"white\",\"showbackground\":true,\"ticks\":\"\",\"zerolinecolor\":\"white\"}},\"shapedefaults\":{\"line\":{\"color\":\"#2a3f5f\"}},\"ternary\":{\"aaxis\":{\"gridcolor\":\"white\",\"linecolor\":\"white\",\"ticks\":\"\"},\"baxis\":{\"gridcolor\":\"white\",\"linecolor\":\"white\",\"ticks\":\"\"},\"bgcolor\":\"#E5ECF6\",\"caxis\":{\"gridcolor\":\"white\",\"linecolor\":\"white\",\"ticks\":\"\"}},\"title\":{\"x\":0.05},\"xaxis\":{\"automargin\":true,\"gridcolor\":\"white\",\"linecolor\":\"white\",\"ticks\":\"\",\"title\":{\"standoff\":15},\"zerolinecolor\":\"white\",\"zerolinewidth\":2},\"yaxis\":{\"automargin\":true,\"gridcolor\":\"white\",\"linecolor\":\"white\",\"ticks\":\"\",\"title\":{\"standoff\":15},\"zerolinecolor\":\"white\",\"zerolinewidth\":2}}},\"title\":{\"font\":{\"color\":\"#4D5663\"},\"text\":\"AIDS Estimated Deaths (Botswana)\"},\"xaxis\":{\"gridcolor\":\"#E1E5ED\",\"showgrid\":true,\"tickfont\":{\"color\":\"#4D5663\"},\"title\":{\"font\":{\"color\":\"#4D5663\"},\"text\":\"Year\"},\"zerolinecolor\":\"#E1E5ED\"},\"yaxis\":{\"gridcolor\":\"#E1E5ED\",\"showgrid\":true,\"tickfont\":{\"color\":\"#4D5663\"},\"title\":{\"font\":{\"color\":\"#4D5663\"},\"text\":\"Population\"},\"zerolinecolor\":\"#E1E5ED\"}},                        {\"showLink\": true, \"linkText\": \"Export to plot.ly\", \"plotlyServerURL\": \"https://plot.ly\", \"responsive\": true}                    ).then(function(){\n",
       "                            \n",
       "var gd = document.getElementById('edf91cc6-4fb3-4af7-8f80-e473181ba854');\n",
       "var x = new MutationObserver(function (mutations, observer) {{\n",
       "        var display = window.getComputedStyle(gd).display;\n",
       "        if (!display || display === 'none') {{\n",
       "            console.log([gd, 'removed!']);\n",
       "            Plotly.purge(gd);\n",
       "            observer.disconnect();\n",
       "        }}\n",
       "}});\n",
       "\n",
       "// Listen for the removal of the full notebook cells\n",
       "var notebookContainer = gd.closest('#notebook-container');\n",
       "if (notebookContainer) {{\n",
       "    x.observe(notebookContainer, {childList: true});\n",
       "}}\n",
       "\n",
       "// Listen for the clearing of the current output cell\n",
       "var outputEl = gd.closest('.output');\n",
       "if (outputEl) {{\n",
       "    x.observe(outputEl, {childList: true});\n",
       "}}\n",
       "\n",
       "                        })                };                });            </script>        </div>"
      ]
     },
     "metadata": {},
     "output_type": "display_data"
    }
   ],
   "source": [
    "#Aids Estimated Deaths Plotted (Botswana)\n",
    "\n",
    "aids_death = {\"SH.DYN.AIDS.DH\" : \"BWA\"}\n",
    "aids = wbdata.get_dataframe(aids_death, country = \"BWA\")\n",
    "aids.index = aids.index.astype(int)\n",
    "aids = aids .dropna().sort_index()\n",
    "aids.iplot(title=\"AIDS Estimated Deaths (Botswana)\",xTitle='Year',yTitle='Population')"
   ]
  },
  {
   "cell_type": "code",
   "execution_count": 15,
   "id": "a40692bd-24d9-4b5f-830f-b452d6854126",
   "metadata": {},
   "outputs": [
    {
     "data": {
      "application/vnd.plotly.v1+json": {
       "config": {
        "linkText": "Export to plot.ly",
        "plotlyServerURL": "https://plot.ly",
        "showLink": true
       },
       "data": [
        {
         "line": {
          "color": "rgba(255, 153, 51, 1.0)",
          "dash": "solid",
          "shape": "linear",
          "width": 1.3
         },
         "mode": "lines",
         "name": "BWA",
         "text": "",
         "type": "scatter",
         "x": [
          2022,
          2021,
          2020,
          2019,
          2018,
          2017,
          2016,
          2015,
          2014,
          2013,
          2012,
          2011,
          2010,
          2009,
          2008,
          2007,
          2006,
          2005,
          2004,
          2003,
          2002,
          2001,
          2000,
          1999,
          1998,
          1997,
          1996,
          1995,
          1994,
          1993,
          1992,
          1991,
          1990,
          1989,
          1988,
          1987,
          1986,
          1985,
          1984,
          1983,
          1982,
          1981,
          1980,
          1979,
          1978,
          1977,
          1976,
          1975,
          1974,
          1973,
          1972,
          1971,
          1970,
          1969,
          1968,
          1967,
          1966,
          1965,
          1964,
          1963,
          1962,
          1961,
          1960
         ],
         "y": [
          "",
          61.4,
          61,
          60.6,
          60.2,
          59.8,
          59.4,
          59,
          58.6,
          58.2,
          57.9,
          57.6,
          57.3,
          57.2,
          57.2,
          57.3,
          57.3,
          57.4,
          57.5,
          57.6,
          57.7,
          57.8,
          58,
          58.1,
          58.2,
          58.3,
          58.4,
          58.5,
          58.5,
          58.5,
          58.4,
          58.2,
          57.9,
          "",
          "",
          "",
          "",
          "",
          "",
          "",
          "",
          "",
          "",
          "",
          "",
          "",
          "",
          "",
          "",
          "",
          "",
          "",
          "",
          "",
          "",
          "",
          "",
          "",
          "",
          "",
          "",
          "",
          ""
         ]
        }
       ],
       "layout": {
        "autosize": true,
        "legend": {
         "bgcolor": "#F5F6F9",
         "font": {
          "color": "#4D5663"
         }
        },
        "paper_bgcolor": "#F5F6F9",
        "plot_bgcolor": "#F5F6F9",
        "template": {
         "data": {
          "bar": [
           {
            "error_x": {
             "color": "#2a3f5f"
            },
            "error_y": {
             "color": "#2a3f5f"
            },
            "marker": {
             "line": {
              "color": "#E5ECF6",
              "width": 0.5
             },
             "pattern": {
              "fillmode": "overlay",
              "size": 10,
              "solidity": 0.2
             }
            },
            "type": "bar"
           }
          ],
          "barpolar": [
           {
            "marker": {
             "line": {
              "color": "#E5ECF6",
              "width": 0.5
             },
             "pattern": {
              "fillmode": "overlay",
              "size": 10,
              "solidity": 0.2
             }
            },
            "type": "barpolar"
           }
          ],
          "carpet": [
           {
            "aaxis": {
             "endlinecolor": "#2a3f5f",
             "gridcolor": "white",
             "linecolor": "white",
             "minorgridcolor": "white",
             "startlinecolor": "#2a3f5f"
            },
            "baxis": {
             "endlinecolor": "#2a3f5f",
             "gridcolor": "white",
             "linecolor": "white",
             "minorgridcolor": "white",
             "startlinecolor": "#2a3f5f"
            },
            "type": "carpet"
           }
          ],
          "choropleth": [
           {
            "colorbar": {
             "outlinewidth": 0,
             "ticks": ""
            },
            "type": "choropleth"
           }
          ],
          "contour": [
           {
            "colorbar": {
             "outlinewidth": 0,
             "ticks": ""
            },
            "colorscale": [
             [
              0,
              "#0d0887"
             ],
             [
              0.1111111111111111,
              "#46039f"
             ],
             [
              0.2222222222222222,
              "#7201a8"
             ],
             [
              0.3333333333333333,
              "#9c179e"
             ],
             [
              0.4444444444444444,
              "#bd3786"
             ],
             [
              0.5555555555555556,
              "#d8576b"
             ],
             [
              0.6666666666666666,
              "#ed7953"
             ],
             [
              0.7777777777777778,
              "#fb9f3a"
             ],
             [
              0.8888888888888888,
              "#fdca26"
             ],
             [
              1,
              "#f0f921"
             ]
            ],
            "type": "contour"
           }
          ],
          "contourcarpet": [
           {
            "colorbar": {
             "outlinewidth": 0,
             "ticks": ""
            },
            "type": "contourcarpet"
           }
          ],
          "heatmap": [
           {
            "colorbar": {
             "outlinewidth": 0,
             "ticks": ""
            },
            "colorscale": [
             [
              0,
              "#0d0887"
             ],
             [
              0.1111111111111111,
              "#46039f"
             ],
             [
              0.2222222222222222,
              "#7201a8"
             ],
             [
              0.3333333333333333,
              "#9c179e"
             ],
             [
              0.4444444444444444,
              "#bd3786"
             ],
             [
              0.5555555555555556,
              "#d8576b"
             ],
             [
              0.6666666666666666,
              "#ed7953"
             ],
             [
              0.7777777777777778,
              "#fb9f3a"
             ],
             [
              0.8888888888888888,
              "#fdca26"
             ],
             [
              1,
              "#f0f921"
             ]
            ],
            "type": "heatmap"
           }
          ],
          "heatmapgl": [
           {
            "colorbar": {
             "outlinewidth": 0,
             "ticks": ""
            },
            "colorscale": [
             [
              0,
              "#0d0887"
             ],
             [
              0.1111111111111111,
              "#46039f"
             ],
             [
              0.2222222222222222,
              "#7201a8"
             ],
             [
              0.3333333333333333,
              "#9c179e"
             ],
             [
              0.4444444444444444,
              "#bd3786"
             ],
             [
              0.5555555555555556,
              "#d8576b"
             ],
             [
              0.6666666666666666,
              "#ed7953"
             ],
             [
              0.7777777777777778,
              "#fb9f3a"
             ],
             [
              0.8888888888888888,
              "#fdca26"
             ],
             [
              1,
              "#f0f921"
             ]
            ],
            "type": "heatmapgl"
           }
          ],
          "histogram": [
           {
            "marker": {
             "pattern": {
              "fillmode": "overlay",
              "size": 10,
              "solidity": 0.2
             }
            },
            "type": "histogram"
           }
          ],
          "histogram2d": [
           {
            "colorbar": {
             "outlinewidth": 0,
             "ticks": ""
            },
            "colorscale": [
             [
              0,
              "#0d0887"
             ],
             [
              0.1111111111111111,
              "#46039f"
             ],
             [
              0.2222222222222222,
              "#7201a8"
             ],
             [
              0.3333333333333333,
              "#9c179e"
             ],
             [
              0.4444444444444444,
              "#bd3786"
             ],
             [
              0.5555555555555556,
              "#d8576b"
             ],
             [
              0.6666666666666666,
              "#ed7953"
             ],
             [
              0.7777777777777778,
              "#fb9f3a"
             ],
             [
              0.8888888888888888,
              "#fdca26"
             ],
             [
              1,
              "#f0f921"
             ]
            ],
            "type": "histogram2d"
           }
          ],
          "histogram2dcontour": [
           {
            "colorbar": {
             "outlinewidth": 0,
             "ticks": ""
            },
            "colorscale": [
             [
              0,
              "#0d0887"
             ],
             [
              0.1111111111111111,
              "#46039f"
             ],
             [
              0.2222222222222222,
              "#7201a8"
             ],
             [
              0.3333333333333333,
              "#9c179e"
             ],
             [
              0.4444444444444444,
              "#bd3786"
             ],
             [
              0.5555555555555556,
              "#d8576b"
             ],
             [
              0.6666666666666666,
              "#ed7953"
             ],
             [
              0.7777777777777778,
              "#fb9f3a"
             ],
             [
              0.8888888888888888,
              "#fdca26"
             ],
             [
              1,
              "#f0f921"
             ]
            ],
            "type": "histogram2dcontour"
           }
          ],
          "mesh3d": [
           {
            "colorbar": {
             "outlinewidth": 0,
             "ticks": ""
            },
            "type": "mesh3d"
           }
          ],
          "parcoords": [
           {
            "line": {
             "colorbar": {
              "outlinewidth": 0,
              "ticks": ""
             }
            },
            "type": "parcoords"
           }
          ],
          "pie": [
           {
            "automargin": true,
            "type": "pie"
           }
          ],
          "scatter": [
           {
            "fillpattern": {
             "fillmode": "overlay",
             "size": 10,
             "solidity": 0.2
            },
            "type": "scatter"
           }
          ],
          "scatter3d": [
           {
            "line": {
             "colorbar": {
              "outlinewidth": 0,
              "ticks": ""
             }
            },
            "marker": {
             "colorbar": {
              "outlinewidth": 0,
              "ticks": ""
             }
            },
            "type": "scatter3d"
           }
          ],
          "scattercarpet": [
           {
            "marker": {
             "colorbar": {
              "outlinewidth": 0,
              "ticks": ""
             }
            },
            "type": "scattercarpet"
           }
          ],
          "scattergeo": [
           {
            "marker": {
             "colorbar": {
              "outlinewidth": 0,
              "ticks": ""
             }
            },
            "type": "scattergeo"
           }
          ],
          "scattergl": [
           {
            "marker": {
             "colorbar": {
              "outlinewidth": 0,
              "ticks": ""
             }
            },
            "type": "scattergl"
           }
          ],
          "scattermapbox": [
           {
            "marker": {
             "colorbar": {
              "outlinewidth": 0,
              "ticks": ""
             }
            },
            "type": "scattermapbox"
           }
          ],
          "scatterpolar": [
           {
            "marker": {
             "colorbar": {
              "outlinewidth": 0,
              "ticks": ""
             }
            },
            "type": "scatterpolar"
           }
          ],
          "scatterpolargl": [
           {
            "marker": {
             "colorbar": {
              "outlinewidth": 0,
              "ticks": ""
             }
            },
            "type": "scatterpolargl"
           }
          ],
          "scatterternary": [
           {
            "marker": {
             "colorbar": {
              "outlinewidth": 0,
              "ticks": ""
             }
            },
            "type": "scatterternary"
           }
          ],
          "surface": [
           {
            "colorbar": {
             "outlinewidth": 0,
             "ticks": ""
            },
            "colorscale": [
             [
              0,
              "#0d0887"
             ],
             [
              0.1111111111111111,
              "#46039f"
             ],
             [
              0.2222222222222222,
              "#7201a8"
             ],
             [
              0.3333333333333333,
              "#9c179e"
             ],
             [
              0.4444444444444444,
              "#bd3786"
             ],
             [
              0.5555555555555556,
              "#d8576b"
             ],
             [
              0.6666666666666666,
              "#ed7953"
             ],
             [
              0.7777777777777778,
              "#fb9f3a"
             ],
             [
              0.8888888888888888,
              "#fdca26"
             ],
             [
              1,
              "#f0f921"
             ]
            ],
            "type": "surface"
           }
          ],
          "table": [
           {
            "cells": {
             "fill": {
              "color": "#EBF0F8"
             },
             "line": {
              "color": "white"
             }
            },
            "header": {
             "fill": {
              "color": "#C8D4E3"
             },
             "line": {
              "color": "white"
             }
            },
            "type": "table"
           }
          ]
         },
         "layout": {
          "annotationdefaults": {
           "arrowcolor": "#2a3f5f",
           "arrowhead": 0,
           "arrowwidth": 1
          },
          "autotypenumbers": "strict",
          "coloraxis": {
           "colorbar": {
            "outlinewidth": 0,
            "ticks": ""
           }
          },
          "colorscale": {
           "diverging": [
            [
             0,
             "#8e0152"
            ],
            [
             0.1,
             "#c51b7d"
            ],
            [
             0.2,
             "#de77ae"
            ],
            [
             0.3,
             "#f1b6da"
            ],
            [
             0.4,
             "#fde0ef"
            ],
            [
             0.5,
             "#f7f7f7"
            ],
            [
             0.6,
             "#e6f5d0"
            ],
            [
             0.7,
             "#b8e186"
            ],
            [
             0.8,
             "#7fbc41"
            ],
            [
             0.9,
             "#4d9221"
            ],
            [
             1,
             "#276419"
            ]
           ],
           "sequential": [
            [
             0,
             "#0d0887"
            ],
            [
             0.1111111111111111,
             "#46039f"
            ],
            [
             0.2222222222222222,
             "#7201a8"
            ],
            [
             0.3333333333333333,
             "#9c179e"
            ],
            [
             0.4444444444444444,
             "#bd3786"
            ],
            [
             0.5555555555555556,
             "#d8576b"
            ],
            [
             0.6666666666666666,
             "#ed7953"
            ],
            [
             0.7777777777777778,
             "#fb9f3a"
            ],
            [
             0.8888888888888888,
             "#fdca26"
            ],
            [
             1,
             "#f0f921"
            ]
           ],
           "sequentialminus": [
            [
             0,
             "#0d0887"
            ],
            [
             0.1111111111111111,
             "#46039f"
            ],
            [
             0.2222222222222222,
             "#7201a8"
            ],
            [
             0.3333333333333333,
             "#9c179e"
            ],
            [
             0.4444444444444444,
             "#bd3786"
            ],
            [
             0.5555555555555556,
             "#d8576b"
            ],
            [
             0.6666666666666666,
             "#ed7953"
            ],
            [
             0.7777777777777778,
             "#fb9f3a"
            ],
            [
             0.8888888888888888,
             "#fdca26"
            ],
            [
             1,
             "#f0f921"
            ]
           ]
          },
          "colorway": [
           "#636efa",
           "#EF553B",
           "#00cc96",
           "#ab63fa",
           "#FFA15A",
           "#19d3f3",
           "#FF6692",
           "#B6E880",
           "#FF97FF",
           "#FECB52"
          ],
          "font": {
           "color": "#2a3f5f"
          },
          "geo": {
           "bgcolor": "white",
           "lakecolor": "white",
           "landcolor": "#E5ECF6",
           "showlakes": true,
           "showland": true,
           "subunitcolor": "white"
          },
          "hoverlabel": {
           "align": "left"
          },
          "hovermode": "closest",
          "mapbox": {
           "style": "light"
          },
          "paper_bgcolor": "white",
          "plot_bgcolor": "#E5ECF6",
          "polar": {
           "angularaxis": {
            "gridcolor": "white",
            "linecolor": "white",
            "ticks": ""
           },
           "bgcolor": "#E5ECF6",
           "radialaxis": {
            "gridcolor": "white",
            "linecolor": "white",
            "ticks": ""
           }
          },
          "scene": {
           "xaxis": {
            "backgroundcolor": "#E5ECF6",
            "gridcolor": "white",
            "gridwidth": 2,
            "linecolor": "white",
            "showbackground": true,
            "ticks": "",
            "zerolinecolor": "white"
           },
           "yaxis": {
            "backgroundcolor": "#E5ECF6",
            "gridcolor": "white",
            "gridwidth": 2,
            "linecolor": "white",
            "showbackground": true,
            "ticks": "",
            "zerolinecolor": "white"
           },
           "zaxis": {
            "backgroundcolor": "#E5ECF6",
            "gridcolor": "white",
            "gridwidth": 2,
            "linecolor": "white",
            "showbackground": true,
            "ticks": "",
            "zerolinecolor": "white"
           }
          },
          "shapedefaults": {
           "line": {
            "color": "#2a3f5f"
           }
          },
          "ternary": {
           "aaxis": {
            "gridcolor": "white",
            "linecolor": "white",
            "ticks": ""
           },
           "baxis": {
            "gridcolor": "white",
            "linecolor": "white",
            "ticks": ""
           },
           "bgcolor": "#E5ECF6",
           "caxis": {
            "gridcolor": "white",
            "linecolor": "white",
            "ticks": ""
           }
          },
          "title": {
           "x": 0.05
          },
          "xaxis": {
           "automargin": true,
           "gridcolor": "white",
           "linecolor": "white",
           "ticks": "",
           "title": {
            "standoff": 15
           },
           "zerolinecolor": "white",
           "zerolinewidth": 2
          },
          "yaxis": {
           "automargin": true,
           "gridcolor": "white",
           "linecolor": "white",
           "ticks": "",
           "title": {
            "standoff": 15
           },
           "zerolinecolor": "white",
           "zerolinewidth": 2
          }
         }
        },
        "title": {
         "font": {
          "color": "#4D5663"
         },
         "text": "Women's share of population ages 15+ living with HIV (%)"
        },
        "xaxis": {
         "autorange": true,
         "gridcolor": "#E1E5ED",
         "range": [
          1960,
          2022
         ],
         "showgrid": true,
         "tickfont": {
          "color": "#4D5663"
         },
         "title": {
          "font": {
           "color": "#4D5663"
          },
          "text": "Year"
         },
         "type": "linear",
         "zerolinecolor": "#E1E5ED"
        },
        "yaxis": {
         "autorange": true,
         "gridcolor": "#E1E5ED",
         "range": [
          56.96666666666667,
          61.63333333333333
         ],
         "showgrid": true,
         "tickfont": {
          "color": "#4D5663"
         },
         "title": {
          "font": {
           "color": "#4D5663"
          },
          "text": "% Population"
         },
         "type": "linear",
         "zerolinecolor": "#E1E5ED"
        }
       }
      },
      "image/png": "[encoded data removed]",
      "text/html": [
       "<div>                            <div id=\"51be3bb2-ea28-4bd8-88b6-6de7de5fd775\" class=\"plotly-graph-div\" style=\"height:525px; width:100%;\"></div>            <script type=\"text/javascript\">                require([\"plotly\"], function(Plotly) {                    window.PLOTLYENV=window.PLOTLYENV || {};\n",
       "                    window.PLOTLYENV.BASE_URL='https://plot.ly';                                    if (document.getElementById(\"51be3bb2-ea28-4bd8-88b6-6de7de5fd775\")) {                    Plotly.newPlot(                        \"51be3bb2-ea28-4bd8-88b6-6de7de5fd775\",                        [{\"line\":{\"color\":\"rgba(255, 153, 51, 1.0)\",\"dash\":\"solid\",\"shape\":\"linear\",\"width\":1.3},\"mode\":\"lines\",\"name\":\"BWA\",\"text\":\"\",\"x\":[2022,2021,2020,2019,2018,2017,2016,2015,2014,2013,2012,2011,2010,2009,2008,2007,2006,2005,2004,2003,2002,2001,2000,1999,1998,1997,1996,1995,1994,1993,1992,1991,1990,1989,1988,1987,1986,1985,1984,1983,1982,1981,1980,1979,1978,1977,1976,1975,1974,1973,1972,1971,1970,1969,1968,1967,1966,1965,1964,1963,1962,1961,1960],\"y\":[\"\",61.4,61.0,60.6,60.2,59.8,59.4,59.0,58.6,58.2,57.9,57.6,57.3,57.2,57.2,57.3,57.3,57.4,57.5,57.6,57.7,57.8,58.0,58.1,58.2,58.3,58.4,58.5,58.5,58.5,58.4,58.2,57.9,\"\",\"\",\"\",\"\",\"\",\"\",\"\",\"\",\"\",\"\",\"\",\"\",\"\",\"\",\"\",\"\",\"\",\"\",\"\",\"\",\"\",\"\",\"\",\"\",\"\",\"\",\"\",\"\",\"\",\"\"],\"type\":\"scatter\"}],                        {\"legend\":{\"bgcolor\":\"#F5F6F9\",\"font\":{\"color\":\"#4D5663\"}},\"paper_bgcolor\":\"#F5F6F9\",\"plot_bgcolor\":\"#F5F6F9\",\"template\":{\"data\":{\"barpolar\":[{\"marker\":{\"line\":{\"color\":\"#E5ECF6\",\"width\":0.5},\"pattern\":{\"fillmode\":\"overlay\",\"size\":10,\"solidity\":0.2}},\"type\":\"barpolar\"}],\"bar\":[{\"error_x\":{\"color\":\"#2a3f5f\"},\"error_y\":{\"color\":\"#2a3f5f\"},\"marker\":{\"line\":{\"color\":\"#E5ECF6\",\"width\":0.5},\"pattern\":{\"fillmode\":\"overlay\",\"size\":10,\"solidity\":0.2}},\"type\":\"bar\"}],\"carpet\":[{\"aaxis\":{\"endlinecolor\":\"#2a3f5f\",\"gridcolor\":\"white\",\"linecolor\":\"white\",\"minorgridcolor\":\"white\",\"startlinecolor\":\"#2a3f5f\"},\"baxis\":{\"endlinecolor\":\"#2a3f5f\",\"gridcolor\":\"white\",\"linecolor\":\"white\",\"minorgridcolor\":\"white\",\"startlinecolor\":\"#2a3f5f\"},\"type\":\"carpet\"}],\"choropleth\":[{\"colorbar\":{\"outlinewidth\":0,\"ticks\":\"\"},\"type\":\"choropleth\"}],\"contourcarpet\":[{\"colorbar\":{\"outlinewidth\":0,\"ticks\":\"\"},\"type\":\"contourcarpet\"}],\"contour\":[{\"colorbar\":{\"outlinewidth\":0,\"ticks\":\"\"},\"colorscale\":[[0.0,\"#0d0887\"],[0.1111111111111111,\"#46039f\"],[0.2222222222222222,\"#7201a8\"],[0.3333333333333333,\"#9c179e\"],[0.4444444444444444,\"#bd3786\"],[0.5555555555555556,\"#d8576b\"],[0.6666666666666666,\"#ed7953\"],[0.7777777777777778,\"#fb9f3a\"],[0.8888888888888888,\"#fdca26\"],[1.0,\"#f0f921\"]],\"type\":\"contour\"}],\"heatmapgl\":[{\"colorbar\":{\"outlinewidth\":0,\"ticks\":\"\"},\"colorscale\":[[0.0,\"#0d0887\"],[0.1111111111111111,\"#46039f\"],[0.2222222222222222,\"#7201a8\"],[0.3333333333333333,\"#9c179e\"],[0.4444444444444444,\"#bd3786\"],[0.5555555555555556,\"#d8576b\"],[0.6666666666666666,\"#ed7953\"],[0.7777777777777778,\"#fb9f3a\"],[0.8888888888888888,\"#fdca26\"],[1.0,\"#f0f921\"]],\"type\":\"heatmapgl\"}],\"heatmap\":[{\"colorbar\":{\"outlinewidth\":0,\"ticks\":\"\"},\"colorscale\":[[0.0,\"#0d0887\"],[0.1111111111111111,\"#46039f\"],[0.2222222222222222,\"#7201a8\"],[0.3333333333333333,\"#9c179e\"],[0.4444444444444444,\"#bd3786\"],[0.5555555555555556,\"#d8576b\"],[0.6666666666666666,\"#ed7953\"],[0.7777777777777778,\"#fb9f3a\"],[0.8888888888888888,\"#fdca26\"],[1.0,\"#f0f921\"]],\"type\":\"heatmap\"}],\"histogram2dcontour\":[{\"colorbar\":{\"outlinewidth\":0,\"ticks\":\"\"},\"colorscale\":[[0.0,\"#0d0887\"],[0.1111111111111111,\"#46039f\"],[0.2222222222222222,\"#7201a8\"],[0.3333333333333333,\"#9c179e\"],[0.4444444444444444,\"#bd3786\"],[0.5555555555555556,\"#d8576b\"],[0.6666666666666666,\"#ed7953\"],[0.7777777777777778,\"#fb9f3a\"],[0.8888888888888888,\"#fdca26\"],[1.0,\"#f0f921\"]],\"type\":\"histogram2dcontour\"}],\"histogram2d\":[{\"colorbar\":{\"outlinewidth\":0,\"ticks\":\"\"},\"colorscale\":[[0.0,\"#0d0887\"],[0.1111111111111111,\"#46039f\"],[0.2222222222222222,\"#7201a8\"],[0.3333333333333333,\"#9c179e\"],[0.4444444444444444,\"#bd3786\"],[0.5555555555555556,\"#d8576b\"],[0.6666666666666666,\"#ed7953\"],[0.7777777777777778,\"#fb9f3a\"],[0.8888888888888888,\"#fdca26\"],[1.0,\"#f0f921\"]],\"type\":\"histogram2d\"}],\"histogram\":[{\"marker\":{\"pattern\":{\"fillmode\":\"overlay\",\"size\":10,\"solidity\":0.2}},\"type\":\"histogram\"}],\"mesh3d\":[{\"colorbar\":{\"outlinewidth\":0,\"ticks\":\"\"},\"type\":\"mesh3d\"}],\"parcoords\":[{\"line\":{\"colorbar\":{\"outlinewidth\":0,\"ticks\":\"\"}},\"type\":\"parcoords\"}],\"pie\":[{\"automargin\":true,\"type\":\"pie\"}],\"scatter3d\":[{\"line\":{\"colorbar\":{\"outlinewidth\":0,\"ticks\":\"\"}},\"marker\":{\"colorbar\":{\"outlinewidth\":0,\"ticks\":\"\"}},\"type\":\"scatter3d\"}],\"scattercarpet\":[{\"marker\":{\"colorbar\":{\"outlinewidth\":0,\"ticks\":\"\"}},\"type\":\"scattercarpet\"}],\"scattergeo\":[{\"marker\":{\"colorbar\":{\"outlinewidth\":0,\"ticks\":\"\"}},\"type\":\"scattergeo\"}],\"scattergl\":[{\"marker\":{\"colorbar\":{\"outlinewidth\":0,\"ticks\":\"\"}},\"type\":\"scattergl\"}],\"scattermapbox\":[{\"marker\":{\"colorbar\":{\"outlinewidth\":0,\"ticks\":\"\"}},\"type\":\"scattermapbox\"}],\"scatterpolargl\":[{\"marker\":{\"colorbar\":{\"outlinewidth\":0,\"ticks\":\"\"}},\"type\":\"scatterpolargl\"}],\"scatterpolar\":[{\"marker\":{\"colorbar\":{\"outlinewidth\":0,\"ticks\":\"\"}},\"type\":\"scatterpolar\"}],\"scatter\":[{\"fillpattern\":{\"fillmode\":\"overlay\",\"size\":10,\"solidity\":0.2},\"type\":\"scatter\"}],\"scatterternary\":[{\"marker\":{\"colorbar\":{\"outlinewidth\":0,\"ticks\":\"\"}},\"type\":\"scatterternary\"}],\"surface\":[{\"colorbar\":{\"outlinewidth\":0,\"ticks\":\"\"},\"colorscale\":[[0.0,\"#0d0887\"],[0.1111111111111111,\"#46039f\"],[0.2222222222222222,\"#7201a8\"],[0.3333333333333333,\"#9c179e\"],[0.4444444444444444,\"#bd3786\"],[0.5555555555555556,\"#d8576b\"],[0.6666666666666666,\"#ed7953\"],[0.7777777777777778,\"#fb9f3a\"],[0.8888888888888888,\"#fdca26\"],[1.0,\"#f0f921\"]],\"type\":\"surface\"}],\"table\":[{\"cells\":{\"fill\":{\"color\":\"#EBF0F8\"},\"line\":{\"color\":\"white\"}},\"header\":{\"fill\":{\"color\":\"#C8D4E3\"},\"line\":{\"color\":\"white\"}},\"type\":\"table\"}]},\"layout\":{\"annotationdefaults\":{\"arrowcolor\":\"#2a3f5f\",\"arrowhead\":0,\"arrowwidth\":1},\"autotypenumbers\":\"strict\",\"coloraxis\":{\"colorbar\":{\"outlinewidth\":0,\"ticks\":\"\"}},\"colorscale\":{\"diverging\":[[0,\"#8e0152\"],[0.1,\"#c51b7d\"],[0.2,\"#de77ae\"],[0.3,\"#f1b6da\"],[0.4,\"#fde0ef\"],[0.5,\"#f7f7f7\"],[0.6,\"#e6f5d0\"],[0.7,\"#b8e186\"],[0.8,\"#7fbc41\"],[0.9,\"#4d9221\"],[1,\"#276419\"]],\"sequential\":[[0.0,\"#0d0887\"],[0.1111111111111111,\"#46039f\"],[0.2222222222222222,\"#7201a8\"],[0.3333333333333333,\"#9c179e\"],[0.4444444444444444,\"#bd3786\"],[0.5555555555555556,\"#d8576b\"],[0.6666666666666666,\"#ed7953\"],[0.7777777777777778,\"#fb9f3a\"],[0.8888888888888888,\"#fdca26\"],[1.0,\"#f0f921\"]],\"sequentialminus\":[[0.0,\"#0d0887\"],[0.1111111111111111,\"#46039f\"],[0.2222222222222222,\"#7201a8\"],[0.3333333333333333,\"#9c179e\"],[0.4444444444444444,\"#bd3786\"],[0.5555555555555556,\"#d8576b\"],[0.6666666666666666,\"#ed7953\"],[0.7777777777777778,\"#fb9f3a\"],[0.8888888888888888,\"#fdca26\"],[1.0,\"#f0f921\"]]},\"colorway\":[\"#636efa\",\"#EF553B\",\"#00cc96\",\"#ab63fa\",\"#FFA15A\",\"#19d3f3\",\"#FF6692\",\"#B6E880\",\"#FF97FF\",\"#FECB52\"],\"font\":{\"color\":\"#2a3f5f\"},\"geo\":{\"bgcolor\":\"white\",\"lakecolor\":\"white\",\"landcolor\":\"#E5ECF6\",\"showlakes\":true,\"showland\":true,\"subunitcolor\":\"white\"},\"hoverlabel\":{\"align\":\"left\"},\"hovermode\":\"closest\",\"mapbox\":{\"style\":\"light\"},\"paper_bgcolor\":\"white\",\"plot_bgcolor\":\"#E5ECF6\",\"polar\":{\"angularaxis\":{\"gridcolor\":\"white\",\"linecolor\":\"white\",\"ticks\":\"\"},\"bgcolor\":\"#E5ECF6\",\"radialaxis\":{\"gridcolor\":\"white\",\"linecolor\":\"white\",\"ticks\":\"\"}},\"scene\":{\"xaxis\":{\"backgroundcolor\":\"#E5ECF6\",\"gridcolor\":\"white\",\"gridwidth\":2,\"linecolor\":\"white\",\"showbackground\":true,\"ticks\":\"\",\"zerolinecolor\":\"white\"},\"yaxis\":{\"backgroundcolor\":\"#E5ECF6\",\"gridcolor\":\"white\",\"gridwidth\":2,\"linecolor\":\"white\",\"showbackground\":true,\"ticks\":\"\",\"zerolinecolor\":\"white\"},\"zaxis\":{\"backgroundcolor\":\"#E5ECF6\",\"gridcolor\":\"white\",\"gridwidth\":2,\"linecolor\":\"white\",\"showbackground\":true,\"ticks\":\"\",\"zerolinecolor\":\"white\"}},\"shapedefaults\":{\"line\":{\"color\":\"#2a3f5f\"}},\"ternary\":{\"aaxis\":{\"gridcolor\":\"white\",\"linecolor\":\"white\",\"ticks\":\"\"},\"baxis\":{\"gridcolor\":\"white\",\"linecolor\":\"white\",\"ticks\":\"\"},\"bgcolor\":\"#E5ECF6\",\"caxis\":{\"gridcolor\":\"white\",\"linecolor\":\"white\",\"ticks\":\"\"}},\"title\":{\"x\":0.05},\"xaxis\":{\"automargin\":true,\"gridcolor\":\"white\",\"linecolor\":\"white\",\"ticks\":\"\",\"title\":{\"standoff\":15},\"zerolinecolor\":\"white\",\"zerolinewidth\":2},\"yaxis\":{\"automargin\":true,\"gridcolor\":\"white\",\"linecolor\":\"white\",\"ticks\":\"\",\"title\":{\"standoff\":15},\"zerolinecolor\":\"white\",\"zerolinewidth\":2}}},\"title\":{\"font\":{\"color\":\"#4D5663\"},\"text\":\"Women's share of population ages 15+ living with HIV (%)\"},\"xaxis\":{\"gridcolor\":\"#E1E5ED\",\"showgrid\":true,\"tickfont\":{\"color\":\"#4D5663\"},\"title\":{\"font\":{\"color\":\"#4D5663\"},\"text\":\"Year\"},\"zerolinecolor\":\"#E1E5ED\"},\"yaxis\":{\"gridcolor\":\"#E1E5ED\",\"showgrid\":true,\"tickfont\":{\"color\":\"#4D5663\"},\"title\":{\"font\":{\"color\":\"#4D5663\"},\"text\":\"% Population\"},\"zerolinecolor\":\"#E1E5ED\"}},                        {\"showLink\": true, \"linkText\": \"Export to plot.ly\", \"plotlyServerURL\": \"https://plot.ly\", \"responsive\": true}                    ).then(function(){\n",
       "                            \n",
       "var gd = document.getElementById('51be3bb2-ea28-4bd8-88b6-6de7de5fd775');\n",
       "var x = new MutationObserver(function (mutations, observer) {{\n",
       "        var display = window.getComputedStyle(gd).display;\n",
       "        if (!display || display === 'none') {{\n",
       "            console.log([gd, 'removed!']);\n",
       "            Plotly.purge(gd);\n",
       "            observer.disconnect();\n",
       "        }}\n",
       "}});\n",
       "\n",
       "// Listen for the removal of the full notebook cells\n",
       "var notebookContainer = gd.closest('#notebook-container');\n",
       "if (notebookContainer) {{\n",
       "    x.observe(notebookContainer, {childList: true});\n",
       "}}\n",
       "\n",
       "// Listen for the clearing of the current output cell\n",
       "var outputEl = gd.closest('.output');\n",
       "if (outputEl) {{\n",
       "    x.observe(outputEl, {childList: true});\n",
       "}}\n",
       "\n",
       "                        })                };                });            </script>        </div>"
      ]
     },
     "metadata": {},
     "output_type": "display_data"
    }
   ],
   "source": [
    "# Women's share of population ages 15+ living with HIV (%) (Botswana)\n",
    "\n",
    "woman_hiv = {\"SH.DYN.AIDS.FE.ZS\" : \"BWA\"}\n",
    "whiv = wbdata.get_dataframe(woman_hiv, country = \"BWA\")\n",
    "\n",
    "whiv.index = whiv.index.astype(int)\n",
    "whiv.iplot(title=\"Women's share of population ages 15+ living with HIV (%)\",xTitle='Year',yTitle='% Population')\n"
   ]
  },
  {
   "cell_type": "code",
   "execution_count": 52,
   "id": "b7fd5adb-35d1-4d12-9663-a48095155cb6",
   "metadata": {},
   "outputs": [
    {
     "data": {
      "application/vnd.plotly.v1+json": {
       "config": {
        "linkText": "Export to plot.ly",
        "plotlyServerURL": "https://plot.ly",
        "showLink": true
       },
       "data": [
        {
         "line": {
          "color": "rgba(255, 153, 51, 1.0)",
          "dash": "solid",
          "shape": "linear",
          "width": 1.3
         },
         "mode": "lines",
         "name": "Botswana",
         "text": "",
         "type": "scatter",
         "x": [
          1990,
          1991,
          1992,
          1993,
          1994,
          1995,
          1996,
          1997,
          1998,
          1999,
          2000,
          2001,
          2002,
          2003,
          2004,
          2005,
          2006,
          2007,
          2008,
          2009,
          2010,
          2011,
          2012,
          2013,
          2014,
          2015,
          2016,
          2017,
          2018,
          2019,
          2020,
          2021
         ],
         "y": [
          "",
          0.3184537311185349,
          0.2675953138850433,
          0.21791250189665723,
          0.17881892624275286,
          0.136451102727857,
          0.10178269430994247,
          0.07542376181724197,
          0.05001042057466165,
          0.03200273108617324,
          0.015625317903081193,
          0.0038684767779200158,
          -0.007751976804318161,
          -0.011741817876683047,
          -0.01587334915629013,
          -0.016129381929883113,
          -0.012270092591814663,
          -0.012422519998557036,
          -0.01257878220686015,
          -0.008474626990972123,
          -0.012848142477849045,
          -0.008658062743114758,
          -0.01312929144179309,
          -0.01330396562636249,
          -0.01801850550267803,
          -0.013730192811902242,
          -0.018605187831034264,
          -0.018957913744614086,
          -0.024214258120594856,
          -0.029852963149681333,
          -0.030771658666753687,
          -0.03174869831458027
         ]
        },
        {
         "line": {
          "color": "rgba(55, 128, 191, 1.0)",
          "dash": "solid",
          "shape": "linear",
          "width": 1.3
         },
         "mode": "lines",
         "name": "Zimbabwe",
         "text": "",
         "type": "scatter",
         "x": [
          1990,
          1991,
          1992,
          1993,
          1994,
          1995,
          1996,
          1997,
          1998,
          1999,
          2000,
          2001,
          2002,
          2003,
          2004,
          2005,
          2006,
          2007,
          2008,
          2009,
          2010,
          2011,
          2012,
          2013,
          2014,
          2015,
          2016,
          2017,
          2018,
          2019,
          2020,
          2021
         ],
         "y": [
          "",
          0.18121719445090134,
          0.13422176199954317,
          0.09223122421603325,
          0.05984691600925274,
          0.0326559629740526,
          0.008000042667076102,
          -0.00399202126953746,
          -0.020202707317519053,
          -0.028987536873252395,
          -0.03419136474827944,
          -0.03991660740544223,
          -0.05105517080028443,
          -0.04879016416943216,
          -0.05129329438755059,
          -0.04852704089466009,
          -0.04520543676804678,
          -0.04130380614123563,
          -0.03058342337208053,
          -0.025158559636154987,
          -0.01929320293467862,
          -0.013072081567353067,
          -0.01993421490081726,
          -0.013513719166722726,
          -0.013698844358161821,
          -0.020906684819313792,
          -0.028573372444055778,
          -0.02941388520629351,
          -0.030305349495328926,
          -0.03922071315328113,
          -0.03252319170556017,
          -0.0422003544903764
         ]
        }
       ],
       "layout": {
        "autosize": true,
        "legend": {
         "bgcolor": "#F5F6F9",
         "font": {
          "color": "#4D5663"
         }
        },
        "paper_bgcolor": "#F5F6F9",
        "plot_bgcolor": "#F5F6F9",
        "template": {
         "data": {
          "bar": [
           {
            "error_x": {
             "color": "#2a3f5f"
            },
            "error_y": {
             "color": "#2a3f5f"
            },
            "marker": {
             "line": {
              "color": "#E5ECF6",
              "width": 0.5
             },
             "pattern": {
              "fillmode": "overlay",
              "size": 10,
              "solidity": 0.2
             }
            },
            "type": "bar"
           }
          ],
          "barpolar": [
           {
            "marker": {
             "line": {
              "color": "#E5ECF6",
              "width": 0.5
             },
             "pattern": {
              "fillmode": "overlay",
              "size": 10,
              "solidity": 0.2
             }
            },
            "type": "barpolar"
           }
          ],
          "carpet": [
           {
            "aaxis": {
             "endlinecolor": "#2a3f5f",
             "gridcolor": "white",
             "linecolor": "white",
             "minorgridcolor": "white",
             "startlinecolor": "#2a3f5f"
            },
            "baxis": {
             "endlinecolor": "#2a3f5f",
             "gridcolor": "white",
             "linecolor": "white",
             "minorgridcolor": "white",
             "startlinecolor": "#2a3f5f"
            },
            "type": "carpet"
           }
          ],
          "choropleth": [
           {
            "colorbar": {
             "outlinewidth": 0,
             "ticks": ""
            },
            "type": "choropleth"
           }
          ],
          "contour": [
           {
            "colorbar": {
             "outlinewidth": 0,
             "ticks": ""
            },
            "colorscale": [
             [
              0,
              "#0d0887"
             ],
             [
              0.1111111111111111,
              "#46039f"
             ],
             [
              0.2222222222222222,
              "#7201a8"
             ],
             [
              0.3333333333333333,
              "#9c179e"
             ],
             [
              0.4444444444444444,
              "#bd3786"
             ],
             [
              0.5555555555555556,
              "#d8576b"
             ],
             [
              0.6666666666666666,
              "#ed7953"
             ],
             [
              0.7777777777777778,
              "#fb9f3a"
             ],
             [
              0.8888888888888888,
              "#fdca26"
             ],
             [
              1,
              "#f0f921"
             ]
            ],
            "type": "contour"
           }
          ],
          "contourcarpet": [
           {
            "colorbar": {
             "outlinewidth": 0,
             "ticks": ""
            },
            "type": "contourcarpet"
           }
          ],
          "heatmap": [
           {
            "colorbar": {
             "outlinewidth": 0,
             "ticks": ""
            },
            "colorscale": [
             [
              0,
              "#0d0887"
             ],
             [
              0.1111111111111111,
              "#46039f"
             ],
             [
              0.2222222222222222,
              "#7201a8"
             ],
             [
              0.3333333333333333,
              "#9c179e"
             ],
             [
              0.4444444444444444,
              "#bd3786"
             ],
             [
              0.5555555555555556,
              "#d8576b"
             ],
             [
              0.6666666666666666,
              "#ed7953"
             ],
             [
              0.7777777777777778,
              "#fb9f3a"
             ],
             [
              0.8888888888888888,
              "#fdca26"
             ],
             [
              1,
              "#f0f921"
             ]
            ],
            "type": "heatmap"
           }
          ],
          "heatmapgl": [
           {
            "colorbar": {
             "outlinewidth": 0,
             "ticks": ""
            },
            "colorscale": [
             [
              0,
              "#0d0887"
             ],
             [
              0.1111111111111111,
              "#46039f"
             ],
             [
              0.2222222222222222,
              "#7201a8"
             ],
             [
              0.3333333333333333,
              "#9c179e"
             ],
             [
              0.4444444444444444,
              "#bd3786"
             ],
             [
              0.5555555555555556,
              "#d8576b"
             ],
             [
              0.6666666666666666,
              "#ed7953"
             ],
             [
              0.7777777777777778,
              "#fb9f3a"
             ],
             [
              0.8888888888888888,
              "#fdca26"
             ],
             [
              1,
              "#f0f921"
             ]
            ],
            "type": "heatmapgl"
           }
          ],
          "histogram": [
           {
            "marker": {
             "pattern": {
              "fillmode": "overlay",
              "size": 10,
              "solidity": 0.2
             }
            },
            "type": "histogram"
           }
          ],
          "histogram2d": [
           {
            "colorbar": {
             "outlinewidth": 0,
             "ticks": ""
            },
            "colorscale": [
             [
              0,
              "#0d0887"
             ],
             [
              0.1111111111111111,
              "#46039f"
             ],
             [
              0.2222222222222222,
              "#7201a8"
             ],
             [
              0.3333333333333333,
              "#9c179e"
             ],
             [
              0.4444444444444444,
              "#bd3786"
             ],
             [
              0.5555555555555556,
              "#d8576b"
             ],
             [
              0.6666666666666666,
              "#ed7953"
             ],
             [
              0.7777777777777778,
              "#fb9f3a"
             ],
             [
              0.8888888888888888,
              "#fdca26"
             ],
             [
              1,
              "#f0f921"
             ]
            ],
            "type": "histogram2d"
           }
          ],
          "histogram2dcontour": [
           {
            "colorbar": {
             "outlinewidth": 0,
             "ticks": ""
            },
            "colorscale": [
             [
              0,
              "#0d0887"
             ],
             [
              0.1111111111111111,
              "#46039f"
             ],
             [
              0.2222222222222222,
              "#7201a8"
             ],
             [
              0.3333333333333333,
              "#9c179e"
             ],
             [
              0.4444444444444444,
              "#bd3786"
             ],
             [
              0.5555555555555556,
              "#d8576b"
             ],
             [
              0.6666666666666666,
              "#ed7953"
             ],
             [
              0.7777777777777778,
              "#fb9f3a"
             ],
             [
              0.8888888888888888,
              "#fdca26"
             ],
             [
              1,
              "#f0f921"
             ]
            ],
            "type": "histogram2dcontour"
           }
          ],
          "mesh3d": [
           {
            "colorbar": {
             "outlinewidth": 0,
             "ticks": ""
            },
            "type": "mesh3d"
           }
          ],
          "parcoords": [
           {
            "line": {
             "colorbar": {
              "outlinewidth": 0,
              "ticks": ""
             }
            },
            "type": "parcoords"
           }
          ],
          "pie": [
           {
            "automargin": true,
            "type": "pie"
           }
          ],
          "scatter": [
           {
            "fillpattern": {
             "fillmode": "overlay",
             "size": 10,
             "solidity": 0.2
            },
            "type": "scatter"
           }
          ],
          "scatter3d": [
           {
            "line": {
             "colorbar": {
              "outlinewidth": 0,
              "ticks": ""
             }
            },
            "marker": {
             "colorbar": {
              "outlinewidth": 0,
              "ticks": ""
             }
            },
            "type": "scatter3d"
           }
          ],
          "scattercarpet": [
           {
            "marker": {
             "colorbar": {
              "outlinewidth": 0,
              "ticks": ""
             }
            },
            "type": "scattercarpet"
           }
          ],
          "scattergeo": [
           {
            "marker": {
             "colorbar": {
              "outlinewidth": 0,
              "ticks": ""
             }
            },
            "type": "scattergeo"
           }
          ],
          "scattergl": [
           {
            "marker": {
             "colorbar": {
              "outlinewidth": 0,
              "ticks": ""
             }
            },
            "type": "scattergl"
           }
          ],
          "scattermapbox": [
           {
            "marker": {
             "colorbar": {
              "outlinewidth": 0,
              "ticks": ""
             }
            },
            "type": "scattermapbox"
           }
          ],
          "scatterpolar": [
           {
            "marker": {
             "colorbar": {
              "outlinewidth": 0,
              "ticks": ""
             }
            },
            "type": "scatterpolar"
           }
          ],
          "scatterpolargl": [
           {
            "marker": {
             "colorbar": {
              "outlinewidth": 0,
              "ticks": ""
             }
            },
            "type": "scatterpolargl"
           }
          ],
          "scatterternary": [
           {
            "marker": {
             "colorbar": {
              "outlinewidth": 0,
              "ticks": ""
             }
            },
            "type": "scatterternary"
           }
          ],
          "surface": [
           {
            "colorbar": {
             "outlinewidth": 0,
             "ticks": ""
            },
            "colorscale": [
             [
              0,
              "#0d0887"
             ],
             [
              0.1111111111111111,
              "#46039f"
             ],
             [
              0.2222222222222222,
              "#7201a8"
             ],
             [
              0.3333333333333333,
              "#9c179e"
             ],
             [
              0.4444444444444444,
              "#bd3786"
             ],
             [
              0.5555555555555556,
              "#d8576b"
             ],
             [
              0.6666666666666666,
              "#ed7953"
             ],
             [
              0.7777777777777778,
              "#fb9f3a"
             ],
             [
              0.8888888888888888,
              "#fdca26"
             ],
             [
              1,
              "#f0f921"
             ]
            ],
            "type": "surface"
           }
          ],
          "table": [
           {
            "cells": {
             "fill": {
              "color": "#EBF0F8"
             },
             "line": {
              "color": "white"
             }
            },
            "header": {
             "fill": {
              "color": "#C8D4E3"
             },
             "line": {
              "color": "white"
             }
            },
            "type": "table"
           }
          ]
         },
         "layout": {
          "annotationdefaults": {
           "arrowcolor": "#2a3f5f",
           "arrowhead": 0,
           "arrowwidth": 1
          },
          "autotypenumbers": "strict",
          "coloraxis": {
           "colorbar": {
            "outlinewidth": 0,
            "ticks": ""
           }
          },
          "colorscale": {
           "diverging": [
            [
             0,
             "#8e0152"
            ],
            [
             0.1,
             "#c51b7d"
            ],
            [
             0.2,
             "#de77ae"
            ],
            [
             0.3,
             "#f1b6da"
            ],
            [
             0.4,
             "#fde0ef"
            ],
            [
             0.5,
             "#f7f7f7"
            ],
            [
             0.6,
             "#e6f5d0"
            ],
            [
             0.7,
             "#b8e186"
            ],
            [
             0.8,
             "#7fbc41"
            ],
            [
             0.9,
             "#4d9221"
            ],
            [
             1,
             "#276419"
            ]
           ],
           "sequential": [
            [
             0,
             "#0d0887"
            ],
            [
             0.1111111111111111,
             "#46039f"
            ],
            [
             0.2222222222222222,
             "#7201a8"
            ],
            [
             0.3333333333333333,
             "#9c179e"
            ],
            [
             0.4444444444444444,
             "#bd3786"
            ],
            [
             0.5555555555555556,
             "#d8576b"
            ],
            [
             0.6666666666666666,
             "#ed7953"
            ],
            [
             0.7777777777777778,
             "#fb9f3a"
            ],
            [
             0.8888888888888888,
             "#fdca26"
            ],
            [
             1,
             "#f0f921"
            ]
           ],
           "sequentialminus": [
            [
             0,
             "#0d0887"
            ],
            [
             0.1111111111111111,
             "#46039f"
            ],
            [
             0.2222222222222222,
             "#7201a8"
            ],
            [
             0.3333333333333333,
             "#9c179e"
            ],
            [
             0.4444444444444444,
             "#bd3786"
            ],
            [
             0.5555555555555556,
             "#d8576b"
            ],
            [
             0.6666666666666666,
             "#ed7953"
            ],
            [
             0.7777777777777778,
             "#fb9f3a"
            ],
            [
             0.8888888888888888,
             "#fdca26"
            ],
            [
             1,
             "#f0f921"
            ]
           ]
          },
          "colorway": [
           "#636efa",
           "#EF553B",
           "#00cc96",
           "#ab63fa",
           "#FFA15A",
           "#19d3f3",
           "#FF6692",
           "#B6E880",
           "#FF97FF",
           "#FECB52"
          ],
          "font": {
           "color": "#2a3f5f"
          },
          "geo": {
           "bgcolor": "white",
           "lakecolor": "white",
           "landcolor": "#E5ECF6",
           "showlakes": true,
           "showland": true,
           "subunitcolor": "white"
          },
          "hoverlabel": {
           "align": "left"
          },
          "hovermode": "closest",
          "mapbox": {
           "style": "light"
          },
          "paper_bgcolor": "white",
          "plot_bgcolor": "#E5ECF6",
          "polar": {
           "angularaxis": {
            "gridcolor": "white",
            "linecolor": "white",
            "ticks": ""
           },
           "bgcolor": "#E5ECF6",
           "radialaxis": {
            "gridcolor": "white",
            "linecolor": "white",
            "ticks": ""
           }
          },
          "scene": {
           "xaxis": {
            "backgroundcolor": "#E5ECF6",
            "gridcolor": "white",
            "gridwidth": 2,
            "linecolor": "white",
            "showbackground": true,
            "ticks": "",
            "zerolinecolor": "white"
           },
           "yaxis": {
            "backgroundcolor": "#E5ECF6",
            "gridcolor": "white",
            "gridwidth": 2,
            "linecolor": "white",
            "showbackground": true,
            "ticks": "",
            "zerolinecolor": "white"
           },
           "zaxis": {
            "backgroundcolor": "#E5ECF6",
            "gridcolor": "white",
            "gridwidth": 2,
            "linecolor": "white",
            "showbackground": true,
            "ticks": "",
            "zerolinecolor": "white"
           }
          },
          "shapedefaults": {
           "line": {
            "color": "#2a3f5f"
           }
          },
          "ternary": {
           "aaxis": {
            "gridcolor": "white",
            "linecolor": "white",
            "ticks": ""
           },
           "baxis": {
            "gridcolor": "white",
            "linecolor": "white",
            "ticks": ""
           },
           "bgcolor": "#E5ECF6",
           "caxis": {
            "gridcolor": "white",
            "linecolor": "white",
            "ticks": ""
           }
          },
          "title": {
           "x": 0.05
          },
          "xaxis": {
           "automargin": true,
           "gridcolor": "white",
           "linecolor": "white",
           "ticks": "",
           "title": {
            "standoff": 15
           },
           "zerolinecolor": "white",
           "zerolinewidth": 2
          },
          "yaxis": {
           "automargin": true,
           "gridcolor": "white",
           "linecolor": "white",
           "ticks": "",
           "title": {
            "standoff": 15
           },
           "zerolinecolor": "white",
           "zerolinewidth": 2
          }
         }
        },
        "title": {
         "font": {
          "color": "#4D5663"
         },
         "text": "Prevalence of HIV, total (% of population ages 15- 49)"
        },
        "xaxis": {
         "autorange": true,
         "gridcolor": "#E1E5ED",
         "range": [
          1990,
          2021
         ],
         "showgrid": true,
         "tickfont": {
          "color": "#4D5663"
         },
         "title": {
          "font": {
           "color": "#4D5663"
          },
          "text": "Year"
         },
         "type": "linear",
         "zerolinecolor": "#E1E5ED"
        },
        "yaxis": {
         "autorange": true,
         "gridcolor": "#E1E5ED",
         "range": [
          -0.07183479580455535,
          0.33899523253553965
         ],
         "showgrid": true,
         "tickfont": {
          "color": "#4D5663"
         },
         "title": {
          "font": {
           "color": "#4D5663"
          },
          "text": "% Population"
         },
         "type": "linear",
         "zerolinecolor": "#E1E5ED"
        }
       }
      },
      "image/png": "[encoded data removed]",
      "text/html": [
       "<div>                            <div id=\"6f44f2e0-a789-44d8-b25f-462ad106ff4c\" class=\"plotly-graph-div\" style=\"height:525px; width:100%;\"></div>            <script type=\"text/javascript\">                require([\"plotly\"], function(Plotly) {                    window.PLOTLYENV=window.PLOTLYENV || {};\n",
       "                    window.PLOTLYENV.BASE_URL='https://plot.ly';                                    if (document.getElementById(\"6f44f2e0-a789-44d8-b25f-462ad106ff4c\")) {                    Plotly.newPlot(                        \"6f44f2e0-a789-44d8-b25f-462ad106ff4c\",                        [{\"line\":{\"color\":\"rgba(255, 153, 51, 1.0)\",\"dash\":\"solid\",\"shape\":\"linear\",\"width\":1.3},\"mode\":\"lines\",\"name\":\"Botswana\",\"text\":\"\",\"x\":[1990,1991,1992,1993,1994,1995,1996,1997,1998,1999,2000,2001,2002,2003,2004,2005,2006,2007,2008,2009,2010,2011,2012,2013,2014,2015,2016,2017,2018,2019,2020,2021],\"y\":[\"\",0.3184537311185349,0.2675953138850433,0.21791250189665723,0.17881892624275286,0.136451102727857,0.10178269430994247,0.07542376181724197,0.05001042057466165,0.03200273108617324,0.015625317903081193,0.0038684767779200158,-0.007751976804318161,-0.011741817876683047,-0.01587334915629013,-0.016129381929883113,-0.012270092591814663,-0.012422519998557036,-0.01257878220686015,-0.008474626990972123,-0.012848142477849045,-0.008658062743114758,-0.01312929144179309,-0.01330396562636249,-0.01801850550267803,-0.013730192811902242,-0.018605187831034264,-0.018957913744614086,-0.024214258120594856,-0.029852963149681333,-0.030771658666753687,-0.03174869831458027],\"type\":\"scatter\"},{\"line\":{\"color\":\"rgba(55, 128, 191, 1.0)\",\"dash\":\"solid\",\"shape\":\"linear\",\"width\":1.3},\"mode\":\"lines\",\"name\":\"Zimbabwe\",\"text\":\"\",\"x\":[1990,1991,1992,1993,1994,1995,1996,1997,1998,1999,2000,2001,2002,2003,2004,2005,2006,2007,2008,2009,2010,2011,2012,2013,2014,2015,2016,2017,2018,2019,2020,2021],\"y\":[\"\",0.18121719445090134,0.13422176199954317,0.09223122421603325,0.05984691600925274,0.0326559629740526,0.008000042667076102,-0.00399202126953746,-0.020202707317519053,-0.028987536873252395,-0.03419136474827944,-0.03991660740544223,-0.05105517080028443,-0.04879016416943216,-0.05129329438755059,-0.04852704089466009,-0.04520543676804678,-0.04130380614123563,-0.03058342337208053,-0.025158559636154987,-0.01929320293467862,-0.013072081567353067,-0.01993421490081726,-0.013513719166722726,-0.013698844358161821,-0.020906684819313792,-0.028573372444055778,-0.02941388520629351,-0.030305349495328926,-0.03922071315328113,-0.03252319170556017,-0.0422003544903764],\"type\":\"scatter\"}],                        {\"legend\":{\"bgcolor\":\"#F5F6F9\",\"font\":{\"color\":\"#4D5663\"}},\"paper_bgcolor\":\"#F5F6F9\",\"plot_bgcolor\":\"#F5F6F9\",\"template\":{\"data\":{\"barpolar\":[{\"marker\":{\"line\":{\"color\":\"#E5ECF6\",\"width\":0.5},\"pattern\":{\"fillmode\":\"overlay\",\"size\":10,\"solidity\":0.2}},\"type\":\"barpolar\"}],\"bar\":[{\"error_x\":{\"color\":\"#2a3f5f\"},\"error_y\":{\"color\":\"#2a3f5f\"},\"marker\":{\"line\":{\"color\":\"#E5ECF6\",\"width\":0.5},\"pattern\":{\"fillmode\":\"overlay\",\"size\":10,\"solidity\":0.2}},\"type\":\"bar\"}],\"carpet\":[{\"aaxis\":{\"endlinecolor\":\"#2a3f5f\",\"gridcolor\":\"white\",\"linecolor\":\"white\",\"minorgridcolor\":\"white\",\"startlinecolor\":\"#2a3f5f\"},\"baxis\":{\"endlinecolor\":\"#2a3f5f\",\"gridcolor\":\"white\",\"linecolor\":\"white\",\"minorgridcolor\":\"white\",\"startlinecolor\":\"#2a3f5f\"},\"type\":\"carpet\"}],\"choropleth\":[{\"colorbar\":{\"outlinewidth\":0,\"ticks\":\"\"},\"type\":\"choropleth\"}],\"contourcarpet\":[{\"colorbar\":{\"outlinewidth\":0,\"ticks\":\"\"},\"type\":\"contourcarpet\"}],\"contour\":[{\"colorbar\":{\"outlinewidth\":0,\"ticks\":\"\"},\"colorscale\":[[0.0,\"#0d0887\"],[0.1111111111111111,\"#46039f\"],[0.2222222222222222,\"#7201a8\"],[0.3333333333333333,\"#9c179e\"],[0.4444444444444444,\"#bd3786\"],[0.5555555555555556,\"#d8576b\"],[0.6666666666666666,\"#ed7953\"],[0.7777777777777778,\"#fb9f3a\"],[0.8888888888888888,\"#fdca26\"],[1.0,\"#f0f921\"]],\"type\":\"contour\"}],\"heatmapgl\":[{\"colorbar\":{\"outlinewidth\":0,\"ticks\":\"\"},\"colorscale\":[[0.0,\"#0d0887\"],[0.1111111111111111,\"#46039f\"],[0.2222222222222222,\"#7201a8\"],[0.3333333333333333,\"#9c179e\"],[0.4444444444444444,\"#bd3786\"],[0.5555555555555556,\"#d8576b\"],[0.6666666666666666,\"#ed7953\"],[0.7777777777777778,\"#fb9f3a\"],[0.8888888888888888,\"#fdca26\"],[1.0,\"#f0f921\"]],\"type\":\"heatmapgl\"}],\"heatmap\":[{\"colorbar\":{\"outlinewidth\":0,\"ticks\":\"\"},\"colorscale\":[[0.0,\"#0d0887\"],[0.1111111111111111,\"#46039f\"],[0.2222222222222222,\"#7201a8\"],[0.3333333333333333,\"#9c179e\"],[0.4444444444444444,\"#bd3786\"],[0.5555555555555556,\"#d8576b\"],[0.6666666666666666,\"#ed7953\"],[0.7777777777777778,\"#fb9f3a\"],[0.8888888888888888,\"#fdca26\"],[1.0,\"#f0f921\"]],\"type\":\"heatmap\"}],\"histogram2dcontour\":[{\"colorbar\":{\"outlinewidth\":0,\"ticks\":\"\"},\"colorscale\":[[0.0,\"#0d0887\"],[0.1111111111111111,\"#46039f\"],[0.2222222222222222,\"#7201a8\"],[0.3333333333333333,\"#9c179e\"],[0.4444444444444444,\"#bd3786\"],[0.5555555555555556,\"#d8576b\"],[0.6666666666666666,\"#ed7953\"],[0.7777777777777778,\"#fb9f3a\"],[0.8888888888888888,\"#fdca26\"],[1.0,\"#f0f921\"]],\"type\":\"histogram2dcontour\"}],\"histogram2d\":[{\"colorbar\":{\"outlinewidth\":0,\"ticks\":\"\"},\"colorscale\":[[0.0,\"#0d0887\"],[0.1111111111111111,\"#46039f\"],[0.2222222222222222,\"#7201a8\"],[0.3333333333333333,\"#9c179e\"],[0.4444444444444444,\"#bd3786\"],[0.5555555555555556,\"#d8576b\"],[0.6666666666666666,\"#ed7953\"],[0.7777777777777778,\"#fb9f3a\"],[0.8888888888888888,\"#fdca26\"],[1.0,\"#f0f921\"]],\"type\":\"histogram2d\"}],\"histogram\":[{\"marker\":{\"pattern\":{\"fillmode\":\"overlay\",\"size\":10,\"solidity\":0.2}},\"type\":\"histogram\"}],\"mesh3d\":[{\"colorbar\":{\"outlinewidth\":0,\"ticks\":\"\"},\"type\":\"mesh3d\"}],\"parcoords\":[{\"line\":{\"colorbar\":{\"outlinewidth\":0,\"ticks\":\"\"}},\"type\":\"parcoords\"}],\"pie\":[{\"automargin\":true,\"type\":\"pie\"}],\"scatter3d\":[{\"line\":{\"colorbar\":{\"outlinewidth\":0,\"ticks\":\"\"}},\"marker\":{\"colorbar\":{\"outlinewidth\":0,\"ticks\":\"\"}},\"type\":\"scatter3d\"}],\"scattercarpet\":[{\"marker\":{\"colorbar\":{\"outlinewidth\":0,\"ticks\":\"\"}},\"type\":\"scattercarpet\"}],\"scattergeo\":[{\"marker\":{\"colorbar\":{\"outlinewidth\":0,\"ticks\":\"\"}},\"type\":\"scattergeo\"}],\"scattergl\":[{\"marker\":{\"colorbar\":{\"outlinewidth\":0,\"ticks\":\"\"}},\"type\":\"scattergl\"}],\"scattermapbox\":[{\"marker\":{\"colorbar\":{\"outlinewidth\":0,\"ticks\":\"\"}},\"type\":\"scattermapbox\"}],\"scatterpolargl\":[{\"marker\":{\"colorbar\":{\"outlinewidth\":0,\"ticks\":\"\"}},\"type\":\"scatterpolargl\"}],\"scatterpolar\":[{\"marker\":{\"colorbar\":{\"outlinewidth\":0,\"ticks\":\"\"}},\"type\":\"scatterpolar\"}],\"scatter\":[{\"fillpattern\":{\"fillmode\":\"overlay\",\"size\":10,\"solidity\":0.2},\"type\":\"scatter\"}],\"scatterternary\":[{\"marker\":{\"colorbar\":{\"outlinewidth\":0,\"ticks\":\"\"}},\"type\":\"scatterternary\"}],\"surface\":[{\"colorbar\":{\"outlinewidth\":0,\"ticks\":\"\"},\"colorscale\":[[0.0,\"#0d0887\"],[0.1111111111111111,\"#46039f\"],[0.2222222222222222,\"#7201a8\"],[0.3333333333333333,\"#9c179e\"],[0.4444444444444444,\"#bd3786\"],[0.5555555555555556,\"#d8576b\"],[0.6666666666666666,\"#ed7953\"],[0.7777777777777778,\"#fb9f3a\"],[0.8888888888888888,\"#fdca26\"],[1.0,\"#f0f921\"]],\"type\":\"surface\"}],\"table\":[{\"cells\":{\"fill\":{\"color\":\"#EBF0F8\"},\"line\":{\"color\":\"white\"}},\"header\":{\"fill\":{\"color\":\"#C8D4E3\"},\"line\":{\"color\":\"white\"}},\"type\":\"table\"}]},\"layout\":{\"annotationdefaults\":{\"arrowcolor\":\"#2a3f5f\",\"arrowhead\":0,\"arrowwidth\":1},\"autotypenumbers\":\"strict\",\"coloraxis\":{\"colorbar\":{\"outlinewidth\":0,\"ticks\":\"\"}},\"colorscale\":{\"diverging\":[[0,\"#8e0152\"],[0.1,\"#c51b7d\"],[0.2,\"#de77ae\"],[0.3,\"#f1b6da\"],[0.4,\"#fde0ef\"],[0.5,\"#f7f7f7\"],[0.6,\"#e6f5d0\"],[0.7,\"#b8e186\"],[0.8,\"#7fbc41\"],[0.9,\"#4d9221\"],[1,\"#276419\"]],\"sequential\":[[0.0,\"#0d0887\"],[0.1111111111111111,\"#46039f\"],[0.2222222222222222,\"#7201a8\"],[0.3333333333333333,\"#9c179e\"],[0.4444444444444444,\"#bd3786\"],[0.5555555555555556,\"#d8576b\"],[0.6666666666666666,\"#ed7953\"],[0.7777777777777778,\"#fb9f3a\"],[0.8888888888888888,\"#fdca26\"],[1.0,\"#f0f921\"]],\"sequentialminus\":[[0.0,\"#0d0887\"],[0.1111111111111111,\"#46039f\"],[0.2222222222222222,\"#7201a8\"],[0.3333333333333333,\"#9c179e\"],[0.4444444444444444,\"#bd3786\"],[0.5555555555555556,\"#d8576b\"],[0.6666666666666666,\"#ed7953\"],[0.7777777777777778,\"#fb9f3a\"],[0.8888888888888888,\"#fdca26\"],[1.0,\"#f0f921\"]]},\"colorway\":[\"#636efa\",\"#EF553B\",\"#00cc96\",\"#ab63fa\",\"#FFA15A\",\"#19d3f3\",\"#FF6692\",\"#B6E880\",\"#FF97FF\",\"#FECB52\"],\"font\":{\"color\":\"#2a3f5f\"},\"geo\":{\"bgcolor\":\"white\",\"lakecolor\":\"white\",\"landcolor\":\"#E5ECF6\",\"showlakes\":true,\"showland\":true,\"subunitcolor\":\"white\"},\"hoverlabel\":{\"align\":\"left\"},\"hovermode\":\"closest\",\"mapbox\":{\"style\":\"light\"},\"paper_bgcolor\":\"white\",\"plot_bgcolor\":\"#E5ECF6\",\"polar\":{\"angularaxis\":{\"gridcolor\":\"white\",\"linecolor\":\"white\",\"ticks\":\"\"},\"bgcolor\":\"#E5ECF6\",\"radialaxis\":{\"gridcolor\":\"white\",\"linecolor\":\"white\",\"ticks\":\"\"}},\"scene\":{\"xaxis\":{\"backgroundcolor\":\"#E5ECF6\",\"gridcolor\":\"white\",\"gridwidth\":2,\"linecolor\":\"white\",\"showbackground\":true,\"ticks\":\"\",\"zerolinecolor\":\"white\"},\"yaxis\":{\"backgroundcolor\":\"#E5ECF6\",\"gridcolor\":\"white\",\"gridwidth\":2,\"linecolor\":\"white\",\"showbackground\":true,\"ticks\":\"\",\"zerolinecolor\":\"white\"},\"zaxis\":{\"backgroundcolor\":\"#E5ECF6\",\"gridcolor\":\"white\",\"gridwidth\":2,\"linecolor\":\"white\",\"showbackground\":true,\"ticks\":\"\",\"zerolinecolor\":\"white\"}},\"shapedefaults\":{\"line\":{\"color\":\"#2a3f5f\"}},\"ternary\":{\"aaxis\":{\"gridcolor\":\"white\",\"linecolor\":\"white\",\"ticks\":\"\"},\"baxis\":{\"gridcolor\":\"white\",\"linecolor\":\"white\",\"ticks\":\"\"},\"bgcolor\":\"#E5ECF6\",\"caxis\":{\"gridcolor\":\"white\",\"linecolor\":\"white\",\"ticks\":\"\"}},\"title\":{\"x\":0.05},\"xaxis\":{\"automargin\":true,\"gridcolor\":\"white\",\"linecolor\":\"white\",\"ticks\":\"\",\"title\":{\"standoff\":15},\"zerolinecolor\":\"white\",\"zerolinewidth\":2},\"yaxis\":{\"automargin\":true,\"gridcolor\":\"white\",\"linecolor\":\"white\",\"ticks\":\"\",\"title\":{\"standoff\":15},\"zerolinecolor\":\"white\",\"zerolinewidth\":2}}},\"title\":{\"font\":{\"color\":\"#4D5663\"},\"text\":\"Prevalence of HIV, total (% of population ages 15- 49)\"},\"xaxis\":{\"gridcolor\":\"#E1E5ED\",\"showgrid\":true,\"tickfont\":{\"color\":\"#4D5663\"},\"title\":{\"font\":{\"color\":\"#4D5663\"},\"text\":\"Year\"},\"zerolinecolor\":\"#E1E5ED\"},\"yaxis\":{\"gridcolor\":\"#E1E5ED\",\"showgrid\":true,\"tickfont\":{\"color\":\"#4D5663\"},\"title\":{\"font\":{\"color\":\"#4D5663\"},\"text\":\"% Population\"},\"zerolinecolor\":\"#E1E5ED\"}},                        {\"showLink\": true, \"linkText\": \"Export to plot.ly\", \"plotlyServerURL\": \"https://plot.ly\", \"responsive\": true}                    ).then(function(){\n",
       "                            \n",
       "var gd = document.getElementById('6f44f2e0-a789-44d8-b25f-462ad106ff4c');\n",
       "var x = new MutationObserver(function (mutations, observer) {{\n",
       "        var display = window.getComputedStyle(gd).display;\n",
       "        if (!display || display === 'none') {{\n",
       "            console.log([gd, 'removed!']);\n",
       "            Plotly.purge(gd);\n",
       "            observer.disconnect();\n",
       "        }}\n",
       "}});\n",
       "\n",
       "// Listen for the removal of the full notebook cells\n",
       "var notebookContainer = gd.closest('#notebook-container');\n",
       "if (notebookContainer) {{\n",
       "    x.observe(notebookContainer, {childList: true});\n",
       "}}\n",
       "\n",
       "// Listen for the clearing of the current output cell\n",
       "var outputEl = gd.closest('.output');\n",
       "if (outputEl) {{\n",
       "    x.observe(outputEl, {childList: true});\n",
       "}}\n",
       "\n",
       "                        })                };                });            </script>        </div>"
      ]
     },
     "metadata": {},
     "output_type": "display_data"
    }
   ],
   "source": [
    "#prevelance of HIV total (% of population ages 15- 49) for both Botswana and Zimbabwe\n",
    "\n",
    "labels = {\"SH.DYN.AIDS.ZS\" : \"Prevelance of HIV, total (% of population ages 15 - 49)\"}\n",
    "\n",
    "countries =  {\"BWA\" : \"Botswana\",\n",
    "            \"ZWE\" : \"Zimbabwe\",\n",
    "           }\n",
    "\n",
    "data = wbdata.get_dataframe(labels, country = countries).squeeze().dropna()\n",
    "\n",
    "data = data.unstack('country')\n",
    "data.index = data.index.astype(int)\n",
    "data = data.sort_index()\n",
    "\n",
    "np.log(data).diff().iplot(title = \"Prevalence of HIV, total (% of population ages 15- 49)\",\n",
    "                          yTitle = \"% Population\",\n",
    "                          xTitle = \"Year\")"
   ]
  },
  {
   "cell_type": "code",
   "execution_count": 49,
   "id": "1558a9f0-8b35-4172-91e5-12de4251e88e",
   "metadata": {},
   "outputs": [
    {
     "data": {
      "application/vnd.plotly.v1+json": {
       "config": {
        "linkText": "Export to plot.ly",
        "plotlyServerURL": "https://plot.ly",
        "showLink": true
       },
       "data": [
        {
         "line": {
          "color": "rgba(255, 153, 51, 1.0)",
          "dash": "solid",
          "shape": "linear",
          "width": 1.3
         },
         "mode": "lines",
         "name": "BWA",
         "text": "",
         "type": "scatter",
         "x": [
          1990,
          1991,
          1992,
          1993,
          1994,
          1995,
          1996,
          1997,
          1998,
          1999,
          2000,
          2001,
          2002,
          2003,
          2004,
          2005,
          2006,
          2007,
          2008,
          2009,
          2010,
          2011,
          2012,
          2013,
          2014,
          2015,
          2016,
          2017,
          2018,
          2019,
          2020,
          2021
         ],
         "y": [
          6.4,
          8.8,
          11.5,
          14.3,
          17.1,
          19.6,
          21.7,
          23.4,
          24.6,
          25.4,
          25.8,
          25.9,
          25.7,
          25.4,
          25,
          24.6,
          24.3,
          24,
          23.7,
          23.5,
          23.2,
          23,
          22.7,
          22.4,
          22,
          21.7,
          21.3,
          20.9,
          20.4,
          19.8,
          19.2,
          18.6
         ]
        }
       ],
       "layout": {
        "autosize": true,
        "legend": {
         "bgcolor": "#F5F6F9",
         "font": {
          "color": "#4D5663"
         }
        },
        "paper_bgcolor": "#F5F6F9",
        "plot_bgcolor": "#F5F6F9",
        "template": {
         "data": {
          "bar": [
           {
            "error_x": {
             "color": "#2a3f5f"
            },
            "error_y": {
             "color": "#2a3f5f"
            },
            "marker": {
             "line": {
              "color": "#E5ECF6",
              "width": 0.5
             },
             "pattern": {
              "fillmode": "overlay",
              "size": 10,
              "solidity": 0.2
             }
            },
            "type": "bar"
           }
          ],
          "barpolar": [
           {
            "marker": {
             "line": {
              "color": "#E5ECF6",
              "width": 0.5
             },
             "pattern": {
              "fillmode": "overlay",
              "size": 10,
              "solidity": 0.2
             }
            },
            "type": "barpolar"
           }
          ],
          "carpet": [
           {
            "aaxis": {
             "endlinecolor": "#2a3f5f",
             "gridcolor": "white",
             "linecolor": "white",
             "minorgridcolor": "white",
             "startlinecolor": "#2a3f5f"
            },
            "baxis": {
             "endlinecolor": "#2a3f5f",
             "gridcolor": "white",
             "linecolor": "white",
             "minorgridcolor": "white",
             "startlinecolor": "#2a3f5f"
            },
            "type": "carpet"
           }
          ],
          "choropleth": [
           {
            "colorbar": {
             "outlinewidth": 0,
             "ticks": ""
            },
            "type": "choropleth"
           }
          ],
          "contour": [
           {
            "colorbar": {
             "outlinewidth": 0,
             "ticks": ""
            },
            "colorscale": [
             [
              0,
              "#0d0887"
             ],
             [
              0.1111111111111111,
              "#46039f"
             ],
             [
              0.2222222222222222,
              "#7201a8"
             ],
             [
              0.3333333333333333,
              "#9c179e"
             ],
             [
              0.4444444444444444,
              "#bd3786"
             ],
             [
              0.5555555555555556,
              "#d8576b"
             ],
             [
              0.6666666666666666,
              "#ed7953"
             ],
             [
              0.7777777777777778,
              "#fb9f3a"
             ],
             [
              0.8888888888888888,
              "#fdca26"
             ],
             [
              1,
              "#f0f921"
             ]
            ],
            "type": "contour"
           }
          ],
          "contourcarpet": [
           {
            "colorbar": {
             "outlinewidth": 0,
             "ticks": ""
            },
            "type": "contourcarpet"
           }
          ],
          "heatmap": [
           {
            "colorbar": {
             "outlinewidth": 0,
             "ticks": ""
            },
            "colorscale": [
             [
              0,
              "#0d0887"
             ],
             [
              0.1111111111111111,
              "#46039f"
             ],
             [
              0.2222222222222222,
              "#7201a8"
             ],
             [
              0.3333333333333333,
              "#9c179e"
             ],
             [
              0.4444444444444444,
              "#bd3786"
             ],
             [
              0.5555555555555556,
              "#d8576b"
             ],
             [
              0.6666666666666666,
              "#ed7953"
             ],
             [
              0.7777777777777778,
              "#fb9f3a"
             ],
             [
              0.8888888888888888,
              "#fdca26"
             ],
             [
              1,
              "#f0f921"
             ]
            ],
            "type": "heatmap"
           }
          ],
          "heatmapgl": [
           {
            "colorbar": {
             "outlinewidth": 0,
             "ticks": ""
            },
            "colorscale": [
             [
              0,
              "#0d0887"
             ],
             [
              0.1111111111111111,
              "#46039f"
             ],
             [
              0.2222222222222222,
              "#7201a8"
             ],
             [
              0.3333333333333333,
              "#9c179e"
             ],
             [
              0.4444444444444444,
              "#bd3786"
             ],
             [
              0.5555555555555556,
              "#d8576b"
             ],
             [
              0.6666666666666666,
              "#ed7953"
             ],
             [
              0.7777777777777778,
              "#fb9f3a"
             ],
             [
              0.8888888888888888,
              "#fdca26"
             ],
             [
              1,
              "#f0f921"
             ]
            ],
            "type": "heatmapgl"
           }
          ],
          "histogram": [
           {
            "marker": {
             "pattern": {
              "fillmode": "overlay",
              "size": 10,
              "solidity": 0.2
             }
            },
            "type": "histogram"
           }
          ],
          "histogram2d": [
           {
            "colorbar": {
             "outlinewidth": 0,
             "ticks": ""
            },
            "colorscale": [
             [
              0,
              "#0d0887"
             ],
             [
              0.1111111111111111,
              "#46039f"
             ],
             [
              0.2222222222222222,
              "#7201a8"
             ],
             [
              0.3333333333333333,
              "#9c179e"
             ],
             [
              0.4444444444444444,
              "#bd3786"
             ],
             [
              0.5555555555555556,
              "#d8576b"
             ],
             [
              0.6666666666666666,
              "#ed7953"
             ],
             [
              0.7777777777777778,
              "#fb9f3a"
             ],
             [
              0.8888888888888888,
              "#fdca26"
             ],
             [
              1,
              "#f0f921"
             ]
            ],
            "type": "histogram2d"
           }
          ],
          "histogram2dcontour": [
           {
            "colorbar": {
             "outlinewidth": 0,
             "ticks": ""
            },
            "colorscale": [
             [
              0,
              "#0d0887"
             ],
             [
              0.1111111111111111,
              "#46039f"
             ],
             [
              0.2222222222222222,
              "#7201a8"
             ],
             [
              0.3333333333333333,
              "#9c179e"
             ],
             [
              0.4444444444444444,
              "#bd3786"
             ],
             [
              0.5555555555555556,
              "#d8576b"
             ],
             [
              0.6666666666666666,
              "#ed7953"
             ],
             [
              0.7777777777777778,
              "#fb9f3a"
             ],
             [
              0.8888888888888888,
              "#fdca26"
             ],
             [
              1,
              "#f0f921"
             ]
            ],
            "type": "histogram2dcontour"
           }
          ],
          "mesh3d": [
           {
            "colorbar": {
             "outlinewidth": 0,
             "ticks": ""
            },
            "type": "mesh3d"
           }
          ],
          "parcoords": [
           {
            "line": {
             "colorbar": {
              "outlinewidth": 0,
              "ticks": ""
             }
            },
            "type": "parcoords"
           }
          ],
          "pie": [
           {
            "automargin": true,
            "type": "pie"
           }
          ],
          "scatter": [
           {
            "fillpattern": {
             "fillmode": "overlay",
             "size": 10,
             "solidity": 0.2
            },
            "type": "scatter"
           }
          ],
          "scatter3d": [
           {
            "line": {
             "colorbar": {
              "outlinewidth": 0,
              "ticks": ""
             }
            },
            "marker": {
             "colorbar": {
              "outlinewidth": 0,
              "ticks": ""
             }
            },
            "type": "scatter3d"
           }
          ],
          "scattercarpet": [
           {
            "marker": {
             "colorbar": {
              "outlinewidth": 0,
              "ticks": ""
             }
            },
            "type": "scattercarpet"
           }
          ],
          "scattergeo": [
           {
            "marker": {
             "colorbar": {
              "outlinewidth": 0,
              "ticks": ""
             }
            },
            "type": "scattergeo"
           }
          ],
          "scattergl": [
           {
            "marker": {
             "colorbar": {
              "outlinewidth": 0,
              "ticks": ""
             }
            },
            "type": "scattergl"
           }
          ],
          "scattermapbox": [
           {
            "marker": {
             "colorbar": {
              "outlinewidth": 0,
              "ticks": ""
             }
            },
            "type": "scattermapbox"
           }
          ],
          "scatterpolar": [
           {
            "marker": {
             "colorbar": {
              "outlinewidth": 0,
              "ticks": ""
             }
            },
            "type": "scatterpolar"
           }
          ],
          "scatterpolargl": [
           {
            "marker": {
             "colorbar": {
              "outlinewidth": 0,
              "ticks": ""
             }
            },
            "type": "scatterpolargl"
           }
          ],
          "scatterternary": [
           {
            "marker": {
             "colorbar": {
              "outlinewidth": 0,
              "ticks": ""
             }
            },
            "type": "scatterternary"
           }
          ],
          "surface": [
           {
            "colorbar": {
             "outlinewidth": 0,
             "ticks": ""
            },
            "colorscale": [
             [
              0,
              "#0d0887"
             ],
             [
              0.1111111111111111,
              "#46039f"
             ],
             [
              0.2222222222222222,
              "#7201a8"
             ],
             [
              0.3333333333333333,
              "#9c179e"
             ],
             [
              0.4444444444444444,
              "#bd3786"
             ],
             [
              0.5555555555555556,
              "#d8576b"
             ],
             [
              0.6666666666666666,
              "#ed7953"
             ],
             [
              0.7777777777777778,
              "#fb9f3a"
             ],
             [
              0.8888888888888888,
              "#fdca26"
             ],
             [
              1,
              "#f0f921"
             ]
            ],
            "type": "surface"
           }
          ],
          "table": [
           {
            "cells": {
             "fill": {
              "color": "#EBF0F8"
             },
             "line": {
              "color": "white"
             }
            },
            "header": {
             "fill": {
              "color": "#C8D4E3"
             },
             "line": {
              "color": "white"
             }
            },
            "type": "table"
           }
          ]
         },
         "layout": {
          "annotationdefaults": {
           "arrowcolor": "#2a3f5f",
           "arrowhead": 0,
           "arrowwidth": 1
          },
          "autotypenumbers": "strict",
          "coloraxis": {
           "colorbar": {
            "outlinewidth": 0,
            "ticks": ""
           }
          },
          "colorscale": {
           "diverging": [
            [
             0,
             "#8e0152"
            ],
            [
             0.1,
             "#c51b7d"
            ],
            [
             0.2,
             "#de77ae"
            ],
            [
             0.3,
             "#f1b6da"
            ],
            [
             0.4,
             "#fde0ef"
            ],
            [
             0.5,
             "#f7f7f7"
            ],
            [
             0.6,
             "#e6f5d0"
            ],
            [
             0.7,
             "#b8e186"
            ],
            [
             0.8,
             "#7fbc41"
            ],
            [
             0.9,
             "#4d9221"
            ],
            [
             1,
             "#276419"
            ]
           ],
           "sequential": [
            [
             0,
             "#0d0887"
            ],
            [
             0.1111111111111111,
             "#46039f"
            ],
            [
             0.2222222222222222,
             "#7201a8"
            ],
            [
             0.3333333333333333,
             "#9c179e"
            ],
            [
             0.4444444444444444,
             "#bd3786"
            ],
            [
             0.5555555555555556,
             "#d8576b"
            ],
            [
             0.6666666666666666,
             "#ed7953"
            ],
            [
             0.7777777777777778,
             "#fb9f3a"
            ],
            [
             0.8888888888888888,
             "#fdca26"
            ],
            [
             1,
             "#f0f921"
            ]
           ],
           "sequentialminus": [
            [
             0,
             "#0d0887"
            ],
            [
             0.1111111111111111,
             "#46039f"
            ],
            [
             0.2222222222222222,
             "#7201a8"
            ],
            [
             0.3333333333333333,
             "#9c179e"
            ],
            [
             0.4444444444444444,
             "#bd3786"
            ],
            [
             0.5555555555555556,
             "#d8576b"
            ],
            [
             0.6666666666666666,
             "#ed7953"
            ],
            [
             0.7777777777777778,
             "#fb9f3a"
            ],
            [
             0.8888888888888888,
             "#fdca26"
            ],
            [
             1,
             "#f0f921"
            ]
           ]
          },
          "colorway": [
           "#636efa",
           "#EF553B",
           "#00cc96",
           "#ab63fa",
           "#FFA15A",
           "#19d3f3",
           "#FF6692",
           "#B6E880",
           "#FF97FF",
           "#FECB52"
          ],
          "font": {
           "color": "#2a3f5f"
          },
          "geo": {
           "bgcolor": "white",
           "lakecolor": "white",
           "landcolor": "#E5ECF6",
           "showlakes": true,
           "showland": true,
           "subunitcolor": "white"
          },
          "hoverlabel": {
           "align": "left"
          },
          "hovermode": "closest",
          "mapbox": {
           "style": "light"
          },
          "paper_bgcolor": "white",
          "plot_bgcolor": "#E5ECF6",
          "polar": {
           "angularaxis": {
            "gridcolor": "white",
            "linecolor": "white",
            "ticks": ""
           },
           "bgcolor": "#E5ECF6",
           "radialaxis": {
            "gridcolor": "white",
            "linecolor": "white",
            "ticks": ""
           }
          },
          "scene": {
           "xaxis": {
            "backgroundcolor": "#E5ECF6",
            "gridcolor": "white",
            "gridwidth": 2,
            "linecolor": "white",
            "showbackground": true,
            "ticks": "",
            "zerolinecolor": "white"
           },
           "yaxis": {
            "backgroundcolor": "#E5ECF6",
            "gridcolor": "white",
            "gridwidth": 2,
            "linecolor": "white",
            "showbackground": true,
            "ticks": "",
            "zerolinecolor": "white"
           },
           "zaxis": {
            "backgroundcolor": "#E5ECF6",
            "gridcolor": "white",
            "gridwidth": 2,
            "linecolor": "white",
            "showbackground": true,
            "ticks": "",
            "zerolinecolor": "white"
           }
          },
          "shapedefaults": {
           "line": {
            "color": "#2a3f5f"
           }
          },
          "ternary": {
           "aaxis": {
            "gridcolor": "white",
            "linecolor": "white",
            "ticks": ""
           },
           "baxis": {
            "gridcolor": "white",
            "linecolor": "white",
            "ticks": ""
           },
           "bgcolor": "#E5ECF6",
           "caxis": {
            "gridcolor": "white",
            "linecolor": "white",
            "ticks": ""
           }
          },
          "title": {
           "x": 0.05
          },
          "xaxis": {
           "automargin": true,
           "gridcolor": "white",
           "linecolor": "white",
           "ticks": "",
           "title": {
            "standoff": 15
           },
           "zerolinecolor": "white",
           "zerolinewidth": 2
          },
          "yaxis": {
           "automargin": true,
           "gridcolor": "white",
           "linecolor": "white",
           "ticks": "",
           "title": {
            "standoff": 15
           },
           "zerolinecolor": "white",
           "zerolinewidth": 2
          }
         }
        },
        "title": {
         "font": {
          "color": "#4D5663"
         },
         "text": "Prevalence of HIV, total (% of population ages 15-49)"
        },
        "xaxis": {
         "autorange": true,
         "gridcolor": "#E1E5ED",
         "range": [
          1990,
          2021
         ],
         "showgrid": true,
         "tickfont": {
          "color": "#4D5663"
         },
         "title": {
          "font": {
           "color": "#4D5663"
          },
          "text": "Year"
         },
         "type": "linear",
         "zerolinecolor": "#E1E5ED"
        },
        "yaxis": {
         "autorange": true,
         "gridcolor": "#E1E5ED",
         "range": [
          5.316666666666667,
          26.98333333333333
         ],
         "showgrid": true,
         "tickfont": {
          "color": "#4D5663"
         },
         "title": {
          "font": {
           "color": "#4D5663"
          },
          "text": "% Population"
         },
         "type": "linear",
         "zerolinecolor": "#E1E5ED"
        }
       }
      },
      "image/png": "[encoded data removed]",
      "text/html": [
       "<div>                            <div id=\"e4a91dd4-771d-4d6d-b373-0dd2f6e45ef0\" class=\"plotly-graph-div\" style=\"height:525px; width:100%;\"></div>            <script type=\"text/javascript\">                require([\"plotly\"], function(Plotly) {                    window.PLOTLYENV=window.PLOTLYENV || {};\n",
       "                    window.PLOTLYENV.BASE_URL='https://plot.ly';                                    if (document.getElementById(\"e4a91dd4-771d-4d6d-b373-0dd2f6e45ef0\")) {                    Plotly.newPlot(                        \"e4a91dd4-771d-4d6d-b373-0dd2f6e45ef0\",                        [{\"line\":{\"color\":\"rgba(255, 153, 51, 1.0)\",\"dash\":\"solid\",\"shape\":\"linear\",\"width\":1.3},\"mode\":\"lines\",\"name\":\"BWA\",\"text\":\"\",\"x\":[1990,1991,1992,1993,1994,1995,1996,1997,1998,1999,2000,2001,2002,2003,2004,2005,2006,2007,2008,2009,2010,2011,2012,2013,2014,2015,2016,2017,2018,2019,2020,2021],\"y\":[6.4,8.8,11.5,14.3,17.1,19.6,21.7,23.4,24.6,25.4,25.8,25.9,25.7,25.4,25.0,24.6,24.3,24.0,23.7,23.5,23.2,23.0,22.7,22.4,22.0,21.7,21.3,20.9,20.4,19.8,19.2,18.6],\"type\":\"scatter\"}],                        {\"legend\":{\"bgcolor\":\"#F5F6F9\",\"font\":{\"color\":\"#4D5663\"}},\"paper_bgcolor\":\"#F5F6F9\",\"plot_bgcolor\":\"#F5F6F9\",\"template\":{\"data\":{\"barpolar\":[{\"marker\":{\"line\":{\"color\":\"#E5ECF6\",\"width\":0.5},\"pattern\":{\"fillmode\":\"overlay\",\"size\":10,\"solidity\":0.2}},\"type\":\"barpolar\"}],\"bar\":[{\"error_x\":{\"color\":\"#2a3f5f\"},\"error_y\":{\"color\":\"#2a3f5f\"},\"marker\":{\"line\":{\"color\":\"#E5ECF6\",\"width\":0.5},\"pattern\":{\"fillmode\":\"overlay\",\"size\":10,\"solidity\":0.2}},\"type\":\"bar\"}],\"carpet\":[{\"aaxis\":{\"endlinecolor\":\"#2a3f5f\",\"gridcolor\":\"white\",\"linecolor\":\"white\",\"minorgridcolor\":\"white\",\"startlinecolor\":\"#2a3f5f\"},\"baxis\":{\"endlinecolor\":\"#2a3f5f\",\"gridcolor\":\"white\",\"linecolor\":\"white\",\"minorgridcolor\":\"white\",\"startlinecolor\":\"#2a3f5f\"},\"type\":\"carpet\"}],\"choropleth\":[{\"colorbar\":{\"outlinewidth\":0,\"ticks\":\"\"},\"type\":\"choropleth\"}],\"contourcarpet\":[{\"colorbar\":{\"outlinewidth\":0,\"ticks\":\"\"},\"type\":\"contourcarpet\"}],\"contour\":[{\"colorbar\":{\"outlinewidth\":0,\"ticks\":\"\"},\"colorscale\":[[0.0,\"#0d0887\"],[0.1111111111111111,\"#46039f\"],[0.2222222222222222,\"#7201a8\"],[0.3333333333333333,\"#9c179e\"],[0.4444444444444444,\"#bd3786\"],[0.5555555555555556,\"#d8576b\"],[0.6666666666666666,\"#ed7953\"],[0.7777777777777778,\"#fb9f3a\"],[0.8888888888888888,\"#fdca26\"],[1.0,\"#f0f921\"]],\"type\":\"contour\"}],\"heatmapgl\":[{\"colorbar\":{\"outlinewidth\":0,\"ticks\":\"\"},\"colorscale\":[[0.0,\"#0d0887\"],[0.1111111111111111,\"#46039f\"],[0.2222222222222222,\"#7201a8\"],[0.3333333333333333,\"#9c179e\"],[0.4444444444444444,\"#bd3786\"],[0.5555555555555556,\"#d8576b\"],[0.6666666666666666,\"#ed7953\"],[0.7777777777777778,\"#fb9f3a\"],[0.8888888888888888,\"#fdca26\"],[1.0,\"#f0f921\"]],\"type\":\"heatmapgl\"}],\"heatmap\":[{\"colorbar\":{\"outlinewidth\":0,\"ticks\":\"\"},\"colorscale\":[[0.0,\"#0d0887\"],[0.1111111111111111,\"#46039f\"],[0.2222222222222222,\"#7201a8\"],[0.3333333333333333,\"#9c179e\"],[0.4444444444444444,\"#bd3786\"],[0.5555555555555556,\"#d8576b\"],[0.6666666666666666,\"#ed7953\"],[0.7777777777777778,\"#fb9f3a\"],[0.8888888888888888,\"#fdca26\"],[1.0,\"#f0f921\"]],\"type\":\"heatmap\"}],\"histogram2dcontour\":[{\"colorbar\":{\"outlinewidth\":0,\"ticks\":\"\"},\"colorscale\":[[0.0,\"#0d0887\"],[0.1111111111111111,\"#46039f\"],[0.2222222222222222,\"#7201a8\"],[0.3333333333333333,\"#9c179e\"],[0.4444444444444444,\"#bd3786\"],[0.5555555555555556,\"#d8576b\"],[0.6666666666666666,\"#ed7953\"],[0.7777777777777778,\"#fb9f3a\"],[0.8888888888888888,\"#fdca26\"],[1.0,\"#f0f921\"]],\"type\":\"histogram2dcontour\"}],\"histogram2d\":[{\"colorbar\":{\"outlinewidth\":0,\"ticks\":\"\"},\"colorscale\":[[0.0,\"#0d0887\"],[0.1111111111111111,\"#46039f\"],[0.2222222222222222,\"#7201a8\"],[0.3333333333333333,\"#9c179e\"],[0.4444444444444444,\"#bd3786\"],[0.5555555555555556,\"#d8576b\"],[0.6666666666666666,\"#ed7953\"],[0.7777777777777778,\"#fb9f3a\"],[0.8888888888888888,\"#fdca26\"],[1.0,\"#f0f921\"]],\"type\":\"histogram2d\"}],\"histogram\":[{\"marker\":{\"pattern\":{\"fillmode\":\"overlay\",\"size\":10,\"solidity\":0.2}},\"type\":\"histogram\"}],\"mesh3d\":[{\"colorbar\":{\"outlinewidth\":0,\"ticks\":\"\"},\"type\":\"mesh3d\"}],\"parcoords\":[{\"line\":{\"colorbar\":{\"outlinewidth\":0,\"ticks\":\"\"}},\"type\":\"parcoords\"}],\"pie\":[{\"automargin\":true,\"type\":\"pie\"}],\"scatter3d\":[{\"line\":{\"colorbar\":{\"outlinewidth\":0,\"ticks\":\"\"}},\"marker\":{\"colorbar\":{\"outlinewidth\":0,\"ticks\":\"\"}},\"type\":\"scatter3d\"}],\"scattercarpet\":[{\"marker\":{\"colorbar\":{\"outlinewidth\":0,\"ticks\":\"\"}},\"type\":\"scattercarpet\"}],\"scattergeo\":[{\"marker\":{\"colorbar\":{\"outlinewidth\":0,\"ticks\":\"\"}},\"type\":\"scattergeo\"}],\"scattergl\":[{\"marker\":{\"colorbar\":{\"outlinewidth\":0,\"ticks\":\"\"}},\"type\":\"scattergl\"}],\"scattermapbox\":[{\"marker\":{\"colorbar\":{\"outlinewidth\":0,\"ticks\":\"\"}},\"type\":\"scattermapbox\"}],\"scatterpolargl\":[{\"marker\":{\"colorbar\":{\"outlinewidth\":0,\"ticks\":\"\"}},\"type\":\"scatterpolargl\"}],\"scatterpolar\":[{\"marker\":{\"colorbar\":{\"outlinewidth\":0,\"ticks\":\"\"}},\"type\":\"scatterpolar\"}],\"scatter\":[{\"fillpattern\":{\"fillmode\":\"overlay\",\"size\":10,\"solidity\":0.2},\"type\":\"scatter\"}],\"scatterternary\":[{\"marker\":{\"colorbar\":{\"outlinewidth\":0,\"ticks\":\"\"}},\"type\":\"scatterternary\"}],\"surface\":[{\"colorbar\":{\"outlinewidth\":0,\"ticks\":\"\"},\"colorscale\":[[0.0,\"#0d0887\"],[0.1111111111111111,\"#46039f\"],[0.2222222222222222,\"#7201a8\"],[0.3333333333333333,\"#9c179e\"],[0.4444444444444444,\"#bd3786\"],[0.5555555555555556,\"#d8576b\"],[0.6666666666666666,\"#ed7953\"],[0.7777777777777778,\"#fb9f3a\"],[0.8888888888888888,\"#fdca26\"],[1.0,\"#f0f921\"]],\"type\":\"surface\"}],\"table\":[{\"cells\":{\"fill\":{\"color\":\"#EBF0F8\"},\"line\":{\"color\":\"white\"}},\"header\":{\"fill\":{\"color\":\"#C8D4E3\"},\"line\":{\"color\":\"white\"}},\"type\":\"table\"}]},\"layout\":{\"annotationdefaults\":{\"arrowcolor\":\"#2a3f5f\",\"arrowhead\":0,\"arrowwidth\":1},\"autotypenumbers\":\"strict\",\"coloraxis\":{\"colorbar\":{\"outlinewidth\":0,\"ticks\":\"\"}},\"colorscale\":{\"diverging\":[[0,\"#8e0152\"],[0.1,\"#c51b7d\"],[0.2,\"#de77ae\"],[0.3,\"#f1b6da\"],[0.4,\"#fde0ef\"],[0.5,\"#f7f7f7\"],[0.6,\"#e6f5d0\"],[0.7,\"#b8e186\"],[0.8,\"#7fbc41\"],[0.9,\"#4d9221\"],[1,\"#276419\"]],\"sequential\":[[0.0,\"#0d0887\"],[0.1111111111111111,\"#46039f\"],[0.2222222222222222,\"#7201a8\"],[0.3333333333333333,\"#9c179e\"],[0.4444444444444444,\"#bd3786\"],[0.5555555555555556,\"#d8576b\"],[0.6666666666666666,\"#ed7953\"],[0.7777777777777778,\"#fb9f3a\"],[0.8888888888888888,\"#fdca26\"],[1.0,\"#f0f921\"]],\"sequentialminus\":[[0.0,\"#0d0887\"],[0.1111111111111111,\"#46039f\"],[0.2222222222222222,\"#7201a8\"],[0.3333333333333333,\"#9c179e\"],[0.4444444444444444,\"#bd3786\"],[0.5555555555555556,\"#d8576b\"],[0.6666666666666666,\"#ed7953\"],[0.7777777777777778,\"#fb9f3a\"],[0.8888888888888888,\"#fdca26\"],[1.0,\"#f0f921\"]]},\"colorway\":[\"#636efa\",\"#EF553B\",\"#00cc96\",\"#ab63fa\",\"#FFA15A\",\"#19d3f3\",\"#FF6692\",\"#B6E880\",\"#FF97FF\",\"#FECB52\"],\"font\":{\"color\":\"#2a3f5f\"},\"geo\":{\"bgcolor\":\"white\",\"lakecolor\":\"white\",\"landcolor\":\"#E5ECF6\",\"showlakes\":true,\"showland\":true,\"subunitcolor\":\"white\"},\"hoverlabel\":{\"align\":\"left\"},\"hovermode\":\"closest\",\"mapbox\":{\"style\":\"light\"},\"paper_bgcolor\":\"white\",\"plot_bgcolor\":\"#E5ECF6\",\"polar\":{\"angularaxis\":{\"gridcolor\":\"white\",\"linecolor\":\"white\",\"ticks\":\"\"},\"bgcolor\":\"#E5ECF6\",\"radialaxis\":{\"gridcolor\":\"white\",\"linecolor\":\"white\",\"ticks\":\"\"}},\"scene\":{\"xaxis\":{\"backgroundcolor\":\"#E5ECF6\",\"gridcolor\":\"white\",\"gridwidth\":2,\"linecolor\":\"white\",\"showbackground\":true,\"ticks\":\"\",\"zerolinecolor\":\"white\"},\"yaxis\":{\"backgroundcolor\":\"#E5ECF6\",\"gridcolor\":\"white\",\"gridwidth\":2,\"linecolor\":\"white\",\"showbackground\":true,\"ticks\":\"\",\"zerolinecolor\":\"white\"},\"zaxis\":{\"backgroundcolor\":\"#E5ECF6\",\"gridcolor\":\"white\",\"gridwidth\":2,\"linecolor\":\"white\",\"showbackground\":true,\"ticks\":\"\",\"zerolinecolor\":\"white\"}},\"shapedefaults\":{\"line\":{\"color\":\"#2a3f5f\"}},\"ternary\":{\"aaxis\":{\"gridcolor\":\"white\",\"linecolor\":\"white\",\"ticks\":\"\"},\"baxis\":{\"gridcolor\":\"white\",\"linecolor\":\"white\",\"ticks\":\"\"},\"bgcolor\":\"#E5ECF6\",\"caxis\":{\"gridcolor\":\"white\",\"linecolor\":\"white\",\"ticks\":\"\"}},\"title\":{\"x\":0.05},\"xaxis\":{\"automargin\":true,\"gridcolor\":\"white\",\"linecolor\":\"white\",\"ticks\":\"\",\"title\":{\"standoff\":15},\"zerolinecolor\":\"white\",\"zerolinewidth\":2},\"yaxis\":{\"automargin\":true,\"gridcolor\":\"white\",\"linecolor\":\"white\",\"ticks\":\"\",\"title\":{\"standoff\":15},\"zerolinecolor\":\"white\",\"zerolinewidth\":2}}},\"title\":{\"font\":{\"color\":\"#4D5663\"},\"text\":\"Prevalence of HIV, total (% of population ages 15-49)\"},\"xaxis\":{\"gridcolor\":\"#E1E5ED\",\"showgrid\":true,\"tickfont\":{\"color\":\"#4D5663\"},\"title\":{\"font\":{\"color\":\"#4D5663\"},\"text\":\"Year\"},\"zerolinecolor\":\"#E1E5ED\"},\"yaxis\":{\"gridcolor\":\"#E1E5ED\",\"showgrid\":true,\"tickfont\":{\"color\":\"#4D5663\"},\"title\":{\"font\":{\"color\":\"#4D5663\"},\"text\":\"% Population\"},\"zerolinecolor\":\"#E1E5ED\"}},                        {\"showLink\": true, \"linkText\": \"Export to plot.ly\", \"plotlyServerURL\": \"https://plot.ly\", \"responsive\": true}                    ).then(function(){\n",
       "                            \n",
       "var gd = document.getElementById('e4a91dd4-771d-4d6d-b373-0dd2f6e45ef0');\n",
       "var x = new MutationObserver(function (mutations, observer) {{\n",
       "        var display = window.getComputedStyle(gd).display;\n",
       "        if (!display || display === 'none') {{\n",
       "            console.log([gd, 'removed!']);\n",
       "            Plotly.purge(gd);\n",
       "            observer.disconnect();\n",
       "        }}\n",
       "}});\n",
       "\n",
       "// Listen for the removal of the full notebook cells\n",
       "var notebookContainer = gd.closest('#notebook-container');\n",
       "if (notebookContainer) {{\n",
       "    x.observe(notebookContainer, {childList: true});\n",
       "}}\n",
       "\n",
       "// Listen for the clearing of the current output cell\n",
       "var outputEl = gd.closest('.output');\n",
       "if (outputEl) {{\n",
       "    x.observe(outputEl, {childList: true});\n",
       "}}\n",
       "\n",
       "                        })                };                });            </script>        </div>"
      ]
     },
     "metadata": {},
     "output_type": "display_data"
    }
   ],
   "source": [
    "#Prevalence of HIV, total (% of population ages 15-49) (Botswana)\n",
    "hiv_prev = {\"SH.DYN.AIDS.ZS\" : \"BWA\"}\n",
    "prev = wbdata.get_dataframe(hiv_prev, country = \"BWA\")\n",
    "\n",
    "prev = prev.dropna().sort_index()\n",
    "prev.index = prev.index.astype(int)\n",
    "prev.iplot(title =\"Prevalence of HIV, total (% of population ages 15-49)\",xTitle='Year',yTitle='% Population')"
   ]
  },
  {
   "cell_type": "code",
   "execution_count": 53,
   "id": "61440f03-077b-4568-92d0-dcabd5aebaf1",
   "metadata": {},
   "outputs": [
    {
     "data": {
      "application/vnd.plotly.v1+json": {
       "config": {
        "linkText": "Export to plot.ly",
        "plotlyServerURL": "https://plot.ly",
        "showLink": true
       },
       "data": [
        {
         "line": {
          "color": "rgba(255, 153, 51, 1.0)",
          "dash": "solid",
          "shape": "linear",
          "width": 1.3
         },
         "mode": "lines",
         "name": "ZWE",
         "text": "",
         "type": "scatter",
         "x": [
          1990,
          1991,
          1992,
          1993,
          1994,
          1995,
          1996,
          1997,
          1998,
          1999,
          2000,
          2001,
          2002,
          2003,
          2004,
          2005,
          2006,
          2007,
          2008,
          2009,
          2010,
          2011,
          2012,
          2013,
          2014,
          2015,
          2016,
          2017,
          2018,
          2019,
          2020,
          2021
         ],
         "y": [
          15.1,
          18.1,
          20.7,
          22.7,
          24.1,
          24.9,
          25.1,
          25,
          24.5,
          23.8,
          23,
          22.1,
          21,
          20,
          19,
          18.1,
          17.3,
          16.6,
          16.1,
          15.7,
          15.4,
          15.2,
          14.9,
          14.7,
          14.5,
          14.2,
          13.8,
          13.4,
          13,
          12.5,
          12.1,
          11.6
         ]
        }
       ],
       "layout": {
        "autosize": true,
        "legend": {
         "bgcolor": "#F5F6F9",
         "font": {
          "color": "#4D5663"
         }
        },
        "paper_bgcolor": "#F5F6F9",
        "plot_bgcolor": "#F5F6F9",
        "template": {
         "data": {
          "bar": [
           {
            "error_x": {
             "color": "#2a3f5f"
            },
            "error_y": {
             "color": "#2a3f5f"
            },
            "marker": {
             "line": {
              "color": "#E5ECF6",
              "width": 0.5
             },
             "pattern": {
              "fillmode": "overlay",
              "size": 10,
              "solidity": 0.2
             }
            },
            "type": "bar"
           }
          ],
          "barpolar": [
           {
            "marker": {
             "line": {
              "color": "#E5ECF6",
              "width": 0.5
             },
             "pattern": {
              "fillmode": "overlay",
              "size": 10,
              "solidity": 0.2
             }
            },
            "type": "barpolar"
           }
          ],
          "carpet": [
           {
            "aaxis": {
             "endlinecolor": "#2a3f5f",
             "gridcolor": "white",
             "linecolor": "white",
             "minorgridcolor": "white",
             "startlinecolor": "#2a3f5f"
            },
            "baxis": {
             "endlinecolor": "#2a3f5f",
             "gridcolor": "white",
             "linecolor": "white",
             "minorgridcolor": "white",
             "startlinecolor": "#2a3f5f"
            },
            "type": "carpet"
           }
          ],
          "choropleth": [
           {
            "colorbar": {
             "outlinewidth": 0,
             "ticks": ""
            },
            "type": "choropleth"
           }
          ],
          "contour": [
           {
            "colorbar": {
             "outlinewidth": 0,
             "ticks": ""
            },
            "colorscale": [
             [
              0,
              "#0d0887"
             ],
             [
              0.1111111111111111,
              "#46039f"
             ],
             [
              0.2222222222222222,
              "#7201a8"
             ],
             [
              0.3333333333333333,
              "#9c179e"
             ],
             [
              0.4444444444444444,
              "#bd3786"
             ],
             [
              0.5555555555555556,
              "#d8576b"
             ],
             [
              0.6666666666666666,
              "#ed7953"
             ],
             [
              0.7777777777777778,
              "#fb9f3a"
             ],
             [
              0.8888888888888888,
              "#fdca26"
             ],
             [
              1,
              "#f0f921"
             ]
            ],
            "type": "contour"
           }
          ],
          "contourcarpet": [
           {
            "colorbar": {
             "outlinewidth": 0,
             "ticks": ""
            },
            "type": "contourcarpet"
           }
          ],
          "heatmap": [
           {
            "colorbar": {
             "outlinewidth": 0,
             "ticks": ""
            },
            "colorscale": [
             [
              0,
              "#0d0887"
             ],
             [
              0.1111111111111111,
              "#46039f"
             ],
             [
              0.2222222222222222,
              "#7201a8"
             ],
             [
              0.3333333333333333,
              "#9c179e"
             ],
             [
              0.4444444444444444,
              "#bd3786"
             ],
             [
              0.5555555555555556,
              "#d8576b"
             ],
             [
              0.6666666666666666,
              "#ed7953"
             ],
             [
              0.7777777777777778,
              "#fb9f3a"
             ],
             [
              0.8888888888888888,
              "#fdca26"
             ],
             [
              1,
              "#f0f921"
             ]
            ],
            "type": "heatmap"
           }
          ],
          "heatmapgl": [
           {
            "colorbar": {
             "outlinewidth": 0,
             "ticks": ""
            },
            "colorscale": [
             [
              0,
              "#0d0887"
             ],
             [
              0.1111111111111111,
              "#46039f"
             ],
             [
              0.2222222222222222,
              "#7201a8"
             ],
             [
              0.3333333333333333,
              "#9c179e"
             ],
             [
              0.4444444444444444,
              "#bd3786"
             ],
             [
              0.5555555555555556,
              "#d8576b"
             ],
             [
              0.6666666666666666,
              "#ed7953"
             ],
             [
              0.7777777777777778,
              "#fb9f3a"
             ],
             [
              0.8888888888888888,
              "#fdca26"
             ],
             [
              1,
              "#f0f921"
             ]
            ],
            "type": "heatmapgl"
           }
          ],
          "histogram": [
           {
            "marker": {
             "pattern": {
              "fillmode": "overlay",
              "size": 10,
              "solidity": 0.2
             }
            },
            "type": "histogram"
           }
          ],
          "histogram2d": [
           {
            "colorbar": {
             "outlinewidth": 0,
             "ticks": ""
            },
            "colorscale": [
             [
              0,
              "#0d0887"
             ],
             [
              0.1111111111111111,
              "#46039f"
             ],
             [
              0.2222222222222222,
              "#7201a8"
             ],
             [
              0.3333333333333333,
              "#9c179e"
             ],
             [
              0.4444444444444444,
              "#bd3786"
             ],
             [
              0.5555555555555556,
              "#d8576b"
             ],
             [
              0.6666666666666666,
              "#ed7953"
             ],
             [
              0.7777777777777778,
              "#fb9f3a"
             ],
             [
              0.8888888888888888,
              "#fdca26"
             ],
             [
              1,
              "#f0f921"
             ]
            ],
            "type": "histogram2d"
           }
          ],
          "histogram2dcontour": [
           {
            "colorbar": {
             "outlinewidth": 0,
             "ticks": ""
            },
            "colorscale": [
             [
              0,
              "#0d0887"
             ],
             [
              0.1111111111111111,
              "#46039f"
             ],
             [
              0.2222222222222222,
              "#7201a8"
             ],
             [
              0.3333333333333333,
              "#9c179e"
             ],
             [
              0.4444444444444444,
              "#bd3786"
             ],
             [
              0.5555555555555556,
              "#d8576b"
             ],
             [
              0.6666666666666666,
              "#ed7953"
             ],
             [
              0.7777777777777778,
              "#fb9f3a"
             ],
             [
              0.8888888888888888,
              "#fdca26"
             ],
             [
              1,
              "#f0f921"
             ]
            ],
            "type": "histogram2dcontour"
           }
          ],
          "mesh3d": [
           {
            "colorbar": {
             "outlinewidth": 0,
             "ticks": ""
            },
            "type": "mesh3d"
           }
          ],
          "parcoords": [
           {
            "line": {
             "colorbar": {
              "outlinewidth": 0,
              "ticks": ""
             }
            },
            "type": "parcoords"
           }
          ],
          "pie": [
           {
            "automargin": true,
            "type": "pie"
           }
          ],
          "scatter": [
           {
            "fillpattern": {
             "fillmode": "overlay",
             "size": 10,
             "solidity": 0.2
            },
            "type": "scatter"
           }
          ],
          "scatter3d": [
           {
            "line": {
             "colorbar": {
              "outlinewidth": 0,
              "ticks": ""
             }
            },
            "marker": {
             "colorbar": {
              "outlinewidth": 0,
              "ticks": ""
             }
            },
            "type": "scatter3d"
           }
          ],
          "scattercarpet": [
           {
            "marker": {
             "colorbar": {
              "outlinewidth": 0,
              "ticks": ""
             }
            },
            "type": "scattercarpet"
           }
          ],
          "scattergeo": [
           {
            "marker": {
             "colorbar": {
              "outlinewidth": 0,
              "ticks": ""
             }
            },
            "type": "scattergeo"
           }
          ],
          "scattergl": [
           {
            "marker": {
             "colorbar": {
              "outlinewidth": 0,
              "ticks": ""
             }
            },
            "type": "scattergl"
           }
          ],
          "scattermapbox": [
           {
            "marker": {
             "colorbar": {
              "outlinewidth": 0,
              "ticks": ""
             }
            },
            "type": "scattermapbox"
           }
          ],
          "scatterpolar": [
           {
            "marker": {
             "colorbar": {
              "outlinewidth": 0,
              "ticks": ""
             }
            },
            "type": "scatterpolar"
           }
          ],
          "scatterpolargl": [
           {
            "marker": {
             "colorbar": {
              "outlinewidth": 0,
              "ticks": ""
             }
            },
            "type": "scatterpolargl"
           }
          ],
          "scatterternary": [
           {
            "marker": {
             "colorbar": {
              "outlinewidth": 0,
              "ticks": ""
             }
            },
            "type": "scatterternary"
           }
          ],
          "surface": [
           {
            "colorbar": {
             "outlinewidth": 0,
             "ticks": ""
            },
            "colorscale": [
             [
              0,
              "#0d0887"
             ],
             [
              0.1111111111111111,
              "#46039f"
             ],
             [
              0.2222222222222222,
              "#7201a8"
             ],
             [
              0.3333333333333333,
              "#9c179e"
             ],
             [
              0.4444444444444444,
              "#bd3786"
             ],
             [
              0.5555555555555556,
              "#d8576b"
             ],
             [
              0.6666666666666666,
              "#ed7953"
             ],
             [
              0.7777777777777778,
              "#fb9f3a"
             ],
             [
              0.8888888888888888,
              "#fdca26"
             ],
             [
              1,
              "#f0f921"
             ]
            ],
            "type": "surface"
           }
          ],
          "table": [
           {
            "cells": {
             "fill": {
              "color": "#EBF0F8"
             },
             "line": {
              "color": "white"
             }
            },
            "header": {
             "fill": {
              "color": "#C8D4E3"
             },
             "line": {
              "color": "white"
             }
            },
            "type": "table"
           }
          ]
         },
         "layout": {
          "annotationdefaults": {
           "arrowcolor": "#2a3f5f",
           "arrowhead": 0,
           "arrowwidth": 1
          },
          "autotypenumbers": "strict",
          "coloraxis": {
           "colorbar": {
            "outlinewidth": 0,
            "ticks": ""
           }
          },
          "colorscale": {
           "diverging": [
            [
             0,
             "#8e0152"
            ],
            [
             0.1,
             "#c51b7d"
            ],
            [
             0.2,
             "#de77ae"
            ],
            [
             0.3,
             "#f1b6da"
            ],
            [
             0.4,
             "#fde0ef"
            ],
            [
             0.5,
             "#f7f7f7"
            ],
            [
             0.6,
             "#e6f5d0"
            ],
            [
             0.7,
             "#b8e186"
            ],
            [
             0.8,
             "#7fbc41"
            ],
            [
             0.9,
             "#4d9221"
            ],
            [
             1,
             "#276419"
            ]
           ],
           "sequential": [
            [
             0,
             "#0d0887"
            ],
            [
             0.1111111111111111,
             "#46039f"
            ],
            [
             0.2222222222222222,
             "#7201a8"
            ],
            [
             0.3333333333333333,
             "#9c179e"
            ],
            [
             0.4444444444444444,
             "#bd3786"
            ],
            [
             0.5555555555555556,
             "#d8576b"
            ],
            [
             0.6666666666666666,
             "#ed7953"
            ],
            [
             0.7777777777777778,
             "#fb9f3a"
            ],
            [
             0.8888888888888888,
             "#fdca26"
            ],
            [
             1,
             "#f0f921"
            ]
           ],
           "sequentialminus": [
            [
             0,
             "#0d0887"
            ],
            [
             0.1111111111111111,
             "#46039f"
            ],
            [
             0.2222222222222222,
             "#7201a8"
            ],
            [
             0.3333333333333333,
             "#9c179e"
            ],
            [
             0.4444444444444444,
             "#bd3786"
            ],
            [
             0.5555555555555556,
             "#d8576b"
            ],
            [
             0.6666666666666666,
             "#ed7953"
            ],
            [
             0.7777777777777778,
             "#fb9f3a"
            ],
            [
             0.8888888888888888,
             "#fdca26"
            ],
            [
             1,
             "#f0f921"
            ]
           ]
          },
          "colorway": [
           "#636efa",
           "#EF553B",
           "#00cc96",
           "#ab63fa",
           "#FFA15A",
           "#19d3f3",
           "#FF6692",
           "#B6E880",
           "#FF97FF",
           "#FECB52"
          ],
          "font": {
           "color": "#2a3f5f"
          },
          "geo": {
           "bgcolor": "white",
           "lakecolor": "white",
           "landcolor": "#E5ECF6",
           "showlakes": true,
           "showland": true,
           "subunitcolor": "white"
          },
          "hoverlabel": {
           "align": "left"
          },
          "hovermode": "closest",
          "mapbox": {
           "style": "light"
          },
          "paper_bgcolor": "white",
          "plot_bgcolor": "#E5ECF6",
          "polar": {
           "angularaxis": {
            "gridcolor": "white",
            "linecolor": "white",
            "ticks": ""
           },
           "bgcolor": "#E5ECF6",
           "radialaxis": {
            "gridcolor": "white",
            "linecolor": "white",
            "ticks": ""
           }
          },
          "scene": {
           "xaxis": {
            "backgroundcolor": "#E5ECF6",
            "gridcolor": "white",
            "gridwidth": 2,
            "linecolor": "white",
            "showbackground": true,
            "ticks": "",
            "zerolinecolor": "white"
           },
           "yaxis": {
            "backgroundcolor": "#E5ECF6",
            "gridcolor": "white",
            "gridwidth": 2,
            "linecolor": "white",
            "showbackground": true,
            "ticks": "",
            "zerolinecolor": "white"
           },
           "zaxis": {
            "backgroundcolor": "#E5ECF6",
            "gridcolor": "white",
            "gridwidth": 2,
            "linecolor": "white",
            "showbackground": true,
            "ticks": "",
            "zerolinecolor": "white"
           }
          },
          "shapedefaults": {
           "line": {
            "color": "#2a3f5f"
           }
          },
          "ternary": {
           "aaxis": {
            "gridcolor": "white",
            "linecolor": "white",
            "ticks": ""
           },
           "baxis": {
            "gridcolor": "white",
            "linecolor": "white",
            "ticks": ""
           },
           "bgcolor": "#E5ECF6",
           "caxis": {
            "gridcolor": "white",
            "linecolor": "white",
            "ticks": ""
           }
          },
          "title": {
           "x": 0.05
          },
          "xaxis": {
           "automargin": true,
           "gridcolor": "white",
           "linecolor": "white",
           "ticks": "",
           "title": {
            "standoff": 15
           },
           "zerolinecolor": "white",
           "zerolinewidth": 2
          },
          "yaxis": {
           "automargin": true,
           "gridcolor": "white",
           "linecolor": "white",
           "ticks": "",
           "title": {
            "standoff": 15
           },
           "zerolinecolor": "white",
           "zerolinewidth": 2
          }
         }
        },
        "title": {
         "font": {
          "color": "#4D5663"
         },
         "text": "Prevalence of HIV, total (% of population ages 15-49)"
        },
        "xaxis": {
         "autorange": true,
         "gridcolor": "#E1E5ED",
         "range": [
          1990,
          2021
         ],
         "showgrid": true,
         "tickfont": {
          "color": "#4D5663"
         },
         "title": {
          "font": {
           "color": "#4D5663"
          },
          "text": "Year"
         },
         "type": "linear",
         "zerolinecolor": "#E1E5ED"
        },
        "yaxis": {
         "autorange": true,
         "gridcolor": "#E1E5ED",
         "range": [
          10.85,
          25.85
         ],
         "showgrid": true,
         "tickfont": {
          "color": "#4D5663"
         },
         "title": {
          "font": {
           "color": "#4D5663"
          },
          "text": "% Population"
         },
         "type": "linear",
         "zerolinecolor": "#E1E5ED"
        }
       }
      },
      "image/png": "[encoded data removed]",
      "text/html": [
       "<div>                            <div id=\"73eba10f-ece8-421b-997c-8b1c7dadc171\" class=\"plotly-graph-div\" style=\"height:525px; width:100%;\"></div>            <script type=\"text/javascript\">                require([\"plotly\"], function(Plotly) {                    window.PLOTLYENV=window.PLOTLYENV || {};\n",
       "                    window.PLOTLYENV.BASE_URL='https://plot.ly';                                    if (document.getElementById(\"73eba10f-ece8-421b-997c-8b1c7dadc171\")) {                    Plotly.newPlot(                        \"73eba10f-ece8-421b-997c-8b1c7dadc171\",                        [{\"line\":{\"color\":\"rgba(255, 153, 51, 1.0)\",\"dash\":\"solid\",\"shape\":\"linear\",\"width\":1.3},\"mode\":\"lines\",\"name\":\"ZWE\",\"text\":\"\",\"x\":[1990,1991,1992,1993,1994,1995,1996,1997,1998,1999,2000,2001,2002,2003,2004,2005,2006,2007,2008,2009,2010,2011,2012,2013,2014,2015,2016,2017,2018,2019,2020,2021],\"y\":[15.1,18.1,20.7,22.7,24.1,24.9,25.1,25.0,24.5,23.8,23.0,22.1,21.0,20.0,19.0,18.1,17.3,16.6,16.1,15.7,15.4,15.2,14.9,14.7,14.5,14.2,13.8,13.4,13.0,12.5,12.1,11.6],\"type\":\"scatter\"}],                        {\"legend\":{\"bgcolor\":\"#F5F6F9\",\"font\":{\"color\":\"#4D5663\"}},\"paper_bgcolor\":\"#F5F6F9\",\"plot_bgcolor\":\"#F5F6F9\",\"template\":{\"data\":{\"barpolar\":[{\"marker\":{\"line\":{\"color\":\"#E5ECF6\",\"width\":0.5},\"pattern\":{\"fillmode\":\"overlay\",\"size\":10,\"solidity\":0.2}},\"type\":\"barpolar\"}],\"bar\":[{\"error_x\":{\"color\":\"#2a3f5f\"},\"error_y\":{\"color\":\"#2a3f5f\"},\"marker\":{\"line\":{\"color\":\"#E5ECF6\",\"width\":0.5},\"pattern\":{\"fillmode\":\"overlay\",\"size\":10,\"solidity\":0.2}},\"type\":\"bar\"}],\"carpet\":[{\"aaxis\":{\"endlinecolor\":\"#2a3f5f\",\"gridcolor\":\"white\",\"linecolor\":\"white\",\"minorgridcolor\":\"white\",\"startlinecolor\":\"#2a3f5f\"},\"baxis\":{\"endlinecolor\":\"#2a3f5f\",\"gridcolor\":\"white\",\"linecolor\":\"white\",\"minorgridcolor\":\"white\",\"startlinecolor\":\"#2a3f5f\"},\"type\":\"carpet\"}],\"choropleth\":[{\"colorbar\":{\"outlinewidth\":0,\"ticks\":\"\"},\"type\":\"choropleth\"}],\"contourcarpet\":[{\"colorbar\":{\"outlinewidth\":0,\"ticks\":\"\"},\"type\":\"contourcarpet\"}],\"contour\":[{\"colorbar\":{\"outlinewidth\":0,\"ticks\":\"\"},\"colorscale\":[[0.0,\"#0d0887\"],[0.1111111111111111,\"#46039f\"],[0.2222222222222222,\"#7201a8\"],[0.3333333333333333,\"#9c179e\"],[0.4444444444444444,\"#bd3786\"],[0.5555555555555556,\"#d8576b\"],[0.6666666666666666,\"#ed7953\"],[0.7777777777777778,\"#fb9f3a\"],[0.8888888888888888,\"#fdca26\"],[1.0,\"#f0f921\"]],\"type\":\"contour\"}],\"heatmapgl\":[{\"colorbar\":{\"outlinewidth\":0,\"ticks\":\"\"},\"colorscale\":[[0.0,\"#0d0887\"],[0.1111111111111111,\"#46039f\"],[0.2222222222222222,\"#7201a8\"],[0.3333333333333333,\"#9c179e\"],[0.4444444444444444,\"#bd3786\"],[0.5555555555555556,\"#d8576b\"],[0.6666666666666666,\"#ed7953\"],[0.7777777777777778,\"#fb9f3a\"],[0.8888888888888888,\"#fdca26\"],[1.0,\"#f0f921\"]],\"type\":\"heatmapgl\"}],\"heatmap\":[{\"colorbar\":{\"outlinewidth\":0,\"ticks\":\"\"},\"colorscale\":[[0.0,\"#0d0887\"],[0.1111111111111111,\"#46039f\"],[0.2222222222222222,\"#7201a8\"],[0.3333333333333333,\"#9c179e\"],[0.4444444444444444,\"#bd3786\"],[0.5555555555555556,\"#d8576b\"],[0.6666666666666666,\"#ed7953\"],[0.7777777777777778,\"#fb9f3a\"],[0.8888888888888888,\"#fdca26\"],[1.0,\"#f0f921\"]],\"type\":\"heatmap\"}],\"histogram2dcontour\":[{\"colorbar\":{\"outlinewidth\":0,\"ticks\":\"\"},\"colorscale\":[[0.0,\"#0d0887\"],[0.1111111111111111,\"#46039f\"],[0.2222222222222222,\"#7201a8\"],[0.3333333333333333,\"#9c179e\"],[0.4444444444444444,\"#bd3786\"],[0.5555555555555556,\"#d8576b\"],[0.6666666666666666,\"#ed7953\"],[0.7777777777777778,\"#fb9f3a\"],[0.8888888888888888,\"#fdca26\"],[1.0,\"#f0f921\"]],\"type\":\"histogram2dcontour\"}],\"histogram2d\":[{\"colorbar\":{\"outlinewidth\":0,\"ticks\":\"\"},\"colorscale\":[[0.0,\"#0d0887\"],[0.1111111111111111,\"#46039f\"],[0.2222222222222222,\"#7201a8\"],[0.3333333333333333,\"#9c179e\"],[0.4444444444444444,\"#bd3786\"],[0.5555555555555556,\"#d8576b\"],[0.6666666666666666,\"#ed7953\"],[0.7777777777777778,\"#fb9f3a\"],[0.8888888888888888,\"#fdca26\"],[1.0,\"#f0f921\"]],\"type\":\"histogram2d\"}],\"histogram\":[{\"marker\":{\"pattern\":{\"fillmode\":\"overlay\",\"size\":10,\"solidity\":0.2}},\"type\":\"histogram\"}],\"mesh3d\":[{\"colorbar\":{\"outlinewidth\":0,\"ticks\":\"\"},\"type\":\"mesh3d\"}],\"parcoords\":[{\"line\":{\"colorbar\":{\"outlinewidth\":0,\"ticks\":\"\"}},\"type\":\"parcoords\"}],\"pie\":[{\"automargin\":true,\"type\":\"pie\"}],\"scatter3d\":[{\"line\":{\"colorbar\":{\"outlinewidth\":0,\"ticks\":\"\"}},\"marker\":{\"colorbar\":{\"outlinewidth\":0,\"ticks\":\"\"}},\"type\":\"scatter3d\"}],\"scattercarpet\":[{\"marker\":{\"colorbar\":{\"outlinewidth\":0,\"ticks\":\"\"}},\"type\":\"scattercarpet\"}],\"scattergeo\":[{\"marker\":{\"colorbar\":{\"outlinewidth\":0,\"ticks\":\"\"}},\"type\":\"scattergeo\"}],\"scattergl\":[{\"marker\":{\"colorbar\":{\"outlinewidth\":0,\"ticks\":\"\"}},\"type\":\"scattergl\"}],\"scattermapbox\":[{\"marker\":{\"colorbar\":{\"outlinewidth\":0,\"ticks\":\"\"}},\"type\":\"scattermapbox\"}],\"scatterpolargl\":[{\"marker\":{\"colorbar\":{\"outlinewidth\":0,\"ticks\":\"\"}},\"type\":\"scatterpolargl\"}],\"scatterpolar\":[{\"marker\":{\"colorbar\":{\"outlinewidth\":0,\"ticks\":\"\"}},\"type\":\"scatterpolar\"}],\"scatter\":[{\"fillpattern\":{\"fillmode\":\"overlay\",\"size\":10,\"solidity\":0.2},\"type\":\"scatter\"}],\"scatterternary\":[{\"marker\":{\"colorbar\":{\"outlinewidth\":0,\"ticks\":\"\"}},\"type\":\"scatterternary\"}],\"surface\":[{\"colorbar\":{\"outlinewidth\":0,\"ticks\":\"\"},\"colorscale\":[[0.0,\"#0d0887\"],[0.1111111111111111,\"#46039f\"],[0.2222222222222222,\"#7201a8\"],[0.3333333333333333,\"#9c179e\"],[0.4444444444444444,\"#bd3786\"],[0.5555555555555556,\"#d8576b\"],[0.6666666666666666,\"#ed7953\"],[0.7777777777777778,\"#fb9f3a\"],[0.8888888888888888,\"#fdca26\"],[1.0,\"#f0f921\"]],\"type\":\"surface\"}],\"table\":[{\"cells\":{\"fill\":{\"color\":\"#EBF0F8\"},\"line\":{\"color\":\"white\"}},\"header\":{\"fill\":{\"color\":\"#C8D4E3\"},\"line\":{\"color\":\"white\"}},\"type\":\"table\"}]},\"layout\":{\"annotationdefaults\":{\"arrowcolor\":\"#2a3f5f\",\"arrowhead\":0,\"arrowwidth\":1},\"autotypenumbers\":\"strict\",\"coloraxis\":{\"colorbar\":{\"outlinewidth\":0,\"ticks\":\"\"}},\"colorscale\":{\"diverging\":[[0,\"#8e0152\"],[0.1,\"#c51b7d\"],[0.2,\"#de77ae\"],[0.3,\"#f1b6da\"],[0.4,\"#fde0ef\"],[0.5,\"#f7f7f7\"],[0.6,\"#e6f5d0\"],[0.7,\"#b8e186\"],[0.8,\"#7fbc41\"],[0.9,\"#4d9221\"],[1,\"#276419\"]],\"sequential\":[[0.0,\"#0d0887\"],[0.1111111111111111,\"#46039f\"],[0.2222222222222222,\"#7201a8\"],[0.3333333333333333,\"#9c179e\"],[0.4444444444444444,\"#bd3786\"],[0.5555555555555556,\"#d8576b\"],[0.6666666666666666,\"#ed7953\"],[0.7777777777777778,\"#fb9f3a\"],[0.8888888888888888,\"#fdca26\"],[1.0,\"#f0f921\"]],\"sequentialminus\":[[0.0,\"#0d0887\"],[0.1111111111111111,\"#46039f\"],[0.2222222222222222,\"#7201a8\"],[0.3333333333333333,\"#9c179e\"],[0.4444444444444444,\"#bd3786\"],[0.5555555555555556,\"#d8576b\"],[0.6666666666666666,\"#ed7953\"],[0.7777777777777778,\"#fb9f3a\"],[0.8888888888888888,\"#fdca26\"],[1.0,\"#f0f921\"]]},\"colorway\":[\"#636efa\",\"#EF553B\",\"#00cc96\",\"#ab63fa\",\"#FFA15A\",\"#19d3f3\",\"#FF6692\",\"#B6E880\",\"#FF97FF\",\"#FECB52\"],\"font\":{\"color\":\"#2a3f5f\"},\"geo\":{\"bgcolor\":\"white\",\"lakecolor\":\"white\",\"landcolor\":\"#E5ECF6\",\"showlakes\":true,\"showland\":true,\"subunitcolor\":\"white\"},\"hoverlabel\":{\"align\":\"left\"},\"hovermode\":\"closest\",\"mapbox\":{\"style\":\"light\"},\"paper_bgcolor\":\"white\",\"plot_bgcolor\":\"#E5ECF6\",\"polar\":{\"angularaxis\":{\"gridcolor\":\"white\",\"linecolor\":\"white\",\"ticks\":\"\"},\"bgcolor\":\"#E5ECF6\",\"radialaxis\":{\"gridcolor\":\"white\",\"linecolor\":\"white\",\"ticks\":\"\"}},\"scene\":{\"xaxis\":{\"backgroundcolor\":\"#E5ECF6\",\"gridcolor\":\"white\",\"gridwidth\":2,\"linecolor\":\"white\",\"showbackground\":true,\"ticks\":\"\",\"zerolinecolor\":\"white\"},\"yaxis\":{\"backgroundcolor\":\"#E5ECF6\",\"gridcolor\":\"white\",\"gridwidth\":2,\"linecolor\":\"white\",\"showbackground\":true,\"ticks\":\"\",\"zerolinecolor\":\"white\"},\"zaxis\":{\"backgroundcolor\":\"#E5ECF6\",\"gridcolor\":\"white\",\"gridwidth\":2,\"linecolor\":\"white\",\"showbackground\":true,\"ticks\":\"\",\"zerolinecolor\":\"white\"}},\"shapedefaults\":{\"line\":{\"color\":\"#2a3f5f\"}},\"ternary\":{\"aaxis\":{\"gridcolor\":\"white\",\"linecolor\":\"white\",\"ticks\":\"\"},\"baxis\":{\"gridcolor\":\"white\",\"linecolor\":\"white\",\"ticks\":\"\"},\"bgcolor\":\"#E5ECF6\",\"caxis\":{\"gridcolor\":\"white\",\"linecolor\":\"white\",\"ticks\":\"\"}},\"title\":{\"x\":0.05},\"xaxis\":{\"automargin\":true,\"gridcolor\":\"white\",\"linecolor\":\"white\",\"ticks\":\"\",\"title\":{\"standoff\":15},\"zerolinecolor\":\"white\",\"zerolinewidth\":2},\"yaxis\":{\"automargin\":true,\"gridcolor\":\"white\",\"linecolor\":\"white\",\"ticks\":\"\",\"title\":{\"standoff\":15},\"zerolinecolor\":\"white\",\"zerolinewidth\":2}}},\"title\":{\"font\":{\"color\":\"#4D5663\"},\"text\":\"Prevalence of HIV, total (% of population ages 15-49)\"},\"xaxis\":{\"gridcolor\":\"#E1E5ED\",\"showgrid\":true,\"tickfont\":{\"color\":\"#4D5663\"},\"title\":{\"font\":{\"color\":\"#4D5663\"},\"text\":\"Year\"},\"zerolinecolor\":\"#E1E5ED\"},\"yaxis\":{\"gridcolor\":\"#E1E5ED\",\"showgrid\":true,\"tickfont\":{\"color\":\"#4D5663\"},\"title\":{\"font\":{\"color\":\"#4D5663\"},\"text\":\"% Population\"},\"zerolinecolor\":\"#E1E5ED\"}},                        {\"showLink\": true, \"linkText\": \"Export to plot.ly\", \"plotlyServerURL\": \"https://plot.ly\", \"responsive\": true}                    ).then(function(){\n",
       "                            \n",
       "var gd = document.getElementById('73eba10f-ece8-421b-997c-8b1c7dadc171');\n",
       "var x = new MutationObserver(function (mutations, observer) {{\n",
       "        var display = window.getComputedStyle(gd).display;\n",
       "        if (!display || display === 'none') {{\n",
       "            console.log([gd, 'removed!']);\n",
       "            Plotly.purge(gd);\n",
       "            observer.disconnect();\n",
       "        }}\n",
       "}});\n",
       "\n",
       "// Listen for the removal of the full notebook cells\n",
       "var notebookContainer = gd.closest('#notebook-container');\n",
       "if (notebookContainer) {{\n",
       "    x.observe(notebookContainer, {childList: true});\n",
       "}}\n",
       "\n",
       "// Listen for the clearing of the current output cell\n",
       "var outputEl = gd.closest('.output');\n",
       "if (outputEl) {{\n",
       "    x.observe(outputEl, {childList: true});\n",
       "}}\n",
       "\n",
       "                        })                };                });            </script>        </div>"
      ]
     },
     "metadata": {},
     "output_type": "display_data"
    }
   ],
   "source": [
    "#Prevelance of HIV total (% of pop. ages 15 -49) (Zimbabwe)\n",
    "\n",
    "wbdata.get_countries(\"ZWE\")\n",
    "\n",
    "\n",
    "hiv_prevz = {\"SH.DYN.AIDS.ZS\" : \"ZWE\"}\n",
    "prevz = wbdata.get_dataframe(hiv_prevz, country = \"ZWE\")\n",
    "prevz = prevz.dropna().sort_index()\n",
    "prevz.index = prevz.index.astype(int)\n",
    "prevz.iplot(title =\"Prevalence of HIV, total (% of population ages 15-49)\",xTitle='Year',yTitle='% Population')"
   ]
  },
  {
   "cell_type": "code",
   "execution_count": 71,
   "id": "6aa95bbc-83ef-4c1b-a034-cbb2acdd85d9",
   "metadata": {},
   "outputs": [
    {
     "data": {
      "text/html": [
       "        <script type=\"text/javascript\">\n",
       "        window.PlotlyConfig = {MathJaxConfig: 'local'};\n",
       "        if (window.MathJax && window.MathJax.Hub && window.MathJax.Hub.Config) {window.MathJax.Hub.Config({SVG: {font: \"STIX-Web\"}});}\n",
       "        if (typeof require !== 'undefined') {\n",
       "        require.undef(\"plotly\");\n",
       "        requirejs.config({\n",
       "            paths: {\n",
       "                'plotly': ['https://cdn.plot.ly/plotly-2.27.0.min']\n",
       "            }\n",
       "        });\n",
       "        require(['plotly'], function(Plotly) {\n",
       "            window._Plotly = Plotly;\n",
       "        });\n",
       "        }\n",
       "        </script>\n",
       "        "
      ]
     },
     "metadata": {},
     "output_type": "display_data"
    },
    {
     "data": {
      "application/vnd.plotly.v1+json": {
       "config": {
        "linkText": "Export to plot.ly",
        "plotlyServerURL": "https://plot.ly",
        "showLink": false
       },
       "data": [
        {
         "hoverinfo": "skip",
         "marker": {
          "color": "teal"
         },
         "name": "Men",
         "orientation": "h",
         "type": "bar",
         "x": [
          1149744,
          1112085,
          952937,
          861278,
          703124,
          524185,
          455666,
          462417,
          337969,
          236555,
          156270,
          114861,
          103800,
          93738,
          60847,
          34099,
          25648
         ],
         "y": [
          1,
          6,
          11,
          16,
          21,
          26,
          31,
          36,
          41,
          46,
          51,
          56,
          61,
          66,
          71,
          76,
          81,
          1,
          6,
          11,
          16,
          21,
          26,
          31,
          36,
          41,
          46,
          51,
          56,
          61,
          66,
          71,
          76,
          81
         ]
        },
        {
         "hoverinfo": "skip",
         "marker": {
          "color": "pink"
         },
         "name": "Women",
         "orientation": "h",
         "type": "bar",
         "x": [
          -1137362,
          -1117009,
          -979886,
          -914963,
          -780750,
          -632092,
          -599778,
          -583992,
          -414475,
          -302336,
          -206909,
          -153503,
          -146678,
          -132292,
          -85703,
          -50958,
          -45766
         ],
         "y": [
          1,
          6,
          11,
          16,
          21,
          26,
          31,
          36,
          41,
          46,
          51,
          56,
          61,
          66,
          71,
          76,
          81,
          1,
          6,
          11,
          16,
          21,
          26,
          31,
          36,
          41,
          46,
          51,
          56,
          61,
          66,
          71,
          76,
          81
         ]
        }
       ],
       "layout": {
        "autosize": true,
        "barmode": "overlay",
        "template": {
         "data": {
          "bar": [
           {
            "error_x": {
             "color": "#2a3f5f"
            },
            "error_y": {
             "color": "#2a3f5f"
            },
            "marker": {
             "line": {
              "color": "#E5ECF6",
              "width": 0.5
             },
             "pattern": {
              "fillmode": "overlay",
              "size": 10,
              "solidity": 0.2
             }
            },
            "type": "bar"
           }
          ],
          "barpolar": [
           {
            "marker": {
             "line": {
              "color": "#E5ECF6",
              "width": 0.5
             },
             "pattern": {
              "fillmode": "overlay",
              "size": 10,
              "solidity": 0.2
             }
            },
            "type": "barpolar"
           }
          ],
          "carpet": [
           {
            "aaxis": {
             "endlinecolor": "#2a3f5f",
             "gridcolor": "white",
             "linecolor": "white",
             "minorgridcolor": "white",
             "startlinecolor": "#2a3f5f"
            },
            "baxis": {
             "endlinecolor": "#2a3f5f",
             "gridcolor": "white",
             "linecolor": "white",
             "minorgridcolor": "white",
             "startlinecolor": "#2a3f5f"
            },
            "type": "carpet"
           }
          ],
          "choropleth": [
           {
            "colorbar": {
             "outlinewidth": 0,
             "ticks": ""
            },
            "type": "choropleth"
           }
          ],
          "contour": [
           {
            "colorbar": {
             "outlinewidth": 0,
             "ticks": ""
            },
            "colorscale": [
             [
              0,
              "#0d0887"
             ],
             [
              0.1111111111111111,
              "#46039f"
             ],
             [
              0.2222222222222222,
              "#7201a8"
             ],
             [
              0.3333333333333333,
              "#9c179e"
             ],
             [
              0.4444444444444444,
              "#bd3786"
             ],
             [
              0.5555555555555556,
              "#d8576b"
             ],
             [
              0.6666666666666666,
              "#ed7953"
             ],
             [
              0.7777777777777778,
              "#fb9f3a"
             ],
             [
              0.8888888888888888,
              "#fdca26"
             ],
             [
              1,
              "#f0f921"
             ]
            ],
            "type": "contour"
           }
          ],
          "contourcarpet": [
           {
            "colorbar": {
             "outlinewidth": 0,
             "ticks": ""
            },
            "type": "contourcarpet"
           }
          ],
          "heatmap": [
           {
            "colorbar": {
             "outlinewidth": 0,
             "ticks": ""
            },
            "colorscale": [
             [
              0,
              "#0d0887"
             ],
             [
              0.1111111111111111,
              "#46039f"
             ],
             [
              0.2222222222222222,
              "#7201a8"
             ],
             [
              0.3333333333333333,
              "#9c179e"
             ],
             [
              0.4444444444444444,
              "#bd3786"
             ],
             [
              0.5555555555555556,
              "#d8576b"
             ],
             [
              0.6666666666666666,
              "#ed7953"
             ],
             [
              0.7777777777777778,
              "#fb9f3a"
             ],
             [
              0.8888888888888888,
              "#fdca26"
             ],
             [
              1,
              "#f0f921"
             ]
            ],
            "type": "heatmap"
           }
          ],
          "heatmapgl": [
           {
            "colorbar": {
             "outlinewidth": 0,
             "ticks": ""
            },
            "colorscale": [
             [
              0,
              "#0d0887"
             ],
             [
              0.1111111111111111,
              "#46039f"
             ],
             [
              0.2222222222222222,
              "#7201a8"
             ],
             [
              0.3333333333333333,
              "#9c179e"
             ],
             [
              0.4444444444444444,
              "#bd3786"
             ],
             [
              0.5555555555555556,
              "#d8576b"
             ],
             [
              0.6666666666666666,
              "#ed7953"
             ],
             [
              0.7777777777777778,
              "#fb9f3a"
             ],
             [
              0.8888888888888888,
              "#fdca26"
             ],
             [
              1,
              "#f0f921"
             ]
            ],
            "type": "heatmapgl"
           }
          ],
          "histogram": [
           {
            "marker": {
             "pattern": {
              "fillmode": "overlay",
              "size": 10,
              "solidity": 0.2
             }
            },
            "type": "histogram"
           }
          ],
          "histogram2d": [
           {
            "colorbar": {
             "outlinewidth": 0,
             "ticks": ""
            },
            "colorscale": [
             [
              0,
              "#0d0887"
             ],
             [
              0.1111111111111111,
              "#46039f"
             ],
             [
              0.2222222222222222,
              "#7201a8"
             ],
             [
              0.3333333333333333,
              "#9c179e"
             ],
             [
              0.4444444444444444,
              "#bd3786"
             ],
             [
              0.5555555555555556,
              "#d8576b"
             ],
             [
              0.6666666666666666,
              "#ed7953"
             ],
             [
              0.7777777777777778,
              "#fb9f3a"
             ],
             [
              0.8888888888888888,
              "#fdca26"
             ],
             [
              1,
              "#f0f921"
             ]
            ],
            "type": "histogram2d"
           }
          ],
          "histogram2dcontour": [
           {
            "colorbar": {
             "outlinewidth": 0,
             "ticks": ""
            },
            "colorscale": [
             [
              0,
              "#0d0887"
             ],
             [
              0.1111111111111111,
              "#46039f"
             ],
             [
              0.2222222222222222,
              "#7201a8"
             ],
             [
              0.3333333333333333,
              "#9c179e"
             ],
             [
              0.4444444444444444,
              "#bd3786"
             ],
             [
              0.5555555555555556,
              "#d8576b"
             ],
             [
              0.6666666666666666,
              "#ed7953"
             ],
             [
              0.7777777777777778,
              "#fb9f3a"
             ],
             [
              0.8888888888888888,
              "#fdca26"
             ],
             [
              1,
              "#f0f921"
             ]
            ],
            "type": "histogram2dcontour"
           }
          ],
          "mesh3d": [
           {
            "colorbar": {
             "outlinewidth": 0,
             "ticks": ""
            },
            "type": "mesh3d"
           }
          ],
          "parcoords": [
           {
            "line": {
             "colorbar": {
              "outlinewidth": 0,
              "ticks": ""
             }
            },
            "type": "parcoords"
           }
          ],
          "pie": [
           {
            "automargin": true,
            "type": "pie"
           }
          ],
          "scatter": [
           {
            "fillpattern": {
             "fillmode": "overlay",
             "size": 10,
             "solidity": 0.2
            },
            "type": "scatter"
           }
          ],
          "scatter3d": [
           {
            "line": {
             "colorbar": {
              "outlinewidth": 0,
              "ticks": ""
             }
            },
            "marker": {
             "colorbar": {
              "outlinewidth": 0,
              "ticks": ""
             }
            },
            "type": "scatter3d"
           }
          ],
          "scattercarpet": [
           {
            "marker": {
             "colorbar": {
              "outlinewidth": 0,
              "ticks": ""
             }
            },
            "type": "scattercarpet"
           }
          ],
          "scattergeo": [
           {
            "marker": {
             "colorbar": {
              "outlinewidth": 0,
              "ticks": ""
             }
            },
            "type": "scattergeo"
           }
          ],
          "scattergl": [
           {
            "marker": {
             "colorbar": {
              "outlinewidth": 0,
              "ticks": ""
             }
            },
            "type": "scattergl"
           }
          ],
          "scattermapbox": [
           {
            "marker": {
             "colorbar": {
              "outlinewidth": 0,
              "ticks": ""
             }
            },
            "type": "scattermapbox"
           }
          ],
          "scatterpolar": [
           {
            "marker": {
             "colorbar": {
              "outlinewidth": 0,
              "ticks": ""
             }
            },
            "type": "scatterpolar"
           }
          ],
          "scatterpolargl": [
           {
            "marker": {
             "colorbar": {
              "outlinewidth": 0,
              "ticks": ""
             }
            },
            "type": "scatterpolargl"
           }
          ],
          "scatterternary": [
           {
            "marker": {
             "colorbar": {
              "outlinewidth": 0,
              "ticks": ""
             }
            },
            "type": "scatterternary"
           }
          ],
          "surface": [
           {
            "colorbar": {
             "outlinewidth": 0,
             "ticks": ""
            },
            "colorscale": [
             [
              0,
              "#0d0887"
             ],
             [
              0.1111111111111111,
              "#46039f"
             ],
             [
              0.2222222222222222,
              "#7201a8"
             ],
             [
              0.3333333333333333,
              "#9c179e"
             ],
             [
              0.4444444444444444,
              "#bd3786"
             ],
             [
              0.5555555555555556,
              "#d8576b"
             ],
             [
              0.6666666666666666,
              "#ed7953"
             ],
             [
              0.7777777777777778,
              "#fb9f3a"
             ],
             [
              0.8888888888888888,
              "#fdca26"
             ],
             [
              1,
              "#f0f921"
             ]
            ],
            "type": "surface"
           }
          ],
          "table": [
           {
            "cells": {
             "fill": {
              "color": "#EBF0F8"
             },
             "line": {
              "color": "white"
             }
            },
            "header": {
             "fill": {
              "color": "#C8D4E3"
             },
             "line": {
              "color": "white"
             }
            },
            "type": "table"
           }
          ]
         },
         "layout": {
          "annotationdefaults": {
           "arrowcolor": "#2a3f5f",
           "arrowhead": 0,
           "arrowwidth": 1
          },
          "autotypenumbers": "strict",
          "coloraxis": {
           "colorbar": {
            "outlinewidth": 0,
            "ticks": ""
           }
          },
          "colorscale": {
           "diverging": [
            [
             0,
             "#8e0152"
            ],
            [
             0.1,
             "#c51b7d"
            ],
            [
             0.2,
             "#de77ae"
            ],
            [
             0.3,
             "#f1b6da"
            ],
            [
             0.4,
             "#fde0ef"
            ],
            [
             0.5,
             "#f7f7f7"
            ],
            [
             0.6,
             "#e6f5d0"
            ],
            [
             0.7,
             "#b8e186"
            ],
            [
             0.8,
             "#7fbc41"
            ],
            [
             0.9,
             "#4d9221"
            ],
            [
             1,
             "#276419"
            ]
           ],
           "sequential": [
            [
             0,
             "#0d0887"
            ],
            [
             0.1111111111111111,
             "#46039f"
            ],
            [
             0.2222222222222222,
             "#7201a8"
            ],
            [
             0.3333333333333333,
             "#9c179e"
            ],
            [
             0.4444444444444444,
             "#bd3786"
            ],
            [
             0.5555555555555556,
             "#d8576b"
            ],
            [
             0.6666666666666666,
             "#ed7953"
            ],
            [
             0.7777777777777778,
             "#fb9f3a"
            ],
            [
             0.8888888888888888,
             "#fdca26"
            ],
            [
             1,
             "#f0f921"
            ]
           ],
           "sequentialminus": [
            [
             0,
             "#0d0887"
            ],
            [
             0.1111111111111111,
             "#46039f"
            ],
            [
             0.2222222222222222,
             "#7201a8"
            ],
            [
             0.3333333333333333,
             "#9c179e"
            ],
            [
             0.4444444444444444,
             "#bd3786"
            ],
            [
             0.5555555555555556,
             "#d8576b"
            ],
            [
             0.6666666666666666,
             "#ed7953"
            ],
            [
             0.7777777777777778,
             "#fb9f3a"
            ],
            [
             0.8888888888888888,
             "#fdca26"
            ],
            [
             1,
             "#f0f921"
            ]
           ]
          },
          "colorway": [
           "#636efa",
           "#EF553B",
           "#00cc96",
           "#ab63fa",
           "#FFA15A",
           "#19d3f3",
           "#FF6692",
           "#B6E880",
           "#FF97FF",
           "#FECB52"
          ],
          "font": {
           "color": "#2a3f5f"
          },
          "geo": {
           "bgcolor": "white",
           "lakecolor": "white",
           "landcolor": "#E5ECF6",
           "showlakes": true,
           "showland": true,
           "subunitcolor": "white"
          },
          "hoverlabel": {
           "align": "left"
          },
          "hovermode": "closest",
          "mapbox": {
           "style": "light"
          },
          "paper_bgcolor": "white",
          "plot_bgcolor": "#E5ECF6",
          "polar": {
           "angularaxis": {
            "gridcolor": "white",
            "linecolor": "white",
            "ticks": ""
           },
           "bgcolor": "#E5ECF6",
           "radialaxis": {
            "gridcolor": "white",
            "linecolor": "white",
            "ticks": ""
           }
          },
          "scene": {
           "xaxis": {
            "backgroundcolor": "#E5ECF6",
            "gridcolor": "white",
            "gridwidth": 2,
            "linecolor": "white",
            "showbackground": true,
            "ticks": "",
            "zerolinecolor": "white"
           },
           "yaxis": {
            "backgroundcolor": "#E5ECF6",
            "gridcolor": "white",
            "gridwidth": 2,
            "linecolor": "white",
            "showbackground": true,
            "ticks": "",
            "zerolinecolor": "white"
           },
           "zaxis": {
            "backgroundcolor": "#E5ECF6",
            "gridcolor": "white",
            "gridwidth": 2,
            "linecolor": "white",
            "showbackground": true,
            "ticks": "",
            "zerolinecolor": "white"
           }
          },
          "shapedefaults": {
           "line": {
            "color": "#2a3f5f"
           }
          },
          "ternary": {
           "aaxis": {
            "gridcolor": "white",
            "linecolor": "white",
            "ticks": ""
           },
           "baxis": {
            "gridcolor": "white",
            "linecolor": "white",
            "ticks": ""
           },
           "bgcolor": "#E5ECF6",
           "caxis": {
            "gridcolor": "white",
            "linecolor": "white",
            "ticks": ""
           }
          },
          "title": {
           "x": 0.05
          },
          "xaxis": {
           "automargin": true,
           "gridcolor": "white",
           "linecolor": "white",
           "ticks": "",
           "title": {
            "standoff": 15
           },
           "zerolinecolor": "white",
           "zerolinewidth": 2
          },
          "yaxis": {
           "automargin": true,
           "gridcolor": "white",
           "linecolor": "white",
           "ticks": "",
           "title": {
            "standoff": 15
           },
           "zerolinecolor": "white",
           "zerolinewidth": 2
          }
         }
        },
        "xaxis": {
         "autorange": true,
         "range": [
          -1264423.4444444445,
          1276805.4444444445
         ],
         "title": {
          "text": "Number"
         },
         "type": "linear"
        },
        "yaxis": {
         "range": [
          0,
          90
         ],
         "title": {
          "text": "Age"
         },
         "type": "linear"
        }
       }
      },
      "image/png": "[encoded data removed]",
      "text/html": [
       "<div>                            <div id=\"3151fbbd-d561-4c8a-9fb2-1bb05ac8338c\" class=\"plotly-graph-div\" style=\"height:525px; width:100%;\"></div>            <script type=\"text/javascript\">                require([\"plotly\"], function(Plotly) {                    window.PLOTLYENV=window.PLOTLYENV || {};                                    if (document.getElementById(\"3151fbbd-d561-4c8a-9fb2-1bb05ac8338c\")) {                    Plotly.newPlot(                        \"3151fbbd-d561-4c8a-9fb2-1bb05ac8338c\",                        [{\"hoverinfo\":\"skip\",\"marker\":{\"color\":\"teal\"},\"name\":\"Men\",\"orientation\":\"h\",\"x\":[1149744.0,1112085.0,952937.0,861278.0,703124.0,524185.0,455666.0,462417.0,337969.0,236555.0,156270.0,114861.0,103800.0,93738.0,60847.0,34099.0,25648.0],\"y\":[1,6,11,16,21,26,31,36,41,46,51,56,61,66,71,76,81,1,6,11,16,21,26,31,36,41,46,51,56,61,66,71,76,81],\"type\":\"bar\"},{\"hoverinfo\":\"skip\",\"marker\":{\"color\":\"pink\"},\"name\":\"Women\",\"orientation\":\"h\",\"x\":[-1137362.0,-1117009.0,-979886.0,-914963.0,-780750.0,-632092.0,-599778.0,-583992.0,-414475.0,-302336.0,-206909.0,-153503.0,-146678.0,-132292.0,-85703.0,-50958.0,-45766.0],\"y\":[1,6,11,16,21,26,31,36,41,46,51,56,61,66,71,76,81,1,6,11,16,21,26,31,36,41,46,51,56,61,66,71,76,81],\"type\":\"bar\"}],                        {\"barmode\":\"overlay\",\"template\":{\"data\":{\"barpolar\":[{\"marker\":{\"line\":{\"color\":\"#E5ECF6\",\"width\":0.5},\"pattern\":{\"fillmode\":\"overlay\",\"size\":10,\"solidity\":0.2}},\"type\":\"barpolar\"}],\"bar\":[{\"error_x\":{\"color\":\"#2a3f5f\"},\"error_y\":{\"color\":\"#2a3f5f\"},\"marker\":{\"line\":{\"color\":\"#E5ECF6\",\"width\":0.5},\"pattern\":{\"fillmode\":\"overlay\",\"size\":10,\"solidity\":0.2}},\"type\":\"bar\"}],\"carpet\":[{\"aaxis\":{\"endlinecolor\":\"#2a3f5f\",\"gridcolor\":\"white\",\"linecolor\":\"white\",\"minorgridcolor\":\"white\",\"startlinecolor\":\"#2a3f5f\"},\"baxis\":{\"endlinecolor\":\"#2a3f5f\",\"gridcolor\":\"white\",\"linecolor\":\"white\",\"minorgridcolor\":\"white\",\"startlinecolor\":\"#2a3f5f\"},\"type\":\"carpet\"}],\"choropleth\":[{\"colorbar\":{\"outlinewidth\":0,\"ticks\":\"\"},\"type\":\"choropleth\"}],\"contourcarpet\":[{\"colorbar\":{\"outlinewidth\":0,\"ticks\":\"\"},\"type\":\"contourcarpet\"}],\"contour\":[{\"colorbar\":{\"outlinewidth\":0,\"ticks\":\"\"},\"colorscale\":[[0.0,\"#0d0887\"],[0.1111111111111111,\"#46039f\"],[0.2222222222222222,\"#7201a8\"],[0.3333333333333333,\"#9c179e\"],[0.4444444444444444,\"#bd3786\"],[0.5555555555555556,\"#d8576b\"],[0.6666666666666666,\"#ed7953\"],[0.7777777777777778,\"#fb9f3a\"],[0.8888888888888888,\"#fdca26\"],[1.0,\"#f0f921\"]],\"type\":\"contour\"}],\"heatmapgl\":[{\"colorbar\":{\"outlinewidth\":0,\"ticks\":\"\"},\"colorscale\":[[0.0,\"#0d0887\"],[0.1111111111111111,\"#46039f\"],[0.2222222222222222,\"#7201a8\"],[0.3333333333333333,\"#9c179e\"],[0.4444444444444444,\"#bd3786\"],[0.5555555555555556,\"#d8576b\"],[0.6666666666666666,\"#ed7953\"],[0.7777777777777778,\"#fb9f3a\"],[0.8888888888888888,\"#fdca26\"],[1.0,\"#f0f921\"]],\"type\":\"heatmapgl\"}],\"heatmap\":[{\"colorbar\":{\"outlinewidth\":0,\"ticks\":\"\"},\"colorscale\":[[0.0,\"#0d0887\"],[0.1111111111111111,\"#46039f\"],[0.2222222222222222,\"#7201a8\"],[0.3333333333333333,\"#9c179e\"],[0.4444444444444444,\"#bd3786\"],[0.5555555555555556,\"#d8576b\"],[0.6666666666666666,\"#ed7953\"],[0.7777777777777778,\"#fb9f3a\"],[0.8888888888888888,\"#fdca26\"],[1.0,\"#f0f921\"]],\"type\":\"heatmap\"}],\"histogram2dcontour\":[{\"colorbar\":{\"outlinewidth\":0,\"ticks\":\"\"},\"colorscale\":[[0.0,\"#0d0887\"],[0.1111111111111111,\"#46039f\"],[0.2222222222222222,\"#7201a8\"],[0.3333333333333333,\"#9c179e\"],[0.4444444444444444,\"#bd3786\"],[0.5555555555555556,\"#d8576b\"],[0.6666666666666666,\"#ed7953\"],[0.7777777777777778,\"#fb9f3a\"],[0.8888888888888888,\"#fdca26\"],[1.0,\"#f0f921\"]],\"type\":\"histogram2dcontour\"}],\"histogram2d\":[{\"colorbar\":{\"outlinewidth\":0,\"ticks\":\"\"},\"colorscale\":[[0.0,\"#0d0887\"],[0.1111111111111111,\"#46039f\"],[0.2222222222222222,\"#7201a8\"],[0.3333333333333333,\"#9c179e\"],[0.4444444444444444,\"#bd3786\"],[0.5555555555555556,\"#d8576b\"],[0.6666666666666666,\"#ed7953\"],[0.7777777777777778,\"#fb9f3a\"],[0.8888888888888888,\"#fdca26\"],[1.0,\"#f0f921\"]],\"type\":\"histogram2d\"}],\"histogram\":[{\"marker\":{\"pattern\":{\"fillmode\":\"overlay\",\"size\":10,\"solidity\":0.2}},\"type\":\"histogram\"}],\"mesh3d\":[{\"colorbar\":{\"outlinewidth\":0,\"ticks\":\"\"},\"type\":\"mesh3d\"}],\"parcoords\":[{\"line\":{\"colorbar\":{\"outlinewidth\":0,\"ticks\":\"\"}},\"type\":\"parcoords\"}],\"pie\":[{\"automargin\":true,\"type\":\"pie\"}],\"scatter3d\":[{\"line\":{\"colorbar\":{\"outlinewidth\":0,\"ticks\":\"\"}},\"marker\":{\"colorbar\":{\"outlinewidth\":0,\"ticks\":\"\"}},\"type\":\"scatter3d\"}],\"scattercarpet\":[{\"marker\":{\"colorbar\":{\"outlinewidth\":0,\"ticks\":\"\"}},\"type\":\"scattercarpet\"}],\"scattergeo\":[{\"marker\":{\"colorbar\":{\"outlinewidth\":0,\"ticks\":\"\"}},\"type\":\"scattergeo\"}],\"scattergl\":[{\"marker\":{\"colorbar\":{\"outlinewidth\":0,\"ticks\":\"\"}},\"type\":\"scattergl\"}],\"scattermapbox\":[{\"marker\":{\"colorbar\":{\"outlinewidth\":0,\"ticks\":\"\"}},\"type\":\"scattermapbox\"}],\"scatterpolargl\":[{\"marker\":{\"colorbar\":{\"outlinewidth\":0,\"ticks\":\"\"}},\"type\":\"scatterpolargl\"}],\"scatterpolar\":[{\"marker\":{\"colorbar\":{\"outlinewidth\":0,\"ticks\":\"\"}},\"type\":\"scatterpolar\"}],\"scatter\":[{\"fillpattern\":{\"fillmode\":\"overlay\",\"size\":10,\"solidity\":0.2},\"type\":\"scatter\"}],\"scatterternary\":[{\"marker\":{\"colorbar\":{\"outlinewidth\":0,\"ticks\":\"\"}},\"type\":\"scatterternary\"}],\"surface\":[{\"colorbar\":{\"outlinewidth\":0,\"ticks\":\"\"},\"colorscale\":[[0.0,\"#0d0887\"],[0.1111111111111111,\"#46039f\"],[0.2222222222222222,\"#7201a8\"],[0.3333333333333333,\"#9c179e\"],[0.4444444444444444,\"#bd3786\"],[0.5555555555555556,\"#d8576b\"],[0.6666666666666666,\"#ed7953\"],[0.7777777777777778,\"#fb9f3a\"],[0.8888888888888888,\"#fdca26\"],[1.0,\"#f0f921\"]],\"type\":\"surface\"}],\"table\":[{\"cells\":{\"fill\":{\"color\":\"#EBF0F8\"},\"line\":{\"color\":\"white\"}},\"header\":{\"fill\":{\"color\":\"#C8D4E3\"},\"line\":{\"color\":\"white\"}},\"type\":\"table\"}]},\"layout\":{\"annotationdefaults\":{\"arrowcolor\":\"#2a3f5f\",\"arrowhead\":0,\"arrowwidth\":1},\"autotypenumbers\":\"strict\",\"coloraxis\":{\"colorbar\":{\"outlinewidth\":0,\"ticks\":\"\"}},\"colorscale\":{\"diverging\":[[0,\"#8e0152\"],[0.1,\"#c51b7d\"],[0.2,\"#de77ae\"],[0.3,\"#f1b6da\"],[0.4,\"#fde0ef\"],[0.5,\"#f7f7f7\"],[0.6,\"#e6f5d0\"],[0.7,\"#b8e186\"],[0.8,\"#7fbc41\"],[0.9,\"#4d9221\"],[1,\"#276419\"]],\"sequential\":[[0.0,\"#0d0887\"],[0.1111111111111111,\"#46039f\"],[0.2222222222222222,\"#7201a8\"],[0.3333333333333333,\"#9c179e\"],[0.4444444444444444,\"#bd3786\"],[0.5555555555555556,\"#d8576b\"],[0.6666666666666666,\"#ed7953\"],[0.7777777777777778,\"#fb9f3a\"],[0.8888888888888888,\"#fdca26\"],[1.0,\"#f0f921\"]],\"sequentialminus\":[[0.0,\"#0d0887\"],[0.1111111111111111,\"#46039f\"],[0.2222222222222222,\"#7201a8\"],[0.3333333333333333,\"#9c179e\"],[0.4444444444444444,\"#bd3786\"],[0.5555555555555556,\"#d8576b\"],[0.6666666666666666,\"#ed7953\"],[0.7777777777777778,\"#fb9f3a\"],[0.8888888888888888,\"#fdca26\"],[1.0,\"#f0f921\"]]},\"colorway\":[\"#636efa\",\"#EF553B\",\"#00cc96\",\"#ab63fa\",\"#FFA15A\",\"#19d3f3\",\"#FF6692\",\"#B6E880\",\"#FF97FF\",\"#FECB52\"],\"font\":{\"color\":\"#2a3f5f\"},\"geo\":{\"bgcolor\":\"white\",\"lakecolor\":\"white\",\"landcolor\":\"#E5ECF6\",\"showlakes\":true,\"showland\":true,\"subunitcolor\":\"white\"},\"hoverlabel\":{\"align\":\"left\"},\"hovermode\":\"closest\",\"mapbox\":{\"style\":\"light\"},\"paper_bgcolor\":\"white\",\"plot_bgcolor\":\"#E5ECF6\",\"polar\":{\"angularaxis\":{\"gridcolor\":\"white\",\"linecolor\":\"white\",\"ticks\":\"\"},\"bgcolor\":\"#E5ECF6\",\"radialaxis\":{\"gridcolor\":\"white\",\"linecolor\":\"white\",\"ticks\":\"\"}},\"scene\":{\"xaxis\":{\"backgroundcolor\":\"#E5ECF6\",\"gridcolor\":\"white\",\"gridwidth\":2,\"linecolor\":\"white\",\"showbackground\":true,\"ticks\":\"\",\"zerolinecolor\":\"white\"},\"yaxis\":{\"backgroundcolor\":\"#E5ECF6\",\"gridcolor\":\"white\",\"gridwidth\":2,\"linecolor\":\"white\",\"showbackground\":true,\"ticks\":\"\",\"zerolinecolor\":\"white\"},\"zaxis\":{\"backgroundcolor\":\"#E5ECF6\",\"gridcolor\":\"white\",\"gridwidth\":2,\"linecolor\":\"white\",\"showbackground\":true,\"ticks\":\"\",\"zerolinecolor\":\"white\"}},\"shapedefaults\":{\"line\":{\"color\":\"#2a3f5f\"}},\"ternary\":{\"aaxis\":{\"gridcolor\":\"white\",\"linecolor\":\"white\",\"ticks\":\"\"},\"baxis\":{\"gridcolor\":\"white\",\"linecolor\":\"white\",\"ticks\":\"\"},\"bgcolor\":\"#E5ECF6\",\"caxis\":{\"gridcolor\":\"white\",\"linecolor\":\"white\",\"ticks\":\"\"}},\"title\":{\"x\":0.05},\"xaxis\":{\"automargin\":true,\"gridcolor\":\"white\",\"linecolor\":\"white\",\"ticks\":\"\",\"title\":{\"standoff\":15},\"zerolinecolor\":\"white\",\"zerolinewidth\":2},\"yaxis\":{\"automargin\":true,\"gridcolor\":\"white\",\"linecolor\":\"white\",\"ticks\":\"\",\"title\":{\"standoff\":15},\"zerolinecolor\":\"white\",\"zerolinewidth\":2}}},\"xaxis\":{\"title\":{\"text\":\"Number\"}},\"yaxis\":{\"range\":[0,90],\"title\":{\"text\":\"Age\"}}},                        {\"responsive\": true}                    ).then(function(){\n",
       "                            \n",
       "var gd = document.getElementById('3151fbbd-d561-4c8a-9fb2-1bb05ac8338c');\n",
       "var x = new MutationObserver(function (mutations, observer) {{\n",
       "        var display = window.getComputedStyle(gd).display;\n",
       "        if (!display || display === 'none') {{\n",
       "            console.log([gd, 'removed!']);\n",
       "            Plotly.purge(gd);\n",
       "            observer.disconnect();\n",
       "        }}\n",
       "}});\n",
       "\n",
       "// Listen for the removal of the full notebook cells\n",
       "var notebookContainer = gd.closest('#notebook-container');\n",
       "if (notebookContainer) {{\n",
       "    x.observe(notebookContainer, {childList: true});\n",
       "}}\n",
       "\n",
       "// Listen for the clearing of the current output cell\n",
       "var outputEl = gd.closest('.output');\n",
       "if (outputEl) {{\n",
       "    x.observe(outputEl, {childList: true});\n",
       "}}\n",
       "\n",
       "                        })                };                });            </script>        </div>"
      ]
     },
     "metadata": {},
     "output_type": "display_data"
    },
    {
     "data": {
      "application/vnd.plotly.v1+json": {
       "config": {
        "linkText": "Export to plot.ly",
        "plotlyServerURL": "https://plot.ly",
        "showLink": false
       },
       "data": [
        {
         "hoverinfo": "skip",
         "name": "Men 2020",
         "orientation": "h",
         "type": "bar",
         "x": [
          1149744,
          1112085,
          952937,
          861278,
          703124,
          524185,
          455666,
          462417,
          337969,
          236555,
          156270,
          114861,
          103800,
          93738,
          60847,
          34099,
          25648
         ],
         "y": [
          1,
          6,
          11,
          16,
          21,
          26,
          31,
          36,
          41,
          46,
          51,
          56,
          61,
          66,
          71,
          76,
          81,
          1,
          6,
          11,
          16,
          21,
          26,
          31,
          36,
          41,
          46,
          51,
          56,
          61,
          66,
          71,
          76,
          81
         ]
        },
        {
         "hoverinfo": "skip",
         "name": "Men 2010",
         "orientation": "h",
         "type": "bar",
         "x": [
          1013427,
          916797,
          811716,
          651750,
          559783,
          547494,
          406117,
          290378,
          192185,
          137575,
          126605,
          125890,
          94939,
          66272,
          40288,
          26806,
          26143
         ],
         "y": [
          1,
          6,
          11,
          16,
          21,
          26,
          31,
          36,
          41,
          46,
          51,
          56,
          61,
          66,
          71,
          76,
          81,
          1,
          6,
          11,
          16,
          21,
          26,
          31,
          36,
          41,
          46,
          51,
          56,
          61,
          66,
          71,
          76,
          81
         ]
        },
        {
         "hoverinfo": "skip",
         "name": "Men 2000",
         "orientation": "h",
         "type": "bar",
         "x": [
          901957,
          774942,
          777057,
          781306,
          590335,
          437635,
          311802,
          225732,
          188373,
          175414,
          128968,
          97122,
          73372,
          60206,
          46534,
          27181,
          23665
         ],
         "y": [
          1,
          6,
          11,
          16,
          21,
          26,
          31,
          36,
          41,
          46,
          51,
          56,
          61,
          66,
          71,
          76,
          81,
          1,
          6,
          11,
          16,
          21,
          26,
          31,
          36,
          41,
          46,
          51,
          56,
          61,
          66,
          71,
          76,
          81
         ]
        },
        {
         "hoverinfo": "skip",
         "name": "Men 1990",
         "orientation": "h",
         "type": "bar",
         "x": [
          835401,
          838405,
          699845,
          568084,
          423731,
          314268,
          259551,
          231705,
          167960,
          127627,
          97428,
          84984,
          76870,
          56013,
          38946,
          29255,
          15966
         ],
         "y": [
          1,
          6,
          11,
          16,
          21,
          26,
          31,
          36,
          41,
          46,
          51,
          56,
          61,
          66,
          71,
          76,
          81,
          1,
          6,
          11,
          16,
          21,
          26,
          31,
          36,
          41,
          46,
          51,
          56,
          61,
          66,
          71,
          76,
          81
         ]
        },
        {
         "hoverinfo": "skip",
         "name": "Men 1980",
         "orientation": "h",
         "type": "bar",
         "x": [
          699338,
          588450,
          457696,
          331391,
          253488,
          212453,
          145320,
          118572,
          105250,
          100614,
          94422,
          80833,
          74287,
          54937,
          29024,
          15592,
          11233
         ],
         "y": [
          1,
          6,
          11,
          16,
          21,
          26,
          31,
          36,
          41,
          46,
          51,
          56,
          61,
          66,
          71,
          76,
          81,
          1,
          6,
          11,
          16,
          21,
          26,
          31,
          36,
          41,
          46,
          51,
          56,
          61,
          66,
          71,
          76,
          81
         ]
        },
        {
         "hoverinfo": "skip",
         "name": "Men 1970",
         "orientation": "h",
         "type": "bar",
         "x": [
          507124,
          411881,
          344125,
          289593,
          207339,
          165065,
          129547,
          106377,
          91850,
          74679,
          69758,
          51875,
          40379,
          30380,
          20881,
          12635,
          8309
         ],
         "y": [
          1,
          6,
          11,
          16,
          21,
          26,
          31,
          36,
          41,
          46,
          51,
          56,
          61,
          66,
          71,
          76,
          81,
          1,
          6,
          11,
          16,
          21,
          26,
          31,
          36,
          41,
          46,
          51,
          56,
          61,
          66,
          71,
          76,
          81
         ]
        },
        {
         "hoverinfo": "skip",
         "name": "Women 2020",
         "orientation": "h",
         "type": "bar",
         "x": [
          -1137362,
          -1117009,
          -979886,
          -914963,
          -780750,
          -632092,
          -599778,
          -583992,
          -414475,
          -302336,
          -206909,
          -153503,
          -146678,
          -132292,
          -85703,
          -50958,
          -45766
         ],
         "y": [
          1,
          6,
          11,
          16,
          21,
          26,
          31,
          36,
          41,
          46,
          51,
          56,
          61,
          66,
          71,
          76,
          81,
          1,
          6,
          11,
          16,
          21,
          26,
          31,
          36,
          41,
          46,
          51,
          56,
          61,
          66,
          71,
          76,
          81
         ]
        },
        {
         "hoverinfo": "skip",
         "name": "Women 2010",
         "orientation": "h",
         "type": "bar",
         "x": [
          -1015137,
          -943869,
          -841989,
          -721523,
          -705642,
          -684887,
          -487093,
          -349585,
          -228636,
          -164140,
          -164707,
          -161512,
          -118857,
          -85734,
          -52445,
          -36186,
          -43657
         ],
         "y": [
          1,
          6,
          11,
          16,
          21,
          26,
          31,
          36,
          41,
          46,
          51,
          56,
          61,
          66,
          71,
          76,
          81,
          1,
          6,
          11,
          16,
          21,
          26,
          31,
          36,
          41,
          46,
          51,
          56,
          61,
          66,
          71,
          76,
          81
         ]
        },
        {
         "hoverinfo": "skip",
         "name": "Women 2000",
         "orientation": "h",
         "type": "bar",
         "x": [
          -893782,
          -789287,
          -834018,
          -878867,
          -707464,
          -546044,
          -364944,
          -237326,
          -204150,
          -197993,
          -148155,
          -116176,
          -88454,
          -73510,
          -60603,
          -37167,
          -35131
         ],
         "y": [
          1,
          6,
          11,
          16,
          21,
          26,
          31,
          36,
          41,
          46,
          51,
          56,
          61,
          66,
          71,
          76,
          81,
          1,
          6,
          11,
          16,
          21,
          26,
          31,
          36,
          41,
          46,
          51,
          56,
          61,
          66,
          71,
          76,
          81
         ]
        },
        {
         "hoverinfo": "skip",
         "name": "Women 1990",
         "orientation": "h",
         "type": "bar",
         "x": [
          -847725,
          -886613,
          -748624,
          -630102,
          -483471,
          -342599,
          -276699,
          -246607,
          -176097,
          -140625,
          -112124,
          -95385,
          -88390,
          -67895,
          -46743,
          -34354,
          -23795
         ],
         "y": [
          1,
          6,
          11,
          16,
          21,
          26,
          31,
          36,
          41,
          46,
          51,
          56,
          61,
          66,
          71,
          76,
          81,
          1,
          6,
          11,
          16,
          21,
          26,
          31,
          36,
          41,
          46,
          51,
          56,
          61,
          66,
          71,
          76,
          81
         ]
        },
        {
         "hoverinfo": "skip",
         "name": "Women 1980",
         "orientation": "h",
         "type": "bar",
         "x": [
          -690084,
          -587785,
          -481806,
          -399334,
          -339874,
          -280594,
          -186527,
          -140299,
          -110577,
          -95972,
          -86675,
          -74575,
          -73304,
          -57176,
          -34925,
          -20878,
          -16640
         ],
         "y": [
          1,
          6,
          11,
          16,
          21,
          26,
          31,
          36,
          41,
          46,
          51,
          56,
          61,
          66,
          71,
          76,
          81,
          1,
          6,
          11,
          16,
          21,
          26,
          31,
          36,
          41,
          46,
          51,
          56,
          61,
          66,
          71,
          76,
          81
         ]
        },
        {
         "hoverinfo": "skip",
         "name": "Women 1970",
         "orientation": "h",
         "type": "bar",
         "x": [
          -500591,
          -411113,
          -346811,
          -295106,
          -212219,
          -169697,
          -135117,
          -114708,
          -100786,
          -81957,
          -76520,
          -57750,
          -46623,
          -36802,
          -26565,
          -16567,
          -12186
         ],
         "y": [
          1,
          6,
          11,
          16,
          21,
          26,
          31,
          36,
          41,
          46,
          51,
          56,
          61,
          66,
          71,
          76,
          81,
          1,
          6,
          11,
          16,
          21,
          26,
          31,
          36,
          41,
          46,
          51,
          56,
          61,
          66,
          71,
          76,
          81
         ]
        }
       ],
       "layout": {
        "autosize": true,
        "barmode": "overlay",
        "template": {
         "data": {
          "bar": [
           {
            "error_x": {
             "color": "#2a3f5f"
            },
            "error_y": {
             "color": "#2a3f5f"
            },
            "marker": {
             "line": {
              "color": "#E5ECF6",
              "width": 0.5
             },
             "pattern": {
              "fillmode": "overlay",
              "size": 10,
              "solidity": 0.2
             }
            },
            "type": "bar"
           }
          ],
          "barpolar": [
           {
            "marker": {
             "line": {
              "color": "#E5ECF6",
              "width": 0.5
             },
             "pattern": {
              "fillmode": "overlay",
              "size": 10,
              "solidity": 0.2
             }
            },
            "type": "barpolar"
           }
          ],
          "carpet": [
           {
            "aaxis": {
             "endlinecolor": "#2a3f5f",
             "gridcolor": "white",
             "linecolor": "white",
             "minorgridcolor": "white",
             "startlinecolor": "#2a3f5f"
            },
            "baxis": {
             "endlinecolor": "#2a3f5f",
             "gridcolor": "white",
             "linecolor": "white",
             "minorgridcolor": "white",
             "startlinecolor": "#2a3f5f"
            },
            "type": "carpet"
           }
          ],
          "choropleth": [
           {
            "colorbar": {
             "outlinewidth": 0,
             "ticks": ""
            },
            "type": "choropleth"
           }
          ],
          "contour": [
           {
            "colorbar": {
             "outlinewidth": 0,
             "ticks": ""
            },
            "colorscale": [
             [
              0,
              "#0d0887"
             ],
             [
              0.1111111111111111,
              "#46039f"
             ],
             [
              0.2222222222222222,
              "#7201a8"
             ],
             [
              0.3333333333333333,
              "#9c179e"
             ],
             [
              0.4444444444444444,
              "#bd3786"
             ],
             [
              0.5555555555555556,
              "#d8576b"
             ],
             [
              0.6666666666666666,
              "#ed7953"
             ],
             [
              0.7777777777777778,
              "#fb9f3a"
             ],
             [
              0.8888888888888888,
              "#fdca26"
             ],
             [
              1,
              "#f0f921"
             ]
            ],
            "type": "contour"
           }
          ],
          "contourcarpet": [
           {
            "colorbar": {
             "outlinewidth": 0,
             "ticks": ""
            },
            "type": "contourcarpet"
           }
          ],
          "heatmap": [
           {
            "colorbar": {
             "outlinewidth": 0,
             "ticks": ""
            },
            "colorscale": [
             [
              0,
              "#0d0887"
             ],
             [
              0.1111111111111111,
              "#46039f"
             ],
             [
              0.2222222222222222,
              "#7201a8"
             ],
             [
              0.3333333333333333,
              "#9c179e"
             ],
             [
              0.4444444444444444,
              "#bd3786"
             ],
             [
              0.5555555555555556,
              "#d8576b"
             ],
             [
              0.6666666666666666,
              "#ed7953"
             ],
             [
              0.7777777777777778,
              "#fb9f3a"
             ],
             [
              0.8888888888888888,
              "#fdca26"
             ],
             [
              1,
              "#f0f921"
             ]
            ],
            "type": "heatmap"
           }
          ],
          "heatmapgl": [
           {
            "colorbar": {
             "outlinewidth": 0,
             "ticks": ""
            },
            "colorscale": [
             [
              0,
              "#0d0887"
             ],
             [
              0.1111111111111111,
              "#46039f"
             ],
             [
              0.2222222222222222,
              "#7201a8"
             ],
             [
              0.3333333333333333,
              "#9c179e"
             ],
             [
              0.4444444444444444,
              "#bd3786"
             ],
             [
              0.5555555555555556,
              "#d8576b"
             ],
             [
              0.6666666666666666,
              "#ed7953"
             ],
             [
              0.7777777777777778,
              "#fb9f3a"
             ],
             [
              0.8888888888888888,
              "#fdca26"
             ],
             [
              1,
              "#f0f921"
             ]
            ],
            "type": "heatmapgl"
           }
          ],
          "histogram": [
           {
            "marker": {
             "pattern": {
              "fillmode": "overlay",
              "size": 10,
              "solidity": 0.2
             }
            },
            "type": "histogram"
           }
          ],
          "histogram2d": [
           {
            "colorbar": {
             "outlinewidth": 0,
             "ticks": ""
            },
            "colorscale": [
             [
              0,
              "#0d0887"
             ],
             [
              0.1111111111111111,
              "#46039f"
             ],
             [
              0.2222222222222222,
              "#7201a8"
             ],
             [
              0.3333333333333333,
              "#9c179e"
             ],
             [
              0.4444444444444444,
              "#bd3786"
             ],
             [
              0.5555555555555556,
              "#d8576b"
             ],
             [
              0.6666666666666666,
              "#ed7953"
             ],
             [
              0.7777777777777778,
              "#fb9f3a"
             ],
             [
              0.8888888888888888,
              "#fdca26"
             ],
             [
              1,
              "#f0f921"
             ]
            ],
            "type": "histogram2d"
           }
          ],
          "histogram2dcontour": [
           {
            "colorbar": {
             "outlinewidth": 0,
             "ticks": ""
            },
            "colorscale": [
             [
              0,
              "#0d0887"
             ],
             [
              0.1111111111111111,
              "#46039f"
             ],
             [
              0.2222222222222222,
              "#7201a8"
             ],
             [
              0.3333333333333333,
              "#9c179e"
             ],
             [
              0.4444444444444444,
              "#bd3786"
             ],
             [
              0.5555555555555556,
              "#d8576b"
             ],
             [
              0.6666666666666666,
              "#ed7953"
             ],
             [
              0.7777777777777778,
              "#fb9f3a"
             ],
             [
              0.8888888888888888,
              "#fdca26"
             ],
             [
              1,
              "#f0f921"
             ]
            ],
            "type": "histogram2dcontour"
           }
          ],
          "mesh3d": [
           {
            "colorbar": {
             "outlinewidth": 0,
             "ticks": ""
            },
            "type": "mesh3d"
           }
          ],
          "parcoords": [
           {
            "line": {
             "colorbar": {
              "outlinewidth": 0,
              "ticks": ""
             }
            },
            "type": "parcoords"
           }
          ],
          "pie": [
           {
            "automargin": true,
            "type": "pie"
           }
          ],
          "scatter": [
           {
            "fillpattern": {
             "fillmode": "overlay",
             "size": 10,
             "solidity": 0.2
            },
            "type": "scatter"
           }
          ],
          "scatter3d": [
           {
            "line": {
             "colorbar": {
              "outlinewidth": 0,
              "ticks": ""
             }
            },
            "marker": {
             "colorbar": {
              "outlinewidth": 0,
              "ticks": ""
             }
            },
            "type": "scatter3d"
           }
          ],
          "scattercarpet": [
           {
            "marker": {
             "colorbar": {
              "outlinewidth": 0,
              "ticks": ""
             }
            },
            "type": "scattercarpet"
           }
          ],
          "scattergeo": [
           {
            "marker": {
             "colorbar": {
              "outlinewidth": 0,
              "ticks": ""
             }
            },
            "type": "scattergeo"
           }
          ],
          "scattergl": [
           {
            "marker": {
             "colorbar": {
              "outlinewidth": 0,
              "ticks": ""
             }
            },
            "type": "scattergl"
           }
          ],
          "scattermapbox": [
           {
            "marker": {
             "colorbar": {
              "outlinewidth": 0,
              "ticks": ""
             }
            },
            "type": "scattermapbox"
           }
          ],
          "scatterpolar": [
           {
            "marker": {
             "colorbar": {
              "outlinewidth": 0,
              "ticks": ""
             }
            },
            "type": "scatterpolar"
           }
          ],
          "scatterpolargl": [
           {
            "marker": {
             "colorbar": {
              "outlinewidth": 0,
              "ticks": ""
             }
            },
            "type": "scatterpolargl"
           }
          ],
          "scatterternary": [
           {
            "marker": {
             "colorbar": {
              "outlinewidth": 0,
              "ticks": ""
             }
            },
            "type": "scatterternary"
           }
          ],
          "surface": [
           {
            "colorbar": {
             "outlinewidth": 0,
             "ticks": ""
            },
            "colorscale": [
             [
              0,
              "#0d0887"
             ],
             [
              0.1111111111111111,
              "#46039f"
             ],
             [
              0.2222222222222222,
              "#7201a8"
             ],
             [
              0.3333333333333333,
              "#9c179e"
             ],
             [
              0.4444444444444444,
              "#bd3786"
             ],
             [
              0.5555555555555556,
              "#d8576b"
             ],
             [
              0.6666666666666666,
              "#ed7953"
             ],
             [
              0.7777777777777778,
              "#fb9f3a"
             ],
             [
              0.8888888888888888,
              "#fdca26"
             ],
             [
              1,
              "#f0f921"
             ]
            ],
            "type": "surface"
           }
          ],
          "table": [
           {
            "cells": {
             "fill": {
              "color": "#EBF0F8"
             },
             "line": {
              "color": "white"
             }
            },
            "header": {
             "fill": {
              "color": "#C8D4E3"
             },
             "line": {
              "color": "white"
             }
            },
            "type": "table"
           }
          ]
         },
         "layout": {
          "annotationdefaults": {
           "arrowcolor": "#2a3f5f",
           "arrowhead": 0,
           "arrowwidth": 1
          },
          "autotypenumbers": "strict",
          "coloraxis": {
           "colorbar": {
            "outlinewidth": 0,
            "ticks": ""
           }
          },
          "colorscale": {
           "diverging": [
            [
             0,
             "#8e0152"
            ],
            [
             0.1,
             "#c51b7d"
            ],
            [
             0.2,
             "#de77ae"
            ],
            [
             0.3,
             "#f1b6da"
            ],
            [
             0.4,
             "#fde0ef"
            ],
            [
             0.5,
             "#f7f7f7"
            ],
            [
             0.6,
             "#e6f5d0"
            ],
            [
             0.7,
             "#b8e186"
            ],
            [
             0.8,
             "#7fbc41"
            ],
            [
             0.9,
             "#4d9221"
            ],
            [
             1,
             "#276419"
            ]
           ],
           "sequential": [
            [
             0,
             "#0d0887"
            ],
            [
             0.1111111111111111,
             "#46039f"
            ],
            [
             0.2222222222222222,
             "#7201a8"
            ],
            [
             0.3333333333333333,
             "#9c179e"
            ],
            [
             0.4444444444444444,
             "#bd3786"
            ],
            [
             0.5555555555555556,
             "#d8576b"
            ],
            [
             0.6666666666666666,
             "#ed7953"
            ],
            [
             0.7777777777777778,
             "#fb9f3a"
            ],
            [
             0.8888888888888888,
             "#fdca26"
            ],
            [
             1,
             "#f0f921"
            ]
           ],
           "sequentialminus": [
            [
             0,
             "#0d0887"
            ],
            [
             0.1111111111111111,
             "#46039f"
            ],
            [
             0.2222222222222222,
             "#7201a8"
            ],
            [
             0.3333333333333333,
             "#9c179e"
            ],
            [
             0.4444444444444444,
             "#bd3786"
            ],
            [
             0.5555555555555556,
             "#d8576b"
            ],
            [
             0.6666666666666666,
             "#ed7953"
            ],
            [
             0.7777777777777778,
             "#fb9f3a"
            ],
            [
             0.8888888888888888,
             "#fdca26"
            ],
            [
             1,
             "#f0f921"
            ]
           ]
          },
          "colorway": [
           "#636efa",
           "#EF553B",
           "#00cc96",
           "#ab63fa",
           "#FFA15A",
           "#19d3f3",
           "#FF6692",
           "#B6E880",
           "#FF97FF",
           "#FECB52"
          ],
          "font": {
           "color": "#2a3f5f"
          },
          "geo": {
           "bgcolor": "white",
           "lakecolor": "white",
           "landcolor": "#E5ECF6",
           "showlakes": true,
           "showland": true,
           "subunitcolor": "white"
          },
          "hoverlabel": {
           "align": "left"
          },
          "hovermode": "closest",
          "mapbox": {
           "style": "light"
          },
          "paper_bgcolor": "white",
          "plot_bgcolor": "#E5ECF6",
          "polar": {
           "angularaxis": {
            "gridcolor": "white",
            "linecolor": "white",
            "ticks": ""
           },
           "bgcolor": "#E5ECF6",
           "radialaxis": {
            "gridcolor": "white",
            "linecolor": "white",
            "ticks": ""
           }
          },
          "scene": {
           "xaxis": {
            "backgroundcolor": "#E5ECF6",
            "gridcolor": "white",
            "gridwidth": 2,
            "linecolor": "white",
            "showbackground": true,
            "ticks": "",
            "zerolinecolor": "white"
           },
           "yaxis": {
            "backgroundcolor": "#E5ECF6",
            "gridcolor": "white",
            "gridwidth": 2,
            "linecolor": "white",
            "showbackground": true,
            "ticks": "",
            "zerolinecolor": "white"
           },
           "zaxis": {
            "backgroundcolor": "#E5ECF6",
            "gridcolor": "white",
            "gridwidth": 2,
            "linecolor": "white",
            "showbackground": true,
            "ticks": "",
            "zerolinecolor": "white"
           }
          },
          "shapedefaults": {
           "line": {
            "color": "#2a3f5f"
           }
          },
          "ternary": {
           "aaxis": {
            "gridcolor": "white",
            "linecolor": "white",
            "ticks": ""
           },
           "baxis": {
            "gridcolor": "white",
            "linecolor": "white",
            "ticks": ""
           },
           "bgcolor": "#E5ECF6",
           "caxis": {
            "gridcolor": "white",
            "linecolor": "white",
            "ticks": ""
           }
          },
          "title": {
           "x": 0.05
          },
          "xaxis": {
           "automargin": true,
           "gridcolor": "white",
           "linecolor": "white",
           "ticks": "",
           "title": {
            "standoff": 15
           },
           "zerolinecolor": "white",
           "zerolinewidth": 2
          },
          "yaxis": {
           "automargin": true,
           "gridcolor": "white",
           "linecolor": "white",
           "ticks": "",
           "title": {
            "standoff": 15
           },
           "zerolinecolor": "white",
           "zerolinewidth": 2
          }
         }
        },
        "xaxis": {
         "autorange": true,
         "range": [
          -1264423.4444444445,
          1276805.4444444445
         ],
         "title": {
          "text": "Number"
         },
         "type": "linear"
        },
        "yaxis": {
         "range": [
          0,
          90
         ],
         "title": {
          "text": "Age"
         },
         "type": "linear"
        }
       }
      },
      "image/png": "[encoded data removed]",
      "text/html": [
       "<div>                            <div id=\"d65755cf-bccc-4f64-b3b3-3cdba6f84212\" class=\"plotly-graph-div\" style=\"height:525px; width:100%;\"></div>            <script type=\"text/javascript\">                require([\"plotly\"], function(Plotly) {                    window.PLOTLYENV=window.PLOTLYENV || {};                                    if (document.getElementById(\"d65755cf-bccc-4f64-b3b3-3cdba6f84212\")) {                    Plotly.newPlot(                        \"d65755cf-bccc-4f64-b3b3-3cdba6f84212\",                        [{\"hoverinfo\":\"skip\",\"name\":\"Men 2020\",\"orientation\":\"h\",\"x\":[1149744.0,1112085.0,952937.0,861278.0,703124.0,524185.0,455666.0,462417.0,337969.0,236555.0,156270.0,114861.0,103800.0,93738.0,60847.0,34099.0,25648.0],\"y\":[1,6,11,16,21,26,31,36,41,46,51,56,61,66,71,76,81,1,6,11,16,21,26,31,36,41,46,51,56,61,66,71,76,81],\"type\":\"bar\"},{\"hoverinfo\":\"skip\",\"name\":\"Men 2010\",\"orientation\":\"h\",\"x\":[1013427.0,916797.0,811716.0,651750.0,559783.0,547494.0,406117.0,290378.0,192185.0,137575.0,126605.0,125890.0,94939.0,66272.0,40288.0,26806.0,26143.0],\"y\":[1,6,11,16,21,26,31,36,41,46,51,56,61,66,71,76,81,1,6,11,16,21,26,31,36,41,46,51,56,61,66,71,76,81],\"type\":\"bar\"},{\"hoverinfo\":\"skip\",\"name\":\"Men 2000\",\"orientation\":\"h\",\"x\":[901957.0,774942.0,777057.0,781306.0,590335.0,437635.0,311802.0,225732.0,188373.0,175414.0,128968.0,97122.0,73372.0,60206.0,46534.0,27181.0,23665.0],\"y\":[1,6,11,16,21,26,31,36,41,46,51,56,61,66,71,76,81,1,6,11,16,21,26,31,36,41,46,51,56,61,66,71,76,81],\"type\":\"bar\"},{\"hoverinfo\":\"skip\",\"name\":\"Men 1990\",\"orientation\":\"h\",\"x\":[835401.0,838405.0,699845.0,568084.0,423731.0,314268.0,259551.0,231705.0,167960.0,127627.0,97428.0,84984.0,76870.0,56013.0,38946.0,29255.0,15966.0],\"y\":[1,6,11,16,21,26,31,36,41,46,51,56,61,66,71,76,81,1,6,11,16,21,26,31,36,41,46,51,56,61,66,71,76,81],\"type\":\"bar\"},{\"hoverinfo\":\"skip\",\"name\":\"Men 1980\",\"orientation\":\"h\",\"x\":[699338.0,588450.0,457696.0,331391.0,253488.0,212453.0,145320.0,118572.0,105250.0,100614.0,94422.0,80833.0,74287.0,54937.0,29024.0,15592.0,11233.0],\"y\":[1,6,11,16,21,26,31,36,41,46,51,56,61,66,71,76,81,1,6,11,16,21,26,31,36,41,46,51,56,61,66,71,76,81],\"type\":\"bar\"},{\"hoverinfo\":\"skip\",\"name\":\"Men 1970\",\"orientation\":\"h\",\"x\":[507124.0,411881.0,344125.0,289593.0,207339.0,165065.0,129547.0,106377.0,91850.0,74679.0,69758.0,51875.0,40379.0,30380.0,20881.0,12635.0,8309.0],\"y\":[1,6,11,16,21,26,31,36,41,46,51,56,61,66,71,76,81,1,6,11,16,21,26,31,36,41,46,51,56,61,66,71,76,81],\"type\":\"bar\"},{\"hoverinfo\":\"skip\",\"name\":\"Women 2020\",\"orientation\":\"h\",\"x\":[-1137362.0,-1117009.0,-979886.0,-914963.0,-780750.0,-632092.0,-599778.0,-583992.0,-414475.0,-302336.0,-206909.0,-153503.0,-146678.0,-132292.0,-85703.0,-50958.0,-45766.0],\"y\":[1,6,11,16,21,26,31,36,41,46,51,56,61,66,71,76,81,1,6,11,16,21,26,31,36,41,46,51,56,61,66,71,76,81],\"type\":\"bar\"},{\"hoverinfo\":\"skip\",\"name\":\"Women 2010\",\"orientation\":\"h\",\"x\":[-1015137.0,-943869.0,-841989.0,-721523.0,-705642.0,-684887.0,-487093.0,-349585.0,-228636.0,-164140.0,-164707.0,-161512.0,-118857.0,-85734.0,-52445.0,-36186.0,-43657.0],\"y\":[1,6,11,16,21,26,31,36,41,46,51,56,61,66,71,76,81,1,6,11,16,21,26,31,36,41,46,51,56,61,66,71,76,81],\"type\":\"bar\"},{\"hoverinfo\":\"skip\",\"name\":\"Women 2000\",\"orientation\":\"h\",\"x\":[-893782.0,-789287.0,-834018.0,-878867.0,-707464.0,-546044.0,-364944.0,-237326.0,-204150.0,-197993.0,-148155.0,-116176.0,-88454.0,-73510.0,-60603.0,-37167.0,-35131.0],\"y\":[1,6,11,16,21,26,31,36,41,46,51,56,61,66,71,76,81,1,6,11,16,21,26,31,36,41,46,51,56,61,66,71,76,81],\"type\":\"bar\"},{\"hoverinfo\":\"skip\",\"name\":\"Women 1990\",\"orientation\":\"h\",\"x\":[-847725.0,-886613.0,-748624.0,-630102.0,-483471.0,-342599.0,-276699.0,-246607.0,-176097.0,-140625.0,-112124.0,-95385.0,-88390.0,-67895.0,-46743.0,-34354.0,-23795.0],\"y\":[1,6,11,16,21,26,31,36,41,46,51,56,61,66,71,76,81,1,6,11,16,21,26,31,36,41,46,51,56,61,66,71,76,81],\"type\":\"bar\"},{\"hoverinfo\":\"skip\",\"name\":\"Women 1980\",\"orientation\":\"h\",\"x\":[-690084.0,-587785.0,-481806.0,-399334.0,-339874.0,-280594.0,-186527.0,-140299.0,-110577.0,-95972.0,-86675.0,-74575.0,-73304.0,-57176.0,-34925.0,-20878.0,-16640.0],\"y\":[1,6,11,16,21,26,31,36,41,46,51,56,61,66,71,76,81,1,6,11,16,21,26,31,36,41,46,51,56,61,66,71,76,81],\"type\":\"bar\"},{\"hoverinfo\":\"skip\",\"name\":\"Women 1970\",\"orientation\":\"h\",\"x\":[-500591.0,-411113.0,-346811.0,-295106.0,-212219.0,-169697.0,-135117.0,-114708.0,-100786.0,-81957.0,-76520.0,-57750.0,-46623.0,-36802.0,-26565.0,-16567.0,-12186.0],\"y\":[1,6,11,16,21,26,31,36,41,46,51,56,61,66,71,76,81,1,6,11,16,21,26,31,36,41,46,51,56,61,66,71,76,81],\"type\":\"bar\"}],                        {\"barmode\":\"overlay\",\"template\":{\"data\":{\"barpolar\":[{\"marker\":{\"line\":{\"color\":\"#E5ECF6\",\"width\":0.5},\"pattern\":{\"fillmode\":\"overlay\",\"size\":10,\"solidity\":0.2}},\"type\":\"barpolar\"}],\"bar\":[{\"error_x\":{\"color\":\"#2a3f5f\"},\"error_y\":{\"color\":\"#2a3f5f\"},\"marker\":{\"line\":{\"color\":\"#E5ECF6\",\"width\":0.5},\"pattern\":{\"fillmode\":\"overlay\",\"size\":10,\"solidity\":0.2}},\"type\":\"bar\"}],\"carpet\":[{\"aaxis\":{\"endlinecolor\":\"#2a3f5f\",\"gridcolor\":\"white\",\"linecolor\":\"white\",\"minorgridcolor\":\"white\",\"startlinecolor\":\"#2a3f5f\"},\"baxis\":{\"endlinecolor\":\"#2a3f5f\",\"gridcolor\":\"white\",\"linecolor\":\"white\",\"minorgridcolor\":\"white\",\"startlinecolor\":\"#2a3f5f\"},\"type\":\"carpet\"}],\"choropleth\":[{\"colorbar\":{\"outlinewidth\":0,\"ticks\":\"\"},\"type\":\"choropleth\"}],\"contourcarpet\":[{\"colorbar\":{\"outlinewidth\":0,\"ticks\":\"\"},\"type\":\"contourcarpet\"}],\"contour\":[{\"colorbar\":{\"outlinewidth\":0,\"ticks\":\"\"},\"colorscale\":[[0.0,\"#0d0887\"],[0.1111111111111111,\"#46039f\"],[0.2222222222222222,\"#7201a8\"],[0.3333333333333333,\"#9c179e\"],[0.4444444444444444,\"#bd3786\"],[0.5555555555555556,\"#d8576b\"],[0.6666666666666666,\"#ed7953\"],[0.7777777777777778,\"#fb9f3a\"],[0.8888888888888888,\"#fdca26\"],[1.0,\"#f0f921\"]],\"type\":\"contour\"}],\"heatmapgl\":[{\"colorbar\":{\"outlinewidth\":0,\"ticks\":\"\"},\"colorscale\":[[0.0,\"#0d0887\"],[0.1111111111111111,\"#46039f\"],[0.2222222222222222,\"#7201a8\"],[0.3333333333333333,\"#9c179e\"],[0.4444444444444444,\"#bd3786\"],[0.5555555555555556,\"#d8576b\"],[0.6666666666666666,\"#ed7953\"],[0.7777777777777778,\"#fb9f3a\"],[0.8888888888888888,\"#fdca26\"],[1.0,\"#f0f921\"]],\"type\":\"heatmapgl\"}],\"heatmap\":[{\"colorbar\":{\"outlinewidth\":0,\"ticks\":\"\"},\"colorscale\":[[0.0,\"#0d0887\"],[0.1111111111111111,\"#46039f\"],[0.2222222222222222,\"#7201a8\"],[0.3333333333333333,\"#9c179e\"],[0.4444444444444444,\"#bd3786\"],[0.5555555555555556,\"#d8576b\"],[0.6666666666666666,\"#ed7953\"],[0.7777777777777778,\"#fb9f3a\"],[0.8888888888888888,\"#fdca26\"],[1.0,\"#f0f921\"]],\"type\":\"heatmap\"}],\"histogram2dcontour\":[{\"colorbar\":{\"outlinewidth\":0,\"ticks\":\"\"},\"colorscale\":[[0.0,\"#0d0887\"],[0.1111111111111111,\"#46039f\"],[0.2222222222222222,\"#7201a8\"],[0.3333333333333333,\"#9c179e\"],[0.4444444444444444,\"#bd3786\"],[0.5555555555555556,\"#d8576b\"],[0.6666666666666666,\"#ed7953\"],[0.7777777777777778,\"#fb9f3a\"],[0.8888888888888888,\"#fdca26\"],[1.0,\"#f0f921\"]],\"type\":\"histogram2dcontour\"}],\"histogram2d\":[{\"colorbar\":{\"outlinewidth\":0,\"ticks\":\"\"},\"colorscale\":[[0.0,\"#0d0887\"],[0.1111111111111111,\"#46039f\"],[0.2222222222222222,\"#7201a8\"],[0.3333333333333333,\"#9c179e\"],[0.4444444444444444,\"#bd3786\"],[0.5555555555555556,\"#d8576b\"],[0.6666666666666666,\"#ed7953\"],[0.7777777777777778,\"#fb9f3a\"],[0.8888888888888888,\"#fdca26\"],[1.0,\"#f0f921\"]],\"type\":\"histogram2d\"}],\"histogram\":[{\"marker\":{\"pattern\":{\"fillmode\":\"overlay\",\"size\":10,\"solidity\":0.2}},\"type\":\"histogram\"}],\"mesh3d\":[{\"colorbar\":{\"outlinewidth\":0,\"ticks\":\"\"},\"type\":\"mesh3d\"}],\"parcoords\":[{\"line\":{\"colorbar\":{\"outlinewidth\":0,\"ticks\":\"\"}},\"type\":\"parcoords\"}],\"pie\":[{\"automargin\":true,\"type\":\"pie\"}],\"scatter3d\":[{\"line\":{\"colorbar\":{\"outlinewidth\":0,\"ticks\":\"\"}},\"marker\":{\"colorbar\":{\"outlinewidth\":0,\"ticks\":\"\"}},\"type\":\"scatter3d\"}],\"scattercarpet\":[{\"marker\":{\"colorbar\":{\"outlinewidth\":0,\"ticks\":\"\"}},\"type\":\"scattercarpet\"}],\"scattergeo\":[{\"marker\":{\"colorbar\":{\"outlinewidth\":0,\"ticks\":\"\"}},\"type\":\"scattergeo\"}],\"scattergl\":[{\"marker\":{\"colorbar\":{\"outlinewidth\":0,\"ticks\":\"\"}},\"type\":\"scattergl\"}],\"scattermapbox\":[{\"marker\":{\"colorbar\":{\"outlinewidth\":0,\"ticks\":\"\"}},\"type\":\"scattermapbox\"}],\"scatterpolargl\":[{\"marker\":{\"colorbar\":{\"outlinewidth\":0,\"ticks\":\"\"}},\"type\":\"scatterpolargl\"}],\"scatterpolar\":[{\"marker\":{\"colorbar\":{\"outlinewidth\":0,\"ticks\":\"\"}},\"type\":\"scatterpolar\"}],\"scatter\":[{\"fillpattern\":{\"fillmode\":\"overlay\",\"size\":10,\"solidity\":0.2},\"type\":\"scatter\"}],\"scatterternary\":[{\"marker\":{\"colorbar\":{\"outlinewidth\":0,\"ticks\":\"\"}},\"type\":\"scatterternary\"}],\"surface\":[{\"colorbar\":{\"outlinewidth\":0,\"ticks\":\"\"},\"colorscale\":[[0.0,\"#0d0887\"],[0.1111111111111111,\"#46039f\"],[0.2222222222222222,\"#7201a8\"],[0.3333333333333333,\"#9c179e\"],[0.4444444444444444,\"#bd3786\"],[0.5555555555555556,\"#d8576b\"],[0.6666666666666666,\"#ed7953\"],[0.7777777777777778,\"#fb9f3a\"],[0.8888888888888888,\"#fdca26\"],[1.0,\"#f0f921\"]],\"type\":\"surface\"}],\"table\":[{\"cells\":{\"fill\":{\"color\":\"#EBF0F8\"},\"line\":{\"color\":\"white\"}},\"header\":{\"fill\":{\"color\":\"#C8D4E3\"},\"line\":{\"color\":\"white\"}},\"type\":\"table\"}]},\"layout\":{\"annotationdefaults\":{\"arrowcolor\":\"#2a3f5f\",\"arrowhead\":0,\"arrowwidth\":1},\"autotypenumbers\":\"strict\",\"coloraxis\":{\"colorbar\":{\"outlinewidth\":0,\"ticks\":\"\"}},\"colorscale\":{\"diverging\":[[0,\"#8e0152\"],[0.1,\"#c51b7d\"],[0.2,\"#de77ae\"],[0.3,\"#f1b6da\"],[0.4,\"#fde0ef\"],[0.5,\"#f7f7f7\"],[0.6,\"#e6f5d0\"],[0.7,\"#b8e186\"],[0.8,\"#7fbc41\"],[0.9,\"#4d9221\"],[1,\"#276419\"]],\"sequential\":[[0.0,\"#0d0887\"],[0.1111111111111111,\"#46039f\"],[0.2222222222222222,\"#7201a8\"],[0.3333333333333333,\"#9c179e\"],[0.4444444444444444,\"#bd3786\"],[0.5555555555555556,\"#d8576b\"],[0.6666666666666666,\"#ed7953\"],[0.7777777777777778,\"#fb9f3a\"],[0.8888888888888888,\"#fdca26\"],[1.0,\"#f0f921\"]],\"sequentialminus\":[[0.0,\"#0d0887\"],[0.1111111111111111,\"#46039f\"],[0.2222222222222222,\"#7201a8\"],[0.3333333333333333,\"#9c179e\"],[0.4444444444444444,\"#bd3786\"],[0.5555555555555556,\"#d8576b\"],[0.6666666666666666,\"#ed7953\"],[0.7777777777777778,\"#fb9f3a\"],[0.8888888888888888,\"#fdca26\"],[1.0,\"#f0f921\"]]},\"colorway\":[\"#636efa\",\"#EF553B\",\"#00cc96\",\"#ab63fa\",\"#FFA15A\",\"#19d3f3\",\"#FF6692\",\"#B6E880\",\"#FF97FF\",\"#FECB52\"],\"font\":{\"color\":\"#2a3f5f\"},\"geo\":{\"bgcolor\":\"white\",\"lakecolor\":\"white\",\"landcolor\":\"#E5ECF6\",\"showlakes\":true,\"showland\":true,\"subunitcolor\":\"white\"},\"hoverlabel\":{\"align\":\"left\"},\"hovermode\":\"closest\",\"mapbox\":{\"style\":\"light\"},\"paper_bgcolor\":\"white\",\"plot_bgcolor\":\"#E5ECF6\",\"polar\":{\"angularaxis\":{\"gridcolor\":\"white\",\"linecolor\":\"white\",\"ticks\":\"\"},\"bgcolor\":\"#E5ECF6\",\"radialaxis\":{\"gridcolor\":\"white\",\"linecolor\":\"white\",\"ticks\":\"\"}},\"scene\":{\"xaxis\":{\"backgroundcolor\":\"#E5ECF6\",\"gridcolor\":\"white\",\"gridwidth\":2,\"linecolor\":\"white\",\"showbackground\":true,\"ticks\":\"\",\"zerolinecolor\":\"white\"},\"yaxis\":{\"backgroundcolor\":\"#E5ECF6\",\"gridcolor\":\"white\",\"gridwidth\":2,\"linecolor\":\"white\",\"showbackground\":true,\"ticks\":\"\",\"zerolinecolor\":\"white\"},\"zaxis\":{\"backgroundcolor\":\"#E5ECF6\",\"gridcolor\":\"white\",\"gridwidth\":2,\"linecolor\":\"white\",\"showbackground\":true,\"ticks\":\"\",\"zerolinecolor\":\"white\"}},\"shapedefaults\":{\"line\":{\"color\":\"#2a3f5f\"}},\"ternary\":{\"aaxis\":{\"gridcolor\":\"white\",\"linecolor\":\"white\",\"ticks\":\"\"},\"baxis\":{\"gridcolor\":\"white\",\"linecolor\":\"white\",\"ticks\":\"\"},\"bgcolor\":\"#E5ECF6\",\"caxis\":{\"gridcolor\":\"white\",\"linecolor\":\"white\",\"ticks\":\"\"}},\"title\":{\"x\":0.05},\"xaxis\":{\"automargin\":true,\"gridcolor\":\"white\",\"linecolor\":\"white\",\"ticks\":\"\",\"title\":{\"standoff\":15},\"zerolinecolor\":\"white\",\"zerolinewidth\":2},\"yaxis\":{\"automargin\":true,\"gridcolor\":\"white\",\"linecolor\":\"white\",\"ticks\":\"\",\"title\":{\"standoff\":15},\"zerolinecolor\":\"white\",\"zerolinewidth\":2}}},\"xaxis\":{\"title\":{\"text\":\"Number\"}},\"yaxis\":{\"range\":[0,90],\"title\":{\"text\":\"Age\"}}},                        {\"responsive\": true}                    ).then(function(){\n",
       "                            \n",
       "var gd = document.getElementById('d65755cf-bccc-4f64-b3b3-3cdba6f84212');\n",
       "var x = new MutationObserver(function (mutations, observer) {{\n",
       "        var display = window.getComputedStyle(gd).display;\n",
       "        if (!display || display === 'none') {{\n",
       "            console.log([gd, 'removed!']);\n",
       "            Plotly.purge(gd);\n",
       "            observer.disconnect();\n",
       "        }}\n",
       "}});\n",
       "\n",
       "// Listen for the removal of the full notebook cells\n",
       "var notebookContainer = gd.closest('#notebook-container');\n",
       "if (notebookContainer) {{\n",
       "    x.observe(notebookContainer, {childList: true});\n",
       "}}\n",
       "\n",
       "// Listen for the clearing of the current output cell\n",
       "var outputEl = gd.closest('.output');\n",
       "if (outputEl) {{\n",
       "    x.observe(outputEl, {childList: true});\n",
       "}}\n",
       "\n",
       "                        })                };                });            </script>        </div>"
      ]
     },
     "metadata": {},
     "output_type": "display_data"
    }
   ],
   "source": [
    "def pop_pyramid_df(years, ctry):\n",
    "    age_rangez = []\n",
    "    # Ranges top out at 80, and go in five year increments\n",
    "    for i in years:\n",
    "        age_rangez.append(f\"{i:02d}\"+f\"{i+4:02d}\")\n",
    "    \n",
    "    age_rangez.append(\"80UP\")\n",
    "    \n",
    "    male_variablez = {\"SP.POP.\"+age_range+\".MA\":\"Males \"+age_range for age_range in age_rangez}\n",
    "    female_variablez = {\"SP.POP.\"+age_range+\".FE\":\"Females \"+age_range for age_range in age_rangez}\n",
    "    \n",
    "    variablez = male_variablez\n",
    "    variablez.update(female_variablez)\n",
    "    \n",
    "    dfz = wbdata.get_dataframe(variablez,country=ctry)\n",
    "    return df.query(\"date=='2020'\").sum(axis=0)\n",
    "\n",
    "pop_pyramid_df(range(0,80,5), \"ZWE\")\n",
    "\n",
    "import plotly.offline as py\n",
    "import plotly.graph_objs as go\n",
    "import pandas as pd\n",
    "import numpy as np\n",
    "\n",
    "py.init_notebook_mode(connected=True)\n",
    "\n",
    "layout = go.Layout(barmode='overlay',\n",
    "                   yaxis=go.layout.YAxis(range=[0, 90], title='Age'),\n",
    "                   xaxis=go.layout.XAxis(title='Number'))\n",
    "\n",
    "\n",
    "year = 2020\n",
    "\n",
    "binz = [go.Bar(x = dfz.loc[str(year),:].filter(regex=\"Male\").values,\n",
    "               y = [int(s[:2])+1 for s in age_rangez],\n",
    "               orientation='h',\n",
    "               name='Men',\n",
    "               marker=dict(color='teal'),\n",
    "               hoverinfo='skip'\n",
    "               ),\n",
    "\n",
    "        go.Bar(x = -dfz.loc[str(year),:].filter(regex=\"Female\").values,\n",
    "               y=[int(s[:2])+1 for s in age_rangez],\n",
    "               orientation='h',\n",
    "               name='Women',\n",
    "               marker=dict(color='pink'),\n",
    "               hoverinfo='skip',\n",
    "               )\n",
    "        ]\n",
    "py.iplot(dict(data=binz, layout=layout))\n",
    "\n",
    "\n",
    "years = range(2020,1960,-10)\n",
    "\n",
    "# This makes a list of graphs, year by year\n",
    "binz = [go.Bar(x = dfz.loc[str(year),:].filter(regex=\"Male\").values,\n",
    "               y = [int(s[:2])+1 for s in age_rangez],\n",
    "               orientation='h',\n",
    "               name='Men {:d}'.format(year),\n",
    "               hoverinfo='skip'\n",
    "              )\n",
    "        for year in years]\n",
    "\n",
    "binz += [go.Bar(x = -dfz.loc[str(year),:].filter(regex=\"Female\").values,\n",
    "                y=[int(s[:2])+1 for s in age_rangez],\n",
    "                orientation='h',\n",
    "                name='Women {:d}'.format(year),\n",
    "                hoverinfo='skip',\n",
    "               )\n",
    "         for year in years]\n",
    "\n",
    "py.iplot(dict(data=binz, layout=layout))\n"
   ]
  },
  {
   "cell_type": "code",
   "execution_count": 73,
   "id": "842ea364-2595-4b30-9f46-66cd48747e47",
   "metadata": {},
   "outputs": [
    {
     "data": {
      "text/html": [
       "        <script type=\"text/javascript\">\n",
       "        window.PlotlyConfig = {MathJaxConfig: 'local'};\n",
       "        if (window.MathJax && window.MathJax.Hub && window.MathJax.Hub.Config) {window.MathJax.Hub.Config({SVG: {font: \"STIX-Web\"}});}\n",
       "        if (typeof require !== 'undefined') {\n",
       "        require.undef(\"plotly\");\n",
       "        requirejs.config({\n",
       "            paths: {\n",
       "                'plotly': ['https://cdn.plot.ly/plotly-2.27.0.min']\n",
       "            }\n",
       "        });\n",
       "        require(['plotly'], function(Plotly) {\n",
       "            window._Plotly = Plotly;\n",
       "        });\n",
       "        }\n",
       "        </script>\n",
       "        "
      ]
     },
     "metadata": {},
     "output_type": "display_data"
    },
    {
     "data": {
      "application/vnd.plotly.v1+json": {
       "config": {
        "linkText": "Export to plot.ly",
        "plotlyServerURL": "https://plot.ly",
        "showLink": false
       },
       "data": [
        {
         "hoverinfo": "skip",
         "marker": {
          "color": "blue"
         },
         "name": "Men",
         "orientation": "h",
         "type": "bar",
         "x": [
          150033,
          143378,
          134270,
          119764,
          111166,
          112678,
          109632,
          99640,
          79951,
          57874,
          44020,
          33205,
          24387,
          16458,
          9612,
          5798,
          4843
         ],
         "y": [
          1,
          6,
          11,
          16,
          21,
          26,
          31,
          36,
          41,
          46,
          51,
          56,
          61,
          66,
          71,
          76,
          81
         ]
        },
        {
         "hoverinfo": "skip",
         "marker": {
          "color": "orange"
         },
         "name": "Women",
         "orientation": "h",
         "type": "bar",
         "x": [
          -146162,
          -139746,
          -131076,
          -117640,
          -109699,
          -111431,
          -109624,
          -102611,
          -83636,
          -61566,
          -50099,
          -40877,
          -31884,
          -22585,
          -13784,
          -8753,
          -8523
         ],
         "y": [
          1,
          6,
          11,
          16,
          21,
          26,
          31,
          36,
          41,
          46,
          51,
          56,
          61,
          66,
          71,
          76,
          81
         ]
        }
       ],
       "layout": {
        "autosize": true,
        "barmode": "overlay",
        "template": {
         "data": {
          "bar": [
           {
            "error_x": {
             "color": "#2a3f5f"
            },
            "error_y": {
             "color": "#2a3f5f"
            },
            "marker": {
             "line": {
              "color": "#E5ECF6",
              "width": 0.5
             },
             "pattern": {
              "fillmode": "overlay",
              "size": 10,
              "solidity": 0.2
             }
            },
            "type": "bar"
           }
          ],
          "barpolar": [
           {
            "marker": {
             "line": {
              "color": "#E5ECF6",
              "width": 0.5
             },
             "pattern": {
              "fillmode": "overlay",
              "size": 10,
              "solidity": 0.2
             }
            },
            "type": "barpolar"
           }
          ],
          "carpet": [
           {
            "aaxis": {
             "endlinecolor": "#2a3f5f",
             "gridcolor": "white",
             "linecolor": "white",
             "minorgridcolor": "white",
             "startlinecolor": "#2a3f5f"
            },
            "baxis": {
             "endlinecolor": "#2a3f5f",
             "gridcolor": "white",
             "linecolor": "white",
             "minorgridcolor": "white",
             "startlinecolor": "#2a3f5f"
            },
            "type": "carpet"
           }
          ],
          "choropleth": [
           {
            "colorbar": {
             "outlinewidth": 0,
             "ticks": ""
            },
            "type": "choropleth"
           }
          ],
          "contour": [
           {
            "colorbar": {
             "outlinewidth": 0,
             "ticks": ""
            },
            "colorscale": [
             [
              0,
              "#0d0887"
             ],
             [
              0.1111111111111111,
              "#46039f"
             ],
             [
              0.2222222222222222,
              "#7201a8"
             ],
             [
              0.3333333333333333,
              "#9c179e"
             ],
             [
              0.4444444444444444,
              "#bd3786"
             ],
             [
              0.5555555555555556,
              "#d8576b"
             ],
             [
              0.6666666666666666,
              "#ed7953"
             ],
             [
              0.7777777777777778,
              "#fb9f3a"
             ],
             [
              0.8888888888888888,
              "#fdca26"
             ],
             [
              1,
              "#f0f921"
             ]
            ],
            "type": "contour"
           }
          ],
          "contourcarpet": [
           {
            "colorbar": {
             "outlinewidth": 0,
             "ticks": ""
            },
            "type": "contourcarpet"
           }
          ],
          "heatmap": [
           {
            "colorbar": {
             "outlinewidth": 0,
             "ticks": ""
            },
            "colorscale": [
             [
              0,
              "#0d0887"
             ],
             [
              0.1111111111111111,
              "#46039f"
             ],
             [
              0.2222222222222222,
              "#7201a8"
             ],
             [
              0.3333333333333333,
              "#9c179e"
             ],
             [
              0.4444444444444444,
              "#bd3786"
             ],
             [
              0.5555555555555556,
              "#d8576b"
             ],
             [
              0.6666666666666666,
              "#ed7953"
             ],
             [
              0.7777777777777778,
              "#fb9f3a"
             ],
             [
              0.8888888888888888,
              "#fdca26"
             ],
             [
              1,
              "#f0f921"
             ]
            ],
            "type": "heatmap"
           }
          ],
          "heatmapgl": [
           {
            "colorbar": {
             "outlinewidth": 0,
             "ticks": ""
            },
            "colorscale": [
             [
              0,
              "#0d0887"
             ],
             [
              0.1111111111111111,
              "#46039f"
             ],
             [
              0.2222222222222222,
              "#7201a8"
             ],
             [
              0.3333333333333333,
              "#9c179e"
             ],
             [
              0.4444444444444444,
              "#bd3786"
             ],
             [
              0.5555555555555556,
              "#d8576b"
             ],
             [
              0.6666666666666666,
              "#ed7953"
             ],
             [
              0.7777777777777778,
              "#fb9f3a"
             ],
             [
              0.8888888888888888,
              "#fdca26"
             ],
             [
              1,
              "#f0f921"
             ]
            ],
            "type": "heatmapgl"
           }
          ],
          "histogram": [
           {
            "marker": {
             "pattern": {
              "fillmode": "overlay",
              "size": 10,
              "solidity": 0.2
             }
            },
            "type": "histogram"
           }
          ],
          "histogram2d": [
           {
            "colorbar": {
             "outlinewidth": 0,
             "ticks": ""
            },
            "colorscale": [
             [
              0,
              "#0d0887"
             ],
             [
              0.1111111111111111,
              "#46039f"
             ],
             [
              0.2222222222222222,
              "#7201a8"
             ],
             [
              0.3333333333333333,
              "#9c179e"
             ],
             [
              0.4444444444444444,
              "#bd3786"
             ],
             [
              0.5555555555555556,
              "#d8576b"
             ],
             [
              0.6666666666666666,
              "#ed7953"
             ],
             [
              0.7777777777777778,
              "#fb9f3a"
             ],
             [
              0.8888888888888888,
              "#fdca26"
             ],
             [
              1,
              "#f0f921"
             ]
            ],
            "type": "histogram2d"
           }
          ],
          "histogram2dcontour": [
           {
            "colorbar": {
             "outlinewidth": 0,
             "ticks": ""
            },
            "colorscale": [
             [
              0,
              "#0d0887"
             ],
             [
              0.1111111111111111,
              "#46039f"
             ],
             [
              0.2222222222222222,
              "#7201a8"
             ],
             [
              0.3333333333333333,
              "#9c179e"
             ],
             [
              0.4444444444444444,
              "#bd3786"
             ],
             [
              0.5555555555555556,
              "#d8576b"
             ],
             [
              0.6666666666666666,
              "#ed7953"
             ],
             [
              0.7777777777777778,
              "#fb9f3a"
             ],
             [
              0.8888888888888888,
              "#fdca26"
             ],
             [
              1,
              "#f0f921"
             ]
            ],
            "type": "histogram2dcontour"
           }
          ],
          "mesh3d": [
           {
            "colorbar": {
             "outlinewidth": 0,
             "ticks": ""
            },
            "type": "mesh3d"
           }
          ],
          "parcoords": [
           {
            "line": {
             "colorbar": {
              "outlinewidth": 0,
              "ticks": ""
             }
            },
            "type": "parcoords"
           }
          ],
          "pie": [
           {
            "automargin": true,
            "type": "pie"
           }
          ],
          "scatter": [
           {
            "fillpattern": {
             "fillmode": "overlay",
             "size": 10,
             "solidity": 0.2
            },
            "type": "scatter"
           }
          ],
          "scatter3d": [
           {
            "line": {
             "colorbar": {
              "outlinewidth": 0,
              "ticks": ""
             }
            },
            "marker": {
             "colorbar": {
              "outlinewidth": 0,
              "ticks": ""
             }
            },
            "type": "scatter3d"
           }
          ],
          "scattercarpet": [
           {
            "marker": {
             "colorbar": {
              "outlinewidth": 0,
              "ticks": ""
             }
            },
            "type": "scattercarpet"
           }
          ],
          "scattergeo": [
           {
            "marker": {
             "colorbar": {
              "outlinewidth": 0,
              "ticks": ""
             }
            },
            "type": "scattergeo"
           }
          ],
          "scattergl": [
           {
            "marker": {
             "colorbar": {
              "outlinewidth": 0,
              "ticks": ""
             }
            },
            "type": "scattergl"
           }
          ],
          "scattermapbox": [
           {
            "marker": {
             "colorbar": {
              "outlinewidth": 0,
              "ticks": ""
             }
            },
            "type": "scattermapbox"
           }
          ],
          "scatterpolar": [
           {
            "marker": {
             "colorbar": {
              "outlinewidth": 0,
              "ticks": ""
             }
            },
            "type": "scatterpolar"
           }
          ],
          "scatterpolargl": [
           {
            "marker": {
             "colorbar": {
              "outlinewidth": 0,
              "ticks": ""
             }
            },
            "type": "scatterpolargl"
           }
          ],
          "scatterternary": [
           {
            "marker": {
             "colorbar": {
              "outlinewidth": 0,
              "ticks": ""
             }
            },
            "type": "scatterternary"
           }
          ],
          "surface": [
           {
            "colorbar": {
             "outlinewidth": 0,
             "ticks": ""
            },
            "colorscale": [
             [
              0,
              "#0d0887"
             ],
             [
              0.1111111111111111,
              "#46039f"
             ],
             [
              0.2222222222222222,
              "#7201a8"
             ],
             [
              0.3333333333333333,
              "#9c179e"
             ],
             [
              0.4444444444444444,
              "#bd3786"
             ],
             [
              0.5555555555555556,
              "#d8576b"
             ],
             [
              0.6666666666666666,
              "#ed7953"
             ],
             [
              0.7777777777777778,
              "#fb9f3a"
             ],
             [
              0.8888888888888888,
              "#fdca26"
             ],
             [
              1,
              "#f0f921"
             ]
            ],
            "type": "surface"
           }
          ],
          "table": [
           {
            "cells": {
             "fill": {
              "color": "#EBF0F8"
             },
             "line": {
              "color": "white"
             }
            },
            "header": {
             "fill": {
              "color": "#C8D4E3"
             },
             "line": {
              "color": "white"
             }
            },
            "type": "table"
           }
          ]
         },
         "layout": {
          "annotationdefaults": {
           "arrowcolor": "#2a3f5f",
           "arrowhead": 0,
           "arrowwidth": 1
          },
          "autotypenumbers": "strict",
          "coloraxis": {
           "colorbar": {
            "outlinewidth": 0,
            "ticks": ""
           }
          },
          "colorscale": {
           "diverging": [
            [
             0,
             "#8e0152"
            ],
            [
             0.1,
             "#c51b7d"
            ],
            [
             0.2,
             "#de77ae"
            ],
            [
             0.3,
             "#f1b6da"
            ],
            [
             0.4,
             "#fde0ef"
            ],
            [
             0.5,
             "#f7f7f7"
            ],
            [
             0.6,
             "#e6f5d0"
            ],
            [
             0.7,
             "#b8e186"
            ],
            [
             0.8,
             "#7fbc41"
            ],
            [
             0.9,
             "#4d9221"
            ],
            [
             1,
             "#276419"
            ]
           ],
           "sequential": [
            [
             0,
             "#0d0887"
            ],
            [
             0.1111111111111111,
             "#46039f"
            ],
            [
             0.2222222222222222,
             "#7201a8"
            ],
            [
             0.3333333333333333,
             "#9c179e"
            ],
            [
             0.4444444444444444,
             "#bd3786"
            ],
            [
             0.5555555555555556,
             "#d8576b"
            ],
            [
             0.6666666666666666,
             "#ed7953"
            ],
            [
             0.7777777777777778,
             "#fb9f3a"
            ],
            [
             0.8888888888888888,
             "#fdca26"
            ],
            [
             1,
             "#f0f921"
            ]
           ],
           "sequentialminus": [
            [
             0,
             "#0d0887"
            ],
            [
             0.1111111111111111,
             "#46039f"
            ],
            [
             0.2222222222222222,
             "#7201a8"
            ],
            [
             0.3333333333333333,
             "#9c179e"
            ],
            [
             0.4444444444444444,
             "#bd3786"
            ],
            [
             0.5555555555555556,
             "#d8576b"
            ],
            [
             0.6666666666666666,
             "#ed7953"
            ],
            [
             0.7777777777777778,
             "#fb9f3a"
            ],
            [
             0.8888888888888888,
             "#fdca26"
            ],
            [
             1,
             "#f0f921"
            ]
           ]
          },
          "colorway": [
           "#636efa",
           "#EF553B",
           "#00cc96",
           "#ab63fa",
           "#FFA15A",
           "#19d3f3",
           "#FF6692",
           "#B6E880",
           "#FF97FF",
           "#FECB52"
          ],
          "font": {
           "color": "#2a3f5f"
          },
          "geo": {
           "bgcolor": "white",
           "lakecolor": "white",
           "landcolor": "#E5ECF6",
           "showlakes": true,
           "showland": true,
           "subunitcolor": "white"
          },
          "hoverlabel": {
           "align": "left"
          },
          "hovermode": "closest",
          "mapbox": {
           "style": "light"
          },
          "paper_bgcolor": "white",
          "plot_bgcolor": "#E5ECF6",
          "polar": {
           "angularaxis": {
            "gridcolor": "white",
            "linecolor": "white",
            "ticks": ""
           },
           "bgcolor": "#E5ECF6",
           "radialaxis": {
            "gridcolor": "white",
            "linecolor": "white",
            "ticks": ""
           }
          },
          "scene": {
           "xaxis": {
            "backgroundcolor": "#E5ECF6",
            "gridcolor": "white",
            "gridwidth": 2,
            "linecolor": "white",
            "showbackground": true,
            "ticks": "",
            "zerolinecolor": "white"
           },
           "yaxis": {
            "backgroundcolor": "#E5ECF6",
            "gridcolor": "white",
            "gridwidth": 2,
            "linecolor": "white",
            "showbackground": true,
            "ticks": "",
            "zerolinecolor": "white"
           },
           "zaxis": {
            "backgroundcolor": "#E5ECF6",
            "gridcolor": "white",
            "gridwidth": 2,
            "linecolor": "white",
            "showbackground": true,
            "ticks": "",
            "zerolinecolor": "white"
           }
          },
          "shapedefaults": {
           "line": {
            "color": "#2a3f5f"
           }
          },
          "ternary": {
           "aaxis": {
            "gridcolor": "white",
            "linecolor": "white",
            "ticks": ""
           },
           "baxis": {
            "gridcolor": "white",
            "linecolor": "white",
            "ticks": ""
           },
           "bgcolor": "#E5ECF6",
           "caxis": {
            "gridcolor": "white",
            "linecolor": "white",
            "ticks": ""
           }
          },
          "title": {
           "x": 0.05
          },
          "xaxis": {
           "automargin": true,
           "gridcolor": "white",
           "linecolor": "white",
           "ticks": "",
           "title": {
            "standoff": 15
           },
           "zerolinecolor": "white",
           "zerolinewidth": 2
          },
          "yaxis": {
           "automargin": true,
           "gridcolor": "white",
           "linecolor": "white",
           "ticks": "",
           "title": {
            "standoff": 15
           },
           "zerolinecolor": "white",
           "zerolinewidth": 2
          }
         }
        },
        "xaxis": {
         "autorange": true,
         "range": [
          -162617.27777777778,
          166488.27777777778
         ],
         "title": {
          "text": "Number"
         },
         "type": "linear"
        },
        "yaxis": {
         "range": [
          0,
          90
         ],
         "title": {
          "text": "Age"
         },
         "type": "linear"
        }
       }
      },
      "image/png": "[encoded data removed]",
      "text/html": [
       "<div>                            <div id=\"0a3df63b-cce1-4b59-a0d4-1b7e4e532aee\" class=\"plotly-graph-div\" style=\"height:525px; width:100%;\"></div>            <script type=\"text/javascript\">                require([\"plotly\"], function(Plotly) {                    window.PLOTLYENV=window.PLOTLYENV || {};                                    if (document.getElementById(\"0a3df63b-cce1-4b59-a0d4-1b7e4e532aee\")) {                    Plotly.newPlot(                        \"0a3df63b-cce1-4b59-a0d4-1b7e4e532aee\",                        [{\"hoverinfo\":\"skip\",\"marker\":{\"color\":\"blue\"},\"name\":\"Men\",\"orientation\":\"h\",\"x\":[150033.0,143378.0,134270.0,119764.0,111166.0,112678.0,109632.0,99640.0,79951.0,57874.0,44020.0,33205.0,24387.0,16458.0,9612.0,5798.0,4843.0],\"y\":[1,6,11,16,21,26,31,36,41,46,51,56,61,66,71,76,81],\"type\":\"bar\"},{\"hoverinfo\":\"skip\",\"marker\":{\"color\":\"orange\"},\"name\":\"Women\",\"orientation\":\"h\",\"x\":[-146162.0,-139746.0,-131076.0,-117640.0,-109699.0,-111431.0,-109624.0,-102611.0,-83636.0,-61566.0,-50099.0,-40877.0,-31884.0,-22585.0,-13784.0,-8753.0,-8523.0],\"y\":[1,6,11,16,21,26,31,36,41,46,51,56,61,66,71,76,81],\"type\":\"bar\"}],                        {\"barmode\":\"overlay\",\"template\":{\"data\":{\"barpolar\":[{\"marker\":{\"line\":{\"color\":\"#E5ECF6\",\"width\":0.5},\"pattern\":{\"fillmode\":\"overlay\",\"size\":10,\"solidity\":0.2}},\"type\":\"barpolar\"}],\"bar\":[{\"error_x\":{\"color\":\"#2a3f5f\"},\"error_y\":{\"color\":\"#2a3f5f\"},\"marker\":{\"line\":{\"color\":\"#E5ECF6\",\"width\":0.5},\"pattern\":{\"fillmode\":\"overlay\",\"size\":10,\"solidity\":0.2}},\"type\":\"bar\"}],\"carpet\":[{\"aaxis\":{\"endlinecolor\":\"#2a3f5f\",\"gridcolor\":\"white\",\"linecolor\":\"white\",\"minorgridcolor\":\"white\",\"startlinecolor\":\"#2a3f5f\"},\"baxis\":{\"endlinecolor\":\"#2a3f5f\",\"gridcolor\":\"white\",\"linecolor\":\"white\",\"minorgridcolor\":\"white\",\"startlinecolor\":\"#2a3f5f\"},\"type\":\"carpet\"}],\"choropleth\":[{\"colorbar\":{\"outlinewidth\":0,\"ticks\":\"\"},\"type\":\"choropleth\"}],\"contourcarpet\":[{\"colorbar\":{\"outlinewidth\":0,\"ticks\":\"\"},\"type\":\"contourcarpet\"}],\"contour\":[{\"colorbar\":{\"outlinewidth\":0,\"ticks\":\"\"},\"colorscale\":[[0.0,\"#0d0887\"],[0.1111111111111111,\"#46039f\"],[0.2222222222222222,\"#7201a8\"],[0.3333333333333333,\"#9c179e\"],[0.4444444444444444,\"#bd3786\"],[0.5555555555555556,\"#d8576b\"],[0.6666666666666666,\"#ed7953\"],[0.7777777777777778,\"#fb9f3a\"],[0.8888888888888888,\"#fdca26\"],[1.0,\"#f0f921\"]],\"type\":\"contour\"}],\"heatmapgl\":[{\"colorbar\":{\"outlinewidth\":0,\"ticks\":\"\"},\"colorscale\":[[0.0,\"#0d0887\"],[0.1111111111111111,\"#46039f\"],[0.2222222222222222,\"#7201a8\"],[0.3333333333333333,\"#9c179e\"],[0.4444444444444444,\"#bd3786\"],[0.5555555555555556,\"#d8576b\"],[0.6666666666666666,\"#ed7953\"],[0.7777777777777778,\"#fb9f3a\"],[0.8888888888888888,\"#fdca26\"],[1.0,\"#f0f921\"]],\"type\":\"heatmapgl\"}],\"heatmap\":[{\"colorbar\":{\"outlinewidth\":0,\"ticks\":\"\"},\"colorscale\":[[0.0,\"#0d0887\"],[0.1111111111111111,\"#46039f\"],[0.2222222222222222,\"#7201a8\"],[0.3333333333333333,\"#9c179e\"],[0.4444444444444444,\"#bd3786\"],[0.5555555555555556,\"#d8576b\"],[0.6666666666666666,\"#ed7953\"],[0.7777777777777778,\"#fb9f3a\"],[0.8888888888888888,\"#fdca26\"],[1.0,\"#f0f921\"]],\"type\":\"heatmap\"}],\"histogram2dcontour\":[{\"colorbar\":{\"outlinewidth\":0,\"ticks\":\"\"},\"colorscale\":[[0.0,\"#0d0887\"],[0.1111111111111111,\"#46039f\"],[0.2222222222222222,\"#7201a8\"],[0.3333333333333333,\"#9c179e\"],[0.4444444444444444,\"#bd3786\"],[0.5555555555555556,\"#d8576b\"],[0.6666666666666666,\"#ed7953\"],[0.7777777777777778,\"#fb9f3a\"],[0.8888888888888888,\"#fdca26\"],[1.0,\"#f0f921\"]],\"type\":\"histogram2dcontour\"}],\"histogram2d\":[{\"colorbar\":{\"outlinewidth\":0,\"ticks\":\"\"},\"colorscale\":[[0.0,\"#0d0887\"],[0.1111111111111111,\"#46039f\"],[0.2222222222222222,\"#7201a8\"],[0.3333333333333333,\"#9c179e\"],[0.4444444444444444,\"#bd3786\"],[0.5555555555555556,\"#d8576b\"],[0.6666666666666666,\"#ed7953\"],[0.7777777777777778,\"#fb9f3a\"],[0.8888888888888888,\"#fdca26\"],[1.0,\"#f0f921\"]],\"type\":\"histogram2d\"}],\"histogram\":[{\"marker\":{\"pattern\":{\"fillmode\":\"overlay\",\"size\":10,\"solidity\":0.2}},\"type\":\"histogram\"}],\"mesh3d\":[{\"colorbar\":{\"outlinewidth\":0,\"ticks\":\"\"},\"type\":\"mesh3d\"}],\"parcoords\":[{\"line\":{\"colorbar\":{\"outlinewidth\":0,\"ticks\":\"\"}},\"type\":\"parcoords\"}],\"pie\":[{\"automargin\":true,\"type\":\"pie\"}],\"scatter3d\":[{\"line\":{\"colorbar\":{\"outlinewidth\":0,\"ticks\":\"\"}},\"marker\":{\"colorbar\":{\"outlinewidth\":0,\"ticks\":\"\"}},\"type\":\"scatter3d\"}],\"scattercarpet\":[{\"marker\":{\"colorbar\":{\"outlinewidth\":0,\"ticks\":\"\"}},\"type\":\"scattercarpet\"}],\"scattergeo\":[{\"marker\":{\"colorbar\":{\"outlinewidth\":0,\"ticks\":\"\"}},\"type\":\"scattergeo\"}],\"scattergl\":[{\"marker\":{\"colorbar\":{\"outlinewidth\":0,\"ticks\":\"\"}},\"type\":\"scattergl\"}],\"scattermapbox\":[{\"marker\":{\"colorbar\":{\"outlinewidth\":0,\"ticks\":\"\"}},\"type\":\"scattermapbox\"}],\"scatterpolargl\":[{\"marker\":{\"colorbar\":{\"outlinewidth\":0,\"ticks\":\"\"}},\"type\":\"scatterpolargl\"}],\"scatterpolar\":[{\"marker\":{\"colorbar\":{\"outlinewidth\":0,\"ticks\":\"\"}},\"type\":\"scatterpolar\"}],\"scatter\":[{\"fillpattern\":{\"fillmode\":\"overlay\",\"size\":10,\"solidity\":0.2},\"type\":\"scatter\"}],\"scatterternary\":[{\"marker\":{\"colorbar\":{\"outlinewidth\":0,\"ticks\":\"\"}},\"type\":\"scatterternary\"}],\"surface\":[{\"colorbar\":{\"outlinewidth\":0,\"ticks\":\"\"},\"colorscale\":[[0.0,\"#0d0887\"],[0.1111111111111111,\"#46039f\"],[0.2222222222222222,\"#7201a8\"],[0.3333333333333333,\"#9c179e\"],[0.4444444444444444,\"#bd3786\"],[0.5555555555555556,\"#d8576b\"],[0.6666666666666666,\"#ed7953\"],[0.7777777777777778,\"#fb9f3a\"],[0.8888888888888888,\"#fdca26\"],[1.0,\"#f0f921\"]],\"type\":\"surface\"}],\"table\":[{\"cells\":{\"fill\":{\"color\":\"#EBF0F8\"},\"line\":{\"color\":\"white\"}},\"header\":{\"fill\":{\"color\":\"#C8D4E3\"},\"line\":{\"color\":\"white\"}},\"type\":\"table\"}]},\"layout\":{\"annotationdefaults\":{\"arrowcolor\":\"#2a3f5f\",\"arrowhead\":0,\"arrowwidth\":1},\"autotypenumbers\":\"strict\",\"coloraxis\":{\"colorbar\":{\"outlinewidth\":0,\"ticks\":\"\"}},\"colorscale\":{\"diverging\":[[0,\"#8e0152\"],[0.1,\"#c51b7d\"],[0.2,\"#de77ae\"],[0.3,\"#f1b6da\"],[0.4,\"#fde0ef\"],[0.5,\"#f7f7f7\"],[0.6,\"#e6f5d0\"],[0.7,\"#b8e186\"],[0.8,\"#7fbc41\"],[0.9,\"#4d9221\"],[1,\"#276419\"]],\"sequential\":[[0.0,\"#0d0887\"],[0.1111111111111111,\"#46039f\"],[0.2222222222222222,\"#7201a8\"],[0.3333333333333333,\"#9c179e\"],[0.4444444444444444,\"#bd3786\"],[0.5555555555555556,\"#d8576b\"],[0.6666666666666666,\"#ed7953\"],[0.7777777777777778,\"#fb9f3a\"],[0.8888888888888888,\"#fdca26\"],[1.0,\"#f0f921\"]],\"sequentialminus\":[[0.0,\"#0d0887\"],[0.1111111111111111,\"#46039f\"],[0.2222222222222222,\"#7201a8\"],[0.3333333333333333,\"#9c179e\"],[0.4444444444444444,\"#bd3786\"],[0.5555555555555556,\"#d8576b\"],[0.6666666666666666,\"#ed7953\"],[0.7777777777777778,\"#fb9f3a\"],[0.8888888888888888,\"#fdca26\"],[1.0,\"#f0f921\"]]},\"colorway\":[\"#636efa\",\"#EF553B\",\"#00cc96\",\"#ab63fa\",\"#FFA15A\",\"#19d3f3\",\"#FF6692\",\"#B6E880\",\"#FF97FF\",\"#FECB52\"],\"font\":{\"color\":\"#2a3f5f\"},\"geo\":{\"bgcolor\":\"white\",\"lakecolor\":\"white\",\"landcolor\":\"#E5ECF6\",\"showlakes\":true,\"showland\":true,\"subunitcolor\":\"white\"},\"hoverlabel\":{\"align\":\"left\"},\"hovermode\":\"closest\",\"mapbox\":{\"style\":\"light\"},\"paper_bgcolor\":\"white\",\"plot_bgcolor\":\"#E5ECF6\",\"polar\":{\"angularaxis\":{\"gridcolor\":\"white\",\"linecolor\":\"white\",\"ticks\":\"\"},\"bgcolor\":\"#E5ECF6\",\"radialaxis\":{\"gridcolor\":\"white\",\"linecolor\":\"white\",\"ticks\":\"\"}},\"scene\":{\"xaxis\":{\"backgroundcolor\":\"#E5ECF6\",\"gridcolor\":\"white\",\"gridwidth\":2,\"linecolor\":\"white\",\"showbackground\":true,\"ticks\":\"\",\"zerolinecolor\":\"white\"},\"yaxis\":{\"backgroundcolor\":\"#E5ECF6\",\"gridcolor\":\"white\",\"gridwidth\":2,\"linecolor\":\"white\",\"showbackground\":true,\"ticks\":\"\",\"zerolinecolor\":\"white\"},\"zaxis\":{\"backgroundcolor\":\"#E5ECF6\",\"gridcolor\":\"white\",\"gridwidth\":2,\"linecolor\":\"white\",\"showbackground\":true,\"ticks\":\"\",\"zerolinecolor\":\"white\"}},\"shapedefaults\":{\"line\":{\"color\":\"#2a3f5f\"}},\"ternary\":{\"aaxis\":{\"gridcolor\":\"white\",\"linecolor\":\"white\",\"ticks\":\"\"},\"baxis\":{\"gridcolor\":\"white\",\"linecolor\":\"white\",\"ticks\":\"\"},\"bgcolor\":\"#E5ECF6\",\"caxis\":{\"gridcolor\":\"white\",\"linecolor\":\"white\",\"ticks\":\"\"}},\"title\":{\"x\":0.05},\"xaxis\":{\"automargin\":true,\"gridcolor\":\"white\",\"linecolor\":\"white\",\"ticks\":\"\",\"title\":{\"standoff\":15},\"zerolinecolor\":\"white\",\"zerolinewidth\":2},\"yaxis\":{\"automargin\":true,\"gridcolor\":\"white\",\"linecolor\":\"white\",\"ticks\":\"\",\"title\":{\"standoff\":15},\"zerolinecolor\":\"white\",\"zerolinewidth\":2}}},\"xaxis\":{\"title\":{\"text\":\"Number\"}},\"yaxis\":{\"range\":[0,90],\"title\":{\"text\":\"Age\"}}},                        {\"responsive\": true}                    ).then(function(){\n",
       "                            \n",
       "var gd = document.getElementById('0a3df63b-cce1-4b59-a0d4-1b7e4e532aee');\n",
       "var x = new MutationObserver(function (mutations, observer) {{\n",
       "        var display = window.getComputedStyle(gd).display;\n",
       "        if (!display || display === 'none') {{\n",
       "            console.log([gd, 'removed!']);\n",
       "            Plotly.purge(gd);\n",
       "            observer.disconnect();\n",
       "        }}\n",
       "}});\n",
       "\n",
       "// Listen for the removal of the full notebook cells\n",
       "var notebookContainer = gd.closest('#notebook-container');\n",
       "if (notebookContainer) {{\n",
       "    x.observe(notebookContainer, {childList: true});\n",
       "}}\n",
       "\n",
       "// Listen for the clearing of the current output cell\n",
       "var outputEl = gd.closest('.output');\n",
       "if (outputEl) {{\n",
       "    x.observe(outputEl, {childList: true});\n",
       "}}\n",
       "\n",
       "                        })                };                });            </script>        </div>"
      ]
     },
     "metadata": {},
     "output_type": "display_data"
    },
    {
     "data": {
      "application/vnd.plotly.v1+json": {
       "config": {
        "linkText": "Export to plot.ly",
        "plotlyServerURL": "https://plot.ly",
        "showLink": false
       },
       "data": [
        {
         "hoverinfo": "skip",
         "name": "Men 2020",
         "orientation": "h",
         "type": "bar",
         "x": [
          150033,
          143378,
          134270,
          119764,
          111166,
          112678,
          109632,
          99640,
          79951,
          57874,
          44020,
          33205,
          24387,
          16458,
          9612,
          5798,
          4843
         ],
         "y": [
          1,
          6,
          11,
          16,
          21,
          26,
          31,
          36,
          41,
          46,
          51,
          56,
          61,
          66,
          71,
          76,
          81
         ]
        },
        {
         "hoverinfo": "skip",
         "name": "Men 2010",
         "orientation": "h",
         "type": "bar",
         "x": [
          136009,
          120876,
          112088,
          113015,
          111207,
          103704,
          85644,
          63677,
          49539,
          38394,
          29613,
          21888,
          14950,
          10899,
          7676,
          4751,
          3702
         ],
         "y": [
          1,
          6,
          11,
          16,
          21,
          26,
          31,
          36,
          41,
          46,
          51,
          56,
          61,
          66,
          71,
          76,
          81
         ]
        },
        {
         "hoverinfo": "skip",
         "name": "Men 2000",
         "orientation": "h",
         "type": "bar",
         "x": [
          114055,
          113613,
          112617,
          103972,
          86888,
          68506,
          57451,
          46802,
          36688,
          27148,
          18808,
          15241,
          13097,
          10031,
          6394,
          4155,
          2479
         ],
         "y": [
          1,
          6,
          11,
          16,
          21,
          26,
          31,
          36,
          41,
          46,
          51,
          56,
          61,
          66,
          71,
          76,
          81
         ]
        },
        {
         "hoverinfo": "skip",
         "name": "Men 1990",
         "orientation": "h",
         "type": "bar",
         "x": [
          111208,
          103581,
          88944,
          69531,
          58228,
          48875,
          39182,
          29170,
          20620,
          17812,
          16247,
          13554,
          10547,
          8722,
          4912,
          2337,
          1398
         ],
         "y": [
          1,
          6,
          11,
          16,
          21,
          26,
          31,
          36,
          41,
          46,
          51,
          56,
          61,
          66,
          71,
          76,
          81
         ]
        },
        {
         "hoverinfo": "skip",
         "name": "Men 1980",
         "orientation": "h",
         "type": "bar",
         "x": [
          90236,
          70877,
          59280,
          49444,
          40783,
          30928,
          21190,
          18108,
          17161,
          14820,
          11716,
          10516,
          7316,
          4688,
          2653,
          1750,
          1087
         ],
         "y": [
          1,
          6,
          11,
          16,
          21,
          26,
          31,
          36,
          41,
          46,
          51,
          56,
          61,
          66,
          71,
          76,
          81
         ]
        },
        {
         "hoverinfo": "skip",
         "name": "Men 1970",
         "orientation": "h",
         "type": "bar",
         "x": [
          59232,
          49578,
          39536,
          26626,
          14929,
          12211,
          12742,
          11916,
          10031,
          9923,
          6919,
          4763,
          4006,
          3679,
          2191,
          1511,
          1031
         ],
         "y": [
          1,
          6,
          11,
          16,
          21,
          26,
          31,
          36,
          41,
          46,
          51,
          56,
          61,
          66,
          71,
          76,
          81
         ]
        },
        {
         "hoverinfo": "skip",
         "name": "Women 2020",
         "orientation": "h",
         "type": "bar",
         "x": [
          -146162,
          -139746,
          -131076,
          -117640,
          -109699,
          -111431,
          -109624,
          -102611,
          -83636,
          -61566,
          -50099,
          -40877,
          -31884,
          -22585,
          -13784,
          -8753,
          -8523
         ],
         "y": [
          1,
          6,
          11,
          16,
          21,
          26,
          31,
          36,
          41,
          46,
          51,
          56,
          61,
          66,
          71,
          76,
          81
         ]
        },
        {
         "hoverinfo": "skip",
         "name": "Women 2010",
         "orientation": "h",
         "type": "bar",
         "x": [
          -132496,
          -117783,
          -109567,
          -112155,
          -112415,
          -106858,
          -88185,
          -65468,
          -53597,
          -44556,
          -35929,
          -27082,
          -18945,
          -14547,
          -10888,
          -7159,
          -6405
         ],
         "y": [
          1,
          6,
          11,
          16,
          21,
          26,
          31,
          36,
          41,
          46,
          51,
          56,
          61,
          66,
          71,
          76,
          81
         ]
        },
        {
         "hoverinfo": "skip",
         "name": "Women 2000",
         "orientation": "h",
         "type": "bar",
         "x": [
          -111189,
          -111227,
          -111915,
          -108875,
          -94808,
          -74137,
          -62294,
          -52172,
          -41588,
          -31257,
          -22119,
          -18037,
          -16365,
          -13590,
          -9157,
          -6095,
          -4220
         ],
         "y": [
          1,
          6,
          11,
          16,
          21,
          26,
          31,
          36,
          41,
          46,
          51,
          56,
          61,
          66,
          71,
          76,
          81
         ]
        },
        {
         "hoverinfo": "skip",
         "name": "Women 1990",
         "orientation": "h",
         "type": "bar",
         "x": [
          -108579,
          -103768,
          -93429,
          -76373,
          -65915,
          -55620,
          -44582,
          -33513,
          -23583,
          -19859,
          -18267,
          -15800,
          -13008,
          -11234,
          -6638,
          -3482,
          -2948
         ],
         "y": [
          1,
          6,
          11,
          16,
          21,
          26,
          31,
          36,
          41,
          46,
          51,
          56,
          61,
          66,
          71,
          76,
          81
         ]
        },
        {
         "hoverinfo": "skip",
         "name": "Women 1980",
         "orientation": "h",
         "type": "bar",
         "x": [
          -88131,
          -70440,
          -61536,
          -53156,
          -44972,
          -35914,
          -25970,
          -21239,
          -19096,
          -16124,
          -12773,
          -11816,
          -8731,
          -6124,
          -4364,
          -3215,
          -2433
         ],
         "y": [
          1,
          6,
          11,
          16,
          21,
          26,
          31,
          36,
          41,
          46,
          51,
          56,
          61,
          66,
          71,
          76,
          81
         ]
        },
        {
         "hoverinfo": "skip",
         "name": "Women 1970",
         "orientation": "h",
         "type": "bar",
         "x": [
          -58432,
          -49380,
          -41226,
          -32909,
          -24306,
          -20401,
          -18561,
          -15856,
          -12656,
          -11908,
          -8658,
          -6291,
          -6030,
          -5923,
          -3869,
          -2806,
          -2212
         ],
         "y": [
          1,
          6,
          11,
          16,
          21,
          26,
          31,
          36,
          41,
          46,
          51,
          56,
          61,
          66,
          71,
          76,
          81
         ]
        }
       ],
       "layout": {
        "autosize": true,
        "barmode": "overlay",
        "template": {
         "data": {
          "bar": [
           {
            "error_x": {
             "color": "#2a3f5f"
            },
            "error_y": {
             "color": "#2a3f5f"
            },
            "marker": {
             "line": {
              "color": "#E5ECF6",
              "width": 0.5
             },
             "pattern": {
              "fillmode": "overlay",
              "size": 10,
              "solidity": 0.2
             }
            },
            "type": "bar"
           }
          ],
          "barpolar": [
           {
            "marker": {
             "line": {
              "color": "#E5ECF6",
              "width": 0.5
             },
             "pattern": {
              "fillmode": "overlay",
              "size": 10,
              "solidity": 0.2
             }
            },
            "type": "barpolar"
           }
          ],
          "carpet": [
           {
            "aaxis": {
             "endlinecolor": "#2a3f5f",
             "gridcolor": "white",
             "linecolor": "white",
             "minorgridcolor": "white",
             "startlinecolor": "#2a3f5f"
            },
            "baxis": {
             "endlinecolor": "#2a3f5f",
             "gridcolor": "white",
             "linecolor": "white",
             "minorgridcolor": "white",
             "startlinecolor": "#2a3f5f"
            },
            "type": "carpet"
           }
          ],
          "choropleth": [
           {
            "colorbar": {
             "outlinewidth": 0,
             "ticks": ""
            },
            "type": "choropleth"
           }
          ],
          "contour": [
           {
            "colorbar": {
             "outlinewidth": 0,
             "ticks": ""
            },
            "colorscale": [
             [
              0,
              "#0d0887"
             ],
             [
              0.1111111111111111,
              "#46039f"
             ],
             [
              0.2222222222222222,
              "#7201a8"
             ],
             [
              0.3333333333333333,
              "#9c179e"
             ],
             [
              0.4444444444444444,
              "#bd3786"
             ],
             [
              0.5555555555555556,
              "#d8576b"
             ],
             [
              0.6666666666666666,
              "#ed7953"
             ],
             [
              0.7777777777777778,
              "#fb9f3a"
             ],
             [
              0.8888888888888888,
              "#fdca26"
             ],
             [
              1,
              "#f0f921"
             ]
            ],
            "type": "contour"
           }
          ],
          "contourcarpet": [
           {
            "colorbar": {
             "outlinewidth": 0,
             "ticks": ""
            },
            "type": "contourcarpet"
           }
          ],
          "heatmap": [
           {
            "colorbar": {
             "outlinewidth": 0,
             "ticks": ""
            },
            "colorscale": [
             [
              0,
              "#0d0887"
             ],
             [
              0.1111111111111111,
              "#46039f"
             ],
             [
              0.2222222222222222,
              "#7201a8"
             ],
             [
              0.3333333333333333,
              "#9c179e"
             ],
             [
              0.4444444444444444,
              "#bd3786"
             ],
             [
              0.5555555555555556,
              "#d8576b"
             ],
             [
              0.6666666666666666,
              "#ed7953"
             ],
             [
              0.7777777777777778,
              "#fb9f3a"
             ],
             [
              0.8888888888888888,
              "#fdca26"
             ],
             [
              1,
              "#f0f921"
             ]
            ],
            "type": "heatmap"
           }
          ],
          "heatmapgl": [
           {
            "colorbar": {
             "outlinewidth": 0,
             "ticks": ""
            },
            "colorscale": [
             [
              0,
              "#0d0887"
             ],
             [
              0.1111111111111111,
              "#46039f"
             ],
             [
              0.2222222222222222,
              "#7201a8"
             ],
             [
              0.3333333333333333,
              "#9c179e"
             ],
             [
              0.4444444444444444,
              "#bd3786"
             ],
             [
              0.5555555555555556,
              "#d8576b"
             ],
             [
              0.6666666666666666,
              "#ed7953"
             ],
             [
              0.7777777777777778,
              "#fb9f3a"
             ],
             [
              0.8888888888888888,
              "#fdca26"
             ],
             [
              1,
              "#f0f921"
             ]
            ],
            "type": "heatmapgl"
           }
          ],
          "histogram": [
           {
            "marker": {
             "pattern": {
              "fillmode": "overlay",
              "size": 10,
              "solidity": 0.2
             }
            },
            "type": "histogram"
           }
          ],
          "histogram2d": [
           {
            "colorbar": {
             "outlinewidth": 0,
             "ticks": ""
            },
            "colorscale": [
             [
              0,
              "#0d0887"
             ],
             [
              0.1111111111111111,
              "#46039f"
             ],
             [
              0.2222222222222222,
              "#7201a8"
             ],
             [
              0.3333333333333333,
              "#9c179e"
             ],
             [
              0.4444444444444444,
              "#bd3786"
             ],
             [
              0.5555555555555556,
              "#d8576b"
             ],
             [
              0.6666666666666666,
              "#ed7953"
             ],
             [
              0.7777777777777778,
              "#fb9f3a"
             ],
             [
              0.8888888888888888,
              "#fdca26"
             ],
             [
              1,
              "#f0f921"
             ]
            ],
            "type": "histogram2d"
           }
          ],
          "histogram2dcontour": [
           {
            "colorbar": {
             "outlinewidth": 0,
             "ticks": ""
            },
            "colorscale": [
             [
              0,
              "#0d0887"
             ],
             [
              0.1111111111111111,
              "#46039f"
             ],
             [
              0.2222222222222222,
              "#7201a8"
             ],
             [
              0.3333333333333333,
              "#9c179e"
             ],
             [
              0.4444444444444444,
              "#bd3786"
             ],
             [
              0.5555555555555556,
              "#d8576b"
             ],
             [
              0.6666666666666666,
              "#ed7953"
             ],
             [
              0.7777777777777778,
              "#fb9f3a"
             ],
             [
              0.8888888888888888,
              "#fdca26"
             ],
             [
              1,
              "#f0f921"
             ]
            ],
            "type": "histogram2dcontour"
           }
          ],
          "mesh3d": [
           {
            "colorbar": {
             "outlinewidth": 0,
             "ticks": ""
            },
            "type": "mesh3d"
           }
          ],
          "parcoords": [
           {
            "line": {
             "colorbar": {
              "outlinewidth": 0,
              "ticks": ""
             }
            },
            "type": "parcoords"
           }
          ],
          "pie": [
           {
            "automargin": true,
            "type": "pie"
           }
          ],
          "scatter": [
           {
            "fillpattern": {
             "fillmode": "overlay",
             "size": 10,
             "solidity": 0.2
            },
            "type": "scatter"
           }
          ],
          "scatter3d": [
           {
            "line": {
             "colorbar": {
              "outlinewidth": 0,
              "ticks": ""
             }
            },
            "marker": {
             "colorbar": {
              "outlinewidth": 0,
              "ticks": ""
             }
            },
            "type": "scatter3d"
           }
          ],
          "scattercarpet": [
           {
            "marker": {
             "colorbar": {
              "outlinewidth": 0,
              "ticks": ""
             }
            },
            "type": "scattercarpet"
           }
          ],
          "scattergeo": [
           {
            "marker": {
             "colorbar": {
              "outlinewidth": 0,
              "ticks": ""
             }
            },
            "type": "scattergeo"
           }
          ],
          "scattergl": [
           {
            "marker": {
             "colorbar": {
              "outlinewidth": 0,
              "ticks": ""
             }
            },
            "type": "scattergl"
           }
          ],
          "scattermapbox": [
           {
            "marker": {
             "colorbar": {
              "outlinewidth": 0,
              "ticks": ""
             }
            },
            "type": "scattermapbox"
           }
          ],
          "scatterpolar": [
           {
            "marker": {
             "colorbar": {
              "outlinewidth": 0,
              "ticks": ""
             }
            },
            "type": "scatterpolar"
           }
          ],
          "scatterpolargl": [
           {
            "marker": {
             "colorbar": {
              "outlinewidth": 0,
              "ticks": ""
             }
            },
            "type": "scatterpolargl"
           }
          ],
          "scatterternary": [
           {
            "marker": {
             "colorbar": {
              "outlinewidth": 0,
              "ticks": ""
             }
            },
            "type": "scatterternary"
           }
          ],
          "surface": [
           {
            "colorbar": {
             "outlinewidth": 0,
             "ticks": ""
            },
            "colorscale": [
             [
              0,
              "#0d0887"
             ],
             [
              0.1111111111111111,
              "#46039f"
             ],
             [
              0.2222222222222222,
              "#7201a8"
             ],
             [
              0.3333333333333333,
              "#9c179e"
             ],
             [
              0.4444444444444444,
              "#bd3786"
             ],
             [
              0.5555555555555556,
              "#d8576b"
             ],
             [
              0.6666666666666666,
              "#ed7953"
             ],
             [
              0.7777777777777778,
              "#fb9f3a"
             ],
             [
              0.8888888888888888,
              "#fdca26"
             ],
             [
              1,
              "#f0f921"
             ]
            ],
            "type": "surface"
           }
          ],
          "table": [
           {
            "cells": {
             "fill": {
              "color": "#EBF0F8"
             },
             "line": {
              "color": "white"
             }
            },
            "header": {
             "fill": {
              "color": "#C8D4E3"
             },
             "line": {
              "color": "white"
             }
            },
            "type": "table"
           }
          ]
         },
         "layout": {
          "annotationdefaults": {
           "arrowcolor": "#2a3f5f",
           "arrowhead": 0,
           "arrowwidth": 1
          },
          "autotypenumbers": "strict",
          "coloraxis": {
           "colorbar": {
            "outlinewidth": 0,
            "ticks": ""
           }
          },
          "colorscale": {
           "diverging": [
            [
             0,
             "#8e0152"
            ],
            [
             0.1,
             "#c51b7d"
            ],
            [
             0.2,
             "#de77ae"
            ],
            [
             0.3,
             "#f1b6da"
            ],
            [
             0.4,
             "#fde0ef"
            ],
            [
             0.5,
             "#f7f7f7"
            ],
            [
             0.6,
             "#e6f5d0"
            ],
            [
             0.7,
             "#b8e186"
            ],
            [
             0.8,
             "#7fbc41"
            ],
            [
             0.9,
             "#4d9221"
            ],
            [
             1,
             "#276419"
            ]
           ],
           "sequential": [
            [
             0,
             "#0d0887"
            ],
            [
             0.1111111111111111,
             "#46039f"
            ],
            [
             0.2222222222222222,
             "#7201a8"
            ],
            [
             0.3333333333333333,
             "#9c179e"
            ],
            [
             0.4444444444444444,
             "#bd3786"
            ],
            [
             0.5555555555555556,
             "#d8576b"
            ],
            [
             0.6666666666666666,
             "#ed7953"
            ],
            [
             0.7777777777777778,
             "#fb9f3a"
            ],
            [
             0.8888888888888888,
             "#fdca26"
            ],
            [
             1,
             "#f0f921"
            ]
           ],
           "sequentialminus": [
            [
             0,
             "#0d0887"
            ],
            [
             0.1111111111111111,
             "#46039f"
            ],
            [
             0.2222222222222222,
             "#7201a8"
            ],
            [
             0.3333333333333333,
             "#9c179e"
            ],
            [
             0.4444444444444444,
             "#bd3786"
            ],
            [
             0.5555555555555556,
             "#d8576b"
            ],
            [
             0.6666666666666666,
             "#ed7953"
            ],
            [
             0.7777777777777778,
             "#fb9f3a"
            ],
            [
             0.8888888888888888,
             "#fdca26"
            ],
            [
             1,
             "#f0f921"
            ]
           ]
          },
          "colorway": [
           "#636efa",
           "#EF553B",
           "#00cc96",
           "#ab63fa",
           "#FFA15A",
           "#19d3f3",
           "#FF6692",
           "#B6E880",
           "#FF97FF",
           "#FECB52"
          ],
          "font": {
           "color": "#2a3f5f"
          },
          "geo": {
           "bgcolor": "white",
           "lakecolor": "white",
           "landcolor": "#E5ECF6",
           "showlakes": true,
           "showland": true,
           "subunitcolor": "white"
          },
          "hoverlabel": {
           "align": "left"
          },
          "hovermode": "closest",
          "mapbox": {
           "style": "light"
          },
          "paper_bgcolor": "white",
          "plot_bgcolor": "#E5ECF6",
          "polar": {
           "angularaxis": {
            "gridcolor": "white",
            "linecolor": "white",
            "ticks": ""
           },
           "bgcolor": "#E5ECF6",
           "radialaxis": {
            "gridcolor": "white",
            "linecolor": "white",
            "ticks": ""
           }
          },
          "scene": {
           "xaxis": {
            "backgroundcolor": "#E5ECF6",
            "gridcolor": "white",
            "gridwidth": 2,
            "linecolor": "white",
            "showbackground": true,
            "ticks": "",
            "zerolinecolor": "white"
           },
           "yaxis": {
            "backgroundcolor": "#E5ECF6",
            "gridcolor": "white",
            "gridwidth": 2,
            "linecolor": "white",
            "showbackground": true,
            "ticks": "",
            "zerolinecolor": "white"
           },
           "zaxis": {
            "backgroundcolor": "#E5ECF6",
            "gridcolor": "white",
            "gridwidth": 2,
            "linecolor": "white",
            "showbackground": true,
            "ticks": "",
            "zerolinecolor": "white"
           }
          },
          "shapedefaults": {
           "line": {
            "color": "#2a3f5f"
           }
          },
          "ternary": {
           "aaxis": {
            "gridcolor": "white",
            "linecolor": "white",
            "ticks": ""
           },
           "baxis": {
            "gridcolor": "white",
            "linecolor": "white",
            "ticks": ""
           },
           "bgcolor": "#E5ECF6",
           "caxis": {
            "gridcolor": "white",
            "linecolor": "white",
            "ticks": ""
           }
          },
          "title": {
           "x": 0.05
          },
          "xaxis": {
           "automargin": true,
           "gridcolor": "white",
           "linecolor": "white",
           "ticks": "",
           "title": {
            "standoff": 15
           },
           "zerolinecolor": "white",
           "zerolinewidth": 2
          },
          "yaxis": {
           "automargin": true,
           "gridcolor": "white",
           "linecolor": "white",
           "ticks": "",
           "title": {
            "standoff": 15
           },
           "zerolinecolor": "white",
           "zerolinewidth": 2
          }
         }
        },
        "xaxis": {
         "autorange": true,
         "range": [
          -162617.27777777778,
          166488.27777777778
         ],
         "title": {
          "text": "Number"
         },
         "type": "linear"
        },
        "yaxis": {
         "range": [
          0,
          90
         ],
         "title": {
          "text": "Age"
         },
         "type": "linear"
        }
       }
      },
      "image/png": "[encoded data removed]",
      "text/html": [
       "<div>                            <div id=\"6bad98a5-dae8-46f1-833e-cb28566b27c0\" class=\"plotly-graph-div\" style=\"height:525px; width:100%;\"></div>            <script type=\"text/javascript\">                require([\"plotly\"], function(Plotly) {                    window.PLOTLYENV=window.PLOTLYENV || {};                                    if (document.getElementById(\"6bad98a5-dae8-46f1-833e-cb28566b27c0\")) {                    Plotly.newPlot(                        \"6bad98a5-dae8-46f1-833e-cb28566b27c0\",                        [{\"hoverinfo\":\"skip\",\"name\":\"Men 2020\",\"orientation\":\"h\",\"x\":[150033.0,143378.0,134270.0,119764.0,111166.0,112678.0,109632.0,99640.0,79951.0,57874.0,44020.0,33205.0,24387.0,16458.0,9612.0,5798.0,4843.0],\"y\":[1,6,11,16,21,26,31,36,41,46,51,56,61,66,71,76,81],\"type\":\"bar\"},{\"hoverinfo\":\"skip\",\"name\":\"Men 2010\",\"orientation\":\"h\",\"x\":[136009.0,120876.0,112088.0,113015.0,111207.0,103704.0,85644.0,63677.0,49539.0,38394.0,29613.0,21888.0,14950.0,10899.0,7676.0,4751.0,3702.0],\"y\":[1,6,11,16,21,26,31,36,41,46,51,56,61,66,71,76,81],\"type\":\"bar\"},{\"hoverinfo\":\"skip\",\"name\":\"Men 2000\",\"orientation\":\"h\",\"x\":[114055.0,113613.0,112617.0,103972.0,86888.0,68506.0,57451.0,46802.0,36688.0,27148.0,18808.0,15241.0,13097.0,10031.0,6394.0,4155.0,2479.0],\"y\":[1,6,11,16,21,26,31,36,41,46,51,56,61,66,71,76,81],\"type\":\"bar\"},{\"hoverinfo\":\"skip\",\"name\":\"Men 1990\",\"orientation\":\"h\",\"x\":[111208.0,103581.0,88944.0,69531.0,58228.0,48875.0,39182.0,29170.0,20620.0,17812.0,16247.0,13554.0,10547.0,8722.0,4912.0,2337.0,1398.0],\"y\":[1,6,11,16,21,26,31,36,41,46,51,56,61,66,71,76,81],\"type\":\"bar\"},{\"hoverinfo\":\"skip\",\"name\":\"Men 1980\",\"orientation\":\"h\",\"x\":[90236.0,70877.0,59280.0,49444.0,40783.0,30928.0,21190.0,18108.0,17161.0,14820.0,11716.0,10516.0,7316.0,4688.0,2653.0,1750.0,1087.0],\"y\":[1,6,11,16,21,26,31,36,41,46,51,56,61,66,71,76,81],\"type\":\"bar\"},{\"hoverinfo\":\"skip\",\"name\":\"Men 1970\",\"orientation\":\"h\",\"x\":[59232.0,49578.0,39536.0,26626.0,14929.0,12211.0,12742.0,11916.0,10031.0,9923.0,6919.0,4763.0,4006.0,3679.0,2191.0,1511.0,1031.0],\"y\":[1,6,11,16,21,26,31,36,41,46,51,56,61,66,71,76,81],\"type\":\"bar\"},{\"hoverinfo\":\"skip\",\"name\":\"Women 2020\",\"orientation\":\"h\",\"x\":[-146162.0,-139746.0,-131076.0,-117640.0,-109699.0,-111431.0,-109624.0,-102611.0,-83636.0,-61566.0,-50099.0,-40877.0,-31884.0,-22585.0,-13784.0,-8753.0,-8523.0],\"y\":[1,6,11,16,21,26,31,36,41,46,51,56,61,66,71,76,81],\"type\":\"bar\"},{\"hoverinfo\":\"skip\",\"name\":\"Women 2010\",\"orientation\":\"h\",\"x\":[-132496.0,-117783.0,-109567.0,-112155.0,-112415.0,-106858.0,-88185.0,-65468.0,-53597.0,-44556.0,-35929.0,-27082.0,-18945.0,-14547.0,-10888.0,-7159.0,-6405.0],\"y\":[1,6,11,16,21,26,31,36,41,46,51,56,61,66,71,76,81],\"type\":\"bar\"},{\"hoverinfo\":\"skip\",\"name\":\"Women 2000\",\"orientation\":\"h\",\"x\":[-111189.0,-111227.0,-111915.0,-108875.0,-94808.0,-74137.0,-62294.0,-52172.0,-41588.0,-31257.0,-22119.0,-18037.0,-16365.0,-13590.0,-9157.0,-6095.0,-4220.0],\"y\":[1,6,11,16,21,26,31,36,41,46,51,56,61,66,71,76,81],\"type\":\"bar\"},{\"hoverinfo\":\"skip\",\"name\":\"Women 1990\",\"orientation\":\"h\",\"x\":[-108579.0,-103768.0,-93429.0,-76373.0,-65915.0,-55620.0,-44582.0,-33513.0,-23583.0,-19859.0,-18267.0,-15800.0,-13008.0,-11234.0,-6638.0,-3482.0,-2948.0],\"y\":[1,6,11,16,21,26,31,36,41,46,51,56,61,66,71,76,81],\"type\":\"bar\"},{\"hoverinfo\":\"skip\",\"name\":\"Women 1980\",\"orientation\":\"h\",\"x\":[-88131.0,-70440.0,-61536.0,-53156.0,-44972.0,-35914.0,-25970.0,-21239.0,-19096.0,-16124.0,-12773.0,-11816.0,-8731.0,-6124.0,-4364.0,-3215.0,-2433.0],\"y\":[1,6,11,16,21,26,31,36,41,46,51,56,61,66,71,76,81],\"type\":\"bar\"},{\"hoverinfo\":\"skip\",\"name\":\"Women 1970\",\"orientation\":\"h\",\"x\":[-58432.0,-49380.0,-41226.0,-32909.0,-24306.0,-20401.0,-18561.0,-15856.0,-12656.0,-11908.0,-8658.0,-6291.0,-6030.0,-5923.0,-3869.0,-2806.0,-2212.0],\"y\":[1,6,11,16,21,26,31,36,41,46,51,56,61,66,71,76,81],\"type\":\"bar\"}],                        {\"barmode\":\"overlay\",\"template\":{\"data\":{\"barpolar\":[{\"marker\":{\"line\":{\"color\":\"#E5ECF6\",\"width\":0.5},\"pattern\":{\"fillmode\":\"overlay\",\"size\":10,\"solidity\":0.2}},\"type\":\"barpolar\"}],\"bar\":[{\"error_x\":{\"color\":\"#2a3f5f\"},\"error_y\":{\"color\":\"#2a3f5f\"},\"marker\":{\"line\":{\"color\":\"#E5ECF6\",\"width\":0.5},\"pattern\":{\"fillmode\":\"overlay\",\"size\":10,\"solidity\":0.2}},\"type\":\"bar\"}],\"carpet\":[{\"aaxis\":{\"endlinecolor\":\"#2a3f5f\",\"gridcolor\":\"white\",\"linecolor\":\"white\",\"minorgridcolor\":\"white\",\"startlinecolor\":\"#2a3f5f\"},\"baxis\":{\"endlinecolor\":\"#2a3f5f\",\"gridcolor\":\"white\",\"linecolor\":\"white\",\"minorgridcolor\":\"white\",\"startlinecolor\":\"#2a3f5f\"},\"type\":\"carpet\"}],\"choropleth\":[{\"colorbar\":{\"outlinewidth\":0,\"ticks\":\"\"},\"type\":\"choropleth\"}],\"contourcarpet\":[{\"colorbar\":{\"outlinewidth\":0,\"ticks\":\"\"},\"type\":\"contourcarpet\"}],\"contour\":[{\"colorbar\":{\"outlinewidth\":0,\"ticks\":\"\"},\"colorscale\":[[0.0,\"#0d0887\"],[0.1111111111111111,\"#46039f\"],[0.2222222222222222,\"#7201a8\"],[0.3333333333333333,\"#9c179e\"],[0.4444444444444444,\"#bd3786\"],[0.5555555555555556,\"#d8576b\"],[0.6666666666666666,\"#ed7953\"],[0.7777777777777778,\"#fb9f3a\"],[0.8888888888888888,\"#fdca26\"],[1.0,\"#f0f921\"]],\"type\":\"contour\"}],\"heatmapgl\":[{\"colorbar\":{\"outlinewidth\":0,\"ticks\":\"\"},\"colorscale\":[[0.0,\"#0d0887\"],[0.1111111111111111,\"#46039f\"],[0.2222222222222222,\"#7201a8\"],[0.3333333333333333,\"#9c179e\"],[0.4444444444444444,\"#bd3786\"],[0.5555555555555556,\"#d8576b\"],[0.6666666666666666,\"#ed7953\"],[0.7777777777777778,\"#fb9f3a\"],[0.8888888888888888,\"#fdca26\"],[1.0,\"#f0f921\"]],\"type\":\"heatmapgl\"}],\"heatmap\":[{\"colorbar\":{\"outlinewidth\":0,\"ticks\":\"\"},\"colorscale\":[[0.0,\"#0d0887\"],[0.1111111111111111,\"#46039f\"],[0.2222222222222222,\"#7201a8\"],[0.3333333333333333,\"#9c179e\"],[0.4444444444444444,\"#bd3786\"],[0.5555555555555556,\"#d8576b\"],[0.6666666666666666,\"#ed7953\"],[0.7777777777777778,\"#fb9f3a\"],[0.8888888888888888,\"#fdca26\"],[1.0,\"#f0f921\"]],\"type\":\"heatmap\"}],\"histogram2dcontour\":[{\"colorbar\":{\"outlinewidth\":0,\"ticks\":\"\"},\"colorscale\":[[0.0,\"#0d0887\"],[0.1111111111111111,\"#46039f\"],[0.2222222222222222,\"#7201a8\"],[0.3333333333333333,\"#9c179e\"],[0.4444444444444444,\"#bd3786\"],[0.5555555555555556,\"#d8576b\"],[0.6666666666666666,\"#ed7953\"],[0.7777777777777778,\"#fb9f3a\"],[0.8888888888888888,\"#fdca26\"],[1.0,\"#f0f921\"]],\"type\":\"histogram2dcontour\"}],\"histogram2d\":[{\"colorbar\":{\"outlinewidth\":0,\"ticks\":\"\"},\"colorscale\":[[0.0,\"#0d0887\"],[0.1111111111111111,\"#46039f\"],[0.2222222222222222,\"#7201a8\"],[0.3333333333333333,\"#9c179e\"],[0.4444444444444444,\"#bd3786\"],[0.5555555555555556,\"#d8576b\"],[0.6666666666666666,\"#ed7953\"],[0.7777777777777778,\"#fb9f3a\"],[0.8888888888888888,\"#fdca26\"],[1.0,\"#f0f921\"]],\"type\":\"histogram2d\"}],\"histogram\":[{\"marker\":{\"pattern\":{\"fillmode\":\"overlay\",\"size\":10,\"solidity\":0.2}},\"type\":\"histogram\"}],\"mesh3d\":[{\"colorbar\":{\"outlinewidth\":0,\"ticks\":\"\"},\"type\":\"mesh3d\"}],\"parcoords\":[{\"line\":{\"colorbar\":{\"outlinewidth\":0,\"ticks\":\"\"}},\"type\":\"parcoords\"}],\"pie\":[{\"automargin\":true,\"type\":\"pie\"}],\"scatter3d\":[{\"line\":{\"colorbar\":{\"outlinewidth\":0,\"ticks\":\"\"}},\"marker\":{\"colorbar\":{\"outlinewidth\":0,\"ticks\":\"\"}},\"type\":\"scatter3d\"}],\"scattercarpet\":[{\"marker\":{\"colorbar\":{\"outlinewidth\":0,\"ticks\":\"\"}},\"type\":\"scattercarpet\"}],\"scattergeo\":[{\"marker\":{\"colorbar\":{\"outlinewidth\":0,\"ticks\":\"\"}},\"type\":\"scattergeo\"}],\"scattergl\":[{\"marker\":{\"colorbar\":{\"outlinewidth\":0,\"ticks\":\"\"}},\"type\":\"scattergl\"}],\"scattermapbox\":[{\"marker\":{\"colorbar\":{\"outlinewidth\":0,\"ticks\":\"\"}},\"type\":\"scattermapbox\"}],\"scatterpolargl\":[{\"marker\":{\"colorbar\":{\"outlinewidth\":0,\"ticks\":\"\"}},\"type\":\"scatterpolargl\"}],\"scatterpolar\":[{\"marker\":{\"colorbar\":{\"outlinewidth\":0,\"ticks\":\"\"}},\"type\":\"scatterpolar\"}],\"scatter\":[{\"fillpattern\":{\"fillmode\":\"overlay\",\"size\":10,\"solidity\":0.2},\"type\":\"scatter\"}],\"scatterternary\":[{\"marker\":{\"colorbar\":{\"outlinewidth\":0,\"ticks\":\"\"}},\"type\":\"scatterternary\"}],\"surface\":[{\"colorbar\":{\"outlinewidth\":0,\"ticks\":\"\"},\"colorscale\":[[0.0,\"#0d0887\"],[0.1111111111111111,\"#46039f\"],[0.2222222222222222,\"#7201a8\"],[0.3333333333333333,\"#9c179e\"],[0.4444444444444444,\"#bd3786\"],[0.5555555555555556,\"#d8576b\"],[0.6666666666666666,\"#ed7953\"],[0.7777777777777778,\"#fb9f3a\"],[0.8888888888888888,\"#fdca26\"],[1.0,\"#f0f921\"]],\"type\":\"surface\"}],\"table\":[{\"cells\":{\"fill\":{\"color\":\"#EBF0F8\"},\"line\":{\"color\":\"white\"}},\"header\":{\"fill\":{\"color\":\"#C8D4E3\"},\"line\":{\"color\":\"white\"}},\"type\":\"table\"}]},\"layout\":{\"annotationdefaults\":{\"arrowcolor\":\"#2a3f5f\",\"arrowhead\":0,\"arrowwidth\":1},\"autotypenumbers\":\"strict\",\"coloraxis\":{\"colorbar\":{\"outlinewidth\":0,\"ticks\":\"\"}},\"colorscale\":{\"diverging\":[[0,\"#8e0152\"],[0.1,\"#c51b7d\"],[0.2,\"#de77ae\"],[0.3,\"#f1b6da\"],[0.4,\"#fde0ef\"],[0.5,\"#f7f7f7\"],[0.6,\"#e6f5d0\"],[0.7,\"#b8e186\"],[0.8,\"#7fbc41\"],[0.9,\"#4d9221\"],[1,\"#276419\"]],\"sequential\":[[0.0,\"#0d0887\"],[0.1111111111111111,\"#46039f\"],[0.2222222222222222,\"#7201a8\"],[0.3333333333333333,\"#9c179e\"],[0.4444444444444444,\"#bd3786\"],[0.5555555555555556,\"#d8576b\"],[0.6666666666666666,\"#ed7953\"],[0.7777777777777778,\"#fb9f3a\"],[0.8888888888888888,\"#fdca26\"],[1.0,\"#f0f921\"]],\"sequentialminus\":[[0.0,\"#0d0887\"],[0.1111111111111111,\"#46039f\"],[0.2222222222222222,\"#7201a8\"],[0.3333333333333333,\"#9c179e\"],[0.4444444444444444,\"#bd3786\"],[0.5555555555555556,\"#d8576b\"],[0.6666666666666666,\"#ed7953\"],[0.7777777777777778,\"#fb9f3a\"],[0.8888888888888888,\"#fdca26\"],[1.0,\"#f0f921\"]]},\"colorway\":[\"#636efa\",\"#EF553B\",\"#00cc96\",\"#ab63fa\",\"#FFA15A\",\"#19d3f3\",\"#FF6692\",\"#B6E880\",\"#FF97FF\",\"#FECB52\"],\"font\":{\"color\":\"#2a3f5f\"},\"geo\":{\"bgcolor\":\"white\",\"lakecolor\":\"white\",\"landcolor\":\"#E5ECF6\",\"showlakes\":true,\"showland\":true,\"subunitcolor\":\"white\"},\"hoverlabel\":{\"align\":\"left\"},\"hovermode\":\"closest\",\"mapbox\":{\"style\":\"light\"},\"paper_bgcolor\":\"white\",\"plot_bgcolor\":\"#E5ECF6\",\"polar\":{\"angularaxis\":{\"gridcolor\":\"white\",\"linecolor\":\"white\",\"ticks\":\"\"},\"bgcolor\":\"#E5ECF6\",\"radialaxis\":{\"gridcolor\":\"white\",\"linecolor\":\"white\",\"ticks\":\"\"}},\"scene\":{\"xaxis\":{\"backgroundcolor\":\"#E5ECF6\",\"gridcolor\":\"white\",\"gridwidth\":2,\"linecolor\":\"white\",\"showbackground\":true,\"ticks\":\"\",\"zerolinecolor\":\"white\"},\"yaxis\":{\"backgroundcolor\":\"#E5ECF6\",\"gridcolor\":\"white\",\"gridwidth\":2,\"linecolor\":\"white\",\"showbackground\":true,\"ticks\":\"\",\"zerolinecolor\":\"white\"},\"zaxis\":{\"backgroundcolor\":\"#E5ECF6\",\"gridcolor\":\"white\",\"gridwidth\":2,\"linecolor\":\"white\",\"showbackground\":true,\"ticks\":\"\",\"zerolinecolor\":\"white\"}},\"shapedefaults\":{\"line\":{\"color\":\"#2a3f5f\"}},\"ternary\":{\"aaxis\":{\"gridcolor\":\"white\",\"linecolor\":\"white\",\"ticks\":\"\"},\"baxis\":{\"gridcolor\":\"white\",\"linecolor\":\"white\",\"ticks\":\"\"},\"bgcolor\":\"#E5ECF6\",\"caxis\":{\"gridcolor\":\"white\",\"linecolor\":\"white\",\"ticks\":\"\"}},\"title\":{\"x\":0.05},\"xaxis\":{\"automargin\":true,\"gridcolor\":\"white\",\"linecolor\":\"white\",\"ticks\":\"\",\"title\":{\"standoff\":15},\"zerolinecolor\":\"white\",\"zerolinewidth\":2},\"yaxis\":{\"automargin\":true,\"gridcolor\":\"white\",\"linecolor\":\"white\",\"ticks\":\"\",\"title\":{\"standoff\":15},\"zerolinecolor\":\"white\",\"zerolinewidth\":2}}},\"xaxis\":{\"title\":{\"text\":\"Number\"}},\"yaxis\":{\"range\":[0,90],\"title\":{\"text\":\"Age\"}}},                        {\"responsive\": true}                    ).then(function(){\n",
       "                            \n",
       "var gd = document.getElementById('6bad98a5-dae8-46f1-833e-cb28566b27c0');\n",
       "var x = new MutationObserver(function (mutations, observer) {{\n",
       "        var display = window.getComputedStyle(gd).display;\n",
       "        if (!display || display === 'none') {{\n",
       "            console.log([gd, 'removed!']);\n",
       "            Plotly.purge(gd);\n",
       "            observer.disconnect();\n",
       "        }}\n",
       "}});\n",
       "\n",
       "// Listen for the removal of the full notebook cells\n",
       "var notebookContainer = gd.closest('#notebook-container');\n",
       "if (notebookContainer) {{\n",
       "    x.observe(notebookContainer, {childList: true});\n",
       "}}\n",
       "\n",
       "// Listen for the clearing of the current output cell\n",
       "var outputEl = gd.closest('.output');\n",
       "if (outputEl) {{\n",
       "    x.observe(outputEl, {childList: true});\n",
       "}}\n",
       "\n",
       "                        })                };                });            </script>        </div>"
      ]
     },
     "metadata": {},
     "output_type": "display_data"
    }
   ],
   "source": [
    "def pop_pyramid_df(years, ctry):\n",
    "    age_rangez = []\n",
    "    # Ranges top out at 80, and go in five year increments\n",
    "    for i in years:\n",
    "        age_rangez.append(f\"{i:02d}\"+f\"{i+4:02d}\")\n",
    "    \n",
    "    age_rangez.append(\"80UP\")\n",
    "    \n",
    "    male_variablez = {\"SP.POP.\"+age_range+\".MA\":\"Males \"+age_range for age_range in age_rangez}\n",
    "    female_variablez = {\"SP.POP.\"+age_range+\".FE\":\"Females \"+age_range for age_range in age_rangez}\n",
    "    \n",
    "    variablez = male_variablez\n",
    "    variablez.update(female_variablez)\n",
    "    \n",
    "    dfz = wbdata.get_dataframe(variablez,country=ctry)\n",
    "    return df.query(\"date=='2020'\").sum(axis=0)\n",
    "\n",
    "pop_pyramid_df(range(0,80,5), \"BWA\")\n",
    "\n",
    "import plotly.offline as py\n",
    "import plotly.graph_objs as go\n",
    "import pandas as pd\n",
    "import numpy as np\n",
    "\n",
    "py.init_notebook_mode(connected=True)\n",
    "\n",
    "layout = go.Layout(barmode='overlay',\n",
    "                   yaxis=go.layout.YAxis(range=[0, 90], title='Age'),\n",
    "                   xaxis=go.layout.XAxis(title='Number'))\n",
    "year = 2020\n",
    "\n",
    "bins = [go.Bar(x = df.loc[str(year),:].filter(regex=\"Male\").values,\n",
    "               y = [int(s[:2])+1 for s in age_ranges],\n",
    "               orientation='h',\n",
    "               name='Men',\n",
    "               marker=dict(color='blue'),\n",
    "               hoverinfo='skip'\n",
    "               ),\n",
    "\n",
    "        go.Bar(x = -df.loc[str(year),:].filter(regex=\"Female\").values,\n",
    "               y=[int(s[:2])+1 for s in age_ranges],\n",
    "               orientation='h',\n",
    "               name='Women',\n",
    "               marker=dict(color='orange'),\n",
    "               hoverinfo='skip',\n",
    "               )\n",
    "        ]\n",
    "py.iplot(dict(data=bins, layout=layout))\n",
    "\n",
    "#Gets pop. pyramid by year \n",
    "years = range(2020,1960,-10)\n",
    "\n",
    "bins = [go.Bar(x = df.loc[str(year),:].filter(regex=\"Male\").values,\n",
    "               y = [int(s[:2])+1 for s in age_ranges],\n",
    "               orientation='h',\n",
    "               name='Men {:d}'.format(year),\n",
    "               hoverinfo='skip'\n",
    "              )\n",
    "        for year in years]\n",
    "          \n",
    "bins += [go.Bar(x = -df.loc[str(year),:].filter(regex=\"Female\").values,\n",
    "                y=[int(s[:2])+1 for s in age_ranges],\n",
    "                orientation='h',\n",
    "                name='Women {:d}'.format(year),\n",
    "                hoverinfo='skip',\n",
    "               )\n",
    "         for year in years]\n",
    "\n",
    "py.iplot(dict(data=bins, layout=layout))\n"
   ]
  }
 ],
 "metadata": {
  "kernelspec": {
   "display_name": "Python 3 (ipykernel)",
   "language": "python",
   "name": "python3"
  },
  "language_info": {
   "codemirror_mode": {
    "name": "ipython",
    "version": 3
   },
   "file_extension": ".py",
   "mimetype": "text/x-python",
   "name": "python",
   "nbconvert_exporter": "python",
   "pygments_lexer": "ipython3",
   "version": "3.9.15"
  }
 },
 "nbformat": 4,
 "nbformat_minor": 5
}
